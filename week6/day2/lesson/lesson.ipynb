{
  "nbformat": 4,
  "nbformat_minor": 0,
  "metadata": {
    "colab": {
      "provenance": []
    },
    "kernelspec": {
      "name": "python3",
      "display_name": "Python 3"
    },
    "language_info": {
      "name": "python"
    }
  },
  "cells": [
    {
      "cell_type": "code",
      "execution_count": 11,
      "metadata": {
        "colab": {
          "base_uri": "https://localhost:8080/"
        },
        "id": "mgzcxvvliX9R",
        "outputId": "363e9a32-26cd-4249-c7a8-9add4391f492"
      },
      "outputs": [
        {
          "output_type": "stream",
          "name": "stdout",
          "text": [
            "## Average ratings for each movie:\n",
            "[3. 3. 4. 2. 2.]\n",
            "[5 4 5] [0 1 2]\n"
          ]
        }
      ],
      "source": [
        "import numpy as np\n",
        "\n",
        "# Movie ratings matrix (5 viewers, 3 movies)\n",
        "movie_ratings = np.array([\n",
        "    [5, 1, 4],\n",
        "    [4, 4, 2],\n",
        "    [4, 3, 5],\n",
        "    [1, 1, 5],\n",
        "    [3, 2, 1]\n",
        "])\n",
        "\n",
        "# Tasks: Calculate average ratings for each movie and analyze viewer preferences\n",
        "movie_avg = np.mean(movie_ratings, axis=1)\n",
        "print(f\"## Average ratings for each movie:\\n{np.round(movie_avg, 0)}\")\n",
        "\n",
        "# now to find top rated\n",
        "viewer_pref_score = np.max(movie_ratings, axis=0)\n",
        "viewer_pref_movie = np.argmax(movie_ratings, axis=0)\n",
        "print(viewer_pref_score, viewer_pref_movie)"
      ]
    },
    {
      "cell_type": "code",
      "source": [],
      "metadata": {
        "id": "pE0VtUhvjVvy"
      },
      "execution_count": null,
      "outputs": []
    }
  ]
}