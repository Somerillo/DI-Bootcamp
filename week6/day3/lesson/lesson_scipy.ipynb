{
  "nbformat": 4,
  "nbformat_minor": 0,
  "metadata": {
    "colab": {
      "provenance": []
    },
    "kernelspec": {
      "name": "python3",
      "display_name": "Python 3"
    },
    "language_info": {
      "name": "python"
    }
  },
  "cells": [
    {
      "cell_type": "markdown",
      "source": [
        "\n",
        "\n",
        "1. Use NumPy to create a large random array of floating-point numbers.\n",
        "\n",
        "2. Compute the mean and standard deviation using both NumPy and SciPy.\n",
        "\n",
        "3. Compare the results and execution time to understand the efficiency or additional features provided by SciPy.\n"
      ],
      "metadata": {
        "id": "Z_5LXTJJ9Eb-"
      }
    },
    {
      "cell_type": "code",
      "source": [
        "import numpy as np\n",
        "from scipy import stats\n",
        "import time"
      ],
      "metadata": {
        "id": "iNdqMKCW9Nwx"
      },
      "execution_count": 5,
      "outputs": []
    },
    {
      "cell_type": "code",
      "source": [
        "# Generate a large random array\n",
        "data = np.random.rand(100000000)\n",
        "\n",
        "# NumPy calculations\n",
        "start_time = time.time()\n",
        "numpy_mean = np.mean(data)\n",
        "numpy_std = np.std(data)\n",
        "end_time = time.time()\n",
        "numpy_time = end_time - start_time\n",
        "\n",
        "# SciPy calculations\n",
        "start_time = time.time()\n",
        "scipy_mean = stats.tmean(data)  # Using tmean for potential robustness\n",
        "scipy_std = stats.tstd(data)  # Using tstd for potential robustness\n",
        "end_time = time.time()\n",
        "scipy_time = end_time - start_time\n",
        "\n",
        "# Output the results and execution time\n",
        "print(\"NumPy Mean:\", numpy_mean)\n",
        "print(\"NumPy Std Dev:\", numpy_std)\n",
        "print(\"NumPy Execution Time:\", numpy_time, \"seconds\")\n",
        "\n",
        "print(\"\\nSciPy Mean:\", scipy_mean)\n",
        "print(\"SciPy Std Dev:\", scipy_std)\n",
        "print(\"SciPy Execution Time:\", scipy_time, \"seconds\")\n",
        "\n",
        "# Compare results (should be very similar)\n",
        "print(\"\\nDifference in means:\", numpy_mean - scipy_mean)\n",
        "print(\"Difference in standard deviations:\", numpy_std - scipy_std)"
      ],
      "metadata": {
        "colab": {
          "base_uri": "https://localhost:8080/"
        },
        "id": "6kBmFVSM-L7L",
        "outputId": "e69b01f3-e757-43c5-808d-3ea0cb9c996c"
      },
      "execution_count": 7,
      "outputs": [
        {
          "output_type": "stream",
          "name": "stdout",
          "text": [
            "NumPy Mean: 0.49997645105448524\n",
            "NumPy Std Dev: 0.28867402112272955\n",
            "NumPy Execution Time: 0.8087012767791748 seconds\n",
            "\n",
            "SciPy Mean: 0.49997645105448524\n",
            "SciPy Std Dev: 0.28867402256609964\n",
            "SciPy Execution Time: 1.8798167705535889 seconds\n",
            "\n",
            "Difference in means: 0.0\n",
            "Difference in standard deviations: -1.4433700901150814e-09\n"
          ]
        }
      ]
    },
    {
      "cell_type": "code",
      "source": [],
      "metadata": {
        "id": "K1tyO0k--haP"
      },
      "execution_count": null,
      "outputs": []
    }
  ]
}