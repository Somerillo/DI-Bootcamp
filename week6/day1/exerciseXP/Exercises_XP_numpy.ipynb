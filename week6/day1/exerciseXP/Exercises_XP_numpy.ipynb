{
  "nbformat": 4,
  "nbformat_minor": 0,
  "metadata": {
    "colab": {
      "provenance": []
    },
    "kernelspec": {
      "name": "python3",
      "display_name": "Python 3"
    },
    "language_info": {
      "name": "python"
    }
  },
  "cells": [
    {
      "cell_type": "code",
      "source": [
        "import numpy as np\n",
        "# import random as rd"
      ],
      "metadata": {
        "id": "x9z1ykv8DbHz"
      },
      "execution_count": 1,
      "outputs": []
    },
    {
      "cell_type": "markdown",
      "source": [
        "# 🌟 Exercise 1 : Array Creation and Manipulation\n",
        "Instructions\n",
        "\n",
        "Create a 1D NumPy array containing numbers from 0 to 9.\n",
        "\n",
        "Expected Output:\n",
        "\n",
        "```python\n",
        "array([0, 1, 2, 3, 4, 5, 6, 7, 8, 9])\n",
        "```"
      ],
      "metadata": {
        "id": "GDnoneRYDP9l"
      }
    },
    {
      "cell_type": "code",
      "execution_count": 2,
      "metadata": {
        "colab": {
          "base_uri": "https://localhost:8080/"
        },
        "id": "ugJ0UYBZDIQu",
        "outputId": "6adbfe34-4cda-4269-f655-93573b17aa3c"
      },
      "outputs": [
        {
          "output_type": "execute_result",
          "data": {
            "text/plain": [
              "array([0, 1, 2, 3, 4, 5, 6, 7, 8, 9])"
            ]
          },
          "metadata": {},
          "execution_count": 2
        }
      ],
      "source": [
        "arr = np.arange(10)\n",
        "arr"
      ]
    },
    {
      "cell_type": "markdown",
      "source": [
        "## 🌟 Exercise 2 : Type Conversion and Array Operations\n",
        "Instructions\n",
        "\n",
        "Convert a list [3.14, 2.17, 0, 1, 2] into a NumPy array and convert its data type to integer.\n",
        "\n",
        "Expected Output:\n",
        "\n",
        "```python\n",
        "array([3, 2, 0, 1, 2])\n",
        "```"
      ],
      "metadata": {
        "id": "ESMvYnfiDtvY"
      }
    },
    {
      "cell_type": "code",
      "source": [
        "list_ = [3.14, 2.17, 0, 1, 2]\n",
        "arr = np.array(list_)\n",
        "arr = arr.astype(int)\n",
        "arr"
      ],
      "metadata": {
        "colab": {
          "base_uri": "https://localhost:8080/"
        },
        "id": "RljL50W7Dp5u",
        "outputId": "247cd65e-4208-45bb-8e73-716234d5e098"
      },
      "execution_count": 3,
      "outputs": [
        {
          "output_type": "execute_result",
          "data": {
            "text/plain": [
              "array([3, 2, 0, 1, 2])"
            ]
          },
          "metadata": {},
          "execution_count": 3
        }
      ]
    },
    {
      "cell_type": "markdown",
      "source": [
        "# 🌟 Exercise 3 : Working with Multi-Dimensional Arrays\n",
        "Instructions\n",
        "\n",
        "Create a 3x3 NumPy array with values ranging from 1 to 9.\n",
        "\n",
        "Expected Output:\n",
        "\n",
        "```python\n",
        "array([[1, 2, 3],\n",
        "       [4, 5, 6],\n",
        "       [7, 8, 9]])\n",
        "```"
      ],
      "metadata": {
        "id": "42Z73G9bEVF2"
      }
    },
    {
      "cell_type": "code",
      "source": [
        "arr = np.arange(1,10).reshape(3,3)\n",
        "arr"
      ],
      "metadata": {
        "colab": {
          "base_uri": "https://localhost:8080/"
        },
        "id": "-TCFEI7VD9ZD",
        "outputId": "fe6b6540-d950-484d-d3e5-27a1384085f1"
      },
      "execution_count": 4,
      "outputs": [
        {
          "output_type": "execute_result",
          "data": {
            "text/plain": [
              "array([[1, 2, 3],\n",
              "       [4, 5, 6],\n",
              "       [7, 8, 9]])"
            ]
          },
          "metadata": {},
          "execution_count": 4
        }
      ]
    },
    {
      "cell_type": "markdown",
      "source": [
        "# 🌟 Exercise 4 : Creating Multi-Dimensional Array with Random Numbers\n",
        "Instructions\n",
        "\n",
        "Create a 2D NumPy array of shape (4, 5) filled with random numbers.\n",
        "\n",
        "Expected Output:\n",
        "\n",
        "```python\n",
        "array([[0.56, 0.85, 0.01, 0.42, 0.68],\n",
        "       [0.22, 0.37, 0.73, 0.93, 0.39],\n",
        "       [0.44, 0.03, 0.87, 0.02, 0.83],\n",
        "       [0.78, 0.87, 0.98, 0.80, 0.46]])\n",
        "```"
      ],
      "metadata": {
        "id": "gWYn1VbVEqsw"
      }
    },
    {
      "cell_type": "code",
      "source": [
        "arr = np.random.rand(4,5)\n",
        "arr"
      ],
      "metadata": {
        "colab": {
          "base_uri": "https://localhost:8080/"
        },
        "id": "IammmanrEmiX",
        "outputId": "725825c5-491d-4e55-c8bb-5544df99d32c"
      },
      "execution_count": 5,
      "outputs": [
        {
          "output_type": "execute_result",
          "data": {
            "text/plain": [
              "array([[0.23516104, 0.39213656, 0.51902571, 0.76121312, 0.6154074 ],\n",
              "       [0.02438073, 0.97590815, 0.6766902 , 0.27764776, 0.67579896],\n",
              "       [0.39254295, 0.9166596 , 0.46880284, 0.35658064, 0.98646307],\n",
              "       [0.52049578, 0.98977468, 0.88668157, 0.47577625, 0.90773877]])"
            ]
          },
          "metadata": {},
          "execution_count": 5
        }
      ]
    },
    {
      "cell_type": "markdown",
      "source": [
        "# 🌟 Exercise 5 : Indexing Arrays\n",
        "Instructions\n",
        "\n",
        "Select the second row from a given 2D NumPy array.\n",
        "\n",
        "Expected Output:\n",
        "\n",
        "```python\n",
        "array([20, 21, 22, 23, 24])\n",
        "```"
      ],
      "metadata": {
        "id": "Q25fqzVmG0Zf"
      }
    },
    {
      "cell_type": "code",
      "source": [
        "arr = np.arange(25).reshape(5,5)\n",
        "print(arr)\n",
        "\n",
        "arr1 = arr[1]\n",
        "print(f\"\\n## Second row is: {arr1}\")"
      ],
      "metadata": {
        "colab": {
          "base_uri": "https://localhost:8080/"
        },
        "id": "GcNoTTgwGVbw",
        "outputId": "4e69b9c2-7bc1-4774-a307-994f5dd8aeed"
      },
      "execution_count": 6,
      "outputs": [
        {
          "output_type": "stream",
          "name": "stdout",
          "text": [
            "[[ 0  1  2  3  4]\n",
            " [ 5  6  7  8  9]\n",
            " [10 11 12 13 14]\n",
            " [15 16 17 18 19]\n",
            " [20 21 22 23 24]]\n",
            "\n",
            "## Second row is: [5 6 7 8 9]\n"
          ]
        }
      ]
    },
    {
      "cell_type": "markdown",
      "source": [
        "# 🌟 Exercise 6 : Reversing elements\n",
        "Instructions\n",
        "\n",
        "Reverse the order of elements in a given 1D NumPy array (first element becomes last).\n",
        "\n",
        "Expected Output:\n",
        "\n",
        "```python\n",
        "array([9, 8, 7, 6, 5, 4, 3, 2, 1, 0])\n",
        "```\n"
      ],
      "metadata": {
        "id": "Zfx2wYBpHnSD"
      }
    },
    {
      "cell_type": "code",
      "source": [
        "arr = np.random.randint(1, 100, 10) # from 1 to 99, 10 random numbers\n",
        "print(f\"## Orginial array is: {arr}\")\n",
        "\n",
        "arr_inv = arr[::-1]\n",
        "print(f\"\\n## Reversed array is: {arr_inv} \\n\")\n",
        "print(\"-\" * 69)\n",
        "print(\"|     NOTE: [::-1] works for all python index-notated sequences     |\")\n",
        "print(\"-\" * 69)"
      ],
      "metadata": {
        "colab": {
          "base_uri": "https://localhost:8080/"
        },
        "id": "WHQzjc7TG9gE",
        "outputId": "7a503a61-4a90-480e-d1f8-a6193c6ad9a5"
      },
      "execution_count": 7,
      "outputs": [
        {
          "output_type": "stream",
          "name": "stdout",
          "text": [
            "## Orginial array is: [46 48  1 98 90 31 56 24 53 87]\n",
            "\n",
            "## Reversed array is: [87 53 24 56 31 90 98  1 48 46] \n",
            "\n",
            "---------------------------------------------------------------------\n",
            "|     NOTE: [::-1] works for all python index-notated sequences     |\n",
            "---------------------------------------------------------------------\n"
          ]
        }
      ]
    },
    {
      "cell_type": "markdown",
      "source": [
        "# 🌟 Exercise 7 : Identity Matrix\n",
        "Instructions\n",
        "\n",
        "Create a 4x4 identity matrix using NumPy.\n",
        "\n",
        "Expected Output:\n",
        "\n",
        "```python\n",
        "array([[1., 0., 0., 0.],\n",
        "       [0., 1., 0., 0.],\n",
        "       [0., 0., 1., 0.],\n",
        "       [0., 0., 0., 1.]])\n",
        "```"
      ],
      "metadata": {
        "id": "Rlp4urDmKCeS"
      }
    },
    {
      "cell_type": "code",
      "source": [
        "arr = np.identity(4)\n",
        "arr"
      ],
      "metadata": {
        "colab": {
          "base_uri": "https://localhost:8080/"
        },
        "id": "7oB6GjC1H8a0",
        "outputId": "3b9e6eb7-eedb-40fa-b034-37a5fbf70c5a"
      },
      "execution_count": 8,
      "outputs": [
        {
          "output_type": "execute_result",
          "data": {
            "text/plain": [
              "array([[1., 0., 0., 0.],\n",
              "       [0., 1., 0., 0.],\n",
              "       [0., 0., 1., 0.],\n",
              "       [0., 0., 0., 1.]])"
            ]
          },
          "metadata": {},
          "execution_count": 8
        }
      ]
    },
    {
      "cell_type": "markdown",
      "source": [
        "# 🌟 Exercise 8 : Simple Aggregate Funcs\n",
        "Instructions\n",
        "\n",
        "Find the sum and average of a given 1D array.\n",
        "\n",
        "Expected Output:\n",
        "\n",
        "```python\n",
        "Sum: 45, Average: 4.5\n",
        "```"
      ],
      "metadata": {
        "id": "cPNUDQP4KxRJ"
      }
    },
    {
      "cell_type": "code",
      "source": [
        "arr = np.random.randint(1, 11, 4)\n",
        "\n",
        "sum = arr.sum()\n",
        "avg = arr.mean()\n",
        "\n",
        "print(f\"## the array is: {arr}\\n\")\n",
        "print(f\"Sum: {sum}, Average: {avg}\")"
      ],
      "metadata": {
        "colab": {
          "base_uri": "https://localhost:8080/"
        },
        "id": "FYksapPCKaBs",
        "outputId": "31a25b64-5e51-412b-819d-c7646b68dae1"
      },
      "execution_count": 9,
      "outputs": [
        {
          "output_type": "stream",
          "name": "stdout",
          "text": [
            "## the array is: [ 8  7 10  8]\n",
            "\n",
            "Sum: 33, Average: 8.25\n"
          ]
        }
      ]
    },
    {
      "cell_type": "markdown",
      "source": [
        "# 🌟 Exercise 9 : Create Array and Change its Structure\n",
        "Instructions\n",
        "\n",
        "Create a NumPy array with elements from 1 to 20; then reshape it into a 4x5 matrix.\n",
        "\n",
        "Expected Output:\n",
        "\n",
        "```python\n",
        "array([[ 1,  2,  3,  4,  5],\n",
        "       [ 6,  7,  8,  9, 10],\n",
        "       [11, 12, 13, 14, 15],\n",
        "       [16, 17, 18, 19, 20]])\n",
        "```\n",
        "\n"
      ],
      "metadata": {
        "id": "qqu5vngOM-1Z"
      }
    },
    {
      "cell_type": "code",
      "source": [
        "arr = np.arange(1,21).reshape(4,5)\n",
        "arr"
      ],
      "metadata": {
        "colab": {
          "base_uri": "https://localhost:8080/"
        },
        "id": "D2A6_YnNLbyq",
        "outputId": "684a6f34-bc62-47c3-9bff-013cb32b407e"
      },
      "execution_count": 10,
      "outputs": [
        {
          "output_type": "execute_result",
          "data": {
            "text/plain": [
              "array([[ 1,  2,  3,  4,  5],\n",
              "       [ 6,  7,  8,  9, 10],\n",
              "       [11, 12, 13, 14, 15],\n",
              "       [16, 17, 18, 19, 20]])"
            ]
          },
          "metadata": {},
          "execution_count": 10
        }
      ]
    },
    {
      "cell_type": "markdown",
      "source": [
        "# 🌟 Exercise 10 : Conditional Selection of Values\n",
        "Instructions\n",
        "\n",
        "Extract all odd numbers from a given NumPy array.\n",
        "\n",
        "Expected Output:\n",
        "\n",
        "```python\n",
        "array([1, 3, 5, 7, 9])\n",
        "```"
      ],
      "metadata": {
        "id": "C7O157tbNW5r"
      }
    },
    {
      "cell_type": "code",
      "source": [
        "arr = np.arange(1,26).reshape(5,5)\n",
        "print(f\"## The arrange is:\\n\\n{arr}\")\n",
        "\n",
        "arr_odd = arr[arr % 2 != 0]\n",
        "print(f\"\\n## The odd numbers are: {arr_odd}\")"
      ],
      "metadata": {
        "colab": {
          "base_uri": "https://localhost:8080/"
        },
        "id": "QNBg7lEZNMH0",
        "outputId": "f53757e6-9840-4084-b516-abe9ca919a0c"
      },
      "execution_count": 15,
      "outputs": [
        {
          "output_type": "stream",
          "name": "stdout",
          "text": [
            "## The arrange is:\n",
            "\n",
            "[[ 1  2  3  4  5]\n",
            " [ 6  7  8  9 10]\n",
            " [11 12 13 14 15]\n",
            " [16 17 18 19 20]\n",
            " [21 22 23 24 25]]\n",
            "\n",
            "## The odd numbers are: [ 1  3  5  7  9 11 13 15 17 19 21 23 25]\n"
          ]
        }
      ]
    },
    {
      "cell_type": "code",
      "source": [],
      "metadata": {
        "id": "y8XJ-ThOOTWG"
      },
      "execution_count": 11,
      "outputs": []
    }
  ]
}