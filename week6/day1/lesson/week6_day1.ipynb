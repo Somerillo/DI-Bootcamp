{
  "nbformat": 4,
  "nbformat_minor": 0,
  "metadata": {
    "colab": {
      "provenance": []
    },
    "kernelspec": {
      "name": "python3",
      "display_name": "Python 3"
    },
    "language_info": {
      "name": "python"
    }
  },
  "cells": [
    {
      "cell_type": "code",
      "execution_count": null,
      "metadata": {
        "colab": {
          "base_uri": "https://localhost:8080/"
        },
        "id": "rGH9NJCJYkA3",
        "outputId": "d18d1d45-6b62-496e-da6f-7c8d42b109ac"
      },
      "outputs": [
        {
          "output_type": "execute_result",
          "data": {
            "text/plain": [
              "array([1, 2, 3, 4, 5])"
            ]
          },
          "metadata": {},
          "execution_count": 1
        }
      ],
      "source": [
        "import numpy as np\n",
        "array_1d = np.array([1,2,3,4,5])\n",
        "array_1d"
      ]
    },
    {
      "cell_type": "code",
      "source": [
        "list_1d = [1,2,3,4,5]\n",
        "list_1d"
      ],
      "metadata": {
        "colab": {
          "base_uri": "https://localhost:8080/"
        },
        "id": "Tqrcqn8nYxzH",
        "outputId": "8776b086-5632-41b3-db2e-e3b00d06023f"
      },
      "execution_count": null,
      "outputs": [
        {
          "output_type": "execute_result",
          "data": {
            "text/plain": [
              "[1, 2, 3, 4, 5]"
            ]
          },
          "metadata": {},
          "execution_count": 3
        }
      ]
    },
    {
      "cell_type": "code",
      "source": [
        "type(array_1d)"
      ],
      "metadata": {
        "colab": {
          "base_uri": "https://localhost:8080/"
        },
        "id": "9O8VAL82Y8CJ",
        "outputId": "e7f540a2-fe3e-4ccf-b299-247b5225094b"
      },
      "execution_count": null,
      "outputs": [
        {
          "output_type": "execute_result",
          "data": {
            "text/plain": [
              "numpy.ndarray"
            ]
          },
          "metadata": {},
          "execution_count": 4
        }
      ]
    },
    {
      "cell_type": "code",
      "source": [
        "type(list_1d)"
      ],
      "metadata": {
        "colab": {
          "base_uri": "https://localhost:8080/"
        },
        "id": "HJqCVgSAY_ng",
        "outputId": "e577c27b-4f7f-4c06-a17a-3a418327b0fd"
      },
      "execution_count": null,
      "outputs": [
        {
          "output_type": "execute_result",
          "data": {
            "text/plain": [
              "list"
            ]
          },
          "metadata": {},
          "execution_count": 5
        }
      ]
    },
    {
      "cell_type": "code",
      "source": [
        "array_2d = np.array([[1,2,3],[4,5,6]])\n",
        "array_2d"
      ],
      "metadata": {
        "colab": {
          "base_uri": "https://localhost:8080/"
        },
        "id": "qXNWoK4LZE7R",
        "outputId": "49f8eaa3-d90e-48a8-aebf-59b9d4b5fd32"
      },
      "execution_count": null,
      "outputs": [
        {
          "output_type": "execute_result",
          "data": {
            "text/plain": [
              "array([[1, 2, 3],\n",
              "       [4, 5, 6]])"
            ]
          },
          "metadata": {},
          "execution_count": 6
        }
      ]
    },
    {
      "cell_type": "code",
      "source": [
        "array_3d=np.array([[[1,2,3],[4,5,6]],[[7,8,9],[10,11,12]]])\n",
        "array_3d"
      ],
      "metadata": {
        "colab": {
          "base_uri": "https://localhost:8080/"
        },
        "id": "SD7qV1_xZJ-B",
        "outputId": "32201184-8c86-4945-c4a0-13f0a7af313e"
      },
      "execution_count": null,
      "outputs": [
        {
          "output_type": "execute_result",
          "data": {
            "text/plain": [
              "array([[[ 1,  2,  3],\n",
              "        [ 4,  5,  6]],\n",
              "\n",
              "       [[ 7,  8,  9],\n",
              "        [10, 11, 12]]])"
            ]
          },
          "metadata": {},
          "execution_count": 7
        }
      ]
    },
    {
      "cell_type": "code",
      "source": [
        "zeros_array = np.zeros((2,3))\n",
        "zeros_array"
      ],
      "metadata": {
        "colab": {
          "base_uri": "https://localhost:8080/"
        },
        "id": "_82NbMLqZb73",
        "outputId": "a844cc80-12df-408c-ab66-6a108ce7fedb"
      },
      "execution_count": null,
      "outputs": [
        {
          "output_type": "execute_result",
          "data": {
            "text/plain": [
              "array([[0., 0., 0.],\n",
              "       [0., 0., 0.]])"
            ]
          },
          "metadata": {},
          "execution_count": 8
        }
      ]
    },
    {
      "cell_type": "code",
      "source": [
        "ones_array = np.ones((2,3,3))\n",
        "ones_array"
      ],
      "metadata": {
        "colab": {
          "base_uri": "https://localhost:8080/"
        },
        "id": "b2BIICWAZmTW",
        "outputId": "26b66b8a-4e85-411e-b2da-3cdd541326f2"
      },
      "execution_count": null,
      "outputs": [
        {
          "output_type": "execute_result",
          "data": {
            "text/plain": [
              "array([[[1., 1., 1.],\n",
              "        [1., 1., 1.],\n",
              "        [1., 1., 1.]],\n",
              "\n",
              "       [[1., 1., 1.],\n",
              "        [1., 1., 1.],\n",
              "        [1., 1., 1.]]])"
            ]
          },
          "metadata": {},
          "execution_count": 10
        }
      ]
    },
    {
      "cell_type": "code",
      "source": [
        "float_array = np.array([1,3,4,5],dtype=np.float64)\n",
        "float_array"
      ],
      "metadata": {
        "colab": {
          "base_uri": "https://localhost:8080/"
        },
        "id": "iyeGfRldZti0",
        "outputId": "14a8d1c9-c33d-4e37-8f7f-cc13bc95c247"
      },
      "execution_count": null,
      "outputs": [
        {
          "output_type": "execute_result",
          "data": {
            "text/plain": [
              "array([1., 3., 4., 5.])"
            ]
          },
          "metadata": {},
          "execution_count": 12
        }
      ]
    },
    {
      "cell_type": "code",
      "source": [
        "int_array = np.array([1.3,3.2,4.9,5.1],dtype=np.int64)\n",
        "int_array"
      ],
      "metadata": {
        "colab": {
          "base_uri": "https://localhost:8080/"
        },
        "id": "bYhdP3eKZ9bi",
        "outputId": "624440c7-e683-49c3-bd43-cae60685cc75"
      },
      "execution_count": null,
      "outputs": [
        {
          "output_type": "execute_result",
          "data": {
            "text/plain": [
              "array([1, 3, 4, 5])"
            ]
          },
          "metadata": {},
          "execution_count": 14
        }
      ]
    },
    {
      "cell_type": "code",
      "source": [
        "type(int(3.0))==type(3.0)"
      ],
      "metadata": {
        "colab": {
          "base_uri": "https://localhost:8080/"
        },
        "id": "MkG_aQsLaiIv",
        "outputId": "7c965d64-480b-4494-d7c0-54744578afb9"
      },
      "execution_count": null,
      "outputs": [
        {
          "output_type": "execute_result",
          "data": {
            "text/plain": [
              "False"
            ]
          },
          "metadata": {},
          "execution_count": 16
        }
      ]
    },
    {
      "cell_type": "code",
      "source": [
        "array_1d = np.array([1,2,3,4,5,6])\n",
        "array_2d = array_1d.reshape(3,2)\n",
        "array_2d"
      ],
      "metadata": {
        "colab": {
          "base_uri": "https://localhost:8080/"
        },
        "id": "1A563_W3cBFn",
        "outputId": "3d682f7c-aa07-498f-d928-b4ae110101cd"
      },
      "execution_count": null,
      "outputs": [
        {
          "output_type": "execute_result",
          "data": {
            "text/plain": [
              "array([[1, 2],\n",
              "       [3, 4],\n",
              "       [5, 6]])"
            ]
          },
          "metadata": {},
          "execution_count": 21
        }
      ]
    },
    {
      "cell_type": "code",
      "source": [
        "array_flat = array_2d.flatten()\n",
        "array_flat"
      ],
      "metadata": {
        "colab": {
          "base_uri": "https://localhost:8080/"
        },
        "id": "H4x-c6T9cYfY",
        "outputId": "4b534cb4-fbd8-426b-c3d5-7cda8d9ece23"
      },
      "execution_count": null,
      "outputs": [
        {
          "output_type": "execute_result",
          "data": {
            "text/plain": [
              "array([1, 2, 3, 4, 5, 6])"
            ]
          },
          "metadata": {},
          "execution_count": 22
        }
      ]
    },
    {
      "cell_type": "code",
      "source": [
        "array_weekly_sales = np.array([1,2,3,4,5,6,7,8,9,10,11,12])\n",
        "array_week = array_weekly_sales.reshape(3,-1)\n",
        "array_weekly_sales"
      ],
      "metadata": {
        "colab": {
          "base_uri": "https://localhost:8080/"
        },
        "id": "b2WAowq0c6l0",
        "outputId": "37238e14-045a-431f-ccad-a276bdcd5921"
      },
      "execution_count": null,
      "outputs": [
        {
          "output_type": "execute_result",
          "data": {
            "text/plain": [
              "array([ 1,  2,  3,  4,  5,  6,  7,  8,  9, 10, 11, 12])"
            ]
          },
          "metadata": {},
          "execution_count": 26
        }
      ]
    },
    {
      "cell_type": "code",
      "source": [
        "array_1d = np.array([1,2,3,4,5,6])\n",
        "array_1d.resize(2,3)\n",
        "array_1d"
      ],
      "metadata": {
        "colab": {
          "base_uri": "https://localhost:8080/"
        },
        "id": "ePlvPwTMdn2E",
        "outputId": "f550d94a-c471-44e4-e4be-d79da79f7120"
      },
      "execution_count": null,
      "outputs": [
        {
          "output_type": "execute_result",
          "data": {
            "text/plain": [
              "array([[1, 2, 3],\n",
              "       [4, 5, 6]])"
            ]
          },
          "metadata": {},
          "execution_count": 28
        }
      ]
    },
    {
      "cell_type": "code",
      "source": [
        "temps = np.array([30, 32, 31, 29, 28, 27, 26, 25, 24, 26, 28, 30, 29, 30, 31, 32, 33, 34, 35, 36, 37, 38, 39, 40,41, 42, 43, 44, 45, 46, 47, 48])\n",
        "temps.size"
      ],
      "metadata": {
        "colab": {
          "base_uri": "https://localhost:8080/"
        },
        "id": "6k-Z_izhfjQG",
        "outputId": "6a337f2a-f7ac-47d9-d80d-7ae0bd36bc56"
      },
      "execution_count": null,
      "outputs": [
        {
          "output_type": "execute_result",
          "data": {
            "text/plain": [
              "32"
            ]
          },
          "metadata": {},
          "execution_count": 29
        }
      ]
    },
    {
      "cell_type": "code",
      "source": [
        "temps_add_4_weeks = np.array([30, 32, 31, 29, 28, 27, 26, 25, 24, 26, 28, 30, 29, 30, 31, 32, 33, 34, 35, 36, 37, 38, 39, 40,41, 42, 43, 44, 45, 46, 47, 48,32,34,54])\n",
        "weeks = temps_add_4_weeks.reshape(-1,7)\n",
        "weeks"
      ],
      "metadata": {
        "colab": {
          "base_uri": "https://localhost:8080/"
        },
        "id": "bbJNLc-IfoWq",
        "outputId": "ea781d98-644c-40ac-e6f4-e9dd89076e86"
      },
      "execution_count": null,
      "outputs": [
        {
          "output_type": "execute_result",
          "data": {
            "text/plain": [
              "array([[30, 32, 31, 29, 28, 27, 26],\n",
              "       [25, 24, 26, 28, 30, 29, 30],\n",
              "       [31, 32, 33, 34, 35, 36, 37],\n",
              "       [38, 39, 40, 41, 42, 43, 44],\n",
              "       [45, 46, 47, 48, 32, 34, 54]])"
            ]
          },
          "metadata": {},
          "execution_count": 30
        }
      ]
    },
    {
      "cell_type": "code",
      "source": [
        "weeks.shape"
      ],
      "metadata": {
        "colab": {
          "base_uri": "https://localhost:8080/"
        },
        "id": "V6gvrkY8f-k8",
        "outputId": "16f06a61-b305-4381-e637-d81456d2064c"
      },
      "execution_count": null,
      "outputs": [
        {
          "output_type": "execute_result",
          "data": {
            "text/plain": [
              "(5, 7)"
            ]
          },
          "metadata": {},
          "execution_count": 31
        }
      ]
    },
    {
      "cell_type": "code",
      "source": [
        "temps_add_4_weeks.resize(5, 7)\n",
        "temps_add_4_weeks"
      ],
      "metadata": {
        "colab": {
          "base_uri": "https://localhost:8080/"
        },
        "id": "9Nm2d9nFgB5y",
        "outputId": "83d365c7-9d65-4c83-eca1-b5cfad97092f"
      },
      "execution_count": null,
      "outputs": [
        {
          "output_type": "execute_result",
          "data": {
            "text/plain": [
              "array([[30, 32, 31, 29, 28, 27, 26],\n",
              "       [25, 24, 26, 28, 30, 29, 30],\n",
              "       [31, 32, 33, 34, 35, 36, 37],\n",
              "       [38, 39, 40, 41, 42, 43, 44],\n",
              "       [45, 46, 47, 48, 32, 34, 54]])"
            ]
          },
          "metadata": {},
          "execution_count": 33
        }
      ]
    },
    {
      "cell_type": "code",
      "source": [
        "temps_add_4_weeks = np.array([30, 32, 31, 29, 28, 27, 26, 25, 24, 26, 28, 30, 29, 30, 31, 32, 33, 34, 35, 36, 37, 38, 39, 40,41, 42, 43, 44, 45, 46, 47, 48,32,34,54,20])\n",
        "weeks = temps_add_4_weeks.reshape(-1,12)\n",
        "weeks"
      ],
      "metadata": {
        "colab": {
          "base_uri": "https://localhost:8080/"
        },
        "id": "OmPMuSR5gK5w",
        "outputId": "2f1918b5-cc5a-42b6-c498-c1f10851ec2d"
      },
      "execution_count": null,
      "outputs": [
        {
          "output_type": "execute_result",
          "data": {
            "text/plain": [
              "array([[30, 32, 31, 29, 28, 27, 26, 25, 24, 26, 28, 30],\n",
              "       [29, 30, 31, 32, 33, 34, 35, 36, 37, 38, 39, 40],\n",
              "       [41, 42, 43, 44, 45, 46, 47, 48, 32, 34, 54, 20]])"
            ]
          },
          "metadata": {},
          "execution_count": 34
        }
      ]
    },
    {
      "cell_type": "code",
      "source": [
        "weeks.shape"
      ],
      "metadata": {
        "colab": {
          "base_uri": "https://localhost:8080/"
        },
        "id": "Z_mUEdXigQ-P",
        "outputId": "2e25a5c0-04cb-4ff1-fadb-a01a7ff92589"
      },
      "execution_count": null,
      "outputs": [
        {
          "output_type": "execute_result",
          "data": {
            "text/plain": [
              "(3, 12)"
            ]
          },
          "metadata": {},
          "execution_count": 35
        }
      ]
    },
    {
      "cell_type": "code",
      "source": [
        "import pandas as pd\n",
        "import numpy as np\n",
        "\n",
        "# Create the sales data as a pandas DataFrame\n",
        "sales_data = pd.DataFrame({\n",
        "    \"Monday\": [200, 150, 100, 300, 50],\n",
        "    \"Tuesday\": [220, 160, 110, 320, 60],\n",
        "    \"Wednesday\": [250, 180, 120, 340, 70],\n",
        "    \"Thursday\": [270, 200, 130, 360, 80],\n",
        "    \"Friday\": [300, 210, 140, 400, 90],\n",
        "    \"Saturday\": [310, 220, 150, 420, 100],\n",
        "    \"Sunday\": [280, 190, 160, 410, 110]\n",
        "}, index=[\"Store 1\", \"Store 2\", \"Store 3\", \"Store 4\", \"Store 5\"])\n",
        "\n",
        "print(\"Sales Data (Pandas DataFrame):\\n\", sales_data)\n"
      ],
      "metadata": {
        "colab": {
          "base_uri": "https://localhost:8080/"
        },
        "id": "-PgV1xCkkGhY",
        "outputId": "8b19ee6d-775c-4f98-a314-35837918d00e"
      },
      "execution_count": null,
      "outputs": [
        {
          "output_type": "stream",
          "name": "stdout",
          "text": [
            "Sales Data (Pandas DataFrame):\n",
            "          Monday  Tuesday  Wednesday  Thursday  Friday  Saturday  Sunday\n",
            "Store 1     200      220        250       270     300       310     280\n",
            "Store 2     150      160        180       200     210       220     190\n",
            "Store 3     100      110        120       130     140       150     160\n",
            "Store 4     300      320        340       360     400       420     410\n",
            "Store 5      50       60         70        80      90       100     110\n"
          ]
        }
      ]
    },
    {
      "cell_type": "code",
      "source": [
        "sales_data = sales_data.to_numpy()\n",
        "sales_data"
      ],
      "metadata": {
        "colab": {
          "base_uri": "https://localhost:8080/"
        },
        "id": "olKo9Au2kQ88",
        "outputId": "f4ba4bc5-06b0-45dd-fe88-be854eacafcf"
      },
      "execution_count": null,
      "outputs": [
        {
          "output_type": "execute_result",
          "data": {
            "text/plain": [
              "array([[200, 220, 250, 270, 300, 310, 280],\n",
              "       [150, 160, 180, 200, 210, 220, 190],\n",
              "       [100, 110, 120, 130, 140, 150, 160],\n",
              "       [300, 320, 340, 360, 400, 420, 410],\n",
              "       [ 50,  60,  70,  80,  90, 100, 110]])"
            ]
          },
          "metadata": {},
          "execution_count": 37
        }
      ]
    },
    {
      "cell_type": "markdown",
      "source": [
        "What are the sales for Store 2 on Monday?"
      ],
      "metadata": {
        "id": "hA8jYQ1YkgCf"
      }
    },
    {
      "cell_type": "code",
      "source": [
        "store_2_monday_sales = sales_data[1, 0]\n",
        "store_2_monday_sales"
      ],
      "metadata": {
        "colab": {
          "base_uri": "https://localhost:8080/"
        },
        "id": "FUwb6DX5kblg",
        "outputId": "ed9fd469-3e34-4aef-9b7c-ce66f241276e"
      },
      "execution_count": null,
      "outputs": [
        {
          "output_type": "execute_result",
          "data": {
            "text/plain": [
              "150"
            ]
          },
          "metadata": {},
          "execution_count": 38
        }
      ]
    },
    {
      "cell_type": "markdown",
      "source": [
        "What are the sales for all stores on Wednesday?"
      ],
      "metadata": {
        "id": "qQeuyc1RkxIk"
      }
    },
    {
      "cell_type": "code",
      "source": [
        "wednesday_sales = sales_data[:,2]\n",
        "wednesday_sales"
      ],
      "metadata": {
        "colab": {
          "base_uri": "https://localhost:8080/"
        },
        "id": "ee4PHzznktfB",
        "outputId": "1c7f29dd-9182-4c1d-aa9f-ed67d3379fb5"
      },
      "execution_count": null,
      "outputs": [
        {
          "output_type": "execute_result",
          "data": {
            "text/plain": [
              "array([250, 180, 120, 340,  70])"
            ]
          },
          "metadata": {},
          "execution_count": 39
        }
      ]
    },
    {
      "cell_type": "code",
      "source": [
        "wednesday_sales = sales_data[:3,2:4]\n",
        "wednesday_sales"
      ],
      "metadata": {
        "colab": {
          "base_uri": "https://localhost:8080/"
        },
        "id": "C9SVNJYylLvi",
        "outputId": "14a47fc0-3f64-4e33-8a3b-1e78330335c2"
      },
      "execution_count": null,
      "outputs": [
        {
          "output_type": "execute_result",
          "data": {
            "text/plain": [
              "array([[250, 270],\n",
              "       [180, 200],\n",
              "       [120, 130]])"
            ]
          },
          "metadata": {},
          "execution_count": 44
        }
      ]
    },
    {
      "cell_type": "markdown",
      "source": [
        "What are the total sales for each store over the week?"
      ],
      "metadata": {
        "id": "p8eeZfctlrlE"
      }
    },
    {
      "cell_type": "code",
      "source": [
        "total_sales_per_store = sales_data.sum(axis=1)\n",
        "total_sales_per_store"
      ],
      "metadata": {
        "colab": {
          "base_uri": "https://localhost:8080/"
        },
        "id": "BXz-jq4elsDN",
        "outputId": "b8990443-7f5f-4549-a558-1cd670a02775"
      },
      "execution_count": null,
      "outputs": [
        {
          "output_type": "execute_result",
          "data": {
            "text/plain": [
              "array([1830, 1310,  910, 2550,  560])"
            ]
          },
          "metadata": {},
          "execution_count": 45
        }
      ]
    },
    {
      "cell_type": "markdown",
      "source": [
        " Which stores had total sales above 1200 for the week?"
      ],
      "metadata": {
        "id": "IAWbalYGl_4_"
      }
    },
    {
      "cell_type": "code",
      "source": [
        "stores_above_1200 = np.where(total_sales_per_store>1200)\n",
        "print(stores_above_1200[0]+1)"
      ],
      "metadata": {
        "colab": {
          "base_uri": "https://localhost:8080/"
        },
        "id": "T639V-nQmBG8",
        "outputId": "073be6f3-36b4-4830-8fd1-08cf16c6b836"
      },
      "execution_count": null,
      "outputs": [
        {
          "output_type": "stream",
          "name": "stdout",
          "text": [
            "[1 2 4]\n"
          ]
        }
      ]
    },
    {
      "cell_type": "code",
      "source": [
        "total_sales_per_store[total_sales_per_store>1200]"
      ],
      "metadata": {
        "colab": {
          "base_uri": "https://localhost:8080/"
        },
        "id": "g6MYnb-nnQ01",
        "outputId": "f82b9cfb-1839-4749-a0f9-81eedc8d31fd"
      },
      "execution_count": null,
      "outputs": [
        {
          "output_type": "execute_result",
          "data": {
            "text/plain": [
              "array([1830, 1310, 2550])"
            ]
          },
          "metadata": {},
          "execution_count": 54
        }
      ]
    },
    {
      "cell_type": "markdown",
      "source": [
        "Filter the days where Store 4 sold more than 350 items.\n",
        "\n",
        "\n",
        "\n",
        "\n"
      ],
      "metadata": {
        "id": "z8mHXuBqp2SI"
      }
    },
    {
      "cell_type": "code",
      "source": [
        "store_4_sales = sales_data[3,sales_data[3]>350]\n",
        "store_4_sales"
      ],
      "metadata": {
        "colab": {
          "base_uri": "https://localhost:8080/"
        },
        "id": "VkcGEgT5pxYS",
        "outputId": "93db40c0-c1fa-4300-cd3e-65fafb122f1c"
      },
      "execution_count": null,
      "outputs": [
        {
          "output_type": "execute_result",
          "data": {
            "text/plain": [
              "array([360, 400, 420, 410])"
            ]
          },
          "metadata": {},
          "execution_count": 55
        }
      ]
    },
    {
      "cell_type": "code",
      "source": [
        "days_above_350 =np.where(sales_data[3]>350)[0]\n",
        "days_above_350"
      ],
      "metadata": {
        "colab": {
          "base_uri": "https://localhost:8080/"
        },
        "id": "UIA5DENPqUTB",
        "outputId": "15a54119-a730-43f9-ef01-827021551180"
      },
      "execution_count": null,
      "outputs": [
        {
          "output_type": "execute_result",
          "data": {
            "text/plain": [
              "array([3, 4, 5, 6])"
            ]
          },
          "metadata": {},
          "execution_count": 56
        }
      ]
    },
    {
      "cell_type": "code",
      "source": [
        "day_names = sales_data.columns[days_above_350].tolist()\n",
        "day_names"
      ],
      "metadata": {
        "colab": {
          "base_uri": "https://localhost:8080/"
        },
        "id": "igLooIaOqu3J",
        "outputId": "5ca70a1e-0c67-4416-c0cb-4f95e99a9156"
      },
      "execution_count": null,
      "outputs": [
        {
          "output_type": "execute_result",
          "data": {
            "text/plain": [
              "['Thursday', 'Friday', 'Saturday', 'Sunday']"
            ]
          },
          "metadata": {},
          "execution_count": 63
        }
      ]
    },
    {
      "cell_type": "code",
      "source": [
        "day_names.to_numpy()"
      ],
      "metadata": {
        "colab": {
          "base_uri": "https://localhost:8080/",
          "height": 147
        },
        "id": "JzLacxh0rpwJ",
        "outputId": "2e1027c4-7188-4668-d347-3c7f4e8f64d7"
      },
      "execution_count": null,
      "outputs": [
        {
          "output_type": "error",
          "ename": "AttributeError",
          "evalue": "'list' object has no attribute 'to_numpy'",
          "traceback": [
            "\u001b[0;31m---------------------------------------------------------------------------\u001b[0m",
            "\u001b[0;31mAttributeError\u001b[0m                            Traceback (most recent call last)",
            "\u001b[0;32m<ipython-input-64-34ec9aa377d2>\u001b[0m in \u001b[0;36m<cell line: 1>\u001b[0;34m()\u001b[0m\n\u001b[0;32m----> 1\u001b[0;31m \u001b[0mday_names\u001b[0m\u001b[0;34m.\u001b[0m\u001b[0mto_numpy\u001b[0m\u001b[0;34m(\u001b[0m\u001b[0;34m)\u001b[0m\u001b[0;34m\u001b[0m\u001b[0;34m\u001b[0m\u001b[0m\n\u001b[0m",
            "\u001b[0;31mAttributeError\u001b[0m: 'list' object has no attribute 'to_numpy'"
          ]
        }
      ]
    },
    {
      "cell_type": "code",
      "source": [
        "array = np.array([1,2,3,4,5])\n",
        "array[[0,2,4]]"
      ],
      "metadata": {
        "colab": {
          "base_uri": "https://localhost:8080/"
        },
        "id": "PvNZ8nWWsfb-",
        "outputId": "ea8396f0-9712-4886-e8d9-093d04a635f9"
      },
      "execution_count": null,
      "outputs": [
        {
          "output_type": "execute_result",
          "data": {
            "text/plain": [
              "array([1, 3, 5])"
            ]
          },
          "metadata": {},
          "execution_count": 65
        }
      ]
    },
    {
      "cell_type": "code",
      "source": [
        "quantities = np.array([1,2,3,4,5,6])\n",
        "prices = np.array([10,20,30,40,50,60])\n",
        "total_cost = quantities*prices\n",
        "total_cost"
      ],
      "metadata": {
        "colab": {
          "base_uri": "https://localhost:8080/"
        },
        "id": "qd4IuBbeuIEy",
        "outputId": "ae97f49e-3968-4ce6-c67c-5cc0ad5e5f46"
      },
      "execution_count": null,
      "outputs": [
        {
          "output_type": "execute_result",
          "data": {
            "text/plain": [
              "array([ 10,  40,  90, 160, 250, 360])"
            ]
          },
          "metadata": {},
          "execution_count": 66
        }
      ]
    },
    {
      "cell_type": "code",
      "source": [
        "quantities = np.array([1,2,3,4,5,6])\n",
        "prices = np.array([10,20,30,40,50,60])\n",
        "total_cost = np.dot(quantities,prices)\n",
        "total_cost"
      ],
      "metadata": {
        "colab": {
          "base_uri": "https://localhost:8080/"
        },
        "id": "kcZfMPoZvuJw",
        "outputId": "7ab2829f-187b-40f1-e75d-37f53c09b11c"
      },
      "execution_count": null,
      "outputs": [
        {
          "output_type": "execute_result",
          "data": {
            "text/plain": [
              "910"
            ]
          },
          "metadata": {},
          "execution_count": 67
        }
      ]
    },
    {
      "cell_type": "code",
      "source": [
        "sales = np.array([\n",
        "    [10, 20, 30],  # Row 1\n",
        "    [5, 10, 15]    # Row 2\n",
        "])\n",
        "prices = np.array([[100,120],[150,200],[300,500]])\n",
        "\n",
        "revenue = np.dot(sales,prices)\n",
        "revenue"
      ],
      "metadata": {
        "colab": {
          "base_uri": "https://localhost:8080/"
        },
        "id": "VJ8WwEr_wIn1",
        "outputId": "f51a84f5-96be-4bc9-947c-e82b2af0fa0b"
      },
      "execution_count": null,
      "outputs": [
        {
          "output_type": "execute_result",
          "data": {
            "text/plain": [
              "array([[13000, 20200],\n",
              "       [ 6500, 10100]])"
            ]
          },
          "metadata": {},
          "execution_count": 70
        }
      ]
    },
    {
      "cell_type": "code",
      "source": [
        "random_uniform = np.random.uniform(0,1,10)\n",
        "random_uniform"
      ],
      "metadata": {
        "colab": {
          "base_uri": "https://localhost:8080/"
        },
        "id": "oeaVFOO7yv6C",
        "outputId": "81b6258d-c64c-4c90-884c-b27a8a918631"
      },
      "execution_count": null,
      "outputs": [
        {
          "output_type": "execute_result",
          "data": {
            "text/plain": [
              "array([0.01245494, 0.79770121, 0.0985211 , 0.65624763, 0.21799782,\n",
              "       0.27374452, 0.44683704, 0.91472903, 0.95163348, 0.46433676])"
            ]
          },
          "metadata": {},
          "execution_count": 71
        }
      ]
    },
    {
      "cell_type": "code",
      "source": [
        "random_normal = np.random.randn(10)\n",
        "random_normal"
      ],
      "metadata": {
        "colab": {
          "base_uri": "https://localhost:8080/"
        },
        "id": "A7uKaL_CzAOH",
        "outputId": "84e9e7c4-7fe0-4e97-d6e0-ff5ca7df6bda"
      },
      "execution_count": null,
      "outputs": [
        {
          "output_type": "execute_result",
          "data": {
            "text/plain": [
              "array([-0.2204055 , -0.5746043 , -0.82093873,  1.71362039, -1.16824704,\n",
              "       -0.14724713,  1.03993839, -1.96703299,  1.1316924 ,  1.3989525 ])"
            ]
          },
          "metadata": {},
          "execution_count": 72
        }
      ]
    },
    {
      "cell_type": "code",
      "source": [
        "random_ints = np.random.randint(0,10,10)\n",
        "random_ints"
      ],
      "metadata": {
        "colab": {
          "base_uri": "https://localhost:8080/"
        },
        "id": "GqKtz4mlzfBp",
        "outputId": "d74b067b-9b6d-4aad-94d1-35a6742a22ac"
      },
      "execution_count": null,
      "outputs": [
        {
          "output_type": "execute_result",
          "data": {
            "text/plain": [
              "array([8, 4, 0, 3, 3, 0, 9, 6, 9, 4])"
            ]
          },
          "metadata": {},
          "execution_count": 73
        }
      ]
    },
    {
      "cell_type": "code",
      "source": [
        "array = np.array([10,20,30,40,50])\n",
        "random=np.random.choice(array, 3, replace=False)\n",
        "random"
      ],
      "metadata": {
        "colab": {
          "base_uri": "https://localhost:8080/"
        },
        "id": "l_ap-FyAzmxW",
        "outputId": "db397e9b-12a3-4aa1-9dd4-92bfdc3eeda5"
      },
      "execution_count": null,
      "outputs": [
        {
          "output_type": "execute_result",
          "data": {
            "text/plain": [
              "array([30, 40, 10])"
            ]
          },
          "metadata": {},
          "execution_count": 77
        }
      ]
    },
    {
      "cell_type": "code",
      "source": [
        "array = np.array([10,20,30,40,50])\n",
        "np.random.shuffle(array)"
      ],
      "metadata": {
        "id": "z6Vy-sh40BaZ"
      },
      "execution_count": null,
      "outputs": []
    },
    {
      "cell_type": "code",
      "source": [
        "array"
      ],
      "metadata": {
        "colab": {
          "base_uri": "https://localhost:8080/"
        },
        "id": "oye-Qngn0Igj",
        "outputId": "e4f16981-276f-4b26-a87b-42e656163a61"
      },
      "execution_count": null,
      "outputs": [
        {
          "output_type": "execute_result",
          "data": {
            "text/plain": [
              "array([20, 40, 30, 10, 50])"
            ]
          },
          "metadata": {},
          "execution_count": 79
        }
      ]
    },
    {
      "cell_type": "code",
      "source": [
        "import numpy as np\n",
        "\n",
        "# Creating a 1D array and a 2D array\n",
        "a = np.array([0, 1, 2])\n",
        "b = np.array([[0, 1, 2], [3, 4, 5]])\n",
        "\n",
        "# Adding the 1D array to each row of the 2D array\n",
        "result = a + b\n",
        "result"
      ],
      "metadata": {
        "colab": {
          "base_uri": "https://localhost:8080/"
        },
        "id": "F1BVDoRw0etb",
        "outputId": "8f00fb69-a5d9-46b6-bc65-372e5ac2ec35"
      },
      "execution_count": null,
      "outputs": [
        {
          "output_type": "execute_result",
          "data": {
            "text/plain": [
              "array([[0, 2, 4],\n",
              "       [3, 5, 7]])"
            ]
          },
          "metadata": {},
          "execution_count": 81
        }
      ]
    },
    {
      "cell_type": "code",
      "source": [
        "# Create a 3D NumPy array for an RGB image\n",
        "# Each pixel has 3 values: [R, G, B] (Red, Green, Blue)\n",
        "# Dimensions: (Height, Width, 3)\n",
        "import matplotlib.pyplot as plt\n",
        "# Define the height and width of the image\n",
        "height, width = 10, 10\n",
        "\n",
        "# Create a 3D array filled with random RGB values (0 to 255)\n",
        "rgb_image = np.zeros((height, width, 3), dtype=np.uint8)\n",
        "\n",
        "# Create a gradient effect across the RGB channels\n",
        "for i in range(height):\n",
        "    for j in range(width):\n",
        "        rgb_image[i, j] = [i * 25 % 256, j * 25 % 256, (i + j) * 15 % 256]\n",
        "\n",
        "# Display the RGB image\n",
        "plt.imshow(rgb_image)\n",
        "plt.title(\"Simple RGB Image\")\n",
        "plt.axis('off')  # Turn off the axis\n",
        "plt.show()\n"
      ],
      "metadata": {
        "colab": {
          "base_uri": "https://localhost:8080/",
          "height": 428
        },
        "id": "aPl2gPCF1Y8q",
        "outputId": "efa8631d-5714-4260-99e6-601118871d61"
      },
      "execution_count": null,
      "outputs": [
        {
          "output_type": "display_data",
          "data": {
            "text/plain": [
              "<Figure size 640x480 with 1 Axes>"
            ],
            "image/png": "[encoded data removed]"
          },
          "metadata": {}
        }
      ]
    },
    {
      "cell_type": "code",
      "source": [
        "# Create a 3D NumPy array for a manually defined RGB image\n",
        "# Dimensions: (Height, Width, 3)\n",
        "\n",
        "# Define the image with manually assigned RGB values\n",
        "rgb_image_manual = np.array([\n",
        "    [[255, 0, 0], [0, 255, 0], [0, 0, 255], [255, 255, 0]],  # Row 1: Red, Green, Blue, Yellow\n",
        "    [[0, 255, 255], [255, 0, 255], [128, 128, 128], [0, 0, 0]],  # Row 2: Cyan, Magenta, Gray, Black\n",
        "    [[255, 128, 0], [128, 255, 0], [0, 128, 255], [128, 0, 255]],  # Row 3: Custom colors\n",
        "    [[255, 255, 255], [64, 64, 64], [192, 192, 192], [32, 32, 32]]  # Row 4: White, dark gray shades\n",
        "], dtype=np.uint8)\n",
        "\n",
        "# Display the manually created RGB image\n",
        "plt.imshow(rgb_image_manual)\n",
        "plt.title(\"Manually Defined RGB Image\")\n",
        "plt.axis('off')  # Turn off the axis\n",
        "plt.show()\n"
      ],
      "metadata": {
        "colab": {
          "base_uri": "https://localhost:8080/",
          "height": 428
        },
        "id": "9mImtvwl1opa",
        "outputId": "740856bc-ad61-41d3-8f66-97fb116d41bf"
      },
      "execution_count": null,
      "outputs": [
        {
          "output_type": "display_data",
          "data": {
            "text/plain": [
              "<Figure size 640x480 with 1 Axes>"
            ],
            "image/png": "[encoded data removed]"
          },
          "metadata": {}
        }
      ]
    },
    {
      "cell_type": "markdown",
      "source": [],
      "metadata": {
        "id": "cWdxwVW0l8ur"
      }
    }
  ]
}