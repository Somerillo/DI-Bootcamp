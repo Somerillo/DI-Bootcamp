{
  "metadata": {
    "kernelspec": {
      "language": "python",
      "display_name": "Python 3",
      "name": "python3"
    },
    "language_info": {
      "pygments_lexer": "ipython3",
      "nbconvert_exporter": "python",
      "version": "3.6.4",
      "file_extension": ".py",
      "codemirror_mode": {
        "name": "ipython",
        "version": 3
      },
      "name": "python",
      "mimetype": "text/x-python"
    },
    "kaggle": {
      "accelerator": "none",
      "dataSources": [
        {
          "sourceId": 4213024,
          "sourceType": "datasetVersion",
          "datasetId": 2479030
        }
      ],
      "dockerImageVersionId": 30235,
      "isInternetEnabled": false,
      "language": "python",
      "sourceType": "notebook",
      "isGpuEnabled": false
    },
    "colab": {
      "provenance": []
    }
  },
  "nbformat_minor": 0,
  "nbformat": 4,
  "cells": [
    {
      "cell_type": "markdown",
      "source": [
        "The AB test is a randomized experiment that is used by most large companies to evaluate the launch of new functionality. Various difficulties may arise in the analysis and conduct of the experiment. Several typical problematic cases from real life are given in this dataset and analysis."
      ],
      "metadata": {
        "id": "DeHt0ZK0kkpI"
      }
    },
    {
      "cell_type": "markdown",
      "source": [
        "### Content\n",
        "1. [Loading and processing data](#Loading)\n",
        "2. [Statistical Analysis](#Statistical)\n",
        "3. [Conclusions](#Conclusions)"
      ],
      "metadata": {
        "id": "Zm0ogtm1kkpI"
      }
    },
    {
      "cell_type": "markdown",
      "source": [
        "### Loading and processing data <a name=\"Loading\"/>"
      ],
      "metadata": {
        "id": "bn40N7ilkkpJ"
      }
    },
    {
      "cell_type": "markdown",
      "source": [
        "Let's import the necessary libraries and load the data"
      ],
      "metadata": {
        "id": "fh03NWZxkkpJ"
      }
    },
    {
      "cell_type": "code",
      "source": [
        "import numpy as np\n",
        "import pandas as pd\n",
        "from scipy.stats import mannwhitneyu\n",
        "from scipy.stats import ttest_ind\n",
        "from scipy.stats import norm\n",
        "import matplotlib.pyplot as plt\n",
        "import seaborn as sns\n",
        "from tqdm.auto import tqdm\n",
        "import seaborn as sns\n",
        "from scipy.stats import pearsonr\n",
        "from scipy.stats import shapiro"
      ],
      "metadata": {
        "execution": {
          "iopub.status.busy": "2022-09-16T18:23:22.571234Z",
          "iopub.execute_input": "2022-09-16T18:23:22.571662Z",
          "iopub.status.idle": "2022-09-16T18:23:22.579386Z",
          "shell.execute_reply.started": "2022-09-16T18:23:22.571624Z",
          "shell.execute_reply": "2022-09-16T18:23:22.577863Z"
        },
        "trusted": true,
        "id": "jKi9SDP2kkpJ"
      },
      "execution_count": 1,
      "outputs": []
    },
    {
      "cell_type": "code",
      "source": [
        "# TODO : import the dataset\n",
        "path = '/content/AB_Test_Results.csv'\n",
        "df = pd.read_csv(path)"
      ],
      "metadata": {
        "execution": {
          "iopub.status.busy": "2022-09-16T18:23:22.582829Z",
          "iopub.execute_input": "2022-09-16T18:23:22.584216Z",
          "iopub.status.idle": "2022-09-16T18:23:22.604701Z",
          "shell.execute_reply.started": "2022-09-16T18:23:22.584166Z",
          "shell.execute_reply": "2022-09-16T18:23:22.603788Z"
        },
        "trusted": true,
        "id": "5CAgSuFlkkpJ"
      },
      "execution_count": 2,
      "outputs": []
    },
    {
      "cell_type": "code",
      "source": [
        "# TODO : take a quick look at the data\n",
        "display(df.head())"
      ],
      "metadata": {
        "execution": {
          "iopub.status.busy": "2022-09-16T18:23:22.606556Z",
          "iopub.execute_input": "2022-09-16T18:23:22.607393Z",
          "iopub.status.idle": "2022-09-16T18:23:22.621022Z",
          "shell.execute_reply.started": "2022-09-16T18:23:22.607349Z",
          "shell.execute_reply": "2022-09-16T18:23:22.619749Z"
        },
        "trusted": true,
        "id": "1nvLy1dIkkpK",
        "outputId": "80993196-9b74-47c6-b7e9-adc33e56c25d",
        "colab": {
          "base_uri": "https://localhost:8080/",
          "height": 206
        }
      },
      "execution_count": 3,
      "outputs": [
        {
          "output_type": "display_data",
          "data": {
            "text/plain": [
              "   USER_ID VARIANT_NAME  REVENUE\n",
              "0      737      variant      0.0\n",
              "1     2423      control      0.0\n",
              "2     9411      control      0.0\n",
              "3     7311      control      0.0\n",
              "4     6174      variant      0.0"
            ],
            "text/html": [
              "\n",
              "  <div id=\"df-28e8d827-be8c-47a2-8169-b84419b68dc2\" class=\"colab-df-container\">\n",
              "    <div>\n",
              "<style scoped>\n",
              "    .dataframe tbody tr th:only-of-type {\n",
              "        vertical-align: middle;\n",
              "    }\n",
              "\n",
              "    .dataframe tbody tr th {\n",
              "        vertical-align: top;\n",
              "    }\n",
              "\n",
              "    .dataframe thead th {\n",
              "        text-align: right;\n",
              "    }\n",
              "</style>\n",
              "<table border=\"1\" class=\"dataframe\">\n",
              "  <thead>\n",
              "    <tr style=\"text-align: right;\">\n",
              "      <th></th>\n",
              "      <th>USER_ID</th>\n",
              "      <th>VARIANT_NAME</th>\n",
              "      <th>REVENUE</th>\n",
              "    </tr>\n",
              "  </thead>\n",
              "  <tbody>\n",
              "    <tr>\n",
              "      <th>0</th>\n",
              "      <td>737</td>\n",
              "      <td>variant</td>\n",
              "      <td>0.0</td>\n",
              "    </tr>\n",
              "    <tr>\n",
              "      <th>1</th>\n",
              "      <td>2423</td>\n",
              "      <td>control</td>\n",
              "      <td>0.0</td>\n",
              "    </tr>\n",
              "    <tr>\n",
              "      <th>2</th>\n",
              "      <td>9411</td>\n",
              "      <td>control</td>\n",
              "      <td>0.0</td>\n",
              "    </tr>\n",
              "    <tr>\n",
              "      <th>3</th>\n",
              "      <td>7311</td>\n",
              "      <td>control</td>\n",
              "      <td>0.0</td>\n",
              "    </tr>\n",
              "    <tr>\n",
              "      <th>4</th>\n",
              "      <td>6174</td>\n",
              "      <td>variant</td>\n",
              "      <td>0.0</td>\n",
              "    </tr>\n",
              "  </tbody>\n",
              "</table>\n",
              "</div>\n",
              "    <div class=\"colab-df-buttons\">\n",
              "\n",
              "  <div class=\"colab-df-container\">\n",
              "    <button class=\"colab-df-convert\" onclick=\"convertToInteractive('df-28e8d827-be8c-47a2-8169-b84419b68dc2')\"\n",
              "            title=\"Convert this dataframe to an interactive table.\"\n",
              "            style=\"display:none;\">\n",
              "\n",
              "  <svg xmlns=\"http://www.w3.org/2000/svg\" height=\"24px\" viewBox=\"0 -960 960 960\">\n",
              "    <path d=\"M120-120v-720h720v720H120Zm60-500h600v-160H180v160Zm220 220h160v-160H400v160Zm0 220h160v-160H400v160ZM180-400h160v-160H180v160Zm440 0h160v-160H620v160ZM180-180h160v-160H180v160Zm440 0h160v-160H620v160Z\"/>\n",
              "  </svg>\n",
              "    </button>\n",
              "\n",
              "  <style>\n",
              "    .colab-df-container {\n",
              "      display:flex;\n",
              "      gap: 12px;\n",
              "    }\n",
              "\n",
              "    .colab-df-convert {\n",
              "      background-color: #E8F0FE;\n",
              "      border: none;\n",
              "      border-radius: 50%;\n",
              "      cursor: pointer;\n",
              "      display: none;\n",
              "      fill: #1967D2;\n",
              "      height: 32px;\n",
              "      padding: 0 0 0 0;\n",
              "      width: 32px;\n",
              "    }\n",
              "\n",
              "    .colab-df-convert:hover {\n",
              "      background-color: #E2EBFA;\n",
              "      box-shadow: 0px 1px 2px rgba(60, 64, 67, 0.3), 0px 1px 3px 1px rgba(60, 64, 67, 0.15);\n",
              "      fill: #174EA6;\n",
              "    }\n",
              "\n",
              "    .colab-df-buttons div {\n",
              "      margin-bottom: 4px;\n",
              "    }\n",
              "\n",
              "    [theme=dark] .colab-df-convert {\n",
              "      background-color: #3B4455;\n",
              "      fill: #D2E3FC;\n",
              "    }\n",
              "\n",
              "    [theme=dark] .colab-df-convert:hover {\n",
              "      background-color: #434B5C;\n",
              "      box-shadow: 0px 1px 3px 1px rgba(0, 0, 0, 0.15);\n",
              "      filter: drop-shadow(0px 1px 2px rgba(0, 0, 0, 0.3));\n",
              "      fill: #FFFFFF;\n",
              "    }\n",
              "  </style>\n",
              "\n",
              "    <script>\n",
              "      const buttonEl =\n",
              "        document.querySelector('#df-28e8d827-be8c-47a2-8169-b84419b68dc2 button.colab-df-convert');\n",
              "      buttonEl.style.display =\n",
              "        google.colab.kernel.accessAllowed ? 'block' : 'none';\n",
              "\n",
              "      async function convertToInteractive(key) {\n",
              "        const element = document.querySelector('#df-28e8d827-be8c-47a2-8169-b84419b68dc2');\n",
              "        const dataTable =\n",
              "          await google.colab.kernel.invokeFunction('convertToInteractive',\n",
              "                                                    [key], {});\n",
              "        if (!dataTable) return;\n",
              "\n",
              "        const docLinkHtml = 'Like what you see? Visit the ' +\n",
              "          '<a target=\"_blank\" href=https://colab.research.google.com/notebooks/data_table.ipynb>data table notebook</a>'\n",
              "          + ' to learn more about interactive tables.';\n",
              "        element.innerHTML = '';\n",
              "        dataTable['output_type'] = 'display_data';\n",
              "        await google.colab.output.renderOutput(dataTable, element);\n",
              "        const docLink = document.createElement('div');\n",
              "        docLink.innerHTML = docLinkHtml;\n",
              "        element.appendChild(docLink);\n",
              "      }\n",
              "    </script>\n",
              "  </div>\n",
              "\n",
              "\n",
              "<div id=\"df-c242c799-08fa-4883-9809-a797cb3c32c3\">\n",
              "  <button class=\"colab-df-quickchart\" onclick=\"quickchart('df-c242c799-08fa-4883-9809-a797cb3c32c3')\"\n",
              "            title=\"Suggest charts\"\n",
              "            style=\"display:none;\">\n",
              "\n",
              "<svg xmlns=\"http://www.w3.org/2000/svg\" height=\"24px\"viewBox=\"0 0 24 24\"\n",
              "     width=\"24px\">\n",
              "    <g>\n",
              "        <path d=\"M19 3H5c-1.1 0-2 .9-2 2v14c0 1.1.9 2 2 2h14c1.1 0 2-.9 2-2V5c0-1.1-.9-2-2-2zM9 17H7v-7h2v7zm4 0h-2V7h2v10zm4 0h-2v-4h2v4z\"/>\n",
              "    </g>\n",
              "</svg>\n",
              "  </button>\n",
              "\n",
              "<style>\n",
              "  .colab-df-quickchart {\n",
              "      --bg-color: #E8F0FE;\n",
              "      --fill-color: #1967D2;\n",
              "      --hover-bg-color: #E2EBFA;\n",
              "      --hover-fill-color: #174EA6;\n",
              "      --disabled-fill-color: #AAA;\n",
              "      --disabled-bg-color: #DDD;\n",
              "  }\n",
              "\n",
              "  [theme=dark] .colab-df-quickchart {\n",
              "      --bg-color: #3B4455;\n",
              "      --fill-color: #D2E3FC;\n",
              "      --hover-bg-color: #434B5C;\n",
              "      --hover-fill-color: #FFFFFF;\n",
              "      --disabled-bg-color: #3B4455;\n",
              "      --disabled-fill-color: #666;\n",
              "  }\n",
              "\n",
              "  .colab-df-quickchart {\n",
              "    background-color: var(--bg-color);\n",
              "    border: none;\n",
              "    border-radius: 50%;\n",
              "    cursor: pointer;\n",
              "    display: none;\n",
              "    fill: var(--fill-color);\n",
              "    height: 32px;\n",
              "    padding: 0;\n",
              "    width: 32px;\n",
              "  }\n",
              "\n",
              "  .colab-df-quickchart:hover {\n",
              "    background-color: var(--hover-bg-color);\n",
              "    box-shadow: 0 1px 2px rgba(60, 64, 67, 0.3), 0 1px 3px 1px rgba(60, 64, 67, 0.15);\n",
              "    fill: var(--button-hover-fill-color);\n",
              "  }\n",
              "\n",
              "  .colab-df-quickchart-complete:disabled,\n",
              "  .colab-df-quickchart-complete:disabled:hover {\n",
              "    background-color: var(--disabled-bg-color);\n",
              "    fill: var(--disabled-fill-color);\n",
              "    box-shadow: none;\n",
              "  }\n",
              "\n",
              "  .colab-df-spinner {\n",
              "    border: 2px solid var(--fill-color);\n",
              "    border-color: transparent;\n",
              "    border-bottom-color: var(--fill-color);\n",
              "    animation:\n",
              "      spin 1s steps(1) infinite;\n",
              "  }\n",
              "\n",
              "  @keyframes spin {\n",
              "    0% {\n",
              "      border-color: transparent;\n",
              "      border-bottom-color: var(--fill-color);\n",
              "      border-left-color: var(--fill-color);\n",
              "    }\n",
              "    20% {\n",
              "      border-color: transparent;\n",
              "      border-left-color: var(--fill-color);\n",
              "      border-top-color: var(--fill-color);\n",
              "    }\n",
              "    30% {\n",
              "      border-color: transparent;\n",
              "      border-left-color: var(--fill-color);\n",
              "      border-top-color: var(--fill-color);\n",
              "      border-right-color: var(--fill-color);\n",
              "    }\n",
              "    40% {\n",
              "      border-color: transparent;\n",
              "      border-right-color: var(--fill-color);\n",
              "      border-top-color: var(--fill-color);\n",
              "    }\n",
              "    60% {\n",
              "      border-color: transparent;\n",
              "      border-right-color: var(--fill-color);\n",
              "    }\n",
              "    80% {\n",
              "      border-color: transparent;\n",
              "      border-right-color: var(--fill-color);\n",
              "      border-bottom-color: var(--fill-color);\n",
              "    }\n",
              "    90% {\n",
              "      border-color: transparent;\n",
              "      border-bottom-color: var(--fill-color);\n",
              "    }\n",
              "  }\n",
              "</style>\n",
              "\n",
              "  <script>\n",
              "    async function quickchart(key) {\n",
              "      const quickchartButtonEl =\n",
              "        document.querySelector('#' + key + ' button');\n",
              "      quickchartButtonEl.disabled = true;  // To prevent multiple clicks.\n",
              "      quickchartButtonEl.classList.add('colab-df-spinner');\n",
              "      try {\n",
              "        const charts = await google.colab.kernel.invokeFunction(\n",
              "            'suggestCharts', [key], {});\n",
              "      } catch (error) {\n",
              "        console.error('Error during call to suggestCharts:', error);\n",
              "      }\n",
              "      quickchartButtonEl.classList.remove('colab-df-spinner');\n",
              "      quickchartButtonEl.classList.add('colab-df-quickchart-complete');\n",
              "    }\n",
              "    (() => {\n",
              "      let quickchartButtonEl =\n",
              "        document.querySelector('#df-c242c799-08fa-4883-9809-a797cb3c32c3 button');\n",
              "      quickchartButtonEl.style.display =\n",
              "        google.colab.kernel.accessAllowed ? 'block' : 'none';\n",
              "    })();\n",
              "  </script>\n",
              "</div>\n",
              "\n",
              "    </div>\n",
              "  </div>\n"
            ],
            "application/vnd.google.colaboratory.intrinsic+json": {
              "type": "dataframe",
              "summary": "{\n  \"name\": \"display(df\",\n  \"rows\": 5,\n  \"fields\": [\n    {\n      \"column\": \"USER_ID\",\n      \"properties\": {\n        \"dtype\": \"number\",\n        \"std\": 3562,\n        \"min\": 737,\n        \"max\": 9411,\n        \"num_unique_values\": 5,\n        \"samples\": [\n          2423,\n          6174,\n          9411\n        ],\n        \"semantic_type\": \"\",\n        \"description\": \"\"\n      }\n    },\n    {\n      \"column\": \"VARIANT_NAME\",\n      \"properties\": {\n        \"dtype\": \"category\",\n        \"num_unique_values\": 2,\n        \"samples\": [\n          \"control\",\n          \"variant\"\n        ],\n        \"semantic_type\": \"\",\n        \"description\": \"\"\n      }\n    },\n    {\n      \"column\": \"REVENUE\",\n      \"properties\": {\n        \"dtype\": \"number\",\n        \"std\": 0.0,\n        \"min\": 0.0,\n        \"max\": 0.0,\n        \"num_unique_values\": 1,\n        \"samples\": [\n          0.0\n        ],\n        \"semantic_type\": \"\",\n        \"description\": \"\"\n      }\n    }\n  ]\n}"
            }
          },
          "metadata": {}
        }
      ]
    },
    {
      "cell_type": "markdown",
      "source": [
        "Let's see if there are users who have two A/B test groups"
      ],
      "metadata": {
        "id": "gvcmP9L5kkpL"
      }
    },
    {
      "cell_type": "code",
      "source": [
        "# TODO : Look at the distribution of the number of unique groups for each user\n",
        "\n",
        "# count unique groups per user\n",
        "unique_groups_per_user = df.groupby('USER_ID')['VARIANT_NAME'].nunique()\n",
        "\n",
        "# plot the distribution\n",
        "plt.figure(figsize=(10, 6))\n",
        "unique_groups_per_user.value_counts().sort_index().plot(kind='bar')\n",
        "plt.title('Distribution of Unique Groups per User')\n",
        "plt.xlabel('Number of Unique Groups')\n",
        "plt.ylabel('Count of Users')\n",
        "plt.xticks(rotation=0)\n",
        "plt.show()\n",
        "\n",
        "# check the numbers\n",
        "print(unique_groups_per_user.value_counts().sort_index())"
      ],
      "metadata": {
        "execution": {
          "iopub.status.busy": "2022-09-16T18:23:22.659897Z",
          "iopub.execute_input": "2022-09-16T18:23:22.660468Z",
          "iopub.status.idle": "2022-09-16T18:23:22.673751Z",
          "shell.execute_reply.started": "2022-09-16T18:23:22.660438Z",
          "shell.execute_reply": "2022-09-16T18:23:22.672845Z"
        },
        "trusted": true,
        "id": "sQfYwAcWkkpL",
        "outputId": "ae20d28c-8254-47fb-fe48-7f772c81ec31",
        "colab": {
          "base_uri": "https://localhost:8080/",
          "height": 633
        }
      },
      "execution_count": 4,
      "outputs": [
        {
          "output_type": "display_data",
          "data": {
            "text/plain": [
              "<Figure size 1000x600 with 1 Axes>"
            ],
            "image/png": "[encoded data removed]"
          },
          "metadata": {}
        },
        {
          "output_type": "stream",
          "name": "stdout",
          "text": [
            "VARIANT_NAME\n",
            "1    4783\n",
            "2    1541\n",
            "Name: count, dtype: int64\n"
          ]
        }
      ]
    },
    {
      "cell_type": "code",
      "source": [
        "# TODO : Look at the distribution of the number of unique groups for each user in relative terms\n",
        "\n",
        "# calculate relative frequencies\n",
        "relative_frequencies = unique_groups_per_user.value_counts(normalize=True).sort_index()\n",
        "\n",
        "# plot the distribution\n",
        "plt.figure(figsize=(10, 6))\n",
        "relative_frequencies.plot(kind='bar')\n",
        "plt.title('Relative Distribution of Unique Groups per User')\n",
        "plt.xlabel('Number of Unique Groups')\n",
        "plt.ylabel('Proportion of Users')\n",
        "plt.xticks(rotation=0)\n",
        "plt.show()\n",
        "\n",
        "# check the numbers\n",
        "print(relative_frequencies)"
      ],
      "metadata": {
        "execution": {
          "iopub.status.busy": "2022-09-16T18:23:22.675099Z",
          "iopub.execute_input": "2022-09-16T18:23:22.675698Z",
          "iopub.status.idle": "2022-09-16T18:23:22.683077Z",
          "shell.execute_reply.started": "2022-09-16T18:23:22.675666Z",
          "shell.execute_reply": "2022-09-16T18:23:22.682019Z"
        },
        "trusted": true,
        "id": "X7D5HpjdkkpM",
        "outputId": "0a0cd8ad-c1fa-4850-b5e0-43c9e566fc28",
        "colab": {
          "base_uri": "https://localhost:8080/",
          "height": 633
        }
      },
      "execution_count": 5,
      "outputs": [
        {
          "output_type": "display_data",
          "data": {
            "text/plain": [
              "<Figure size 1000x600 with 1 Axes>"
            ],
            "image/png": "[encoded data removed]"
          },
          "metadata": {}
        },
        {
          "output_type": "stream",
          "name": "stdout",
          "text": [
            "VARIANT_NAME\n",
            "1    0.756325\n",
            "2    0.243675\n",
            "Name: proportion, dtype: float64\n"
          ]
        }
      ]
    },
    {
      "cell_type": "markdown",
      "source": [
        "What can you observe ? Should we exclude these users ? Why ?\n",
        "\n",
        "- If the relative frequency for 1 unique group is close to 1, it indicates that most users were consistently assigned to either the control or variant group throughout the experiment. This is the ideal scenario for an A/B test.\n",
        "\n",
        "- If there's a significant relative frequency for 2 or more unique groups, it suggests that some users were exposed to multiple variants during the test. This could indicate issues with the A/B test setup.\n",
        "\n",
        "So yes, we should exclude those with 2 unique groups."
      ],
      "metadata": {
        "id": "gyhapbJkkkpM"
      }
    },
    {
      "cell_type": "code",
      "source": [
        "# TODO : users have 1 A/B test group ?\n",
        "single_variant_users = df.groupby('USER_ID')['VARIANT_NAME'].nunique() == 1\n",
        "print(f\"## Number of users with 1 A/B test group: {single_variant_users.sum()}\")\n",
        "\n",
        "# TODO : Take only these users\n",
        "single_variant_users = single_variant_users[single_variant_users]"
      ],
      "metadata": {
        "execution": {
          "iopub.status.busy": "2022-09-16T18:23:22.684621Z",
          "iopub.execute_input": "2022-09-16T18:23:22.68523Z",
          "iopub.status.idle": "2022-09-16T18:23:22.704635Z",
          "shell.execute_reply.started": "2022-09-16T18:23:22.685198Z",
          "shell.execute_reply": "2022-09-16T18:23:22.70344Z"
        },
        "trusted": true,
        "id": "MNRylCuikkpM",
        "outputId": "c6fcba55-e765-4d29-dd7c-8ca127523829",
        "colab": {
          "base_uri": "https://localhost:8080/"
        }
      },
      "execution_count": 6,
      "outputs": [
        {
          "output_type": "stream",
          "name": "stdout",
          "text": [
            "## Number of users with 1 A/B test group: 4783\n"
          ]
        }
      ]
    },
    {
      "cell_type": "code",
      "source": [
        "# TODO : Leave only records with users with the 1st ab test group\n",
        "df = df[df['USER_ID'].isin(single_variant_users.index)]\n",
        "\n",
        "# TODO : Check that the number of users matches what it was before the exception\n",
        "df.groupby('USER_ID')['VARIANT_NAME'].nunique().value_counts().iloc[0] == single_variant_users.sum()"
      ],
      "metadata": {
        "execution": {
          "iopub.status.busy": "2022-09-16T18:23:22.706067Z",
          "iopub.execute_input": "2022-09-16T18:23:22.707214Z",
          "iopub.status.idle": "2022-09-16T18:23:22.721546Z",
          "shell.execute_reply.started": "2022-09-16T18:23:22.70718Z",
          "shell.execute_reply": "2022-09-16T18:23:22.720237Z"
        },
        "trusted": true,
        "id": "4XvAx6ZtkkpM",
        "outputId": "f8595b59-f829-4e03-fe04-5f0fbd181691",
        "colab": {
          "base_uri": "https://localhost:8080/"
        }
      },
      "execution_count": 7,
      "outputs": [
        {
          "output_type": "execute_result",
          "data": {
            "text/plain": [
              "True"
            ]
          },
          "metadata": {},
          "execution_count": 7
        }
      ]
    },
    {
      "cell_type": "markdown",
      "source": [
        "Let's see how the data is distributed"
      ],
      "metadata": {
        "id": "Vpvcse3pkkpM"
      }
    },
    {
      "cell_type": "code",
      "source": [
        "# TODO : Check how the data is distributed using a box plot\n",
        "plt.figure(figsize=(10, 6))\n",
        "sns.boxplot(x='VARIANT_NAME', y='REVENUE', data=df)\n",
        "plt.title('Distribution of Revenue by Variant')\n",
        "plt.xlabel('')\n",
        "plt.ylabel('Revenue')\n",
        "plt.show()"
      ],
      "metadata": {
        "execution": {
          "iopub.status.busy": "2022-09-16T18:23:22.722862Z",
          "iopub.execute_input": "2022-09-16T18:23:22.723766Z",
          "iopub.status.idle": "2022-09-16T18:23:22.98119Z",
          "shell.execute_reply.started": "2022-09-16T18:23:22.723732Z",
          "shell.execute_reply": "2022-09-16T18:23:22.980008Z"
        },
        "trusted": true,
        "id": "EW1ZGmsukkpN",
        "outputId": "860a8a37-82b2-457b-f8b5-214a697f4422",
        "colab": {
          "base_uri": "https://localhost:8080/",
          "height": 545
        }
      },
      "execution_count": 8,
      "outputs": [
        {
          "output_type": "display_data",
          "data": {
            "text/plain": [
              "<Figure size 1000x600 with 1 Axes>"
            ],
            "image/png": "[encoded data removed]"
          },
          "metadata": {}
        }
      ]
    },
    {
      "cell_type": "markdown",
      "source": [
        "It can be seen that there is a strong outlier in the data - we will find it by sorting these revenue values in descending order"
      ],
      "metadata": {
        "id": "Hlp3psWykkpN"
      }
    },
    {
      "cell_type": "code",
      "source": [
        "# TODO : Sort these revenue values in descending order\n",
        "df.sort_values(by='REVENUE', ascending=False, inplace=True)\n",
        "df.head()"
      ],
      "metadata": {
        "execution": {
          "iopub.status.busy": "2022-09-16T18:23:22.986753Z",
          "iopub.execute_input": "2022-09-16T18:23:22.987116Z",
          "iopub.status.idle": "2022-09-16T18:23:23.005356Z",
          "shell.execute_reply.started": "2022-09-16T18:23:22.987087Z",
          "shell.execute_reply": "2022-09-16T18:23:23.004381Z"
        },
        "trusted": true,
        "id": "9O6xaJmOkkpN",
        "outputId": "dcbdc466-e00c-4e83-e998-a6feb02ffc5b",
        "colab": {
          "base_uri": "https://localhost:8080/",
          "height": 206
        }
      },
      "execution_count": 9,
      "outputs": [
        {
          "output_type": "execute_result",
          "data": {
            "text/plain": [
              "      USER_ID VARIANT_NAME  REVENUE\n",
              "1437     3342      control   196.01\n",
              "8168     2166      control    29.32\n",
              "2482     7356      variant    23.04\n",
              "6412     1053      control    20.07\n",
              "5217     3684      variant    19.47"
            ],
            "text/html": [
              "\n",
              "  <div id=\"df-bfe3f3cc-b868-4ba4-986f-465bfeb215eb\" class=\"colab-df-container\">\n",
              "    <div>\n",
              "<style scoped>\n",
              "    .dataframe tbody tr th:only-of-type {\n",
              "        vertical-align: middle;\n",
              "    }\n",
              "\n",
              "    .dataframe tbody tr th {\n",
              "        vertical-align: top;\n",
              "    }\n",
              "\n",
              "    .dataframe thead th {\n",
              "        text-align: right;\n",
              "    }\n",
              "</style>\n",
              "<table border=\"1\" class=\"dataframe\">\n",
              "  <thead>\n",
              "    <tr style=\"text-align: right;\">\n",
              "      <th></th>\n",
              "      <th>USER_ID</th>\n",
              "      <th>VARIANT_NAME</th>\n",
              "      <th>REVENUE</th>\n",
              "    </tr>\n",
              "  </thead>\n",
              "  <tbody>\n",
              "    <tr>\n",
              "      <th>1437</th>\n",
              "      <td>3342</td>\n",
              "      <td>control</td>\n",
              "      <td>196.01</td>\n",
              "    </tr>\n",
              "    <tr>\n",
              "      <th>8168</th>\n",
              "      <td>2166</td>\n",
              "      <td>control</td>\n",
              "      <td>29.32</td>\n",
              "    </tr>\n",
              "    <tr>\n",
              "      <th>2482</th>\n",
              "      <td>7356</td>\n",
              "      <td>variant</td>\n",
              "      <td>23.04</td>\n",
              "    </tr>\n",
              "    <tr>\n",
              "      <th>6412</th>\n",
              "      <td>1053</td>\n",
              "      <td>control</td>\n",
              "      <td>20.07</td>\n",
              "    </tr>\n",
              "    <tr>\n",
              "      <th>5217</th>\n",
              "      <td>3684</td>\n",
              "      <td>variant</td>\n",
              "      <td>19.47</td>\n",
              "    </tr>\n",
              "  </tbody>\n",
              "</table>\n",
              "</div>\n",
              "    <div class=\"colab-df-buttons\">\n",
              "\n",
              "  <div class=\"colab-df-container\">\n",
              "    <button class=\"colab-df-convert\" onclick=\"convertToInteractive('df-bfe3f3cc-b868-4ba4-986f-465bfeb215eb')\"\n",
              "            title=\"Convert this dataframe to an interactive table.\"\n",
              "            style=\"display:none;\">\n",
              "\n",
              "  <svg xmlns=\"http://www.w3.org/2000/svg\" height=\"24px\" viewBox=\"0 -960 960 960\">\n",
              "    <path d=\"M120-120v-720h720v720H120Zm60-500h600v-160H180v160Zm220 220h160v-160H400v160Zm0 220h160v-160H400v160ZM180-400h160v-160H180v160Zm440 0h160v-160H620v160ZM180-180h160v-160H180v160Zm440 0h160v-160H620v160Z\"/>\n",
              "  </svg>\n",
              "    </button>\n",
              "\n",
              "  <style>\n",
              "    .colab-df-container {\n",
              "      display:flex;\n",
              "      gap: 12px;\n",
              "    }\n",
              "\n",
              "    .colab-df-convert {\n",
              "      background-color: #E8F0FE;\n",
              "      border: none;\n",
              "      border-radius: 50%;\n",
              "      cursor: pointer;\n",
              "      display: none;\n",
              "      fill: #1967D2;\n",
              "      height: 32px;\n",
              "      padding: 0 0 0 0;\n",
              "      width: 32px;\n",
              "    }\n",
              "\n",
              "    .colab-df-convert:hover {\n",
              "      background-color: #E2EBFA;\n",
              "      box-shadow: 0px 1px 2px rgba(60, 64, 67, 0.3), 0px 1px 3px 1px rgba(60, 64, 67, 0.15);\n",
              "      fill: #174EA6;\n",
              "    }\n",
              "\n",
              "    .colab-df-buttons div {\n",
              "      margin-bottom: 4px;\n",
              "    }\n",
              "\n",
              "    [theme=dark] .colab-df-convert {\n",
              "      background-color: #3B4455;\n",
              "      fill: #D2E3FC;\n",
              "    }\n",
              "\n",
              "    [theme=dark] .colab-df-convert:hover {\n",
              "      background-color: #434B5C;\n",
              "      box-shadow: 0px 1px 3px 1px rgba(0, 0, 0, 0.15);\n",
              "      filter: drop-shadow(0px 1px 2px rgba(0, 0, 0, 0.3));\n",
              "      fill: #FFFFFF;\n",
              "    }\n",
              "  </style>\n",
              "\n",
              "    <script>\n",
              "      const buttonEl =\n",
              "        document.querySelector('#df-bfe3f3cc-b868-4ba4-986f-465bfeb215eb button.colab-df-convert');\n",
              "      buttonEl.style.display =\n",
              "        google.colab.kernel.accessAllowed ? 'block' : 'none';\n",
              "\n",
              "      async function convertToInteractive(key) {\n",
              "        const element = document.querySelector('#df-bfe3f3cc-b868-4ba4-986f-465bfeb215eb');\n",
              "        const dataTable =\n",
              "          await google.colab.kernel.invokeFunction('convertToInteractive',\n",
              "                                                    [key], {});\n",
              "        if (!dataTable) return;\n",
              "\n",
              "        const docLinkHtml = 'Like what you see? Visit the ' +\n",
              "          '<a target=\"_blank\" href=https://colab.research.google.com/notebooks/data_table.ipynb>data table notebook</a>'\n",
              "          + ' to learn more about interactive tables.';\n",
              "        element.innerHTML = '';\n",
              "        dataTable['output_type'] = 'display_data';\n",
              "        await google.colab.output.renderOutput(dataTable, element);\n",
              "        const docLink = document.createElement('div');\n",
              "        docLink.innerHTML = docLinkHtml;\n",
              "        element.appendChild(docLink);\n",
              "      }\n",
              "    </script>\n",
              "  </div>\n",
              "\n",
              "\n",
              "<div id=\"df-32ceb282-0b59-4397-92f0-9cfef25ae928\">\n",
              "  <button class=\"colab-df-quickchart\" onclick=\"quickchart('df-32ceb282-0b59-4397-92f0-9cfef25ae928')\"\n",
              "            title=\"Suggest charts\"\n",
              "            style=\"display:none;\">\n",
              "\n",
              "<svg xmlns=\"http://www.w3.org/2000/svg\" height=\"24px\"viewBox=\"0 0 24 24\"\n",
              "     width=\"24px\">\n",
              "    <g>\n",
              "        <path d=\"M19 3H5c-1.1 0-2 .9-2 2v14c0 1.1.9 2 2 2h14c1.1 0 2-.9 2-2V5c0-1.1-.9-2-2-2zM9 17H7v-7h2v7zm4 0h-2V7h2v10zm4 0h-2v-4h2v4z\"/>\n",
              "    </g>\n",
              "</svg>\n",
              "  </button>\n",
              "\n",
              "<style>\n",
              "  .colab-df-quickchart {\n",
              "      --bg-color: #E8F0FE;\n",
              "      --fill-color: #1967D2;\n",
              "      --hover-bg-color: #E2EBFA;\n",
              "      --hover-fill-color: #174EA6;\n",
              "      --disabled-fill-color: #AAA;\n",
              "      --disabled-bg-color: #DDD;\n",
              "  }\n",
              "\n",
              "  [theme=dark] .colab-df-quickchart {\n",
              "      --bg-color: #3B4455;\n",
              "      --fill-color: #D2E3FC;\n",
              "      --hover-bg-color: #434B5C;\n",
              "      --hover-fill-color: #FFFFFF;\n",
              "      --disabled-bg-color: #3B4455;\n",
              "      --disabled-fill-color: #666;\n",
              "  }\n",
              "\n",
              "  .colab-df-quickchart {\n",
              "    background-color: var(--bg-color);\n",
              "    border: none;\n",
              "    border-radius: 50%;\n",
              "    cursor: pointer;\n",
              "    display: none;\n",
              "    fill: var(--fill-color);\n",
              "    height: 32px;\n",
              "    padding: 0;\n",
              "    width: 32px;\n",
              "  }\n",
              "\n",
              "  .colab-df-quickchart:hover {\n",
              "    background-color: var(--hover-bg-color);\n",
              "    box-shadow: 0 1px 2px rgba(60, 64, 67, 0.3), 0 1px 3px 1px rgba(60, 64, 67, 0.15);\n",
              "    fill: var(--button-hover-fill-color);\n",
              "  }\n",
              "\n",
              "  .colab-df-quickchart-complete:disabled,\n",
              "  .colab-df-quickchart-complete:disabled:hover {\n",
              "    background-color: var(--disabled-bg-color);\n",
              "    fill: var(--disabled-fill-color);\n",
              "    box-shadow: none;\n",
              "  }\n",
              "\n",
              "  .colab-df-spinner {\n",
              "    border: 2px solid var(--fill-color);\n",
              "    border-color: transparent;\n",
              "    border-bottom-color: var(--fill-color);\n",
              "    animation:\n",
              "      spin 1s steps(1) infinite;\n",
              "  }\n",
              "\n",
              "  @keyframes spin {\n",
              "    0% {\n",
              "      border-color: transparent;\n",
              "      border-bottom-color: var(--fill-color);\n",
              "      border-left-color: var(--fill-color);\n",
              "    }\n",
              "    20% {\n",
              "      border-color: transparent;\n",
              "      border-left-color: var(--fill-color);\n",
              "      border-top-color: var(--fill-color);\n",
              "    }\n",
              "    30% {\n",
              "      border-color: transparent;\n",
              "      border-left-color: var(--fill-color);\n",
              "      border-top-color: var(--fill-color);\n",
              "      border-right-color: var(--fill-color);\n",
              "    }\n",
              "    40% {\n",
              "      border-color: transparent;\n",
              "      border-right-color: var(--fill-color);\n",
              "      border-top-color: var(--fill-color);\n",
              "    }\n",
              "    60% {\n",
              "      border-color: transparent;\n",
              "      border-right-color: var(--fill-color);\n",
              "    }\n",
              "    80% {\n",
              "      border-color: transparent;\n",
              "      border-right-color: var(--fill-color);\n",
              "      border-bottom-color: var(--fill-color);\n",
              "    }\n",
              "    90% {\n",
              "      border-color: transparent;\n",
              "      border-bottom-color: var(--fill-color);\n",
              "    }\n",
              "  }\n",
              "</style>\n",
              "\n",
              "  <script>\n",
              "    async function quickchart(key) {\n",
              "      const quickchartButtonEl =\n",
              "        document.querySelector('#' + key + ' button');\n",
              "      quickchartButtonEl.disabled = true;  // To prevent multiple clicks.\n",
              "      quickchartButtonEl.classList.add('colab-df-spinner');\n",
              "      try {\n",
              "        const charts = await google.colab.kernel.invokeFunction(\n",
              "            'suggestCharts', [key], {});\n",
              "      } catch (error) {\n",
              "        console.error('Error during call to suggestCharts:', error);\n",
              "      }\n",
              "      quickchartButtonEl.classList.remove('colab-df-spinner');\n",
              "      quickchartButtonEl.classList.add('colab-df-quickchart-complete');\n",
              "    }\n",
              "    (() => {\n",
              "      let quickchartButtonEl =\n",
              "        document.querySelector('#df-32ceb282-0b59-4397-92f0-9cfef25ae928 button');\n",
              "      quickchartButtonEl.style.display =\n",
              "        google.colab.kernel.accessAllowed ? 'block' : 'none';\n",
              "    })();\n",
              "  </script>\n",
              "</div>\n",
              "\n",
              "    </div>\n",
              "  </div>\n"
            ],
            "application/vnd.google.colaboratory.intrinsic+json": {
              "type": "dataframe",
              "variable_name": "df",
              "summary": "{\n  \"name\": \"df\",\n  \"rows\": 6070,\n  \"fields\": [\n    {\n      \"column\": \"USER_ID\",\n      \"properties\": {\n        \"dtype\": \"number\",\n        \"std\": 2897,\n        \"min\": 2,\n        \"max\": 9998,\n        \"num_unique_values\": 4783,\n        \"samples\": [\n          9910,\n          204,\n          4958\n        ],\n        \"semantic_type\": \"\",\n        \"description\": \"\"\n      }\n    },\n    {\n      \"column\": \"VARIANT_NAME\",\n      \"properties\": {\n        \"dtype\": \"category\",\n        \"num_unique_values\": 2,\n        \"samples\": [\n          \"variant\",\n          \"control\"\n        ],\n        \"semantic_type\": \"\",\n        \"description\": \"\"\n      }\n    },\n    {\n      \"column\": \"REVENUE\",\n      \"properties\": {\n        \"dtype\": \"number\",\n        \"std\": 2.6735005001304644,\n        \"min\": 0.0,\n        \"max\": 196.01,\n        \"num_unique_values\": 70,\n        \"samples\": [\n          4.95,\n          196.01\n        ],\n        \"semantic_type\": \"\",\n        \"description\": \"\"\n      }\n    }\n  ]\n}"
            }
          },
          "metadata": {},
          "execution_count": 9
        }
      ]
    },
    {
      "cell_type": "code",
      "source": [
        "# TODO : See if user 3342 had other events with a strong outlier\n",
        "df[df['USER_ID'] == 3342]"
      ],
      "metadata": {
        "execution": {
          "iopub.status.busy": "2022-09-16T18:23:23.009204Z",
          "iopub.execute_input": "2022-09-16T18:23:23.009563Z",
          "iopub.status.idle": "2022-09-16T18:23:23.022364Z",
          "shell.execute_reply.started": "2022-09-16T18:23:23.009514Z",
          "shell.execute_reply": "2022-09-16T18:23:23.020814Z"
        },
        "trusted": true,
        "id": "zzX8JJiIkkpN",
        "outputId": "118c1e14-6cad-4c74-ce6c-211b0d0e1b6f",
        "colab": {
          "base_uri": "https://localhost:8080/",
          "height": 80
        }
      },
      "execution_count": 10,
      "outputs": [
        {
          "output_type": "execute_result",
          "data": {
            "text/plain": [
              "      USER_ID VARIANT_NAME  REVENUE\n",
              "1437     3342      control   196.01"
            ],
            "text/html": [
              "\n",
              "  <div id=\"df-338b0788-1166-4697-92be-d4250e245a96\" class=\"colab-df-container\">\n",
              "    <div>\n",
              "<style scoped>\n",
              "    .dataframe tbody tr th:only-of-type {\n",
              "        vertical-align: middle;\n",
              "    }\n",
              "\n",
              "    .dataframe tbody tr th {\n",
              "        vertical-align: top;\n",
              "    }\n",
              "\n",
              "    .dataframe thead th {\n",
              "        text-align: right;\n",
              "    }\n",
              "</style>\n",
              "<table border=\"1\" class=\"dataframe\">\n",
              "  <thead>\n",
              "    <tr style=\"text-align: right;\">\n",
              "      <th></th>\n",
              "      <th>USER_ID</th>\n",
              "      <th>VARIANT_NAME</th>\n",
              "      <th>REVENUE</th>\n",
              "    </tr>\n",
              "  </thead>\n",
              "  <tbody>\n",
              "    <tr>\n",
              "      <th>1437</th>\n",
              "      <td>3342</td>\n",
              "      <td>control</td>\n",
              "      <td>196.01</td>\n",
              "    </tr>\n",
              "  </tbody>\n",
              "</table>\n",
              "</div>\n",
              "    <div class=\"colab-df-buttons\">\n",
              "\n",
              "  <div class=\"colab-df-container\">\n",
              "    <button class=\"colab-df-convert\" onclick=\"convertToInteractive('df-338b0788-1166-4697-92be-d4250e245a96')\"\n",
              "            title=\"Convert this dataframe to an interactive table.\"\n",
              "            style=\"display:none;\">\n",
              "\n",
              "  <svg xmlns=\"http://www.w3.org/2000/svg\" height=\"24px\" viewBox=\"0 -960 960 960\">\n",
              "    <path d=\"M120-120v-720h720v720H120Zm60-500h600v-160H180v160Zm220 220h160v-160H400v160Zm0 220h160v-160H400v160ZM180-400h160v-160H180v160Zm440 0h160v-160H620v160ZM180-180h160v-160H180v160Zm440 0h160v-160H620v160Z\"/>\n",
              "  </svg>\n",
              "    </button>\n",
              "\n",
              "  <style>\n",
              "    .colab-df-container {\n",
              "      display:flex;\n",
              "      gap: 12px;\n",
              "    }\n",
              "\n",
              "    .colab-df-convert {\n",
              "      background-color: #E8F0FE;\n",
              "      border: none;\n",
              "      border-radius: 50%;\n",
              "      cursor: pointer;\n",
              "      display: none;\n",
              "      fill: #1967D2;\n",
              "      height: 32px;\n",
              "      padding: 0 0 0 0;\n",
              "      width: 32px;\n",
              "    }\n",
              "\n",
              "    .colab-df-convert:hover {\n",
              "      background-color: #E2EBFA;\n",
              "      box-shadow: 0px 1px 2px rgba(60, 64, 67, 0.3), 0px 1px 3px 1px rgba(60, 64, 67, 0.15);\n",
              "      fill: #174EA6;\n",
              "    }\n",
              "\n",
              "    .colab-df-buttons div {\n",
              "      margin-bottom: 4px;\n",
              "    }\n",
              "\n",
              "    [theme=dark] .colab-df-convert {\n",
              "      background-color: #3B4455;\n",
              "      fill: #D2E3FC;\n",
              "    }\n",
              "\n",
              "    [theme=dark] .colab-df-convert:hover {\n",
              "      background-color: #434B5C;\n",
              "      box-shadow: 0px 1px 3px 1px rgba(0, 0, 0, 0.15);\n",
              "      filter: drop-shadow(0px 1px 2px rgba(0, 0, 0, 0.3));\n",
              "      fill: #FFFFFF;\n",
              "    }\n",
              "  </style>\n",
              "\n",
              "    <script>\n",
              "      const buttonEl =\n",
              "        document.querySelector('#df-338b0788-1166-4697-92be-d4250e245a96 button.colab-df-convert');\n",
              "      buttonEl.style.display =\n",
              "        google.colab.kernel.accessAllowed ? 'block' : 'none';\n",
              "\n",
              "      async function convertToInteractive(key) {\n",
              "        const element = document.querySelector('#df-338b0788-1166-4697-92be-d4250e245a96');\n",
              "        const dataTable =\n",
              "          await google.colab.kernel.invokeFunction('convertToInteractive',\n",
              "                                                    [key], {});\n",
              "        if (!dataTable) return;\n",
              "\n",
              "        const docLinkHtml = 'Like what you see? Visit the ' +\n",
              "          '<a target=\"_blank\" href=https://colab.research.google.com/notebooks/data_table.ipynb>data table notebook</a>'\n",
              "          + ' to learn more about interactive tables.';\n",
              "        element.innerHTML = '';\n",
              "        dataTable['output_type'] = 'display_data';\n",
              "        await google.colab.output.renderOutput(dataTable, element);\n",
              "        const docLink = document.createElement('div');\n",
              "        docLink.innerHTML = docLinkHtml;\n",
              "        element.appendChild(docLink);\n",
              "      }\n",
              "    </script>\n",
              "  </div>\n",
              "\n",
              "\n",
              "    </div>\n",
              "  </div>\n"
            ],
            "application/vnd.google.colaboratory.intrinsic+json": {
              "type": "dataframe",
              "summary": "{\n  \"name\": \"df[df['USER_ID'] == 3342]\",\n  \"rows\": 1,\n  \"fields\": [\n    {\n      \"column\": \"USER_ID\",\n      \"properties\": {\n        \"dtype\": \"number\",\n        \"std\": null,\n        \"min\": 3342,\n        \"max\": 3342,\n        \"num_unique_values\": 1,\n        \"samples\": [\n          3342\n        ],\n        \"semantic_type\": \"\",\n        \"description\": \"\"\n      }\n    },\n    {\n      \"column\": \"VARIANT_NAME\",\n      \"properties\": {\n        \"dtype\": \"string\",\n        \"num_unique_values\": 1,\n        \"samples\": [\n          \"control\"\n        ],\n        \"semantic_type\": \"\",\n        \"description\": \"\"\n      }\n    },\n    {\n      \"column\": \"REVENUE\",\n      \"properties\": {\n        \"dtype\": \"number\",\n        \"std\": null,\n        \"min\": 196.01,\n        \"max\": 196.01,\n        \"num_unique_values\": 1,\n        \"samples\": [\n          196.01\n        ],\n        \"semantic_type\": \"\",\n        \"description\": \"\"\n      }\n    }\n  ]\n}"
            }
          },
          "metadata": {},
          "execution_count": 10
        }
      ]
    },
    {
      "cell_type": "markdown",
      "source": [
        "We see that there is only one outlier - in conditions of limited information, we will remove this entry and look at the distribution of data again"
      ],
      "metadata": {
        "id": "rvfqeZW6kkpN"
      }
    },
    {
      "cell_type": "code",
      "source": [
        "# TODO : We see that there is only one outlier - in conditions of limited information, remove this entry and visualize the distribution of data again.\n",
        "df = df[df['USER_ID'] != 3342] # the only outlier"
      ],
      "metadata": {
        "execution": {
          "iopub.status.busy": "2022-09-16T18:23:23.024282Z",
          "iopub.execute_input": "2022-09-16T18:23:23.024763Z",
          "iopub.status.idle": "2022-09-16T18:23:23.031917Z",
          "shell.execute_reply.started": "2022-09-16T18:23:23.024711Z",
          "shell.execute_reply": "2022-09-16T18:23:23.030566Z"
        },
        "trusted": true,
        "id": "9VHXOhaVkkpO"
      },
      "execution_count": 11,
      "outputs": []
    },
    {
      "cell_type": "markdown",
      "source": [
        "\n",
        "What can you say about the users and their purchases ?"
      ],
      "metadata": {
        "id": "r8pN_6oekkpO"
      }
    },
    {
      "cell_type": "code",
      "source": [
        "# TODO : Check if there are users who have records with zero and positive revenue\n",
        "(df.loc[\n",
        "    (df['REVENUE'] == 0) & (df['USER_ID'].isin(df.loc[df['REVENUE'] > 0, 'USER_ID'].values)),\n",
        "    'USER_ID'\n",
        "]).count()"
      ],
      "metadata": {
        "execution": {
          "iopub.status.busy": "2022-09-16T18:23:23.396475Z",
          "iopub.execute_input": "2022-09-16T18:23:23.397266Z",
          "iopub.status.idle": "2022-09-16T18:23:23.4091Z",
          "shell.execute_reply.started": "2022-09-16T18:23:23.397231Z",
          "shell.execute_reply": "2022-09-16T18:23:23.407843Z"
        },
        "trusted": true,
        "id": "VZ3v8TeekkpO",
        "outputId": "06b07450-a7b0-43fb-f476-c805e4bad451",
        "colab": {
          "base_uri": "https://localhost:8080/"
        }
      },
      "execution_count": 12,
      "outputs": [
        {
          "output_type": "execute_result",
          "data": {
            "text/plain": [
              "52"
            ]
          },
          "metadata": {},
          "execution_count": 12
        }
      ]
    },
    {
      "cell_type": "markdown",
      "source": [
        "Can a user have records with both zero and positive revenue ?\n",
        "\n",
        "**Ans**: yes, the same user can indeed have records with both zero and positive revenue.\n",
        "\n",
        "\n",
        "Let's make the assumption that the records are user visits to the service, and the experimental unit is users.\n"
      ],
      "metadata": {
        "id": "u_G7PRphkkpO"
      }
    },
    {
      "cell_type": "code",
      "source": [
        "# TODO : Group the data for each user and sum the revenue for each to get one record per user\n",
        "df = df.groupby(by=['USER_ID', 'VARIANT_NAME']).sum().reset_index()"
      ],
      "metadata": {
        "execution": {
          "iopub.status.busy": "2022-09-16T18:23:23.410519Z",
          "iopub.execute_input": "2022-09-16T18:23:23.411317Z",
          "iopub.status.idle": "2022-09-16T18:23:23.425157Z",
          "shell.execute_reply.started": "2022-09-16T18:23:23.411275Z",
          "shell.execute_reply": "2022-09-16T18:23:23.423982Z"
        },
        "trusted": true,
        "id": "R5GdAtTXkkpP"
      },
      "execution_count": 13,
      "outputs": []
    },
    {
      "cell_type": "code",
      "source": [
        "# TODO : Visualize the resulting distribution of the data again.\n",
        "f, axes = plt.subplots(2, sharex=True, figsize=(5,12))\n",
        "sns.boxplot(ax = axes[0], x = 'VARIANT_NAME', y = 'REVENUE', data = df)\n",
        "sns.boxplot(ax = axes[1], x = 'VARIANT_NAME', y = 'REVENUE', data = df[df['REVENUE'] > 0])\n",
        "plt.xticks(np.arange(2), ('control', 'variant'))"
      ],
      "metadata": {
        "execution": {
          "iopub.status.busy": "2022-09-16T18:23:23.428689Z",
          "iopub.execute_input": "2022-09-16T18:23:23.428999Z",
          "iopub.status.idle": "2022-09-16T18:23:23.783807Z",
          "shell.execute_reply.started": "2022-09-16T18:23:23.428972Z",
          "shell.execute_reply": "2022-09-16T18:23:23.782679Z"
        },
        "trusted": true,
        "id": "Q7H93ZwNkkpP",
        "outputId": "fc5ba256-1da3-422f-eb50-a8b39a11f44c",
        "colab": {
          "base_uri": "https://localhost:8080/",
          "height": 1000
        }
      },
      "execution_count": 14,
      "outputs": [
        {
          "output_type": "execute_result",
          "data": {
            "text/plain": [
              "([<matplotlib.axis.XTick at 0x7a0b4c463850>,\n",
              "  <matplotlib.axis.XTick at 0x7a0b4c4628f0>],\n",
              " [Text(0, 0, 'control'), Text(1, 0, 'variant')])"
            ]
          },
          "metadata": {},
          "execution_count": 14
        },
        {
          "output_type": "display_data",
          "data": {
            "text/plain": [
              "<Figure size 500x1200 with 2 Axes>"
            ],
            "image/png": "[encoded data removed]"
          },
          "metadata": {}
        }
      ]
    },
    {
      "cell_type": "markdown",
      "source": [
        "It should be noted that during the transformation, the quantiles in the test group increased\n",
        "\n",
        "It can be seen that in the test group, almost all quantile statistics, except for the minimum, are at a slightly lower level.\n",
        "\n",
        "Let's look at various statistics in the context of AB test groups for all users"
      ],
      "metadata": {
        "id": "_NTyRweHkkpP"
      }
    },
    {
      "cell_type": "code",
      "source": [
        "# TODO : get metrics by groups\n",
        "all_stat = df.groupby(by='VARIANT_NAME').agg({'USER_ID': 'nunique',\n",
        "                                               'REVENUE': ['sum', 'mean', 'median', 'count']})\n",
        "\n",
        "# TODO : create two additional metrics to see relative changes\n",
        "orders_per_user = all_stat.loc[:, ('REVENUE', 'count')] / all_stat.loc[:, ('USER_ID', 'nunique')]\n",
        "revenue_per_user = all_stat.loc[:, ('REVENUE', 'sum')] / all_stat.loc[:, ('USER_ID', 'nunique')]\n",
        "\n",
        "# TODO : add them to the rest of the metrics in a separate group\n",
        "all_stat.loc[:, ('per_user', 'orders')] = orders_per_user\n",
        "all_stat.loc[:, ('per_user', 'revenue')] = revenue_per_user\n",
        "\n",
        "all_stat"
      ],
      "metadata": {
        "execution": {
          "iopub.status.busy": "2022-09-16T18:23:23.785212Z",
          "iopub.execute_input": "2022-09-16T18:23:23.78594Z",
          "iopub.status.idle": "2022-09-16T18:23:23.813162Z",
          "shell.execute_reply.started": "2022-09-16T18:23:23.785905Z",
          "shell.execute_reply": "2022-09-16T18:23:23.812388Z"
        },
        "trusted": true,
        "id": "9QF5FZTAkkpP",
        "outputId": "12486dd0-de20-40cc-85e3-818f47a88ae2",
        "colab": {
          "base_uri": "https://localhost:8080/",
          "height": 174
        }
      },
      "execution_count": 15,
      "outputs": [
        {
          "output_type": "execute_result",
          "data": {
            "text/plain": [
              "             USER_ID REVENUE                        per_user          \n",
              "             nunique     sum      mean median count   orders   revenue\n",
              "VARIANT_NAME                                                          \n",
              "control         2389  274.55  0.114923    0.0  2389      1.0  0.114923\n",
              "variant         2393  179.32  0.074935    0.0  2393      1.0  0.074935"
            ],
            "text/html": [
              "\n",
              "  <div id=\"df-f6db8ddb-0b27-4680-9e66-38d89807b160\" class=\"colab-df-container\">\n",
              "    <div>\n",
              "<style scoped>\n",
              "    .dataframe tbody tr th:only-of-type {\n",
              "        vertical-align: middle;\n",
              "    }\n",
              "\n",
              "    .dataframe tbody tr th {\n",
              "        vertical-align: top;\n",
              "    }\n",
              "\n",
              "    .dataframe thead tr th {\n",
              "        text-align: left;\n",
              "    }\n",
              "\n",
              "    .dataframe thead tr:last-of-type th {\n",
              "        text-align: right;\n",
              "    }\n",
              "</style>\n",
              "<table border=\"1\" class=\"dataframe\">\n",
              "  <thead>\n",
              "    <tr>\n",
              "      <th></th>\n",
              "      <th>USER_ID</th>\n",
              "      <th colspan=\"4\" halign=\"left\">REVENUE</th>\n",
              "      <th colspan=\"2\" halign=\"left\">per_user</th>\n",
              "    </tr>\n",
              "    <tr>\n",
              "      <th></th>\n",
              "      <th>nunique</th>\n",
              "      <th>sum</th>\n",
              "      <th>mean</th>\n",
              "      <th>median</th>\n",
              "      <th>count</th>\n",
              "      <th>orders</th>\n",
              "      <th>revenue</th>\n",
              "    </tr>\n",
              "    <tr>\n",
              "      <th>VARIANT_NAME</th>\n",
              "      <th></th>\n",
              "      <th></th>\n",
              "      <th></th>\n",
              "      <th></th>\n",
              "      <th></th>\n",
              "      <th></th>\n",
              "      <th></th>\n",
              "    </tr>\n",
              "  </thead>\n",
              "  <tbody>\n",
              "    <tr>\n",
              "      <th>control</th>\n",
              "      <td>2389</td>\n",
              "      <td>274.55</td>\n",
              "      <td>0.114923</td>\n",
              "      <td>0.0</td>\n",
              "      <td>2389</td>\n",
              "      <td>1.0</td>\n",
              "      <td>0.114923</td>\n",
              "    </tr>\n",
              "    <tr>\n",
              "      <th>variant</th>\n",
              "      <td>2393</td>\n",
              "      <td>179.32</td>\n",
              "      <td>0.074935</td>\n",
              "      <td>0.0</td>\n",
              "      <td>2393</td>\n",
              "      <td>1.0</td>\n",
              "      <td>0.074935</td>\n",
              "    </tr>\n",
              "  </tbody>\n",
              "</table>\n",
              "</div>\n",
              "    <div class=\"colab-df-buttons\">\n",
              "\n",
              "  <div class=\"colab-df-container\">\n",
              "    <button class=\"colab-df-convert\" onclick=\"convertToInteractive('df-f6db8ddb-0b27-4680-9e66-38d89807b160')\"\n",
              "            title=\"Convert this dataframe to an interactive table.\"\n",
              "            style=\"display:none;\">\n",
              "\n",
              "  <svg xmlns=\"http://www.w3.org/2000/svg\" height=\"24px\" viewBox=\"0 -960 960 960\">\n",
              "    <path d=\"M120-120v-720h720v720H120Zm60-500h600v-160H180v160Zm220 220h160v-160H400v160Zm0 220h160v-160H400v160ZM180-400h160v-160H180v160Zm440 0h160v-160H620v160ZM180-180h160v-160H180v160Zm440 0h160v-160H620v160Z\"/>\n",
              "  </svg>\n",
              "    </button>\n",
              "\n",
              "  <style>\n",
              "    .colab-df-container {\n",
              "      display:flex;\n",
              "      gap: 12px;\n",
              "    }\n",
              "\n",
              "    .colab-df-convert {\n",
              "      background-color: #E8F0FE;\n",
              "      border: none;\n",
              "      border-radius: 50%;\n",
              "      cursor: pointer;\n",
              "      display: none;\n",
              "      fill: #1967D2;\n",
              "      height: 32px;\n",
              "      padding: 0 0 0 0;\n",
              "      width: 32px;\n",
              "    }\n",
              "\n",
              "    .colab-df-convert:hover {\n",
              "      background-color: #E2EBFA;\n",
              "      box-shadow: 0px 1px 2px rgba(60, 64, 67, 0.3), 0px 1px 3px 1px rgba(60, 64, 67, 0.15);\n",
              "      fill: #174EA6;\n",
              "    }\n",
              "\n",
              "    .colab-df-buttons div {\n",
              "      margin-bottom: 4px;\n",
              "    }\n",
              "\n",
              "    [theme=dark] .colab-df-convert {\n",
              "      background-color: #3B4455;\n",
              "      fill: #D2E3FC;\n",
              "    }\n",
              "\n",
              "    [theme=dark] .colab-df-convert:hover {\n",
              "      background-color: #434B5C;\n",
              "      box-shadow: 0px 1px 3px 1px rgba(0, 0, 0, 0.15);\n",
              "      filter: drop-shadow(0px 1px 2px rgba(0, 0, 0, 0.3));\n",
              "      fill: #FFFFFF;\n",
              "    }\n",
              "  </style>\n",
              "\n",
              "    <script>\n",
              "      const buttonEl =\n",
              "        document.querySelector('#df-f6db8ddb-0b27-4680-9e66-38d89807b160 button.colab-df-convert');\n",
              "      buttonEl.style.display =\n",
              "        google.colab.kernel.accessAllowed ? 'block' : 'none';\n",
              "\n",
              "      async function convertToInteractive(key) {\n",
              "        const element = document.querySelector('#df-f6db8ddb-0b27-4680-9e66-38d89807b160');\n",
              "        const dataTable =\n",
              "          await google.colab.kernel.invokeFunction('convertToInteractive',\n",
              "                                                    [key], {});\n",
              "        if (!dataTable) return;\n",
              "\n",
              "        const docLinkHtml = 'Like what you see? Visit the ' +\n",
              "          '<a target=\"_blank\" href=https://colab.research.google.com/notebooks/data_table.ipynb>data table notebook</a>'\n",
              "          + ' to learn more about interactive tables.';\n",
              "        element.innerHTML = '';\n",
              "        dataTable['output_type'] = 'display_data';\n",
              "        await google.colab.output.renderOutput(dataTable, element);\n",
              "        const docLink = document.createElement('div');\n",
              "        docLink.innerHTML = docLinkHtml;\n",
              "        element.appendChild(docLink);\n",
              "      }\n",
              "    </script>\n",
              "  </div>\n",
              "\n",
              "\n",
              "<div id=\"df-7ce6bd30-167d-4805-84cd-90ac197592d8\">\n",
              "  <button class=\"colab-df-quickchart\" onclick=\"quickchart('df-7ce6bd30-167d-4805-84cd-90ac197592d8')\"\n",
              "            title=\"Suggest charts\"\n",
              "            style=\"display:none;\">\n",
              "\n",
              "<svg xmlns=\"http://www.w3.org/2000/svg\" height=\"24px\"viewBox=\"0 0 24 24\"\n",
              "     width=\"24px\">\n",
              "    <g>\n",
              "        <path d=\"M19 3H5c-1.1 0-2 .9-2 2v14c0 1.1.9 2 2 2h14c1.1 0 2-.9 2-2V5c0-1.1-.9-2-2-2zM9 17H7v-7h2v7zm4 0h-2V7h2v10zm4 0h-2v-4h2v4z\"/>\n",
              "    </g>\n",
              "</svg>\n",
              "  </button>\n",
              "\n",
              "<style>\n",
              "  .colab-df-quickchart {\n",
              "      --bg-color: #E8F0FE;\n",
              "      --fill-color: #1967D2;\n",
              "      --hover-bg-color: #E2EBFA;\n",
              "      --hover-fill-color: #174EA6;\n",
              "      --disabled-fill-color: #AAA;\n",
              "      --disabled-bg-color: #DDD;\n",
              "  }\n",
              "\n",
              "  [theme=dark] .colab-df-quickchart {\n",
              "      --bg-color: #3B4455;\n",
              "      --fill-color: #D2E3FC;\n",
              "      --hover-bg-color: #434B5C;\n",
              "      --hover-fill-color: #FFFFFF;\n",
              "      --disabled-bg-color: #3B4455;\n",
              "      --disabled-fill-color: #666;\n",
              "  }\n",
              "\n",
              "  .colab-df-quickchart {\n",
              "    background-color: var(--bg-color);\n",
              "    border: none;\n",
              "    border-radius: 50%;\n",
              "    cursor: pointer;\n",
              "    display: none;\n",
              "    fill: var(--fill-color);\n",
              "    height: 32px;\n",
              "    padding: 0;\n",
              "    width: 32px;\n",
              "  }\n",
              "\n",
              "  .colab-df-quickchart:hover {\n",
              "    background-color: var(--hover-bg-color);\n",
              "    box-shadow: 0 1px 2px rgba(60, 64, 67, 0.3), 0 1px 3px 1px rgba(60, 64, 67, 0.15);\n",
              "    fill: var(--button-hover-fill-color);\n",
              "  }\n",
              "\n",
              "  .colab-df-quickchart-complete:disabled,\n",
              "  .colab-df-quickchart-complete:disabled:hover {\n",
              "    background-color: var(--disabled-bg-color);\n",
              "    fill: var(--disabled-fill-color);\n",
              "    box-shadow: none;\n",
              "  }\n",
              "\n",
              "  .colab-df-spinner {\n",
              "    border: 2px solid var(--fill-color);\n",
              "    border-color: transparent;\n",
              "    border-bottom-color: var(--fill-color);\n",
              "    animation:\n",
              "      spin 1s steps(1) infinite;\n",
              "  }\n",
              "\n",
              "  @keyframes spin {\n",
              "    0% {\n",
              "      border-color: transparent;\n",
              "      border-bottom-color: var(--fill-color);\n",
              "      border-left-color: var(--fill-color);\n",
              "    }\n",
              "    20% {\n",
              "      border-color: transparent;\n",
              "      border-left-color: var(--fill-color);\n",
              "      border-top-color: var(--fill-color);\n",
              "    }\n",
              "    30% {\n",
              "      border-color: transparent;\n",
              "      border-left-color: var(--fill-color);\n",
              "      border-top-color: var(--fill-color);\n",
              "      border-right-color: var(--fill-color);\n",
              "    }\n",
              "    40% {\n",
              "      border-color: transparent;\n",
              "      border-right-color: var(--fill-color);\n",
              "      border-top-color: var(--fill-color);\n",
              "    }\n",
              "    60% {\n",
              "      border-color: transparent;\n",
              "      border-right-color: var(--fill-color);\n",
              "    }\n",
              "    80% {\n",
              "      border-color: transparent;\n",
              "      border-right-color: var(--fill-color);\n",
              "      border-bottom-color: var(--fill-color);\n",
              "    }\n",
              "    90% {\n",
              "      border-color: transparent;\n",
              "      border-bottom-color: var(--fill-color);\n",
              "    }\n",
              "  }\n",
              "</style>\n",
              "\n",
              "  <script>\n",
              "    async function quickchart(key) {\n",
              "      const quickchartButtonEl =\n",
              "        document.querySelector('#' + key + ' button');\n",
              "      quickchartButtonEl.disabled = true;  // To prevent multiple clicks.\n",
              "      quickchartButtonEl.classList.add('colab-df-spinner');\n",
              "      try {\n",
              "        const charts = await google.colab.kernel.invokeFunction(\n",
              "            'suggestCharts', [key], {});\n",
              "      } catch (error) {\n",
              "        console.error('Error during call to suggestCharts:', error);\n",
              "      }\n",
              "      quickchartButtonEl.classList.remove('colab-df-spinner');\n",
              "      quickchartButtonEl.classList.add('colab-df-quickchart-complete');\n",
              "    }\n",
              "    (() => {\n",
              "      let quickchartButtonEl =\n",
              "        document.querySelector('#df-7ce6bd30-167d-4805-84cd-90ac197592d8 button');\n",
              "      quickchartButtonEl.style.display =\n",
              "        google.colab.kernel.accessAllowed ? 'block' : 'none';\n",
              "    })();\n",
              "  </script>\n",
              "</div>\n",
              "\n",
              "  <div id=\"id_a3cec0b1-987c-4b0f-81f7-338eb6ab13f6\">\n",
              "    <style>\n",
              "      .colab-df-generate {\n",
              "        background-color: #E8F0FE;\n",
              "        border: none;\n",
              "        border-radius: 50%;\n",
              "        cursor: pointer;\n",
              "        display: none;\n",
              "        fill: #1967D2;\n",
              "        height: 32px;\n",
              "        padding: 0 0 0 0;\n",
              "        width: 32px;\n",
              "      }\n",
              "\n",
              "      .colab-df-generate:hover {\n",
              "        background-color: #E2EBFA;\n",
              "        box-shadow: 0px 1px 2px rgba(60, 64, 67, 0.3), 0px 1px 3px 1px rgba(60, 64, 67, 0.15);\n",
              "        fill: #174EA6;\n",
              "      }\n",
              "\n",
              "      [theme=dark] .colab-df-generate {\n",
              "        background-color: #3B4455;\n",
              "        fill: #D2E3FC;\n",
              "      }\n",
              "\n",
              "      [theme=dark] .colab-df-generate:hover {\n",
              "        background-color: #434B5C;\n",
              "        box-shadow: 0px 1px 3px 1px rgba(0, 0, 0, 0.15);\n",
              "        filter: drop-shadow(0px 1px 2px rgba(0, 0, 0, 0.3));\n",
              "        fill: #FFFFFF;\n",
              "      }\n",
              "    </style>\n",
              "    <button class=\"colab-df-generate\" onclick=\"generateWithVariable('all_stat')\"\n",
              "            title=\"Generate code using this dataframe.\"\n",
              "            style=\"display:none;\">\n",
              "\n",
              "  <svg xmlns=\"http://www.w3.org/2000/svg\" height=\"24px\"viewBox=\"0 0 24 24\"\n",
              "       width=\"24px\">\n",
              "    <path d=\"M7,19H8.4L18.45,9,17,7.55,7,17.6ZM5,21V16.75L18.45,3.32a2,2,0,0,1,2.83,0l1.4,1.43a1.91,1.91,0,0,1,.58,1.4,1.91,1.91,0,0,1-.58,1.4L9.25,21ZM18.45,9,17,7.55Zm-12,3A5.31,5.31,0,0,0,4.9,8.1,5.31,5.31,0,0,0,1,6.5,5.31,5.31,0,0,0,4.9,4.9,5.31,5.31,0,0,0,6.5,1,5.31,5.31,0,0,0,8.1,4.9,5.31,5.31,0,0,0,12,6.5,5.46,5.46,0,0,0,6.5,12Z\"/>\n",
              "  </svg>\n",
              "    </button>\n",
              "    <script>\n",
              "      (() => {\n",
              "      const buttonEl =\n",
              "        document.querySelector('#id_a3cec0b1-987c-4b0f-81f7-338eb6ab13f6 button.colab-df-generate');\n",
              "      buttonEl.style.display =\n",
              "        google.colab.kernel.accessAllowed ? 'block' : 'none';\n",
              "\n",
              "      buttonEl.onclick = () => {\n",
              "        google.colab.notebook.generateWithVariable('all_stat');\n",
              "      }\n",
              "      })();\n",
              "    </script>\n",
              "  </div>\n",
              "\n",
              "    </div>\n",
              "  </div>\n"
            ],
            "application/vnd.google.colaboratory.intrinsic+json": {
              "type": "dataframe",
              "variable_name": "all_stat",
              "summary": "{\n  \"name\": \"all_stat\",\n  \"rows\": 2,\n  \"fields\": [\n    {\n      \"column\": [\n        \"VARIANT_NAME\",\n        \"\"\n      ],\n      \"properties\": {\n        \"dtype\": \"string\",\n        \"num_unique_values\": 2,\n        \"samples\": [\n          \"variant\",\n          \"control\"\n        ],\n        \"semantic_type\": \"\",\n        \"description\": \"\"\n      }\n    },\n    {\n      \"column\": [\n        \"USER_ID\",\n        \"nunique\"\n      ],\n      \"properties\": {\n        \"dtype\": \"number\",\n        \"std\": 2,\n        \"min\": 2389,\n        \"max\": 2393,\n        \"num_unique_values\": 2,\n        \"samples\": [\n          2393,\n          2389\n        ],\n        \"semantic_type\": \"\",\n        \"description\": \"\"\n      }\n    },\n    {\n      \"column\": [\n        \"REVENUE\",\n        \"sum\"\n      ],\n      \"properties\": {\n        \"dtype\": \"number\",\n        \"std\": 67.33777877239493,\n        \"min\": 179.32,\n        \"max\": 274.55,\n        \"num_unique_values\": 2,\n        \"samples\": [\n          179.32,\n          274.55\n        ],\n        \"semantic_type\": \"\",\n        \"description\": \"\"\n      }\n    },\n    {\n      \"column\": [\n        \"REVENUE\",\n        \"mean\"\n      ],\n      \"properties\": {\n        \"dtype\": \"number\",\n        \"std\": 0.028275315028528786,\n        \"min\": 0.07493522774759716,\n        \"max\": 0.11492256174131436,\n        \"num_unique_values\": 2,\n        \"samples\": [\n          0.07493522774759716,\n          0.11492256174131436\n        ],\n        \"semantic_type\": \"\",\n        \"description\": \"\"\n      }\n    },\n    {\n      \"column\": [\n        \"REVENUE\",\n        \"median\"\n      ],\n      \"properties\": {\n        \"dtype\": \"number\",\n        \"std\": 0.0,\n        \"min\": 0.0,\n        \"max\": 0.0,\n        \"num_unique_values\": 1,\n        \"samples\": [\n          0.0\n        ],\n        \"semantic_type\": \"\",\n        \"description\": \"\"\n      }\n    },\n    {\n      \"column\": [\n        \"REVENUE\",\n        \"count\"\n      ],\n      \"properties\": {\n        \"dtype\": \"number\",\n        \"std\": 2,\n        \"min\": 2389,\n        \"max\": 2393,\n        \"num_unique_values\": 2,\n        \"samples\": [\n          2393\n        ],\n        \"semantic_type\": \"\",\n        \"description\": \"\"\n      }\n    },\n    {\n      \"column\": [\n        \"per_user\",\n        \"orders\"\n      ],\n      \"properties\": {\n        \"dtype\": \"number\",\n        \"std\": 0.0,\n        \"min\": 1.0,\n        \"max\": 1.0,\n        \"num_unique_values\": 1,\n        \"samples\": [\n          1.0\n        ],\n        \"semantic_type\": \"\",\n        \"description\": \"\"\n      }\n    },\n    {\n      \"column\": [\n        \"per_user\",\n        \"revenue\"\n      ],\n      \"properties\": {\n        \"dtype\": \"number\",\n        \"std\": 0.028275315028528786,\n        \"min\": 0.07493522774759716,\n        \"max\": 0.11492256174131436,\n        \"num_unique_values\": 2,\n        \"samples\": [\n          0.07493522774759716\n        ],\n        \"semantic_type\": \"\",\n        \"description\": \"\"\n      }\n    }\n  ]\n}"
            }
          },
          "metadata": {},
          "execution_count": 15
        }
      ]
    },
    {
      "cell_type": "markdown",
      "source": [
        "What can you see in the test group about the total amount of revenue, the average check per user, and the number of orders per user slightly increased ?\n",
        "\n",
        "**Ans**: We see that in the test group, the total amount of revenue and the average check per user decreased, but the number of orders per user slightly increased.\n",
        "\n",
        "Let's also see how paying users behave :"
      ],
      "metadata": {
        "id": "-FEgWEXckkpP"
      }
    },
    {
      "cell_type": "code",
      "source": [
        "# TODO : get metrics by groups\n",
        "paid_stat = df.loc[df.REVENUE != 0].groupby(by='VARIANT_NAME').agg({'USER_ID': 'nunique',\n",
        "                                                                     'REVENUE': ['sum', 'mean', 'median', 'count']})\n",
        "\n",
        "# TODO : create two additional metrics to see relative changes\n",
        "orders_per_user = paid_stat.loc[:, ('REVENUE', 'count')] / paid_stat.loc[:, ('USER_ID', 'nunique')]\n",
        "revenue_per_user = paid_stat.loc[:, ('REVENUE', 'sum')] / paid_stat.loc[:, ('USER_ID', 'nunique')]\n",
        "\n",
        "# TODO : add them to the rest of the metrics in a separate group\n",
        "paid_stat.loc[:, ('per_user', 'orders')] = orders_per_user\n",
        "paid_stat.loc[:, ('per_user', 'revenue')] = revenue_per_user\n",
        "\n",
        "paid_stat"
      ],
      "metadata": {
        "execution": {
          "iopub.status.busy": "2022-09-16T18:23:23.814201Z",
          "iopub.execute_input": "2022-09-16T18:23:23.814781Z",
          "iopub.status.idle": "2022-09-16T18:23:23.842362Z",
          "shell.execute_reply.started": "2022-09-16T18:23:23.814749Z",
          "shell.execute_reply": "2022-09-16T18:23:23.841593Z"
        },
        "trusted": true,
        "id": "ZM1LQ1VrkkpQ",
        "outputId": "60b0c7b9-27b5-413b-f68a-4bebcaabe08d",
        "colab": {
          "base_uri": "https://localhost:8080/",
          "height": 174
        }
      },
      "execution_count": 16,
      "outputs": [
        {
          "output_type": "execute_result",
          "data": {
            "text/plain": [
              "             USER_ID REVENUE                        per_user          \n",
              "             nunique     sum      mean median count   orders   revenue\n",
              "VARIANT_NAME                                                          \n",
              "control           53  274.55  5.180189   2.99    53      1.0  5.180189\n",
              "variant           42  179.32  4.269524   2.97    42      1.0  4.269524"
            ],
            "text/html": [
              "\n",
              "  <div id=\"df-13d17fef-8506-4d0d-a1c2-726402a3632b\" class=\"colab-df-container\">\n",
              "    <div>\n",
              "<style scoped>\n",
              "    .dataframe tbody tr th:only-of-type {\n",
              "        vertical-align: middle;\n",
              "    }\n",
              "\n",
              "    .dataframe tbody tr th {\n",
              "        vertical-align: top;\n",
              "    }\n",
              "\n",
              "    .dataframe thead tr th {\n",
              "        text-align: left;\n",
              "    }\n",
              "\n",
              "    .dataframe thead tr:last-of-type th {\n",
              "        text-align: right;\n",
              "    }\n",
              "</style>\n",
              "<table border=\"1\" class=\"dataframe\">\n",
              "  <thead>\n",
              "    <tr>\n",
              "      <th></th>\n",
              "      <th>USER_ID</th>\n",
              "      <th colspan=\"4\" halign=\"left\">REVENUE</th>\n",
              "      <th colspan=\"2\" halign=\"left\">per_user</th>\n",
              "    </tr>\n",
              "    <tr>\n",
              "      <th></th>\n",
              "      <th>nunique</th>\n",
              "      <th>sum</th>\n",
              "      <th>mean</th>\n",
              "      <th>median</th>\n",
              "      <th>count</th>\n",
              "      <th>orders</th>\n",
              "      <th>revenue</th>\n",
              "    </tr>\n",
              "    <tr>\n",
              "      <th>VARIANT_NAME</th>\n",
              "      <th></th>\n",
              "      <th></th>\n",
              "      <th></th>\n",
              "      <th></th>\n",
              "      <th></th>\n",
              "      <th></th>\n",
              "      <th></th>\n",
              "    </tr>\n",
              "  </thead>\n",
              "  <tbody>\n",
              "    <tr>\n",
              "      <th>control</th>\n",
              "      <td>53</td>\n",
              "      <td>274.55</td>\n",
              "      <td>5.180189</td>\n",
              "      <td>2.99</td>\n",
              "      <td>53</td>\n",
              "      <td>1.0</td>\n",
              "      <td>5.180189</td>\n",
              "    </tr>\n",
              "    <tr>\n",
              "      <th>variant</th>\n",
              "      <td>42</td>\n",
              "      <td>179.32</td>\n",
              "      <td>4.269524</td>\n",
              "      <td>2.97</td>\n",
              "      <td>42</td>\n",
              "      <td>1.0</td>\n",
              "      <td>4.269524</td>\n",
              "    </tr>\n",
              "  </tbody>\n",
              "</table>\n",
              "</div>\n",
              "    <div class=\"colab-df-buttons\">\n",
              "\n",
              "  <div class=\"colab-df-container\">\n",
              "    <button class=\"colab-df-convert\" onclick=\"convertToInteractive('df-13d17fef-8506-4d0d-a1c2-726402a3632b')\"\n",
              "            title=\"Convert this dataframe to an interactive table.\"\n",
              "            style=\"display:none;\">\n",
              "\n",
              "  <svg xmlns=\"http://www.w3.org/2000/svg\" height=\"24px\" viewBox=\"0 -960 960 960\">\n",
              "    <path d=\"M120-120v-720h720v720H120Zm60-500h600v-160H180v160Zm220 220h160v-160H400v160Zm0 220h160v-160H400v160ZM180-400h160v-160H180v160Zm440 0h160v-160H620v160ZM180-180h160v-160H180v160Zm440 0h160v-160H620v160Z\"/>\n",
              "  </svg>\n",
              "    </button>\n",
              "\n",
              "  <style>\n",
              "    .colab-df-container {\n",
              "      display:flex;\n",
              "      gap: 12px;\n",
              "    }\n",
              "\n",
              "    .colab-df-convert {\n",
              "      background-color: #E8F0FE;\n",
              "      border: none;\n",
              "      border-radius: 50%;\n",
              "      cursor: pointer;\n",
              "      display: none;\n",
              "      fill: #1967D2;\n",
              "      height: 32px;\n",
              "      padding: 0 0 0 0;\n",
              "      width: 32px;\n",
              "    }\n",
              "\n",
              "    .colab-df-convert:hover {\n",
              "      background-color: #E2EBFA;\n",
              "      box-shadow: 0px 1px 2px rgba(60, 64, 67, 0.3), 0px 1px 3px 1px rgba(60, 64, 67, 0.15);\n",
              "      fill: #174EA6;\n",
              "    }\n",
              "\n",
              "    .colab-df-buttons div {\n",
              "      margin-bottom: 4px;\n",
              "    }\n",
              "\n",
              "    [theme=dark] .colab-df-convert {\n",
              "      background-color: #3B4455;\n",
              "      fill: #D2E3FC;\n",
              "    }\n",
              "\n",
              "    [theme=dark] .colab-df-convert:hover {\n",
              "      background-color: #434B5C;\n",
              "      box-shadow: 0px 1px 3px 1px rgba(0, 0, 0, 0.15);\n",
              "      filter: drop-shadow(0px 1px 2px rgba(0, 0, 0, 0.3));\n",
              "      fill: #FFFFFF;\n",
              "    }\n",
              "  </style>\n",
              "\n",
              "    <script>\n",
              "      const buttonEl =\n",
              "        document.querySelector('#df-13d17fef-8506-4d0d-a1c2-726402a3632b button.colab-df-convert');\n",
              "      buttonEl.style.display =\n",
              "        google.colab.kernel.accessAllowed ? 'block' : 'none';\n",
              "\n",
              "      async function convertToInteractive(key) {\n",
              "        const element = document.querySelector('#df-13d17fef-8506-4d0d-a1c2-726402a3632b');\n",
              "        const dataTable =\n",
              "          await google.colab.kernel.invokeFunction('convertToInteractive',\n",
              "                                                    [key], {});\n",
              "        if (!dataTable) return;\n",
              "\n",
              "        const docLinkHtml = 'Like what you see? Visit the ' +\n",
              "          '<a target=\"_blank\" href=https://colab.research.google.com/notebooks/data_table.ipynb>data table notebook</a>'\n",
              "          + ' to learn more about interactive tables.';\n",
              "        element.innerHTML = '';\n",
              "        dataTable['output_type'] = 'display_data';\n",
              "        await google.colab.output.renderOutput(dataTable, element);\n",
              "        const docLink = document.createElement('div');\n",
              "        docLink.innerHTML = docLinkHtml;\n",
              "        element.appendChild(docLink);\n",
              "      }\n",
              "    </script>\n",
              "  </div>\n",
              "\n",
              "\n",
              "<div id=\"df-e358a35b-53c5-42a0-95ca-1ef2723489fc\">\n",
              "  <button class=\"colab-df-quickchart\" onclick=\"quickchart('df-e358a35b-53c5-42a0-95ca-1ef2723489fc')\"\n",
              "            title=\"Suggest charts\"\n",
              "            style=\"display:none;\">\n",
              "\n",
              "<svg xmlns=\"http://www.w3.org/2000/svg\" height=\"24px\"viewBox=\"0 0 24 24\"\n",
              "     width=\"24px\">\n",
              "    <g>\n",
              "        <path d=\"M19 3H5c-1.1 0-2 .9-2 2v14c0 1.1.9 2 2 2h14c1.1 0 2-.9 2-2V5c0-1.1-.9-2-2-2zM9 17H7v-7h2v7zm4 0h-2V7h2v10zm4 0h-2v-4h2v4z\"/>\n",
              "    </g>\n",
              "</svg>\n",
              "  </button>\n",
              "\n",
              "<style>\n",
              "  .colab-df-quickchart {\n",
              "      --bg-color: #E8F0FE;\n",
              "      --fill-color: #1967D2;\n",
              "      --hover-bg-color: #E2EBFA;\n",
              "      --hover-fill-color: #174EA6;\n",
              "      --disabled-fill-color: #AAA;\n",
              "      --disabled-bg-color: #DDD;\n",
              "  }\n",
              "\n",
              "  [theme=dark] .colab-df-quickchart {\n",
              "      --bg-color: #3B4455;\n",
              "      --fill-color: #D2E3FC;\n",
              "      --hover-bg-color: #434B5C;\n",
              "      --hover-fill-color: #FFFFFF;\n",
              "      --disabled-bg-color: #3B4455;\n",
              "      --disabled-fill-color: #666;\n",
              "  }\n",
              "\n",
              "  .colab-df-quickchart {\n",
              "    background-color: var(--bg-color);\n",
              "    border: none;\n",
              "    border-radius: 50%;\n",
              "    cursor: pointer;\n",
              "    display: none;\n",
              "    fill: var(--fill-color);\n",
              "    height: 32px;\n",
              "    padding: 0;\n",
              "    width: 32px;\n",
              "  }\n",
              "\n",
              "  .colab-df-quickchart:hover {\n",
              "    background-color: var(--hover-bg-color);\n",
              "    box-shadow: 0 1px 2px rgba(60, 64, 67, 0.3), 0 1px 3px 1px rgba(60, 64, 67, 0.15);\n",
              "    fill: var(--button-hover-fill-color);\n",
              "  }\n",
              "\n",
              "  .colab-df-quickchart-complete:disabled,\n",
              "  .colab-df-quickchart-complete:disabled:hover {\n",
              "    background-color: var(--disabled-bg-color);\n",
              "    fill: var(--disabled-fill-color);\n",
              "    box-shadow: none;\n",
              "  }\n",
              "\n",
              "  .colab-df-spinner {\n",
              "    border: 2px solid var(--fill-color);\n",
              "    border-color: transparent;\n",
              "    border-bottom-color: var(--fill-color);\n",
              "    animation:\n",
              "      spin 1s steps(1) infinite;\n",
              "  }\n",
              "\n",
              "  @keyframes spin {\n",
              "    0% {\n",
              "      border-color: transparent;\n",
              "      border-bottom-color: var(--fill-color);\n",
              "      border-left-color: var(--fill-color);\n",
              "    }\n",
              "    20% {\n",
              "      border-color: transparent;\n",
              "      border-left-color: var(--fill-color);\n",
              "      border-top-color: var(--fill-color);\n",
              "    }\n",
              "    30% {\n",
              "      border-color: transparent;\n",
              "      border-left-color: var(--fill-color);\n",
              "      border-top-color: var(--fill-color);\n",
              "      border-right-color: var(--fill-color);\n",
              "    }\n",
              "    40% {\n",
              "      border-color: transparent;\n",
              "      border-right-color: var(--fill-color);\n",
              "      border-top-color: var(--fill-color);\n",
              "    }\n",
              "    60% {\n",
              "      border-color: transparent;\n",
              "      border-right-color: var(--fill-color);\n",
              "    }\n",
              "    80% {\n",
              "      border-color: transparent;\n",
              "      border-right-color: var(--fill-color);\n",
              "      border-bottom-color: var(--fill-color);\n",
              "    }\n",
              "    90% {\n",
              "      border-color: transparent;\n",
              "      border-bottom-color: var(--fill-color);\n",
              "    }\n",
              "  }\n",
              "</style>\n",
              "\n",
              "  <script>\n",
              "    async function quickchart(key) {\n",
              "      const quickchartButtonEl =\n",
              "        document.querySelector('#' + key + ' button');\n",
              "      quickchartButtonEl.disabled = true;  // To prevent multiple clicks.\n",
              "      quickchartButtonEl.classList.add('colab-df-spinner');\n",
              "      try {\n",
              "        const charts = await google.colab.kernel.invokeFunction(\n",
              "            'suggestCharts', [key], {});\n",
              "      } catch (error) {\n",
              "        console.error('Error during call to suggestCharts:', error);\n",
              "      }\n",
              "      quickchartButtonEl.classList.remove('colab-df-spinner');\n",
              "      quickchartButtonEl.classList.add('colab-df-quickchart-complete');\n",
              "    }\n",
              "    (() => {\n",
              "      let quickchartButtonEl =\n",
              "        document.querySelector('#df-e358a35b-53c5-42a0-95ca-1ef2723489fc button');\n",
              "      quickchartButtonEl.style.display =\n",
              "        google.colab.kernel.accessAllowed ? 'block' : 'none';\n",
              "    })();\n",
              "  </script>\n",
              "</div>\n",
              "\n",
              "  <div id=\"id_3bb08624-af26-41fe-88a6-e2b7a158d94f\">\n",
              "    <style>\n",
              "      .colab-df-generate {\n",
              "        background-color: #E8F0FE;\n",
              "        border: none;\n",
              "        border-radius: 50%;\n",
              "        cursor: pointer;\n",
              "        display: none;\n",
              "        fill: #1967D2;\n",
              "        height: 32px;\n",
              "        padding: 0 0 0 0;\n",
              "        width: 32px;\n",
              "      }\n",
              "\n",
              "      .colab-df-generate:hover {\n",
              "        background-color: #E2EBFA;\n",
              "        box-shadow: 0px 1px 2px rgba(60, 64, 67, 0.3), 0px 1px 3px 1px rgba(60, 64, 67, 0.15);\n",
              "        fill: #174EA6;\n",
              "      }\n",
              "\n",
              "      [theme=dark] .colab-df-generate {\n",
              "        background-color: #3B4455;\n",
              "        fill: #D2E3FC;\n",
              "      }\n",
              "\n",
              "      [theme=dark] .colab-df-generate:hover {\n",
              "        background-color: #434B5C;\n",
              "        box-shadow: 0px 1px 3px 1px rgba(0, 0, 0, 0.15);\n",
              "        filter: drop-shadow(0px 1px 2px rgba(0, 0, 0, 0.3));\n",
              "        fill: #FFFFFF;\n",
              "      }\n",
              "    </style>\n",
              "    <button class=\"colab-df-generate\" onclick=\"generateWithVariable('paid_stat')\"\n",
              "            title=\"Generate code using this dataframe.\"\n",
              "            style=\"display:none;\">\n",
              "\n",
              "  <svg xmlns=\"http://www.w3.org/2000/svg\" height=\"24px\"viewBox=\"0 0 24 24\"\n",
              "       width=\"24px\">\n",
              "    <path d=\"M7,19H8.4L18.45,9,17,7.55,7,17.6ZM5,21V16.75L18.45,3.32a2,2,0,0,1,2.83,0l1.4,1.43a1.91,1.91,0,0,1,.58,1.4,1.91,1.91,0,0,1-.58,1.4L9.25,21ZM18.45,9,17,7.55Zm-12,3A5.31,5.31,0,0,0,4.9,8.1,5.31,5.31,0,0,0,1,6.5,5.31,5.31,0,0,0,4.9,4.9,5.31,5.31,0,0,0,6.5,1,5.31,5.31,0,0,0,8.1,4.9,5.31,5.31,0,0,0,12,6.5,5.46,5.46,0,0,0,6.5,12Z\"/>\n",
              "  </svg>\n",
              "    </button>\n",
              "    <script>\n",
              "      (() => {\n",
              "      const buttonEl =\n",
              "        document.querySelector('#id_3bb08624-af26-41fe-88a6-e2b7a158d94f button.colab-df-generate');\n",
              "      buttonEl.style.display =\n",
              "        google.colab.kernel.accessAllowed ? 'block' : 'none';\n",
              "\n",
              "      buttonEl.onclick = () => {\n",
              "        google.colab.notebook.generateWithVariable('paid_stat');\n",
              "      }\n",
              "      })();\n",
              "    </script>\n",
              "  </div>\n",
              "\n",
              "    </div>\n",
              "  </div>\n"
            ],
            "application/vnd.google.colaboratory.intrinsic+json": {
              "type": "dataframe",
              "variable_name": "paid_stat",
              "summary": "{\n  \"name\": \"paid_stat\",\n  \"rows\": 2,\n  \"fields\": [\n    {\n      \"column\": [\n        \"VARIANT_NAME\",\n        \"\"\n      ],\n      \"properties\": {\n        \"dtype\": \"string\",\n        \"num_unique_values\": 2,\n        \"samples\": [\n          \"variant\",\n          \"control\"\n        ],\n        \"semantic_type\": \"\",\n        \"description\": \"\"\n      }\n    },\n    {\n      \"column\": [\n        \"USER_ID\",\n        \"nunique\"\n      ],\n      \"properties\": {\n        \"dtype\": \"number\",\n        \"std\": 7,\n        \"min\": 42,\n        \"max\": 53,\n        \"num_unique_values\": 2,\n        \"samples\": [\n          42,\n          53\n        ],\n        \"semantic_type\": \"\",\n        \"description\": \"\"\n      }\n    },\n    {\n      \"column\": [\n        \"REVENUE\",\n        \"sum\"\n      ],\n      \"properties\": {\n        \"dtype\": \"number\",\n        \"std\": 67.33777877239493,\n        \"min\": 179.32,\n        \"max\": 274.55,\n        \"num_unique_values\": 2,\n        \"samples\": [\n          179.32,\n          274.55\n        ],\n        \"semantic_type\": \"\",\n        \"description\": \"\"\n      }\n    },\n    {\n      \"column\": [\n        \"REVENUE\",\n        \"mean\"\n      ],\n      \"properties\": {\n        \"dtype\": \"number\",\n        \"std\": 0.6439373047684182,\n        \"min\": 4.269523809523809,\n        \"max\": 5.180188679245283,\n        \"num_unique_values\": 2,\n        \"samples\": [\n          4.269523809523809,\n          5.180188679245283\n        ],\n        \"semantic_type\": \"\",\n        \"description\": \"\"\n      }\n    },\n    {\n      \"column\": [\n        \"REVENUE\",\n        \"median\"\n      ],\n      \"properties\": {\n        \"dtype\": \"number\",\n        \"std\": 0.014142135623730963,\n        \"min\": 2.97,\n        \"max\": 2.99,\n        \"num_unique_values\": 2,\n        \"samples\": [\n          2.97,\n          2.99\n        ],\n        \"semantic_type\": \"\",\n        \"description\": \"\"\n      }\n    },\n    {\n      \"column\": [\n        \"REVENUE\",\n        \"count\"\n      ],\n      \"properties\": {\n        \"dtype\": \"number\",\n        \"std\": 7,\n        \"min\": 42,\n        \"max\": 53,\n        \"num_unique_values\": 2,\n        \"samples\": [\n          42,\n          53\n        ],\n        \"semantic_type\": \"\",\n        \"description\": \"\"\n      }\n    },\n    {\n      \"column\": [\n        \"per_user\",\n        \"orders\"\n      ],\n      \"properties\": {\n        \"dtype\": \"number\",\n        \"std\": 0.0,\n        \"min\": 1.0,\n        \"max\": 1.0,\n        \"num_unique_values\": 1,\n        \"samples\": [\n          1.0\n        ],\n        \"semantic_type\": \"\",\n        \"description\": \"\"\n      }\n    },\n    {\n      \"column\": [\n        \"per_user\",\n        \"revenue\"\n      ],\n      \"properties\": {\n        \"dtype\": \"number\",\n        \"std\": 0.6439373047684182,\n        \"min\": 4.269523809523809,\n        \"max\": 5.180188679245283,\n        \"num_unique_values\": 2,\n        \"samples\": [\n          4.269523809523809\n        ],\n        \"semantic_type\": \"\",\n        \"description\": \"\"\n      }\n    }\n  ]\n}"
            }
          },
          "metadata": {},
          "execution_count": 16
        }
      ]
    },
    {
      "cell_type": "markdown",
      "source": [
        "Let's look at the distributions of all and only paying users"
      ],
      "metadata": {
        "id": "RozYt1eZkkpQ"
      }
    },
    {
      "cell_type": "code",
      "source": [
        "f, axes = plt.subplots(2, figsize=(10,8))\n",
        "# build graphs of distributions of all users\n",
        "sns.distplot(df.loc[df['VARIANT_NAME'] == 'control', 'REVENUE'], ax = axes[0], label='control')\n",
        "sns.distplot(df.loc[df['VARIANT_NAME'] == 'variant', 'REVENUE'], ax = axes[0], label='variant')\n",
        "axes[0].set_title('Distribution of revenue of all users')\n",
        "\n",
        "# build graphs of distributions of paying users\n",
        "sns.distplot(df.loc[(df['VARIANT_NAME'] == 'control') & (df['REVENUE'] > 0), 'REVENUE'], ax = axes[1], label='control' )\n",
        "sns.distplot(df.loc[(df['VARIANT_NAME'] == 'variant') & (df['REVENUE'] > 0), 'REVENUE'], ax = axes[1], label='variant' )\n",
        "axes[1].set_title('Paying user revenue distribution')\n",
        "plt.legend()\n",
        "plt.subplots_adjust(hspace = 0.3)"
      ],
      "metadata": {
        "execution": {
          "iopub.status.busy": "2022-09-16T18:23:23.843826Z",
          "iopub.execute_input": "2022-09-16T18:23:23.844477Z",
          "iopub.status.idle": "2022-09-16T18:23:24.587221Z",
          "shell.execute_reply.started": "2022-09-16T18:23:23.844435Z",
          "shell.execute_reply": "2022-09-16T18:23:24.585887Z"
        },
        "trusted": true,
        "id": "Xmm-HM-ZkkpQ",
        "outputId": "36c513f7-7577-4b70-a1eb-199a98fe6ae3",
        "colab": {
          "base_uri": "https://localhost:8080/",
          "height": 1000
        }
      },
      "execution_count": 17,
      "outputs": [
        {
          "output_type": "stream",
          "name": "stderr",
          "text": [
            "<ipython-input-17-6823f3e6b917>:3: UserWarning: \n",
            "\n",
            "`distplot` is a deprecated function and will be removed in seaborn v0.14.0.\n",
            "\n",
            "Please adapt your code to use either `displot` (a figure-level function with\n",
            "similar flexibility) or `histplot` (an axes-level function for histograms).\n",
            "\n",
            "For a guide to updating your code to use the new functions, please see\n",
            "https://gist.github.com/mwaskom/de44147ed2974457ad6372750bbe5751\n",
            "\n",
            "  sns.distplot(df.loc[df['VARIANT_NAME'] == 'control', 'REVENUE'], ax = axes[0], label='control')\n",
            "<ipython-input-17-6823f3e6b917>:4: UserWarning: \n",
            "\n",
            "`distplot` is a deprecated function and will be removed in seaborn v0.14.0.\n",
            "\n",
            "Please adapt your code to use either `displot` (a figure-level function with\n",
            "similar flexibility) or `histplot` (an axes-level function for histograms).\n",
            "\n",
            "For a guide to updating your code to use the new functions, please see\n",
            "https://gist.github.com/mwaskom/de44147ed2974457ad6372750bbe5751\n",
            "\n",
            "  sns.distplot(df.loc[df['VARIANT_NAME'] == 'variant', 'REVENUE'], ax = axes[0], label='variant')\n",
            "<ipython-input-17-6823f3e6b917>:8: UserWarning: \n",
            "\n",
            "`distplot` is a deprecated function and will be removed in seaborn v0.14.0.\n",
            "\n",
            "Please adapt your code to use either `displot` (a figure-level function with\n",
            "similar flexibility) or `histplot` (an axes-level function for histograms).\n",
            "\n",
            "For a guide to updating your code to use the new functions, please see\n",
            "https://gist.github.com/mwaskom/de44147ed2974457ad6372750bbe5751\n",
            "\n",
            "  sns.distplot(df.loc[(df['VARIANT_NAME'] == 'control') & (df['REVENUE'] > 0), 'REVENUE'], ax = axes[1], label='control' )\n",
            "<ipython-input-17-6823f3e6b917>:9: UserWarning: \n",
            "\n",
            "`distplot` is a deprecated function and will be removed in seaborn v0.14.0.\n",
            "\n",
            "Please adapt your code to use either `displot` (a figure-level function with\n",
            "similar flexibility) or `histplot` (an axes-level function for histograms).\n",
            "\n",
            "For a guide to updating your code to use the new functions, please see\n",
            "https://gist.github.com/mwaskom/de44147ed2974457ad6372750bbe5751\n",
            "\n",
            "  sns.distplot(df.loc[(df['VARIANT_NAME'] == 'variant') & (df['REVENUE'] > 0), 'REVENUE'], ax = axes[1], label='variant' )\n"
          ]
        },
        {
          "output_type": "display_data",
          "data": {
            "text/plain": [
              "<Figure size 1000x800 with 2 Axes>"
            ],
            "image/png": "[encoded data removed]"
          },
          "metadata": {}
        }
      ]
    },
    {
      "cell_type": "markdown",
      "source": [
        "### Statistical Analysis <a name=\"Statistical\"/>"
      ],
      "metadata": {
        "id": "5vwsQSeVkkpQ"
      }
    },
    {
      "cell_type": "markdown",
      "source": [
        "#### Checking if the distribution is normal"
      ],
      "metadata": {
        "id": "lJP78Hc_kkpQ"
      }
    },
    {
      "cell_type": "markdown",
      "source": [
        "Based on their previous graph, we see that the data is not normally distributed."
      ],
      "metadata": {
        "id": "BVRKdz3WkkpQ"
      }
    },
    {
      "cell_type": "code",
      "source": [
        "# TODO : Use the Shapiro-Wilk criterion to confirm it\n",
        "shapiro(df.loc[df.VARIANT_NAME == 'variant', 'REVENUE'])"
      ],
      "metadata": {
        "execution": {
          "iopub.status.busy": "2022-09-16T18:23:24.588685Z",
          "iopub.execute_input": "2022-09-16T18:23:24.589024Z",
          "iopub.status.idle": "2022-09-16T18:23:24.597871Z",
          "shell.execute_reply.started": "2022-09-16T18:23:24.588995Z",
          "shell.execute_reply": "2022-09-16T18:23:24.596794Z"
        },
        "trusted": true,
        "id": "je2NXscMkkpQ",
        "outputId": "d9d76bb4-440b-44ff-c48e-34add46c507a",
        "colab": {
          "base_uri": "https://localhost:8080/"
        }
      },
      "execution_count": 18,
      "outputs": [
        {
          "output_type": "execute_result",
          "data": {
            "text/plain": [
              "ShapiroResult(statistic=0.06145986897942335, pvalue=9.962810723092505e-76)"
            ]
          },
          "metadata": {},
          "execution_count": 18
        }
      ]
    },
    {
      "cell_type": "markdown",
      "source": [
        "Is the null hypothesis about the normal distribution of the data rejected ?\n",
        "\n",
        "Given the very low W-statistic and the extremely small p-value, we can conclude that the data being tested is very likely not normally distributed. The test provides strong evidence against the null hypothesis of normality."
      ],
      "metadata": {
        "id": "Pq-RbAERkkpR"
      }
    },
    {
      "cell_type": "markdown",
      "source": [
        "#### Mann-Whitney test"
      ],
      "metadata": {
        "id": "nYxHXTxpkkpR"
      }
    },
    {
      "cell_type": "markdown",
      "source": [
        "Let's check the value of the statistics of the Mann-Whitney test. Some sources have a limitation of applicability in case of duplicate data. There are a lot of repetitions in our sample, and especially a lot of zero values, so in this case we need to be careful about this criterion."
      ],
      "metadata": {
        "id": "eGKBrlFnkkpR"
      }
    },
    {
      "cell_type": "code",
      "source": [
        "(df['REVENUE'] == 0).value_counts()"
      ],
      "metadata": {
        "execution": {
          "iopub.status.busy": "2022-09-16T18:23:24.599408Z",
          "iopub.execute_input": "2022-09-16T18:23:24.600052Z",
          "iopub.status.idle": "2022-09-16T18:23:24.609697Z",
          "shell.execute_reply.started": "2022-09-16T18:23:24.600019Z",
          "shell.execute_reply": "2022-09-16T18:23:24.608442Z"
        },
        "trusted": true,
        "id": "ftj_LlaZkkpR",
        "outputId": "b7260dc9-226b-4dd7-b5cc-7d7464422198",
        "colab": {
          "base_uri": "https://localhost:8080/",
          "height": 178
        }
      },
      "execution_count": 19,
      "outputs": [
        {
          "output_type": "execute_result",
          "data": {
            "text/plain": [
              "REVENUE\n",
              "True     4687\n",
              "False      95\n",
              "Name: count, dtype: int64"
            ],
            "text/html": [
              "<div>\n",
              "<style scoped>\n",
              "    .dataframe tbody tr th:only-of-type {\n",
              "        vertical-align: middle;\n",
              "    }\n",
              "\n",
              "    .dataframe tbody tr th {\n",
              "        vertical-align: top;\n",
              "    }\n",
              "\n",
              "    .dataframe thead th {\n",
              "        text-align: right;\n",
              "    }\n",
              "</style>\n",
              "<table border=\"1\" class=\"dataframe\">\n",
              "  <thead>\n",
              "    <tr style=\"text-align: right;\">\n",
              "      <th></th>\n",
              "      <th>count</th>\n",
              "    </tr>\n",
              "    <tr>\n",
              "      <th>REVENUE</th>\n",
              "      <th></th>\n",
              "    </tr>\n",
              "  </thead>\n",
              "  <tbody>\n",
              "    <tr>\n",
              "      <th>True</th>\n",
              "      <td>4687</td>\n",
              "    </tr>\n",
              "    <tr>\n",
              "      <th>False</th>\n",
              "      <td>95</td>\n",
              "    </tr>\n",
              "  </tbody>\n",
              "</table>\n",
              "</div><br><label><b>dtype:</b> int64</label>"
            ]
          },
          "metadata": {},
          "execution_count": 19
        }
      ]
    },
    {
      "cell_type": "code",
      "source": [
        "# TODO : Check on the data of all users the value of the statistics of the Mann-Whitney test\n",
        "mannwhitneyu(df.loc[df.VARIANT_NAME == 'variant', 'REVENUE'], df.loc[df.VARIANT_NAME == 'control', 'REVENUE'])"
      ],
      "metadata": {
        "execution": {
          "iopub.status.busy": "2022-09-16T18:23:24.611079Z",
          "iopub.execute_input": "2022-09-16T18:23:24.611478Z",
          "iopub.status.idle": "2022-09-16T18:23:24.627499Z",
          "shell.execute_reply.started": "2022-09-16T18:23:24.611448Z",
          "shell.execute_reply": "2022-09-16T18:23:24.626266Z"
        },
        "trusted": true,
        "id": "liLsCl00kkpR",
        "outputId": "ad7aba4e-bc05-4664-f066-f1e7af4629dc",
        "colab": {
          "base_uri": "https://localhost:8080/"
        }
      },
      "execution_count": 20,
      "outputs": [
        {
          "output_type": "execute_result",
          "data": {
            "text/plain": [
              "MannwhitneyuResult(statistic=2845109.0, pvalue=0.24799555106821947)"
            ]
          },
          "metadata": {},
          "execution_count": 20
        }
      ]
    },
    {
      "cell_type": "markdown",
      "source": [
        "Given the relatively high p-value (0.248 > 0.05), we fail to reject the null hypothesis. It's important to note that while this test doesn't show a significant difference, it doesn't prove that the groups are identical -it just fails to prove they are different."
      ],
      "metadata": {
        "id": "kmK9FQECdCJ6"
      }
    },
    {
      "cell_type": "code",
      "source": [
        "# TODO : Check on the data of only the users that pay, the value of the statistics of the Mann-Whitney test\n",
        "mannwhitneyu(df.loc[(df.VARIANT_NAME == 'variant') & (df.REVENUE > 0), 'REVENUE'],\n",
        "             df.loc[(df.VARIANT_NAME == 'control') & (df.REVENUE > 0), 'REVENUE'])"
      ],
      "metadata": {
        "execution": {
          "iopub.status.busy": "2022-09-16T18:23:24.632144Z",
          "iopub.execute_input": "2022-09-16T18:23:24.632496Z",
          "iopub.status.idle": "2022-09-16T18:23:24.644752Z",
          "shell.execute_reply.started": "2022-09-16T18:23:24.632466Z",
          "shell.execute_reply": "2022-09-16T18:23:24.643569Z"
        },
        "trusted": true,
        "id": "tCCcVEM4kkpS",
        "outputId": "afbfc8c9-3bd8-49dd-dd46-d59a244e8314",
        "colab": {
          "base_uri": "https://localhost:8080/"
        }
      },
      "execution_count": 21,
      "outputs": [
        {
          "output_type": "execute_result",
          "data": {
            "text/plain": [
              "MannwhitneyuResult(statistic=1029.0, pvalue=0.5314192217084708)"
            ]
          },
          "metadata": {},
          "execution_count": 21
        }
      ]
    },
    {
      "cell_type": "markdown",
      "source": [
        "same here"
      ],
      "metadata": {
        "id": "AhWFxi1GdRX-"
      }
    },
    {
      "cell_type": "markdown",
      "source": [
        "#### Bootstrap"
      ],
      "metadata": {
        "execution": {
          "iopub.status.busy": "2022-09-16T17:49:10.3638Z",
          "iopub.execute_input": "2022-09-16T17:49:10.365079Z",
          "iopub.status.idle": "2022-09-16T17:49:10.369587Z",
          "shell.execute_reply.started": "2022-09-16T17:49:10.365037Z",
          "shell.execute_reply": "2022-09-16T17:49:10.368719Z"
        },
        "id": "XBp259a8kkpS"
      }
    },
    {
      "cell_type": "markdown",
      "source": [
        "In order to get more complete information about the differences between the average values of the ab test groups, we will use bootstap.\n",
        "\n",
        "Let's create a function to get back samples and get a confidence interval, and then look at the sample statistics"
      ],
      "metadata": {
        "id": "0xpO-CmekkpS"
      }
    },
    {
      "cell_type": "code",
      "source": [
        "def get_bootstrap_samples(data, n_samples=1000):\n",
        "    indices = np.random.randint(0, len(data), (n_samples, len(data)))\n",
        "    samples = data[indices]\n",
        "    return samples\n",
        "\n",
        "def stat_intervals(stat, alpha=0.05):\n",
        "    boundaries = np.percentile(stat, [100 * alpha / 2., 100 * (1 - alpha / 2.)])\n",
        "    return boundaries"
      ],
      "metadata": {
        "execution": {
          "iopub.status.busy": "2022-09-16T18:23:24.645844Z",
          "iopub.execute_input": "2022-09-16T18:23:24.646134Z",
          "iopub.status.idle": "2022-09-16T18:23:24.653955Z",
          "shell.execute_reply.started": "2022-09-16T18:23:24.646108Z",
          "shell.execute_reply": "2022-09-16T18:23:24.652612Z"
        },
        "trusted": true,
        "id": "3yLh1toVkkpS"
      },
      "execution_count": 22,
      "outputs": []
    },
    {
      "cell_type": "code",
      "source": [
        "# TODO : Generate samples for all users\n",
        "control = get_bootstrap_samples(df.loc[df.VARIANT_NAME == 'control', 'REVENUE'].values, 10000)\n",
        "variant = get_bootstrap_samples(df.loc[df.VARIANT_NAME == 'variant', 'REVENUE'].values, 10000)"
      ],
      "metadata": {
        "execution": {
          "iopub.status.busy": "2022-09-16T18:23:24.656318Z",
          "iopub.execute_input": "2022-09-16T18:23:24.656775Z",
          "iopub.status.idle": "2022-09-16T18:23:25.935543Z",
          "shell.execute_reply.started": "2022-09-16T18:23:24.656733Z",
          "shell.execute_reply": "2022-09-16T18:23:25.934505Z"
        },
        "trusted": true,
        "id": "vAgJqb7lkkpS"
      },
      "execution_count": 27,
      "outputs": []
    },
    {
      "cell_type": "code",
      "source": [
        "# TODO : Generate samples for only paying users\n",
        "control_paid = get_bootstrap_samples(df.loc[(df.VARIANT_NAME == 'control') & (df.REVENUE > 0), 'REVENUE'].values, 10000)\n",
        "variant_paid = get_bootstrap_samples(df.loc[(df.VARIANT_NAME == 'variant') & (df.REVENUE > 0), 'REVENUE'].values, 10000)"
      ],
      "metadata": {
        "execution": {
          "iopub.status.busy": "2022-09-16T18:23:25.936759Z",
          "iopub.execute_input": "2022-09-16T18:23:25.937087Z",
          "iopub.status.idle": "2022-09-16T18:23:25.964331Z",
          "shell.execute_reply.started": "2022-09-16T18:23:25.937057Z",
          "shell.execute_reply": "2022-09-16T18:23:25.96321Z"
        },
        "trusted": true,
        "id": "pwXNe9H4kkpS"
      },
      "execution_count": 28,
      "outputs": []
    },
    {
      "cell_type": "markdown",
      "source": [
        "Let's look at the distribution of means in the ab test groups"
      ],
      "metadata": {
        "id": "7OsUPGxnkkpT"
      }
    },
    {
      "cell_type": "code",
      "source": [
        "f, ax = plt.subplots()\n",
        "# plt.figure(figsize=(20,5))\n",
        "sns.kdeplot(np.mean(control, axis=1), shade=True, label='control')\n",
        "sns.kdeplot(np.mean(variant, axis=1), shade=True, label='variant')\n",
        "plt.title('Sample mean distribution for all users')\n",
        "plt.legend()"
      ],
      "metadata": {
        "execution": {
          "iopub.status.busy": "2022-09-16T18:23:25.965453Z",
          "iopub.execute_input": "2022-09-16T18:23:25.96576Z",
          "iopub.status.idle": "2022-09-16T18:23:26.299852Z",
          "shell.execute_reply.started": "2022-09-16T18:23:25.965732Z",
          "shell.execute_reply": "2022-09-16T18:23:26.298725Z"
        },
        "trusted": true,
        "id": "CvNnX2ALkkpT",
        "colab": {
          "base_uri": "https://localhost:8080/",
          "height": 678
        },
        "outputId": "db5130fc-743a-4d22-8998-a9ebf3fddf67"
      },
      "execution_count": 32,
      "outputs": [
        {
          "output_type": "stream",
          "name": "stderr",
          "text": [
            "<ipython-input-32-a88839d23a88>:3: FutureWarning: \n",
            "\n",
            "`shade` is now deprecated in favor of `fill`; setting `fill=True`.\n",
            "This will become an error in seaborn v0.14.0; please update your code.\n",
            "\n",
            "  sns.kdeplot(np.mean(control, axis=1), shade=True, label='control')\n",
            "<ipython-input-32-a88839d23a88>:4: FutureWarning: \n",
            "\n",
            "`shade` is now deprecated in favor of `fill`; setting `fill=True`.\n",
            "This will become an error in seaborn v0.14.0; please update your code.\n",
            "\n",
            "  sns.kdeplot(np.mean(variant, axis=1), shade=True, label='variant')\n"
          ]
        },
        {
          "output_type": "execute_result",
          "data": {
            "text/plain": [
              "<matplotlib.legend.Legend at 0x7a0b4a5a0400>"
            ]
          },
          "metadata": {},
          "execution_count": 32
        },
        {
          "output_type": "display_data",
          "data": {
            "text/plain": [
              "<Figure size 640x480 with 1 Axes>"
            ],
            "image/png": "[encoded data removed]"
          },
          "metadata": {}
        }
      ]
    },
    {
      "cell_type": "code",
      "source": [
        "f, ax = plt.subplots()\n",
        "# plt.figure(figsize=(20,5))\n",
        "sns.kdeplot(np.mean(control_paid, axis=1), shade=True, label='control')\n",
        "sns.kdeplot(np.mean(variant_paid, axis=1), shade=True, label='variant')\n",
        "plt.title('Sample mean distribution for paying users')\n",
        "plt.legend()"
      ],
      "metadata": {
        "execution": {
          "iopub.status.busy": "2022-09-16T18:23:26.301272Z",
          "iopub.execute_input": "2022-09-16T18:23:26.301641Z",
          "iopub.status.idle": "2022-09-16T18:23:26.62483Z",
          "shell.execute_reply.started": "2022-09-16T18:23:26.301609Z",
          "shell.execute_reply": "2022-09-16T18:23:26.623431Z"
        },
        "trusted": true,
        "id": "v4_qUms4kkpT",
        "colab": {
          "base_uri": "https://localhost:8080/",
          "height": 678
        },
        "outputId": "0a5c2895-bd30-4488-d70f-4f3b3a9ed271"
      },
      "execution_count": 31,
      "outputs": [
        {
          "output_type": "stream",
          "name": "stderr",
          "text": [
            "<ipython-input-31-993a669accef>:3: FutureWarning: \n",
            "\n",
            "`shade` is now deprecated in favor of `fill`; setting `fill=True`.\n",
            "This will become an error in seaborn v0.14.0; please update your code.\n",
            "\n",
            "  sns.kdeplot(np.mean(control_paid, axis=1), shade=True, label='control')\n",
            "<ipython-input-31-993a669accef>:4: FutureWarning: \n",
            "\n",
            "`shade` is now deprecated in favor of `fill`; setting `fill=True`.\n",
            "This will become an error in seaborn v0.14.0; please update your code.\n",
            "\n",
            "  sns.kdeplot(np.mean(variant_paid, axis=1), shade=True, label='variant')\n"
          ]
        },
        {
          "output_type": "execute_result",
          "data": {
            "text/plain": [
              "<matplotlib.legend.Legend at 0x7a0b4c4d7b50>"
            ]
          },
          "metadata": {},
          "execution_count": 31
        },
        {
          "output_type": "display_data",
          "data": {
            "text/plain": [
              "<Figure size 640x480 with 1 Axes>"
            ],
            "image/png": "[encoded data removed]"
          },
          "metadata": {}
        }
      ]
    },
    {
      "cell_type": "markdown",
      "source": [
        "Do you see any difference ? What about the confidence intervals ? Conclude.\n",
        "\n",
        "**Ans**: We see that there are differences, but the confidence intervals may overlap, so we need to look at the distribution of the difference in the means between the groups in order to draw final conclusions.\n",
        "\n",
        "Let's evaluate the difference between the groups: look at the distribution of the mean difference and build confidence intervals for it. To do this, we will create a function for visualization"
      ],
      "metadata": {
        "id": "8MXUz0CEkkpT"
      }
    },
    {
      "cell_type": "code",
      "source": [
        "# def plot_distribution_and_stat_intervals(variant, control, title, alpha=0.05):\n",
        "#     \"\"\" Plot the distribution of the mean difference and return the confidence intervals \"\"\"\n",
        "#     f, ax = plt.subplots()\n",
        "#     # get data for coloring confidence intervals\n",
        "#     points = sns.kdeplot(variant - control, shade=True).get_lines()[0].get_data()\n",
        "#     x = points[0]\n",
        "#     y = points[1]\n",
        "#     ymin, ymax = plt.ylim()\n",
        "#     # highlight the zero value and the bounds of the confidence interval\n",
        "#     plt.vlines(0, 0, ymax, label='0', color='gray')\n",
        "#     plt.vlines(stat_intervals(variant - control, alpha)[0], 0, ymax, linestyles=\"dashed\")\n",
        "#     plt.vlines(stat_intervals(variant - control, alpha)[1], 0, ymax, linestyles=\"dashed\")\n",
        "#     # color the confidence interval and zones outside it\n",
        "#     plt.fill_between(x,y,\n",
        "#                      where = (x >= stat_intervals(variant - control, alpha)[1]),\n",
        "#                      color='gainsboro')\n",
        "#     plt.fill_between(x,y,\n",
        "#                      where = (x <= stat_intervals(variant - control, alpha)[0]),\n",
        "#                      color='gainsboro')\n",
        "#     plt.fill_between(x,y,\n",
        "#                      where = ((x >= stat_intervals(variant - control, alpha)[0])\n",
        "#                               & (x <= stat_intervals(variant - control, alpha)[1])),\n",
        "#                      color='red',\n",
        "#                      label = '95% confidence interval')\n",
        "#     plt.title(f'Distribution of difference between means (variant - control) {title}; {100*(1-alpha)}% Confidence interval for difference of means: {stat_intervals(variant - control, alpha)}')\n",
        "#     plt.legend(prop={'size':13})\n",
        "#     # return confidence interval data\n",
        "#     return stat_intervals(variant - control)\n",
        "\n",
        "def plot_distribution_and_stat_intervals(variant, control, title, alpha=0.05):\n",
        "    \"\"\" Plot the distribution of the mean difference and return the confidence intervals \"\"\"\n",
        "    f, ax = plt.subplots()\n",
        "    # get data for coloring confidence intervals\n",
        "    # the `shade` parameter has been removed and replaced with `fill`\n",
        "    sns.kdeplot(variant - control, fill=True, ax=ax)\n",
        "\n",
        "    # Get the line data (or patch data in case of fill)\n",
        "    if len(ax.lines) > 0:\n",
        "        points = ax.lines[0].get_data()\n",
        "    else:\n",
        "        # If there are no lines, try to get the patch data\n",
        "        points = ax.collections[0].get_paths()[0].vertices\n",
        "\n",
        "    x = points[:, 0]  # Access x-coordinates\n",
        "    y = points[:, 1]  # Access y-coordinates\n",
        "\n",
        "    ymin, ymax = plt.ylim()\n",
        "    # highlight the zero value and the bounds of the confidence interval\n",
        "    plt.vlines(0, 0, ymax, label='0', color='gray')\n",
        "    plt.vlines(stat_intervals(variant - control, alpha)[0], 0, ymax, linestyles=\"dashed\")\n",
        "    plt.vlines(stat_intervals(variant - control, alpha)[1], 0, ymax, linestyles=\"dashed\")\n",
        "    # color the confidence interval and zones outside it\n",
        "    plt.fill_between(x,y,\n",
        "                     where = (x >= stat_intervals(variant - control, alpha)[1]),\n",
        "                     color='gainsboro')\n",
        "    plt.fill_between(x,y,\n",
        "                     where = (x <= stat_intervals(variant - control, alpha)[0]),\n",
        "                     color='gainsboro')\n",
        "    plt.fill_between(x,y,\n",
        "                     where = ((x >= stat_intervals(variant - control, alpha)[0])\n",
        "                              & (x <= stat_intervals(variant - control, alpha)[1])),\n",
        "                     color='red',\n",
        "                     label = '95% confidence interval')\n",
        "    plt.title(f'Distribution of difference between means (variant - control) {title}; {100*(1-alpha)}% Confidence interval for difference of means: {stat_intervals(variant - control, alpha)}')\n",
        "    plt.legend(prop={'size':13})\n",
        "    # return confidence interval data\n",
        "    return stat_intervals(variant - control)"
      ],
      "metadata": {
        "execution": {
          "iopub.status.busy": "2022-09-16T18:23:26.62643Z",
          "iopub.execute_input": "2022-09-16T18:23:26.628052Z",
          "iopub.status.idle": "2022-09-16T18:23:26.639469Z",
          "shell.execute_reply.started": "2022-09-16T18:23:26.628017Z",
          "shell.execute_reply": "2022-09-16T18:23:26.638694Z"
        },
        "trusted": true,
        "id": "bBIz3jkCkkpT"
      },
      "execution_count": 44,
      "outputs": []
    },
    {
      "cell_type": "markdown",
      "source": [
        "Let's build a graph of the distribution of the difference in the means and get a confidence interval\n",
        "\n",
        "For all users"
      ],
      "metadata": {
        "id": "ZIUmqXtHkkpT"
      }
    },
    {
      "cell_type": "code",
      "source": [
        "plot_distribution_and_stat_intervals(np.mean(variant, axis=1),\n",
        "                                     np.mean(control, axis=1),\n",
        "                                     title='all users')"
      ],
      "metadata": {
        "execution": {
          "iopub.status.busy": "2022-09-16T18:23:26.640692Z",
          "iopub.execute_input": "2022-09-16T18:23:26.641004Z",
          "iopub.status.idle": "2022-09-16T18:23:26.655336Z",
          "shell.execute_reply.started": "2022-09-16T18:23:26.640977Z",
          "shell.execute_reply": "2022-09-16T18:23:26.654163Z"
        },
        "trusted": true,
        "id": "eQq8UewNkkpT",
        "colab": {
          "base_uri": "https://localhost:8080/",
          "height": 469
        },
        "outputId": "b754b0a4-3931-468c-a8da-2c9cd3b82126"
      },
      "execution_count": 45,
      "outputs": [
        {
          "output_type": "execute_result",
          "data": {
            "text/plain": [
              "array([-0.09816743,  0.01521812])"
            ]
          },
          "metadata": {},
          "execution_count": 45
        },
        {
          "output_type": "display_data",
          "data": {
            "text/plain": [
              "<Figure size 640x480 with 1 Axes>"
            ],
            "image/png": "[encoded data removed]"
          },
          "metadata": {}
        }
      ]
    },
    {
      "cell_type": "code",
      "source": [
        "plot_distribution_and_stat_intervals(np.mean(variant_paid, axis=1),\n",
        "                                     np.mean(control_paid, axis=1),\n",
        "                                     title='paying users')"
      ],
      "metadata": {
        "execution": {
          "iopub.status.busy": "2022-09-16T18:23:26.656914Z",
          "iopub.execute_input": "2022-09-16T18:23:26.657231Z",
          "iopub.status.idle": "2022-09-16T18:23:26.666176Z",
          "shell.execute_reply.started": "2022-09-16T18:23:26.65719Z",
          "shell.execute_reply": "2022-09-16T18:23:26.664922Z"
        },
        "trusted": true,
        "id": "mOb8VkPAkkpT",
        "colab": {
          "base_uri": "https://localhost:8080/",
          "height": 469
        },
        "outputId": "2ad624cc-f47a-4273-974b-675e9f2aa4c0"
      },
      "execution_count": 46,
      "outputs": [
        {
          "output_type": "execute_result",
          "data": {
            "text/plain": [
              "array([-3.0602108 ,  1.28631357])"
            ]
          },
          "metadata": {},
          "execution_count": 46
        },
        {
          "output_type": "display_data",
          "data": {
            "text/plain": [
              "<Figure size 640x480 with 1 Axes>"
            ],
            "image/png": "[encoded data removed]"
          },
          "metadata": {}
        }
      ]
    },
    {
      "cell_type": "markdown",
      "source": [
        "What can you observe ? Conclude about the statistical change in average revenue between A/B test groups.\n",
        "\n",
        "**Ans**: We see that the zero value is within the confidence interval, so we cannot say about the stat. significant change in average revenue between ab test groups\n"
      ],
      "metadata": {
        "id": "5KFSGNjOkkpU"
      }
    },
    {
      "cell_type": "markdown",
      "source": [
        "\n",
        "## Conclusions\n",
        "\n",
        "In order to draw conclusions about changes between ab test groups, the following changes were first made to the data:\n",
        "\n",
        "Users with two ab test groups were excluded in order to make the effect of the changes more pronounced User_id=3342 was excluded, because in conditions of limited information it is a strong outlier in the received sample Users are taken as the experimental unit, and then the data is grouped by each user and revenue and summed over each to get one record per user Despite the fact that the revenue in the test group decreased significantly, there were no statistically significant changes between the ab test groups, both among all users and among only the paying audience. For a deeper analysis, the data of the A / A test and further study of the power of the criteria will be useful.\n"
      ],
      "metadata": {
        "id": "hHJ5QCmFjBk3"
      }
    }
  ]
}