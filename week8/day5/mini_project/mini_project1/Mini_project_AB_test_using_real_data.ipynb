{
  "cells": [
    {
      "cell_type": "markdown",
      "metadata": {
        "id": "nbo-72ZODKz2"
      },
      "source": [
        "# Data Science Analyze and Present A/B Test Results\n",
        "\n",
        "X company recently introduced a new bidding type, “average bidding”, as an alternative to its exisiting bidding\n",
        "type, called “maximum bidding”. One of our clients, X.com, has decided to test this new feature\n",
        "and wants to conduct an A/B test to understand if average bidding brings more conversions than maximum\n",
        "bidding.\n",
        "\n",
        "In this A/B test, X.com randomly splits its audience into two equally sized groups, e.g. the test\n",
        "and the control group. A X company ad campaign with “maximum bidding” is served to “control group” and\n",
        "another campaign with “average bidding” is served to the “test group”.\n",
        "\n",
        "The A/B test has run for 1 month and X.com now expects you to analyze and present the results\n",
        "of this A/B test.\n",
        "\n",
        "\n",
        "\n",
        "##### You should answer the following questions in this notebook\n",
        "\n",
        "1. How would you define the hypothesis of this A/B test?\n",
        "2. Can we conclude statistically significant results?\n",
        "3. Which statistical test did you use, and why?\n",
        "4. Based on your answer to Question 2, what would be your recommendation to client?\n",
        "\n",
        "\n",
        "##### Hints:\n",
        "\n",
        "1. The customer journey for this campaign is:\n",
        "    1. User sees an ad (Impression)\n",
        "    2. User clicks on the website link on the ad (Website Click)\n",
        "    3. User makes a search on the website (Search)\n",
        "    4. User views details of a product (View Content)\n",
        "    5. User adds the product to the cart (Add to Cart)\n",
        "    6. User purchases the product (Purchase)\n",
        "2. Use visualizations to compare test and control group metrics, such as Website Click Through Rate, Cost per Action, and Conversion Rates in addition to Purchase numbers.\n",
        "3. If you see trends, anomalies or other patterns, discuss these in your notebool.\n",
        "4. You can make assumptions if needed.\n"
      ]
    },
    {
      "cell_type": "markdown",
      "metadata": {
        "id": "1nq1PmtlDKz5"
      },
      "source": [
        "## 1. Import libraries"
      ]
    },
    {
      "cell_type": "code",
      "execution_count": 1,
      "metadata": {
        "id": "ZsKzhELSDKz5",
        "trusted": true
      },
      "outputs": [],
      "source": [
        "import pandas as pd\n",
        "import numpy as np\n",
        "import seaborn as sns\n",
        "import matplotlib.pyplot as plt\n",
        "from scipy import stats\n",
        "from scipy.stats import skewtest\n",
        "from scipy.stats import median_test\n",
        "from scipy.stats import shapiro\n",
        "import pylab\n",
        "from sklearn.neighbors import LocalOutlierFactor\n",
        "from scipy.stats import levene\n",
        "from statsmodels.stats.proportion import proportions_ztest\n",
        "from sklearn.impute import KNNImputer\n",
        "\n",
        "pd.set_option(\"display.max_columns\",None);\n",
        "pd.set_option(\"display.max_rows\",None);"
      ]
    },
    {
      "cell_type": "markdown",
      "metadata": {
        "id": "AMaVKs7CDKz6"
      },
      "source": [
        "## 2. Functions"
      ]
    },
    {
      "cell_type": "code",
      "execution_count": 2,
      "metadata": {
        "id": "bwPNKkN3DKz7",
        "trusted": true
      },
      "outputs": [],
      "source": [
        "def read_data() :\n",
        "    \"\"\"\n",
        "      Reads and loads control and test group data from an Excel file.\n",
        "    - **Control group** (Maximum Bidding): Existing campaign data.\n",
        "    - **Test group** (Average Bidding): Data from the new bidding strategy.\n",
        "    The function removes rows with NaN values that originated from notes in the Excel file for the control group.\n",
        "    \"\"\"\n",
        "    #Maximum Bidding(Existing)\n",
        "    control = pd.read_excel(\"../input/ab-test-dataset/AB_Case_Study.xlsx\", sheet_name=\"Control Group\")\n",
        "    #Average Bidding(New)\n",
        "    test = pd.read_excel(\"../input/ab-test-dataset/AB_Case_Study.xlsx\", sheet_name=\"Test Group\")\n",
        "\n",
        "    #In the control dataframe, the rows containing NaN values from the 'note' column (imported from Excel) were removed\n",
        "    control.drop(control.index[[30,31]], inplace = True)\n",
        "\n",
        "    return control, test\n",
        "\n",
        "def get_catvar(df) :\n",
        "    \"\"\"\n",
        "    Identifies and extracts categorical variables from a DataFrame.\n",
        "    - Returns the original DataFrame, a DataFrame of only categorical variables, and the names of the categorical columns.\n",
        "    \"\"\"\n",
        "    cat_col = [col for col in df.columns if ( (df[col].dtype == 'object') | (df[col].dtype == 'bool'))]\n",
        "    kat_df = pd.DataFrame(df[cat_col], index = df[cat_col].index)\n",
        "    return df, kat_df, cat_col\n",
        "\n",
        "def get_numvar(cat_col,df):\n",
        "    \"\"\"\n",
        "    Identifies and extracts numerical variables from a DataFrame, excluding those specified as categorical.\n",
        "    - Returns the original DataFrame, a DataFrame of only numerical variables, and the names of the numerical columns.\n",
        "    \"\"\"\n",
        "    num_col = [c for c in df.columns if c not in cat_col]\n",
        "    num_df = pd.DataFrame(df[num_col], index = df[num_col].index)\n",
        "    return df, num_df, num_col\n",
        "\n",
        "def fill_NaNValue(num_control) :\n",
        "    \"\"\"\n",
        "    Implements K-Nearest Neighbors Imputation to fill in missing values in numerical columns of the control group.\n",
        "    - Returns a DataFrame with missing values filled.\n",
        "    \"\"\"\n",
        "    cols = num_control.columns\n",
        "    imputer = KNNImputer(n_neighbors=8)\n",
        "    num_control = imputer.fit_transform(num_control)\n",
        "    num_control=pd.DataFrame(num_control,columns=cols)\n",
        "    return num_control\n",
        "\n",
        "def convert_datatype(control):\n",
        "    \"\"\"\n",
        "      Converts specified columns in the control group DataFrame to integer data types.\n",
        "    - This is important for ensuring data consistency and correctness in calculations.\n",
        "    \"\"\"\n",
        "    control = control.astype({'# of Impressions' : 'int64',\n",
        "                        'Reach': 'int64',\n",
        "                        '# of Website Clicks' : 'int64',\n",
        "                        '# of Searches': 'int64',\n",
        "                        '# of View Content': 'int64',\n",
        "                        '# of Add to Cart': 'int64',\n",
        "                        '# of Purchase' : 'int64'})\n",
        "    return control\n",
        "\n",
        "def outliers(control, test):\n",
        "    \"\"\"\n",
        "    Detects and handles outliers in the test group data using Local Outlier Factor (LOF).\n",
        "    - Prints scores of the detected outliers and modifies extreme outlier values based on a specified threshold.\n",
        "    \"\"\"\n",
        "    clf= LocalOutlierFactor(n_neighbors = 20, contamination = 0.1)\n",
        "    clf.fit_predict(test.iloc[:,2:])[0:10]\n",
        "\n",
        "    test_scores=clf.negative_outlier_factor_\n",
        "    print(\"Test Score: \" , np.sort(test_scores)[0:20])\n",
        "    sns.boxplot(test_scores);\n",
        "\n",
        "    threshold=np.sort(test_scores)[4]\n",
        "    print(\"Threshold score: \", threshold)\n",
        "\n",
        "    test.loc[test_scores < -1.50].index\n",
        "    test.loc[test_scores == threshold]\n",
        "\n",
        "    test.iloc[0,2:]=[2742.245945,79574,57168,3086,1263,1098,226,277]\n",
        "    sns.boxplot(x=\"variable\", y=\"value\", data=pd.melt(test.iloc[:,3:5]));\n",
        "    sns.boxplot(x=\"variable\", y=\"value\", data=pd.melt(test.iloc[:,5:6]));\n",
        "    sns.boxplot(x=\"variable\", y=\"value\", data=pd.melt(test.iloc[:,6:]));\n",
        "\n",
        "\n",
        "def feature_engineering(control, test):\n",
        "    \"\"\"\n",
        "    Creates new features for both control and test groups to aid in analysis:\n",
        "    - Website Click Through Rate: The percentage of clicks per number of impressions.\n",
        "    - Number of Action: Sum of various engagement metrics like impressions, clicks, etc.\n",
        "    - Cost per Action: The spend divided by the number of actions.\n",
        "    - Conversion Rate: The number of actions divided by the number of clicks, expressed as a percentage.\n",
        "    \"\"\"\n",
        "    control[\"Website Click Through Rate\"] = control[\"# of Website Clicks\"] / control[\"# of Impressions\"] * 100\n",
        "    test[\"Website Click Through Rate\"] = test[\"# of Website Clicks\"] / test[\"# of Impressions\"] * 100\n",
        "\n",
        "    control[\"Number of Action\"] = control[\"# of Impressions\"] + control[\"# of Website Clicks\"] + control[\"# of Searches\"] + control[\"# of View Content\"] + control[\"# of Add to Cart\"] + control[\"# of Purchase\"]\n",
        "    test[\"Number of Action\"] = test[\"# of Impressions\"] + test[\"# of Website Clicks\"] + test[\"# of Searches\"] + test[\"# of View Content\"] + test[\"# of Add to Cart\"] + test[\"# of Purchase\"]\n",
        "\n",
        "    control[\"Cost per Action\"] = control[\"Spend [USD]\"] / control[\"Number of Action\"]\n",
        "    test[\"Cost per Action\"] = test[\"Spend [USD]\"] / test[\"Number of Action\"]\n",
        "\n",
        "    control[\"Conversion Rate\"] = control[\"Number of Action\"] / control[\"# of Website Clicks\"] * 100\n",
        "    test[\"Conversion Rate\"] = test[\"Number of Action\"] / test[\"# of Website Clicks\"] * 100\n",
        "\n",
        "    return control, test\n",
        "\n",
        "def data_prepare_for_visualization(control,test):\n",
        "    \"\"\"\n",
        "    Prepares control and test group data for visualization by extracting specific metrics and labeling them for group comparison.\n",
        "    - Returns a consolidated DataFrame of both groups for visualization purposes.\n",
        "    \"\"\"\n",
        "    control_nop = pd.DataFrame(control[\"# of Purchase\"])\n",
        "    test_nop = pd.DataFrame(test[\"# of Purchase\"])\n",
        "\n",
        "    control_wctr= pd.DataFrame(control[\"Website Click Through Rate\"])\n",
        "    test_wctr= pd.DataFrame(test[\"Website Click Through Rate\"])\n",
        "\n",
        "    control_cpa= pd.DataFrame(control[\"Cost per Action\"])\n",
        "    test_cpa= pd.DataFrame(test[\"Cost per Action\"])\n",
        "\n",
        "    control_cr= pd.DataFrame(control[\"Conversion Rate\"])\n",
        "    test_cr= pd.DataFrame(test[\"Conversion Rate\"])\n",
        "\n",
        "    Group_A = pd.concat([control_nop, control_wctr, control_cpa, control_cr], axis = 1)\n",
        "    Group_A[\"Group\"] = \"A (MaximumBidding)\"\n",
        "\n",
        "    Group_B = pd.concat([test_nop, test_wctr, test_cpa, test_cr], axis = 1)\n",
        "    Group_B[\"Group\"] = \"B (AverageBidding)\"\n",
        "\n",
        "    #Tum veri\n",
        "    AB = pd.concat([Group_A, Group_B])\n",
        "    AB\n",
        "    return AB, control_nop, test_nop\n",
        "\n",
        "def data_prepare_for_hypothesis_testing(control_nop, test_nop):\n",
        "    \"\"\"\n",
        "    Prepares control and test group data for hypothesis testing by combining \"# of Purchase\" data into a single DataFrame.\n",
        "    - The resulting DataFrame is structured for direct comparison between groups.\n",
        "    \"\"\"\n",
        "    controlB = pd.concat([control_nop, test_nop], axis = 1)\n",
        "    controlB.columns = [\"A\",\"B\"]\n",
        "    return controlB\n",
        "\n",
        "def num_boxplot(fig, axarr, dimension, cols, hue):\n",
        "    \"\"\"\n",
        "    A helper function for plotting boxplots of numerical data, categorized by the experiment group.\n",
        "    - It iterates over specified dimensions and columns to generate boxplots for visual analysis.\n",
        "    \"\"\"\n",
        "    for i in dimension :\n",
        "        for j in dimension :\n",
        "            for c in cols :\n",
        "                sns.boxplot(y=c, x = hue, hue = hue, data = AB, ax=axarr[i][j])\n",
        "                cols.remove(c)\n",
        "                break\n",
        "\n",
        "def show_boxplot(nrows, ncols, boyut, cols, figsize):\n",
        "    \"\"\"\n",
        "    Generates boxplots for the specified columns and groups, utilizing `num_boxplot`.\n",
        "    - Allows specification of the number of rows and columns in the figure, and figure size.\n",
        "    \"\"\"\n",
        "    fig, axarr = plt.subplots(nrows, ncols, figsize=figsize)\n",
        "    num_boxplot(fig, axarr, boyut, cols, \"Group\")\n",
        "\n",
        "\n",
        "def checkReject(p_value, alpha = 0.05):\n",
        "    \"\"\"\n",
        "    Checks whether the p-value from hypothesis testing is significant enough to reject the null hypothesis, given an alpha level (default 0.05).\n",
        "    - Prints the outcome of the hypothesis test in the context of rejecting or not rejecting the null hypothesis.\n",
        "    \"\"\"\n",
        "    if p_value < alpha :\n",
        "        print(f'{p_value} < alpha(0.05) so >>> H0 REJECTED')\n",
        "\n",
        "    elif p_value > alpha :\n",
        "        print(f'{p_value} > alpha(0.05) so >>> H0 CAN\\'T BE REJECTED')"
      ]
    },
    {
      "cell_type": "markdown",
      "metadata": {
        "id": "eTVHnvKUDKz8"
      },
      "source": [
        "## 3. Data Preparation"
      ]
    },
    {
      "cell_type": "code",
      "execution_count": 3,
      "metadata": {
        "id": "gi6ROl-bpgDK"
      },
      "outputs": [],
      "source": [
        "# TODO : Import the dataset available here : https://www.kaggle.com/code/dillonmyrick/a-b-test-hypothesis-testing-for-e-commerce/input"
      ]
    },
    {
      "cell_type": "code",
      "execution_count": 4,
      "metadata": {
        "id": "FKB1Gtm5DKz8",
        "trusted": true
      },
      "outputs": [],
      "source": [
        "# control, test = read_data()\n",
        "\n",
        "path_control = \"control_group.csv\"\n",
        "path_test = \"control_group.csv\"\n",
        "\n",
        "df_control = pd.read_csv(path_control, sep=';')\n",
        "df_test = pd.read_csv(path_test, sep=';')"
      ]
    },
    {
      "cell_type": "code",
      "execution_count": 5,
      "metadata": {
        "colab": {
          "base_uri": "https://localhost:8080/",
          "height": 206
        },
        "id": "A7ip7bmEDKz9",
        "outputId": "3fe1bff5-feb0-4065-c497-b8e47c90cc0b",
        "trusted": true
      },
      "outputs": [
        {
          "data": {
            "text/html": [
              "<div>\n",
              "<style scoped>\n",
              "    .dataframe tbody tr th:only-of-type {\n",
              "        vertical-align: middle;\n",
              "    }\n",
              "\n",
              "    .dataframe tbody tr th {\n",
              "        vertical-align: top;\n",
              "    }\n",
              "\n",
              "    .dataframe thead th {\n",
              "        text-align: right;\n",
              "    }\n",
              "</style>\n",
              "<table border=\"1\" class=\"dataframe\">\n",
              "  <thead>\n",
              "    <tr style=\"text-align: right;\">\n",
              "      <th></th>\n",
              "      <th>Campaign Name</th>\n",
              "      <th>Date</th>\n",
              "      <th>Spend [USD]</th>\n",
              "      <th># of Impressions</th>\n",
              "      <th>Reach</th>\n",
              "      <th># of Website Clicks</th>\n",
              "      <th># of Searches</th>\n",
              "      <th># of View Content</th>\n",
              "      <th># of Add to Cart</th>\n",
              "      <th># of Purchase</th>\n",
              "    </tr>\n",
              "  </thead>\n",
              "  <tbody>\n",
              "    <tr>\n",
              "      <th>0</th>\n",
              "      <td>Control Campaign</td>\n",
              "      <td>1.08.2019</td>\n",
              "      <td>2280</td>\n",
              "      <td>82702.0</td>\n",
              "      <td>56930.0</td>\n",
              "      <td>7016.0</td>\n",
              "      <td>2290.0</td>\n",
              "      <td>2159.0</td>\n",
              "      <td>1819.0</td>\n",
              "      <td>618.0</td>\n",
              "    </tr>\n",
              "    <tr>\n",
              "      <th>1</th>\n",
              "      <td>Control Campaign</td>\n",
              "      <td>2.08.2019</td>\n",
              "      <td>1757</td>\n",
              "      <td>121040.0</td>\n",
              "      <td>102513.0</td>\n",
              "      <td>8110.0</td>\n",
              "      <td>2033.0</td>\n",
              "      <td>1841.0</td>\n",
              "      <td>1219.0</td>\n",
              "      <td>511.0</td>\n",
              "    </tr>\n",
              "    <tr>\n",
              "      <th>2</th>\n",
              "      <td>Control Campaign</td>\n",
              "      <td>3.08.2019</td>\n",
              "      <td>2343</td>\n",
              "      <td>131711.0</td>\n",
              "      <td>110862.0</td>\n",
              "      <td>6508.0</td>\n",
              "      <td>1737.0</td>\n",
              "      <td>1549.0</td>\n",
              "      <td>1134.0</td>\n",
              "      <td>372.0</td>\n",
              "    </tr>\n",
              "    <tr>\n",
              "      <th>3</th>\n",
              "      <td>Control Campaign</td>\n",
              "      <td>4.08.2019</td>\n",
              "      <td>1940</td>\n",
              "      <td>72878.0</td>\n",
              "      <td>61235.0</td>\n",
              "      <td>3065.0</td>\n",
              "      <td>1042.0</td>\n",
              "      <td>982.0</td>\n",
              "      <td>1183.0</td>\n",
              "      <td>340.0</td>\n",
              "    </tr>\n",
              "    <tr>\n",
              "      <th>4</th>\n",
              "      <td>Control Campaign</td>\n",
              "      <td>5.08.2019</td>\n",
              "      <td>1835</td>\n",
              "      <td>NaN</td>\n",
              "      <td>NaN</td>\n",
              "      <td>NaN</td>\n",
              "      <td>NaN</td>\n",
              "      <td>NaN</td>\n",
              "      <td>NaN</td>\n",
              "      <td>NaN</td>\n",
              "    </tr>\n",
              "  </tbody>\n",
              "</table>\n",
              "</div>"
            ],
            "text/plain": [
              "      Campaign Name       Date  Spend [USD]  # of Impressions     Reach  \\\n",
              "0  Control Campaign  1.08.2019         2280           82702.0   56930.0   \n",
              "1  Control Campaign  2.08.2019         1757          121040.0  102513.0   \n",
              "2  Control Campaign  3.08.2019         2343          131711.0  110862.0   \n",
              "3  Control Campaign  4.08.2019         1940           72878.0   61235.0   \n",
              "4  Control Campaign  5.08.2019         1835               NaN       NaN   \n",
              "\n",
              "   # of Website Clicks  # of Searches  # of View Content  # of Add to Cart  \\\n",
              "0               7016.0         2290.0             2159.0            1819.0   \n",
              "1               8110.0         2033.0             1841.0            1219.0   \n",
              "2               6508.0         1737.0             1549.0            1134.0   \n",
              "3               3065.0         1042.0              982.0            1183.0   \n",
              "4                  NaN            NaN                NaN               NaN   \n",
              "\n",
              "   # of Purchase  \n",
              "0          618.0  \n",
              "1          511.0  \n",
              "2          372.0  \n",
              "3          340.0  \n",
              "4            NaN  "
            ]
          },
          "execution_count": 5,
          "metadata": {},
          "output_type": "execute_result"
        }
      ],
      "source": [
        "#TODO : print what is control\n",
        "df_control.head()"
      ]
    },
    {
      "cell_type": "code",
      "execution_count": 6,
      "metadata": {
        "colab": {
          "base_uri": "https://localhost:8080/",
          "height": 380
        },
        "id": "i5g2eQGeDKz9",
        "outputId": "d95e3bad-ae80-409d-f41d-29d43331f60a",
        "trusted": true
      },
      "outputs": [
        {
          "data": {
            "text/html": [
              "<div>\n",
              "<style scoped>\n",
              "    .dataframe tbody tr th:only-of-type {\n",
              "        vertical-align: middle;\n",
              "    }\n",
              "\n",
              "    .dataframe tbody tr th {\n",
              "        vertical-align: top;\n",
              "    }\n",
              "\n",
              "    .dataframe thead th {\n",
              "        text-align: right;\n",
              "    }\n",
              "</style>\n",
              "<table border=\"1\" class=\"dataframe\">\n",
              "  <thead>\n",
              "    <tr style=\"text-align: right;\">\n",
              "      <th></th>\n",
              "      <th>Campaign Name</th>\n",
              "      <th>Date</th>\n",
              "      <th>Spend [USD]</th>\n",
              "      <th># of Impressions</th>\n",
              "      <th>Reach</th>\n",
              "      <th># of Website Clicks</th>\n",
              "      <th># of Searches</th>\n",
              "      <th># of View Content</th>\n",
              "      <th># of Add to Cart</th>\n",
              "      <th># of Purchase</th>\n",
              "    </tr>\n",
              "  </thead>\n",
              "  <tbody>\n",
              "    <tr>\n",
              "      <th>0</th>\n",
              "      <td>Control Campaign</td>\n",
              "      <td>1.08.2019</td>\n",
              "      <td>2280</td>\n",
              "      <td>82702.0</td>\n",
              "      <td>56930.0</td>\n",
              "      <td>7016.0</td>\n",
              "      <td>2290.0</td>\n",
              "      <td>2159.0</td>\n",
              "      <td>1819.0</td>\n",
              "      <td>618.0</td>\n",
              "    </tr>\n",
              "    <tr>\n",
              "      <th>1</th>\n",
              "      <td>Control Campaign</td>\n",
              "      <td>2.08.2019</td>\n",
              "      <td>1757</td>\n",
              "      <td>121040.0</td>\n",
              "      <td>102513.0</td>\n",
              "      <td>8110.0</td>\n",
              "      <td>2033.0</td>\n",
              "      <td>1841.0</td>\n",
              "      <td>1219.0</td>\n",
              "      <td>511.0</td>\n",
              "    </tr>\n",
              "    <tr>\n",
              "      <th>2</th>\n",
              "      <td>Control Campaign</td>\n",
              "      <td>3.08.2019</td>\n",
              "      <td>2343</td>\n",
              "      <td>131711.0</td>\n",
              "      <td>110862.0</td>\n",
              "      <td>6508.0</td>\n",
              "      <td>1737.0</td>\n",
              "      <td>1549.0</td>\n",
              "      <td>1134.0</td>\n",
              "      <td>372.0</td>\n",
              "    </tr>\n",
              "    <tr>\n",
              "      <th>3</th>\n",
              "      <td>Control Campaign</td>\n",
              "      <td>4.08.2019</td>\n",
              "      <td>1940</td>\n",
              "      <td>72878.0</td>\n",
              "      <td>61235.0</td>\n",
              "      <td>3065.0</td>\n",
              "      <td>1042.0</td>\n",
              "      <td>982.0</td>\n",
              "      <td>1183.0</td>\n",
              "      <td>340.0</td>\n",
              "    </tr>\n",
              "    <tr>\n",
              "      <th>4</th>\n",
              "      <td>Control Campaign</td>\n",
              "      <td>5.08.2019</td>\n",
              "      <td>1835</td>\n",
              "      <td>NaN</td>\n",
              "      <td>NaN</td>\n",
              "      <td>NaN</td>\n",
              "      <td>NaN</td>\n",
              "      <td>NaN</td>\n",
              "      <td>NaN</td>\n",
              "      <td>NaN</td>\n",
              "    </tr>\n",
              "    <tr>\n",
              "      <th>5</th>\n",
              "      <td>Control Campaign</td>\n",
              "      <td>6.08.2019</td>\n",
              "      <td>3083</td>\n",
              "      <td>109076.0</td>\n",
              "      <td>87998.0</td>\n",
              "      <td>4028.0</td>\n",
              "      <td>1709.0</td>\n",
              "      <td>1249.0</td>\n",
              "      <td>784.0</td>\n",
              "      <td>764.0</td>\n",
              "    </tr>\n",
              "    <tr>\n",
              "      <th>6</th>\n",
              "      <td>Control Campaign</td>\n",
              "      <td>7.08.2019</td>\n",
              "      <td>2544</td>\n",
              "      <td>142123.0</td>\n",
              "      <td>127852.0</td>\n",
              "      <td>2640.0</td>\n",
              "      <td>1388.0</td>\n",
              "      <td>1106.0</td>\n",
              "      <td>1166.0</td>\n",
              "      <td>499.0</td>\n",
              "    </tr>\n",
              "    <tr>\n",
              "      <th>7</th>\n",
              "      <td>Control Campaign</td>\n",
              "      <td>8.08.2019</td>\n",
              "      <td>1900</td>\n",
              "      <td>90939.0</td>\n",
              "      <td>65217.0</td>\n",
              "      <td>7260.0</td>\n",
              "      <td>3047.0</td>\n",
              "      <td>2746.0</td>\n",
              "      <td>930.0</td>\n",
              "      <td>462.0</td>\n",
              "    </tr>\n",
              "    <tr>\n",
              "      <th>8</th>\n",
              "      <td>Control Campaign</td>\n",
              "      <td>9.08.2019</td>\n",
              "      <td>2813</td>\n",
              "      <td>121332.0</td>\n",
              "      <td>94896.0</td>\n",
              "      <td>6198.0</td>\n",
              "      <td>2487.0</td>\n",
              "      <td>2179.0</td>\n",
              "      <td>645.0</td>\n",
              "      <td>501.0</td>\n",
              "    </tr>\n",
              "    <tr>\n",
              "      <th>9</th>\n",
              "      <td>Control Campaign</td>\n",
              "      <td>10.08.2019</td>\n",
              "      <td>2149</td>\n",
              "      <td>117624.0</td>\n",
              "      <td>91257.0</td>\n",
              "      <td>2277.0</td>\n",
              "      <td>2475.0</td>\n",
              "      <td>1984.0</td>\n",
              "      <td>1629.0</td>\n",
              "      <td>734.0</td>\n",
              "    </tr>\n",
              "  </tbody>\n",
              "</table>\n",
              "</div>"
            ],
            "text/plain": [
              "      Campaign Name        Date  Spend [USD]  # of Impressions     Reach  \\\n",
              "0  Control Campaign   1.08.2019         2280           82702.0   56930.0   \n",
              "1  Control Campaign   2.08.2019         1757          121040.0  102513.0   \n",
              "2  Control Campaign   3.08.2019         2343          131711.0  110862.0   \n",
              "3  Control Campaign   4.08.2019         1940           72878.0   61235.0   \n",
              "4  Control Campaign   5.08.2019         1835               NaN       NaN   \n",
              "5  Control Campaign   6.08.2019         3083          109076.0   87998.0   \n",
              "6  Control Campaign   7.08.2019         2544          142123.0  127852.0   \n",
              "7  Control Campaign   8.08.2019         1900           90939.0   65217.0   \n",
              "8  Control Campaign   9.08.2019         2813          121332.0   94896.0   \n",
              "9  Control Campaign  10.08.2019         2149          117624.0   91257.0   \n",
              "\n",
              "   # of Website Clicks  # of Searches  # of View Content  # of Add to Cart  \\\n",
              "0               7016.0         2290.0             2159.0            1819.0   \n",
              "1               8110.0         2033.0             1841.0            1219.0   \n",
              "2               6508.0         1737.0             1549.0            1134.0   \n",
              "3               3065.0         1042.0              982.0            1183.0   \n",
              "4                  NaN            NaN                NaN               NaN   \n",
              "5               4028.0         1709.0             1249.0             784.0   \n",
              "6               2640.0         1388.0             1106.0            1166.0   \n",
              "7               7260.0         3047.0             2746.0             930.0   \n",
              "8               6198.0         2487.0             2179.0             645.0   \n",
              "9               2277.0         2475.0             1984.0            1629.0   \n",
              "\n",
              "   # of Purchase  \n",
              "0          618.0  \n",
              "1          511.0  \n",
              "2          372.0  \n",
              "3          340.0  \n",
              "4            NaN  \n",
              "5          764.0  \n",
              "6          499.0  \n",
              "7          462.0  \n",
              "8          501.0  \n",
              "9          734.0  "
            ]
          },
          "metadata": {},
          "output_type": "display_data"
        },
        {
          "name": "stdout",
          "output_type": "stream",
          "text": [
            "## There are 30 rows and 10 columns in the control dataframe\n"
          ]
        }
      ],
      "source": [
        "#TODO : print what is test\n",
        "display(df_control.head(10))\n",
        "\n",
        "print(f\"## There are {df_control.shape[0]} rows and {df_control.shape[1]} columns in the control dataframe\")"
      ]
    },
    {
      "cell_type": "markdown",
      "metadata": {
        "id": "aSWuG2CRM8YT"
      },
      "source": [
        "A very small control dataframe"
      ]
    },
    {
      "cell_type": "code",
      "execution_count": 7,
      "metadata": {
        "colab": {
          "base_uri": "https://localhost:8080/",
          "height": 1000
        },
        "id": "VSQKSys2DKz-",
        "outputId": "7e2830e8-2d8a-417d-a439-c5ca894645a1",
        "trusted": true
      },
      "outputs": [
        {
          "data": {
            "image/png": "[encoded data removed]",
            "text/plain": [
              "<Figure size 1000x500 with 1 Axes>"
            ]
          },
          "metadata": {},
          "output_type": "display_data"
        },
        {
          "name": "stdout",
          "output_type": "stream",
          "text": [
            "Campaign Name          0\n",
            "Date                   0\n",
            "Spend [USD]            0\n",
            "# of Impressions       1\n",
            "Reach                  1\n",
            "# of Website Clicks    1\n",
            "# of Searches          1\n",
            "# of View Content      1\n",
            "# of Add to Cart       1\n",
            "# of Purchase          1\n",
            "dtype: int64\n"
          ]
        },
        {
          "data": {
            "image/png": "[encoded data removed]",
            "text/plain": [
              "<Figure size 1000x500 with 1 Axes>"
            ]
          },
          "metadata": {},
          "output_type": "display_data"
        },
        {
          "name": "stdout",
          "output_type": "stream",
          "text": [
            "Campaign Name          0\n",
            "Date                   0\n",
            "Spend [USD]            0\n",
            "# of Impressions       1\n",
            "Reach                  1\n",
            "# of Website Clicks    1\n",
            "# of Searches          1\n",
            "# of View Content      1\n",
            "# of Add to Cart       1\n",
            "# of Purchase          1\n",
            "dtype: int64\n"
          ]
        }
      ],
      "source": [
        "#TODO : check for null values in control\n",
        "\n",
        "# missing values in control dataframe\n",
        "plt.figure(figsize=(10,5))\n",
        "sns.heatmap(df_control.isnull(),cbar=False,cmap=\"viridis\")\n",
        "plt.title(\"Control Null Values\")\n",
        "plt.xlabel(\"Columns\")\n",
        "plt.ylabel(\"Rows\")\n",
        "plt.xticks(rotation=90)\n",
        "plt.show()\n",
        "\n",
        "# count them\n",
        "print(df_control.isnull().sum())\n",
        "\n",
        "# same for test\n",
        "plt.figure(figsize=(10,5))\n",
        "sns.heatmap(df_test.isnull(),cbar=False,cmap=\"viridis\")\n",
        "plt.title(\"Test Null Values\")\n",
        "plt.xlabel(\"Columns\")\n",
        "plt.ylabel(\"Rows\")\n",
        "plt.xticks(rotation=90)\n",
        "plt.show()\n",
        "\n",
        "# count them\n",
        "print(df_test.isnull().sum())"
      ]
    },
    {
      "cell_type": "markdown",
      "metadata": {
        "id": "GX_A--PTNDAT"
      },
      "source": [
        "All missing values are very well located in row 4"
      ]
    },
    {
      "cell_type": "code",
      "execution_count": 8,
      "metadata": {
        "colab": {
          "base_uri": "https://localhost:8080/",
          "height": 876
        },
        "id": "xjd8K7ppNjjQ",
        "outputId": "254669c0-e047-4433-d76f-ad6f87762a27"
      },
      "outputs": [
        {
          "name": "stdout",
          "output_type": "stream",
          "text": [
            "## The control categ dataframe head is:\n"
          ]
        },
        {
          "data": {
            "text/html": [
              "<div>\n",
              "<style scoped>\n",
              "    .dataframe tbody tr th:only-of-type {\n",
              "        vertical-align: middle;\n",
              "    }\n",
              "\n",
              "    .dataframe tbody tr th {\n",
              "        vertical-align: top;\n",
              "    }\n",
              "\n",
              "    .dataframe thead th {\n",
              "        text-align: right;\n",
              "    }\n",
              "</style>\n",
              "<table border=\"1\" class=\"dataframe\">\n",
              "  <thead>\n",
              "    <tr style=\"text-align: right;\">\n",
              "      <th></th>\n",
              "      <th>Campaign Name</th>\n",
              "      <th>Date</th>\n",
              "    </tr>\n",
              "  </thead>\n",
              "  <tbody>\n",
              "    <tr>\n",
              "      <th>0</th>\n",
              "      <td>Control Campaign</td>\n",
              "      <td>1.08.2019</td>\n",
              "    </tr>\n",
              "    <tr>\n",
              "      <th>1</th>\n",
              "      <td>Control Campaign</td>\n",
              "      <td>2.08.2019</td>\n",
              "    </tr>\n",
              "    <tr>\n",
              "      <th>2</th>\n",
              "      <td>Control Campaign</td>\n",
              "      <td>3.08.2019</td>\n",
              "    </tr>\n",
              "    <tr>\n",
              "      <th>3</th>\n",
              "      <td>Control Campaign</td>\n",
              "      <td>4.08.2019</td>\n",
              "    </tr>\n",
              "    <tr>\n",
              "      <th>4</th>\n",
              "      <td>Control Campaign</td>\n",
              "      <td>5.08.2019</td>\n",
              "    </tr>\n",
              "  </tbody>\n",
              "</table>\n",
              "</div>"
            ],
            "text/plain": [
              "      Campaign Name       Date\n",
              "0  Control Campaign  1.08.2019\n",
              "1  Control Campaign  2.08.2019\n",
              "2  Control Campaign  3.08.2019\n",
              "3  Control Campaign  4.08.2019\n",
              "4  Control Campaign  5.08.2019"
            ]
          },
          "metadata": {},
          "output_type": "display_data"
        },
        {
          "name": "stdout",
          "output_type": "stream",
          "text": [
            "\n",
            "## The control num dataframe head is:\n"
          ]
        },
        {
          "data": {
            "text/html": [
              "<div>\n",
              "<style scoped>\n",
              "    .dataframe tbody tr th:only-of-type {\n",
              "        vertical-align: middle;\n",
              "    }\n",
              "\n",
              "    .dataframe tbody tr th {\n",
              "        vertical-align: top;\n",
              "    }\n",
              "\n",
              "    .dataframe thead th {\n",
              "        text-align: right;\n",
              "    }\n",
              "</style>\n",
              "<table border=\"1\" class=\"dataframe\">\n",
              "  <thead>\n",
              "    <tr style=\"text-align: right;\">\n",
              "      <th></th>\n",
              "      <th>Spend [USD]</th>\n",
              "      <th># of Impressions</th>\n",
              "      <th>Reach</th>\n",
              "      <th># of Website Clicks</th>\n",
              "      <th># of Searches</th>\n",
              "      <th># of View Content</th>\n",
              "      <th># of Add to Cart</th>\n",
              "      <th># of Purchase</th>\n",
              "    </tr>\n",
              "  </thead>\n",
              "  <tbody>\n",
              "    <tr>\n",
              "      <th>0</th>\n",
              "      <td>2280</td>\n",
              "      <td>82702.0</td>\n",
              "      <td>56930.0</td>\n",
              "      <td>7016.0</td>\n",
              "      <td>2290.0</td>\n",
              "      <td>2159.0</td>\n",
              "      <td>1819.0</td>\n",
              "      <td>618.0</td>\n",
              "    </tr>\n",
              "    <tr>\n",
              "      <th>1</th>\n",
              "      <td>1757</td>\n",
              "      <td>121040.0</td>\n",
              "      <td>102513.0</td>\n",
              "      <td>8110.0</td>\n",
              "      <td>2033.0</td>\n",
              "      <td>1841.0</td>\n",
              "      <td>1219.0</td>\n",
              "      <td>511.0</td>\n",
              "    </tr>\n",
              "    <tr>\n",
              "      <th>2</th>\n",
              "      <td>2343</td>\n",
              "      <td>131711.0</td>\n",
              "      <td>110862.0</td>\n",
              "      <td>6508.0</td>\n",
              "      <td>1737.0</td>\n",
              "      <td>1549.0</td>\n",
              "      <td>1134.0</td>\n",
              "      <td>372.0</td>\n",
              "    </tr>\n",
              "    <tr>\n",
              "      <th>3</th>\n",
              "      <td>1940</td>\n",
              "      <td>72878.0</td>\n",
              "      <td>61235.0</td>\n",
              "      <td>3065.0</td>\n",
              "      <td>1042.0</td>\n",
              "      <td>982.0</td>\n",
              "      <td>1183.0</td>\n",
              "      <td>340.0</td>\n",
              "    </tr>\n",
              "    <tr>\n",
              "      <th>4</th>\n",
              "      <td>1835</td>\n",
              "      <td>NaN</td>\n",
              "      <td>NaN</td>\n",
              "      <td>NaN</td>\n",
              "      <td>NaN</td>\n",
              "      <td>NaN</td>\n",
              "      <td>NaN</td>\n",
              "      <td>NaN</td>\n",
              "    </tr>\n",
              "  </tbody>\n",
              "</table>\n",
              "</div>"
            ],
            "text/plain": [
              "   Spend [USD]  # of Impressions     Reach  # of Website Clicks  \\\n",
              "0         2280           82702.0   56930.0               7016.0   \n",
              "1         1757          121040.0  102513.0               8110.0   \n",
              "2         2343          131711.0  110862.0               6508.0   \n",
              "3         1940           72878.0   61235.0               3065.0   \n",
              "4         1835               NaN       NaN                  NaN   \n",
              "\n",
              "   # of Searches  # of View Content  # of Add to Cart  # of Purchase  \n",
              "0         2290.0             2159.0            1819.0          618.0  \n",
              "1         2033.0             1841.0            1219.0          511.0  \n",
              "2         1737.0             1549.0            1134.0          372.0  \n",
              "3         1042.0              982.0            1183.0          340.0  \n",
              "4            NaN                NaN               NaN            NaN  "
            ]
          },
          "metadata": {},
          "output_type": "display_data"
        },
        {
          "name": "stdout",
          "output_type": "stream",
          "text": [
            "## The test categ dataframe head is:\n"
          ]
        },
        {
          "data": {
            "text/html": [
              "<div>\n",
              "<style scoped>\n",
              "    .dataframe tbody tr th:only-of-type {\n",
              "        vertical-align: middle;\n",
              "    }\n",
              "\n",
              "    .dataframe tbody tr th {\n",
              "        vertical-align: top;\n",
              "    }\n",
              "\n",
              "    .dataframe thead th {\n",
              "        text-align: right;\n",
              "    }\n",
              "</style>\n",
              "<table border=\"1\" class=\"dataframe\">\n",
              "  <thead>\n",
              "    <tr style=\"text-align: right;\">\n",
              "      <th></th>\n",
              "      <th>Campaign Name</th>\n",
              "      <th>Date</th>\n",
              "    </tr>\n",
              "  </thead>\n",
              "  <tbody>\n",
              "    <tr>\n",
              "      <th>0</th>\n",
              "      <td>Control Campaign</td>\n",
              "      <td>1.08.2019</td>\n",
              "    </tr>\n",
              "    <tr>\n",
              "      <th>1</th>\n",
              "      <td>Control Campaign</td>\n",
              "      <td>2.08.2019</td>\n",
              "    </tr>\n",
              "    <tr>\n",
              "      <th>2</th>\n",
              "      <td>Control Campaign</td>\n",
              "      <td>3.08.2019</td>\n",
              "    </tr>\n",
              "    <tr>\n",
              "      <th>3</th>\n",
              "      <td>Control Campaign</td>\n",
              "      <td>4.08.2019</td>\n",
              "    </tr>\n",
              "    <tr>\n",
              "      <th>4</th>\n",
              "      <td>Control Campaign</td>\n",
              "      <td>5.08.2019</td>\n",
              "    </tr>\n",
              "  </tbody>\n",
              "</table>\n",
              "</div>"
            ],
            "text/plain": [
              "      Campaign Name       Date\n",
              "0  Control Campaign  1.08.2019\n",
              "1  Control Campaign  2.08.2019\n",
              "2  Control Campaign  3.08.2019\n",
              "3  Control Campaign  4.08.2019\n",
              "4  Control Campaign  5.08.2019"
            ]
          },
          "metadata": {},
          "output_type": "display_data"
        },
        {
          "name": "stdout",
          "output_type": "stream",
          "text": [
            "\n",
            "## The test num dataframe head is:\n"
          ]
        },
        {
          "data": {
            "text/html": [
              "<div>\n",
              "<style scoped>\n",
              "    .dataframe tbody tr th:only-of-type {\n",
              "        vertical-align: middle;\n",
              "    }\n",
              "\n",
              "    .dataframe tbody tr th {\n",
              "        vertical-align: top;\n",
              "    }\n",
              "\n",
              "    .dataframe thead th {\n",
              "        text-align: right;\n",
              "    }\n",
              "</style>\n",
              "<table border=\"1\" class=\"dataframe\">\n",
              "  <thead>\n",
              "    <tr style=\"text-align: right;\">\n",
              "      <th></th>\n",
              "      <th>Spend [USD]</th>\n",
              "      <th># of Impressions</th>\n",
              "      <th>Reach</th>\n",
              "      <th># of Website Clicks</th>\n",
              "      <th># of Searches</th>\n",
              "      <th># of View Content</th>\n",
              "      <th># of Add to Cart</th>\n",
              "      <th># of Purchase</th>\n",
              "    </tr>\n",
              "  </thead>\n",
              "  <tbody>\n",
              "    <tr>\n",
              "      <th>0</th>\n",
              "      <td>2280</td>\n",
              "      <td>82702.0</td>\n",
              "      <td>56930.0</td>\n",
              "      <td>7016.0</td>\n",
              "      <td>2290.0</td>\n",
              "      <td>2159.0</td>\n",
              "      <td>1819.0</td>\n",
              "      <td>618.0</td>\n",
              "    </tr>\n",
              "    <tr>\n",
              "      <th>1</th>\n",
              "      <td>1757</td>\n",
              "      <td>121040.0</td>\n",
              "      <td>102513.0</td>\n",
              "      <td>8110.0</td>\n",
              "      <td>2033.0</td>\n",
              "      <td>1841.0</td>\n",
              "      <td>1219.0</td>\n",
              "      <td>511.0</td>\n",
              "    </tr>\n",
              "    <tr>\n",
              "      <th>2</th>\n",
              "      <td>2343</td>\n",
              "      <td>131711.0</td>\n",
              "      <td>110862.0</td>\n",
              "      <td>6508.0</td>\n",
              "      <td>1737.0</td>\n",
              "      <td>1549.0</td>\n",
              "      <td>1134.0</td>\n",
              "      <td>372.0</td>\n",
              "    </tr>\n",
              "    <tr>\n",
              "      <th>3</th>\n",
              "      <td>1940</td>\n",
              "      <td>72878.0</td>\n",
              "      <td>61235.0</td>\n",
              "      <td>3065.0</td>\n",
              "      <td>1042.0</td>\n",
              "      <td>982.0</td>\n",
              "      <td>1183.0</td>\n",
              "      <td>340.0</td>\n",
              "    </tr>\n",
              "    <tr>\n",
              "      <th>4</th>\n",
              "      <td>1835</td>\n",
              "      <td>NaN</td>\n",
              "      <td>NaN</td>\n",
              "      <td>NaN</td>\n",
              "      <td>NaN</td>\n",
              "      <td>NaN</td>\n",
              "      <td>NaN</td>\n",
              "      <td>NaN</td>\n",
              "    </tr>\n",
              "  </tbody>\n",
              "</table>\n",
              "</div>"
            ],
            "text/plain": [
              "   Spend [USD]  # of Impressions     Reach  # of Website Clicks  \\\n",
              "0         2280           82702.0   56930.0               7016.0   \n",
              "1         1757          121040.0  102513.0               8110.0   \n",
              "2         2343          131711.0  110862.0               6508.0   \n",
              "3         1940           72878.0   61235.0               3065.0   \n",
              "4         1835               NaN       NaN                  NaN   \n",
              "\n",
              "   # of Searches  # of View Content  # of Add to Cart  # of Purchase  \n",
              "0         2290.0             2159.0            1819.0          618.0  \n",
              "1         2033.0             1841.0            1219.0          511.0  \n",
              "2         1737.0             1549.0            1134.0          372.0  \n",
              "3         1042.0              982.0            1183.0          340.0  \n",
              "4            NaN                NaN               NaN            NaN  "
            ]
          },
          "metadata": {},
          "output_type": "display_data"
        }
      ],
      "source": [
        "#TODO : segment the control DataFrame into two separate DataFrames based on data type: one for categorical variables (kat_control) and one for numerical variables (num_control).\n",
        "\n",
        "# we call the predefined functions\n",
        "df_control, kat_control, cat_control_list = get_catvar(df_control)\n",
        "df_control, num_control, num_control_list = get_numvar(cat_control_list,df_control)\n",
        "\n",
        "# check it\n",
        "print(\"## The control categ dataframe head is:\")\n",
        "display(kat_control.head())\n",
        "\n",
        "print()\n",
        "print(\"## The control num dataframe head is:\")\n",
        "display(num_control.head())\n",
        "\n",
        "\n",
        "# repeat for test\n",
        "df_test, kat_test, cat_test_list = get_catvar(df_test)\n",
        "df_test, num_test, num_test_list = get_numvar(cat_test_list,df_test)\n",
        "\n",
        "# check it\n",
        "print(\"## The test categ dataframe head is:\")\n",
        "display(kat_test.head())\n",
        "\n",
        "print()\n",
        "print(\"## The test num dataframe head is:\")\n",
        "display(num_test.head())"
      ]
    },
    {
      "cell_type": "code",
      "execution_count": 9,
      "metadata": {
        "colab": {
          "base_uri": "https://localhost:8080/"
        },
        "id": "XUBSKm7dDKz_",
        "outputId": "cae45f83-2e57-4fae-a73a-9b97446aa9a1",
        "trusted": true
      },
      "outputs": [
        {
          "name": "stdout",
          "output_type": "stream",
          "text": [
            "## control categorical columns are: ['Campaign Name', 'Date']\n",
            "## control numerical columns are: ['Spend [USD]', '# of Impressions', 'Reach', '# of Website Clicks', '# of Searches', '# of View Content', '# of Add to Cart', '# of Purchase']\n"
          ]
        }
      ],
      "source": [
        "#TODO :produces lists of column names for both categories for further use or reference.\n",
        "print(f\"## control categorical columns are: {cat_control_list}\")\n",
        "print(f\"## control numerical columns are: {num_control_list}\")"
      ]
    },
    {
      "cell_type": "code",
      "execution_count": 10,
      "metadata": {
        "colab": {
          "base_uri": "https://localhost:8080/"
        },
        "id": "0JmqqTWJDKz_",
        "outputId": "f910c3d2-56a5-4cfa-f90c-b586d2ec8ac6",
        "trusted": true
      },
      "outputs": [
        {
          "name": "stdout",
          "output_type": "stream",
          "text": [
            "## There are 0 missing values in the num_control dataframe\n",
            "## There are 0 missing values in the num_test dataframe\n"
          ]
        }
      ],
      "source": [
        "# TODO : Fill the control dataframe values NaN value with KNNImputer.\n",
        "\n",
        "# we call predefined fill_NaNvalue\n",
        "num_control = fill_NaNValue(num_control)\n",
        "\n",
        "# check how many missing values remain\n",
        "print(f\"## There are {num_control.isnull().sum().sum()} missing values in the num_control dataframe\")\n",
        "\n",
        "# repeat for test\n",
        "num_test = fill_NaNValue(num_test)\n",
        "\n",
        "# check how many missing values remain\n",
        "print(f\"## There are {num_test.isnull().sum().sum()} missing values in the num_test dataframe\")"
      ]
    },
    {
      "cell_type": "code",
      "execution_count": 11,
      "metadata": {
        "colab": {
          "base_uri": "https://localhost:8080/",
          "height": 223
        },
        "id": "fvBuwD66DK0B",
        "outputId": "68673133-b7ed-4f13-bb23-f4999ffba262",
        "trusted": true
      },
      "outputs": [
        {
          "name": "stdout",
          "output_type": "stream",
          "text": [
            "## Combined Control DataFrame:\n"
          ]
        },
        {
          "data": {
            "text/html": [
              "<div>\n",
              "<style scoped>\n",
              "    .dataframe tbody tr th:only-of-type {\n",
              "        vertical-align: middle;\n",
              "    }\n",
              "\n",
              "    .dataframe tbody tr th {\n",
              "        vertical-align: top;\n",
              "    }\n",
              "\n",
              "    .dataframe thead th {\n",
              "        text-align: right;\n",
              "    }\n",
              "</style>\n",
              "<table border=\"1\" class=\"dataframe\">\n",
              "  <thead>\n",
              "    <tr style=\"text-align: right;\">\n",
              "      <th></th>\n",
              "      <th>Campaign Name</th>\n",
              "      <th>Date</th>\n",
              "      <th>Spend [USD]</th>\n",
              "      <th># of Impressions</th>\n",
              "      <th>Reach</th>\n",
              "      <th># of Website Clicks</th>\n",
              "      <th># of Searches</th>\n",
              "      <th># of View Content</th>\n",
              "      <th># of Add to Cart</th>\n",
              "      <th># of Purchase</th>\n",
              "    </tr>\n",
              "  </thead>\n",
              "  <tbody>\n",
              "    <tr>\n",
              "      <th>0</th>\n",
              "      <td>Control Campaign</td>\n",
              "      <td>1.08.2019</td>\n",
              "      <td>2280.0</td>\n",
              "      <td>82702.0</td>\n",
              "      <td>56930.000</td>\n",
              "      <td>7016.000</td>\n",
              "      <td>2290.00</td>\n",
              "      <td>2159.00</td>\n",
              "      <td>1819.000</td>\n",
              "      <td>618.000</td>\n",
              "    </tr>\n",
              "    <tr>\n",
              "      <th>1</th>\n",
              "      <td>Control Campaign</td>\n",
              "      <td>2.08.2019</td>\n",
              "      <td>1757.0</td>\n",
              "      <td>121040.0</td>\n",
              "      <td>102513.000</td>\n",
              "      <td>8110.000</td>\n",
              "      <td>2033.00</td>\n",
              "      <td>1841.00</td>\n",
              "      <td>1219.000</td>\n",
              "      <td>511.000</td>\n",
              "    </tr>\n",
              "    <tr>\n",
              "      <th>2</th>\n",
              "      <td>Control Campaign</td>\n",
              "      <td>3.08.2019</td>\n",
              "      <td>2343.0</td>\n",
              "      <td>131711.0</td>\n",
              "      <td>110862.000</td>\n",
              "      <td>6508.000</td>\n",
              "      <td>1737.00</td>\n",
              "      <td>1549.00</td>\n",
              "      <td>1134.000</td>\n",
              "      <td>372.000</td>\n",
              "    </tr>\n",
              "    <tr>\n",
              "      <th>3</th>\n",
              "      <td>Control Campaign</td>\n",
              "      <td>4.08.2019</td>\n",
              "      <td>1940.0</td>\n",
              "      <td>72878.0</td>\n",
              "      <td>61235.000</td>\n",
              "      <td>3065.000</td>\n",
              "      <td>1042.00</td>\n",
              "      <td>982.00</td>\n",
              "      <td>1183.000</td>\n",
              "      <td>340.000</td>\n",
              "    </tr>\n",
              "    <tr>\n",
              "      <th>4</th>\n",
              "      <td>Control Campaign</td>\n",
              "      <td>5.08.2019</td>\n",
              "      <td>1835.0</td>\n",
              "      <td>100341.5</td>\n",
              "      <td>82046.625</td>\n",
              "      <td>5527.375</td>\n",
              "      <td>2023.25</td>\n",
              "      <td>1821.75</td>\n",
              "      <td>1231.875</td>\n",
              "      <td>514.375</td>\n",
              "    </tr>\n",
              "  </tbody>\n",
              "</table>\n",
              "</div>"
            ],
            "text/plain": [
              "      Campaign Name       Date  Spend [USD]  # of Impressions       Reach  \\\n",
              "0  Control Campaign  1.08.2019       2280.0           82702.0   56930.000   \n",
              "1  Control Campaign  2.08.2019       1757.0          121040.0  102513.000   \n",
              "2  Control Campaign  3.08.2019       2343.0          131711.0  110862.000   \n",
              "3  Control Campaign  4.08.2019       1940.0           72878.0   61235.000   \n",
              "4  Control Campaign  5.08.2019       1835.0          100341.5   82046.625   \n",
              "\n",
              "   # of Website Clicks  # of Searches  # of View Content  # of Add to Cart  \\\n",
              "0             7016.000        2290.00            2159.00          1819.000   \n",
              "1             8110.000        2033.00            1841.00          1219.000   \n",
              "2             6508.000        1737.00            1549.00          1134.000   \n",
              "3             3065.000        1042.00             982.00          1183.000   \n",
              "4             5527.375        2023.25            1821.75          1231.875   \n",
              "\n",
              "   # of Purchase  \n",
              "0        618.000  \n",
              "1        511.000  \n",
              "2        372.000  \n",
              "3        340.000  \n",
              "4        514.375  "
            ]
          },
          "metadata": {},
          "output_type": "display_data"
        }
      ],
      "source": [
        "# TODO : Combine categorical and numerical variables with the concept.\n",
        "control = pd.concat([kat_control, num_control], axis=1)\n",
        "\n",
        "# Display the combined DataFrame\n",
        "print(\"## Combined Control DataFrame:\")\n",
        "display(control.head())\n",
        "\n",
        "# repeat for test\n",
        "test = pd.concat([kat_test, num_test], axis=1)"
      ]
    },
    {
      "cell_type": "code",
      "execution_count": 12,
      "metadata": {
        "colab": {
          "base_uri": "https://localhost:8080/"
        },
        "id": "upfhU8BZDK0C",
        "outputId": "fb0f8a5d-6043-417a-df05-215bea65a3fe",
        "trusted": true
      },
      "outputs": [
        {
          "name": "stdout",
          "output_type": "stream",
          "text": [
            "(30, 10)\n",
            "(30, 10)\n"
          ]
        }
      ],
      "source": [
        "# Let's do a data type conversion.\n",
        "\n",
        "control = convert_datatype(control)\n",
        "test = convert_datatype(test)\n",
        "\n",
        "print(control.shape)\n",
        "print(test.shape)"
      ]
    },
    {
      "cell_type": "code",
      "execution_count": 13,
      "metadata": {
        "colab": {
          "base_uri": "https://localhost:8080/"
        },
        "id": "FsNo0ySmDK0C",
        "outputId": "bb5ab0d1-5a7d-4a4f-c322-818f78624cb9",
        "trusted": true
      },
      "outputs": [
        {
          "name": "stdout",
          "output_type": "stream",
          "text": [
            "<class 'pandas.core.frame.DataFrame'>\n",
            "RangeIndex: 30 entries, 0 to 29\n",
            "Data columns (total 10 columns):\n",
            " #   Column               Non-Null Count  Dtype  \n",
            "---  ------               --------------  -----  \n",
            " 0   Campaign Name        30 non-null     object \n",
            " 1   Date                 30 non-null     object \n",
            " 2   Spend [USD]          30 non-null     float64\n",
            " 3   # of Impressions     30 non-null     int64  \n",
            " 4   Reach                30 non-null     int64  \n",
            " 5   # of Website Clicks  30 non-null     int64  \n",
            " 6   # of Searches        30 non-null     int64  \n",
            " 7   # of View Content    30 non-null     int64  \n",
            " 8   # of Add to Cart     30 non-null     int64  \n",
            " 9   # of Purchase        30 non-null     int64  \n",
            "dtypes: float64(1), int64(7), object(2)\n",
            "memory usage: 2.5+ KB\n",
            "None\n",
            "<class 'pandas.core.frame.DataFrame'>\n",
            "RangeIndex: 30 entries, 0 to 29\n",
            "Data columns (total 10 columns):\n",
            " #   Column               Non-Null Count  Dtype  \n",
            "---  ------               --------------  -----  \n",
            " 0   Campaign Name        30 non-null     object \n",
            " 1   Date                 30 non-null     object \n",
            " 2   Spend [USD]          30 non-null     float64\n",
            " 3   # of Impressions     30 non-null     int64  \n",
            " 4   Reach                30 non-null     int64  \n",
            " 5   # of Website Clicks  30 non-null     int64  \n",
            " 6   # of Searches        30 non-null     int64  \n",
            " 7   # of View Content    30 non-null     int64  \n",
            " 8   # of Add to Cart     30 non-null     int64  \n",
            " 9   # of Purchase        30 non-null     int64  \n",
            "dtypes: float64(1), int64(7), object(2)\n",
            "memory usage: 2.5+ KB\n",
            "None\n"
          ]
        }
      ],
      "source": [
        "# Check your dataframes\n",
        "\n",
        "print(control.info())\n",
        "print(test.info())"
      ]
    },
    {
      "cell_type": "markdown",
      "metadata": {
        "id": "3fgAFAElDK0C"
      },
      "source": [
        "## 4. Preparing Data for Hypothesis Testing (A/B Test)\n",
        "\n"
      ]
    },
    {
      "cell_type": "code",
      "execution_count": 14,
      "metadata": {
        "colab": {
          "base_uri": "https://localhost:8080/",
          "height": 655
        },
        "id": "dGIMTMSVDK0C",
        "outputId": "fcfc1c74-9926-4b77-86d2-51ad09490606",
        "trusted": true
      },
      "outputs": [
        {
          "name": "stdout",
          "output_type": "stream",
          "text": [
            "## The control dataframe head is:\n"
          ]
        },
        {
          "data": {
            "text/html": [
              "<div>\n",
              "<style scoped>\n",
              "    .dataframe tbody tr th:only-of-type {\n",
              "        vertical-align: middle;\n",
              "    }\n",
              "\n",
              "    .dataframe tbody tr th {\n",
              "        vertical-align: top;\n",
              "    }\n",
              "\n",
              "    .dataframe thead th {\n",
              "        text-align: right;\n",
              "    }\n",
              "</style>\n",
              "<table border=\"1\" class=\"dataframe\">\n",
              "  <thead>\n",
              "    <tr style=\"text-align: right;\">\n",
              "      <th></th>\n",
              "      <th>Campaign Name</th>\n",
              "      <th>Date</th>\n",
              "      <th>Spend [USD]</th>\n",
              "      <th># of Impressions</th>\n",
              "      <th>Reach</th>\n",
              "      <th># of Website Clicks</th>\n",
              "      <th># of Searches</th>\n",
              "      <th># of View Content</th>\n",
              "      <th># of Add to Cart</th>\n",
              "      <th># of Purchase</th>\n",
              "      <th>Website Click Through Rate</th>\n",
              "      <th>Number of Action</th>\n",
              "      <th>Cost per Action</th>\n",
              "      <th>Conversion Rate</th>\n",
              "    </tr>\n",
              "  </thead>\n",
              "  <tbody>\n",
              "    <tr>\n",
              "      <th>0</th>\n",
              "      <td>Control Campaign</td>\n",
              "      <td>1.08.2019</td>\n",
              "      <td>2280.0</td>\n",
              "      <td>82702</td>\n",
              "      <td>56930</td>\n",
              "      <td>7016</td>\n",
              "      <td>2290</td>\n",
              "      <td>2159</td>\n",
              "      <td>1819</td>\n",
              "      <td>618</td>\n",
              "      <td>8.483471</td>\n",
              "      <td>96604</td>\n",
              "      <td>0.023602</td>\n",
              "      <td>1376.909920</td>\n",
              "    </tr>\n",
              "    <tr>\n",
              "      <th>1</th>\n",
              "      <td>Control Campaign</td>\n",
              "      <td>2.08.2019</td>\n",
              "      <td>1757.0</td>\n",
              "      <td>121040</td>\n",
              "      <td>102513</td>\n",
              "      <td>8110</td>\n",
              "      <td>2033</td>\n",
              "      <td>1841</td>\n",
              "      <td>1219</td>\n",
              "      <td>511</td>\n",
              "      <td>6.700264</td>\n",
              "      <td>134754</td>\n",
              "      <td>0.013039</td>\n",
              "      <td>1661.578298</td>\n",
              "    </tr>\n",
              "    <tr>\n",
              "      <th>2</th>\n",
              "      <td>Control Campaign</td>\n",
              "      <td>3.08.2019</td>\n",
              "      <td>2343.0</td>\n",
              "      <td>131711</td>\n",
              "      <td>110862</td>\n",
              "      <td>6508</td>\n",
              "      <td>1737</td>\n",
              "      <td>1549</td>\n",
              "      <td>1134</td>\n",
              "      <td>372</td>\n",
              "      <td>4.941121</td>\n",
              "      <td>143011</td>\n",
              "      <td>0.016383</td>\n",
              "      <td>2197.464659</td>\n",
              "    </tr>\n",
              "    <tr>\n",
              "      <th>3</th>\n",
              "      <td>Control Campaign</td>\n",
              "      <td>4.08.2019</td>\n",
              "      <td>1940.0</td>\n",
              "      <td>72878</td>\n",
              "      <td>61235</td>\n",
              "      <td>3065</td>\n",
              "      <td>1042</td>\n",
              "      <td>982</td>\n",
              "      <td>1183</td>\n",
              "      <td>340</td>\n",
              "      <td>4.205659</td>\n",
              "      <td>79490</td>\n",
              "      <td>0.024406</td>\n",
              "      <td>2593.474715</td>\n",
              "    </tr>\n",
              "    <tr>\n",
              "      <th>4</th>\n",
              "      <td>Control Campaign</td>\n",
              "      <td>5.08.2019</td>\n",
              "      <td>1835.0</td>\n",
              "      <td>100341</td>\n",
              "      <td>82046</td>\n",
              "      <td>5527</td>\n",
              "      <td>2023</td>\n",
              "      <td>1821</td>\n",
              "      <td>1231</td>\n",
              "      <td>514</td>\n",
              "      <td>5.508217</td>\n",
              "      <td>111457</td>\n",
              "      <td>0.016464</td>\n",
              "      <td>2016.591279</td>\n",
              "    </tr>\n",
              "  </tbody>\n",
              "</table>\n",
              "</div>"
            ],
            "text/plain": [
              "      Campaign Name       Date  Spend [USD]  # of Impressions   Reach  \\\n",
              "0  Control Campaign  1.08.2019       2280.0             82702   56930   \n",
              "1  Control Campaign  2.08.2019       1757.0            121040  102513   \n",
              "2  Control Campaign  3.08.2019       2343.0            131711  110862   \n",
              "3  Control Campaign  4.08.2019       1940.0             72878   61235   \n",
              "4  Control Campaign  5.08.2019       1835.0            100341   82046   \n",
              "\n",
              "   # of Website Clicks  # of Searches  # of View Content  # of Add to Cart  \\\n",
              "0                 7016           2290               2159              1819   \n",
              "1                 8110           2033               1841              1219   \n",
              "2                 6508           1737               1549              1134   \n",
              "3                 3065           1042                982              1183   \n",
              "4                 5527           2023               1821              1231   \n",
              "\n",
              "   # of Purchase  Website Click Through Rate  Number of Action  \\\n",
              "0            618                    8.483471             96604   \n",
              "1            511                    6.700264            134754   \n",
              "2            372                    4.941121            143011   \n",
              "3            340                    4.205659             79490   \n",
              "4            514                    5.508217            111457   \n",
              "\n",
              "   Cost per Action  Conversion Rate  \n",
              "0         0.023602      1376.909920  \n",
              "1         0.013039      1661.578298  \n",
              "2         0.016383      2197.464659  \n",
              "3         0.024406      2593.474715  \n",
              "4         0.016464      2016.591279  "
            ]
          },
          "metadata": {},
          "output_type": "display_data"
        },
        {
          "name": "stdout",
          "output_type": "stream",
          "text": [
            "\n",
            "## The test dataframe head is:\n"
          ]
        },
        {
          "data": {
            "text/html": [
              "<div>\n",
              "<style scoped>\n",
              "    .dataframe tbody tr th:only-of-type {\n",
              "        vertical-align: middle;\n",
              "    }\n",
              "\n",
              "    .dataframe tbody tr th {\n",
              "        vertical-align: top;\n",
              "    }\n",
              "\n",
              "    .dataframe thead th {\n",
              "        text-align: right;\n",
              "    }\n",
              "</style>\n",
              "<table border=\"1\" class=\"dataframe\">\n",
              "  <thead>\n",
              "    <tr style=\"text-align: right;\">\n",
              "      <th></th>\n",
              "      <th>Campaign Name</th>\n",
              "      <th>Date</th>\n",
              "      <th>Spend [USD]</th>\n",
              "      <th># of Impressions</th>\n",
              "      <th>Reach</th>\n",
              "      <th># of Website Clicks</th>\n",
              "      <th># of Searches</th>\n",
              "      <th># of View Content</th>\n",
              "      <th># of Add to Cart</th>\n",
              "      <th># of Purchase</th>\n",
              "      <th>Website Click Through Rate</th>\n",
              "      <th>Number of Action</th>\n",
              "      <th>Cost per Action</th>\n",
              "      <th>Conversion Rate</th>\n",
              "    </tr>\n",
              "  </thead>\n",
              "  <tbody>\n",
              "    <tr>\n",
              "      <th>0</th>\n",
              "      <td>Control Campaign</td>\n",
              "      <td>1.08.2019</td>\n",
              "      <td>2280.0</td>\n",
              "      <td>82702</td>\n",
              "      <td>56930</td>\n",
              "      <td>7016</td>\n",
              "      <td>2290</td>\n",
              "      <td>2159</td>\n",
              "      <td>1819</td>\n",
              "      <td>618</td>\n",
              "      <td>8.483471</td>\n",
              "      <td>96604</td>\n",
              "      <td>0.023602</td>\n",
              "      <td>1376.909920</td>\n",
              "    </tr>\n",
              "    <tr>\n",
              "      <th>1</th>\n",
              "      <td>Control Campaign</td>\n",
              "      <td>2.08.2019</td>\n",
              "      <td>1757.0</td>\n",
              "      <td>121040</td>\n",
              "      <td>102513</td>\n",
              "      <td>8110</td>\n",
              "      <td>2033</td>\n",
              "      <td>1841</td>\n",
              "      <td>1219</td>\n",
              "      <td>511</td>\n",
              "      <td>6.700264</td>\n",
              "      <td>134754</td>\n",
              "      <td>0.013039</td>\n",
              "      <td>1661.578298</td>\n",
              "    </tr>\n",
              "    <tr>\n",
              "      <th>2</th>\n",
              "      <td>Control Campaign</td>\n",
              "      <td>3.08.2019</td>\n",
              "      <td>2343.0</td>\n",
              "      <td>131711</td>\n",
              "      <td>110862</td>\n",
              "      <td>6508</td>\n",
              "      <td>1737</td>\n",
              "      <td>1549</td>\n",
              "      <td>1134</td>\n",
              "      <td>372</td>\n",
              "      <td>4.941121</td>\n",
              "      <td>143011</td>\n",
              "      <td>0.016383</td>\n",
              "      <td>2197.464659</td>\n",
              "    </tr>\n",
              "    <tr>\n",
              "      <th>3</th>\n",
              "      <td>Control Campaign</td>\n",
              "      <td>4.08.2019</td>\n",
              "      <td>1940.0</td>\n",
              "      <td>72878</td>\n",
              "      <td>61235</td>\n",
              "      <td>3065</td>\n",
              "      <td>1042</td>\n",
              "      <td>982</td>\n",
              "      <td>1183</td>\n",
              "      <td>340</td>\n",
              "      <td>4.205659</td>\n",
              "      <td>79490</td>\n",
              "      <td>0.024406</td>\n",
              "      <td>2593.474715</td>\n",
              "    </tr>\n",
              "    <tr>\n",
              "      <th>4</th>\n",
              "      <td>Control Campaign</td>\n",
              "      <td>5.08.2019</td>\n",
              "      <td>1835.0</td>\n",
              "      <td>100341</td>\n",
              "      <td>82046</td>\n",
              "      <td>5527</td>\n",
              "      <td>2023</td>\n",
              "      <td>1821</td>\n",
              "      <td>1231</td>\n",
              "      <td>514</td>\n",
              "      <td>5.508217</td>\n",
              "      <td>111457</td>\n",
              "      <td>0.016464</td>\n",
              "      <td>2016.591279</td>\n",
              "    </tr>\n",
              "  </tbody>\n",
              "</table>\n",
              "</div>"
            ],
            "text/plain": [
              "      Campaign Name       Date  Spend [USD]  # of Impressions   Reach  \\\n",
              "0  Control Campaign  1.08.2019       2280.0             82702   56930   \n",
              "1  Control Campaign  2.08.2019       1757.0            121040  102513   \n",
              "2  Control Campaign  3.08.2019       2343.0            131711  110862   \n",
              "3  Control Campaign  4.08.2019       1940.0             72878   61235   \n",
              "4  Control Campaign  5.08.2019       1835.0            100341   82046   \n",
              "\n",
              "   # of Website Clicks  # of Searches  # of View Content  # of Add to Cart  \\\n",
              "0                 7016           2290               2159              1819   \n",
              "1                 8110           2033               1841              1219   \n",
              "2                 6508           1737               1549              1134   \n",
              "3                 3065           1042                982              1183   \n",
              "4                 5527           2023               1821              1231   \n",
              "\n",
              "   # of Purchase  Website Click Through Rate  Number of Action  \\\n",
              "0            618                    8.483471             96604   \n",
              "1            511                    6.700264            134754   \n",
              "2            372                    4.941121            143011   \n",
              "3            340                    4.205659             79490   \n",
              "4            514                    5.508217            111457   \n",
              "\n",
              "   Cost per Action  Conversion Rate  \n",
              "0         0.023602      1376.909920  \n",
              "1         0.013039      1661.578298  \n",
              "2         0.016383      2197.464659  \n",
              "3         0.024406      2593.474715  \n",
              "4         0.016464      2016.591279  "
            ]
          },
          "metadata": {},
          "output_type": "display_data"
        }
      ],
      "source": [
        "#TODO : Apply the feature engineering on control and test, what does the function do exactly ?\n",
        "\n",
        "# we call the function feature_engineering\n",
        "control, test = feature_engineering(control, test)\n",
        "\n",
        "# check it\n",
        "print(\"## The control dataframe head is:\")\n",
        "display(control.head())\n",
        "\n",
        "print()\n",
        "print(\"## The test dataframe head is:\")\n",
        "display(test.head())\n",
        "\n",
        "#TODO : Prepare and generate features for visualization with the help of a function"
      ]
    },
    {
      "cell_type": "markdown",
      "metadata": {
        "id": "_4Qetgg2ZRON"
      },
      "source": [
        "The 'feature_engineering' function creates new features for both control and test groups to aid in analysis:\n",
        "- Website Click Through Rate: The percentage of clicks per number of impressions.\n",
        "- Number of Action: Sum of various engagement metrics like impressions, clicks, etc.\n",
        "- Cost per Action: The spend divided by the number of actions.\n",
        "- Conversion Rate: The number of actions divided by the number of clicks, expressed as a percentage."
      ]
    },
    {
      "cell_type": "code",
      "execution_count": 15,
      "metadata": {
        "colab": {
          "base_uri": "https://localhost:8080/",
          "height": 206
        },
        "id": "9svg7xDbZii8",
        "outputId": "7c4c4939-eee4-451b-ef8f-80396f8c4420"
      },
      "outputs": [
        {
          "data": {
            "text/html": [
              "<div>\n",
              "<style scoped>\n",
              "    .dataframe tbody tr th:only-of-type {\n",
              "        vertical-align: middle;\n",
              "    }\n",
              "\n",
              "    .dataframe tbody tr th {\n",
              "        vertical-align: top;\n",
              "    }\n",
              "\n",
              "    .dataframe thead th {\n",
              "        text-align: right;\n",
              "    }\n",
              "</style>\n",
              "<table border=\"1\" class=\"dataframe\">\n",
              "  <thead>\n",
              "    <tr style=\"text-align: right;\">\n",
              "      <th></th>\n",
              "      <th># of Purchase</th>\n",
              "      <th>Website Click Through Rate</th>\n",
              "      <th>Cost per Action</th>\n",
              "      <th>Conversion Rate</th>\n",
              "      <th>Group</th>\n",
              "    </tr>\n",
              "  </thead>\n",
              "  <tbody>\n",
              "    <tr>\n",
              "      <th>0</th>\n",
              "      <td>618</td>\n",
              "      <td>8.483471</td>\n",
              "      <td>0.023602</td>\n",
              "      <td>1376.909920</td>\n",
              "      <td>A (MaximumBidding)</td>\n",
              "    </tr>\n",
              "    <tr>\n",
              "      <th>1</th>\n",
              "      <td>511</td>\n",
              "      <td>6.700264</td>\n",
              "      <td>0.013039</td>\n",
              "      <td>1661.578298</td>\n",
              "      <td>A (MaximumBidding)</td>\n",
              "    </tr>\n",
              "    <tr>\n",
              "      <th>2</th>\n",
              "      <td>372</td>\n",
              "      <td>4.941121</td>\n",
              "      <td>0.016383</td>\n",
              "      <td>2197.464659</td>\n",
              "      <td>A (MaximumBidding)</td>\n",
              "    </tr>\n",
              "    <tr>\n",
              "      <th>3</th>\n",
              "      <td>340</td>\n",
              "      <td>4.205659</td>\n",
              "      <td>0.024406</td>\n",
              "      <td>2593.474715</td>\n",
              "      <td>A (MaximumBidding)</td>\n",
              "    </tr>\n",
              "    <tr>\n",
              "      <th>4</th>\n",
              "      <td>514</td>\n",
              "      <td>5.508217</td>\n",
              "      <td>0.016464</td>\n",
              "      <td>2016.591279</td>\n",
              "      <td>A (MaximumBidding)</td>\n",
              "    </tr>\n",
              "  </tbody>\n",
              "</table>\n",
              "</div>"
            ],
            "text/plain": [
              "   # of Purchase  Website Click Through Rate  Cost per Action  \\\n",
              "0            618                    8.483471         0.023602   \n",
              "1            511                    6.700264         0.013039   \n",
              "2            372                    4.941121         0.016383   \n",
              "3            340                    4.205659         0.024406   \n",
              "4            514                    5.508217         0.016464   \n",
              "\n",
              "   Conversion Rate               Group  \n",
              "0      1376.909920  A (MaximumBidding)  \n",
              "1      1661.578298  A (MaximumBidding)  \n",
              "2      2197.464659  A (MaximumBidding)  \n",
              "3      2593.474715  A (MaximumBidding)  \n",
              "4      2016.591279  A (MaximumBidding)  "
            ]
          },
          "metadata": {},
          "output_type": "display_data"
        }
      ],
      "source": [
        "#TODO : Prepare and generate features for visualization with the help of a function\n",
        "\n",
        "# we call the data_prepare_for_visualization function\n",
        "# Prepares control and test group data for hypothesis testing by combining \"# of Purchase\" data into a single DataFrame.\n",
        "# The resulting DataFrame is structured for direct comparison between groups.\n",
        "AB, control_nop, test_nop = data_prepare_for_visualization(control, test)\n",
        "display(AB.head())"
      ]
    },
    {
      "cell_type": "markdown",
      "metadata": {
        "id": "zWhSa2gMDK0D"
      },
      "source": [
        "Let's look at the numbers A and B."
      ]
    },
    {
      "cell_type": "code",
      "execution_count": 16,
      "metadata": {
        "colab": {
          "base_uri": "https://localhost:8080/",
          "height": 178
        },
        "id": "kqButFScDK0D",
        "outputId": "4938bbc4-1f2d-471d-c4df-c2cb5d014b13",
        "trusted": true
      },
      "outputs": [
        {
          "data": {
            "text/plain": [
              "Group\n",
              "A (MaximumBidding)    30\n",
              "B (AverageBidding)    30\n",
              "Name: count, dtype: int64"
            ]
          },
          "execution_count": 16,
          "metadata": {},
          "output_type": "execute_result"
        }
      ],
      "source": [
        "AB[\"Group\"].value_counts()"
      ]
    },
    {
      "cell_type": "markdown",
      "metadata": {
        "id": "LcQoKNZfDK0D"
      },
      "source": [
        "### 4.1. Website Click Through Rate (CTR)\n",
        "Review :\n",
        "- It is a rate that shows how often the users who saw the ad CLICK the ad.\n",
        "- Number of Ad Clicks / Number of Ad Displays\n",
        "- Example: 5 clicks, CTR at 100 impressions = 5%\n",
        "\n",
        "- ##### Use visualizations to compare test and control group metrics, such as Website Click Through Rate, Cost per Action, and Conversion Rates in addition to Purchase numbers."
      ]
    },
    {
      "cell_type": "code",
      "execution_count": 17,
      "metadata": {
        "colab": {
          "base_uri": "https://localhost:8080/",
          "height": 773
        },
        "id": "sWYF0FWdDK0D",
        "outputId": "d28265a5-50d0-44f3-b46e-f60c1baae2c9",
        "trusted": true
      },
      "outputs": [
        {
          "data": {
            "image/png": "[encoded data removed]",
            "text/plain": [
              "<Figure size 1800x900 with 4 Axes>"
            ]
          },
          "metadata": {},
          "output_type": "display_data"
        }
      ],
      "source": [
        "# Fix duplicate index by resetting it\n",
        "# AB = AB.reset_index(drop=True)  # this fix is from chatbot and I HAVE NO IDEA WHY NEEDED\n",
        "\n",
        "cols = [\"Website Click Through Rate\",\"Cost per Action\",\"Conversion Rate\",\"# of Purchase\"]\n",
        "show_boxplot(2,2,[0,1],cols,(18,9))"
      ]
    },
    {
      "cell_type": "code",
      "execution_count": 18,
      "metadata": {
        "colab": {
          "base_uri": "https://localhost:8080/",
          "height": 143
        },
        "id": "J2o5A1f1DK0D",
        "outputId": "328847cc-97c5-4d45-9941-3e1d5ba93cfe",
        "trusted": true
      },
      "outputs": [
        {
          "data": {
            "text/html": [
              "<div>\n",
              "<style scoped>\n",
              "    .dataframe tbody tr th:only-of-type {\n",
              "        vertical-align: middle;\n",
              "    }\n",
              "\n",
              "    .dataframe tbody tr th {\n",
              "        vertical-align: top;\n",
              "    }\n",
              "\n",
              "    .dataframe thead th {\n",
              "        text-align: right;\n",
              "    }\n",
              "</style>\n",
              "<table border=\"1\" class=\"dataframe\">\n",
              "  <thead>\n",
              "    <tr style=\"text-align: right;\">\n",
              "      <th></th>\n",
              "      <th>A</th>\n",
              "      <th>B</th>\n",
              "    </tr>\n",
              "  </thead>\n",
              "  <tbody>\n",
              "    <tr>\n",
              "      <th>0</th>\n",
              "      <td>618</td>\n",
              "      <td>618</td>\n",
              "    </tr>\n",
              "    <tr>\n",
              "      <th>1</th>\n",
              "      <td>511</td>\n",
              "      <td>511</td>\n",
              "    </tr>\n",
              "    <tr>\n",
              "      <th>2</th>\n",
              "      <td>372</td>\n",
              "      <td>372</td>\n",
              "    </tr>\n",
              "  </tbody>\n",
              "</table>\n",
              "</div>"
            ],
            "text/plain": [
              "     A    B\n",
              "0  618  618\n",
              "1  511  511\n",
              "2  372  372"
            ]
          },
          "metadata": {},
          "output_type": "display_data"
        }
      ],
      "source": [
        "#TODO : create your dataframe for AB test and print the first 3 rows of it.\n",
        "\n",
        "# for this we call 'data_prepare_for_hypothesis_testing'\n",
        "\"\"\"\n",
        "Prepares control and test group data for hypothesis testing by combining \"# of Purchase\" data into a single DataFrame.\n",
        "- The resulting DataFrame is structured for direct comparison between groups.\n",
        "\"\"\"\n",
        "controlB = data_prepare_for_hypothesis_testing(control_nop, test_nop)\n",
        "display(controlB.head(3))"
      ]
    },
    {
      "cell_type": "markdown",
      "metadata": {
        "id": "yoYPauAlDK0E"
      },
      "source": [
        "## 5. Two Independent Sample T-Test\n",
        "### 5.1. Assumption Check\n",
        "#### 5.1.1. Normality Assumption (shapiro test)\n",
        "\n",
        " * **H0**: Normal distribution assumption is provided.\n",
        " * **H1**: ... not provided."
      ]
    },
    {
      "cell_type": "code",
      "execution_count": 19,
      "metadata": {
        "colab": {
          "base_uri": "https://localhost:8080/",
          "height": 564
        },
        "id": "4xMzj7PtDK0E",
        "outputId": "834211d2-a2db-486d-9583-621ea4ea0446",
        "trusted": true
      },
      "outputs": [
        {
          "data": {
            "image/png": "[encoded data removed]",
            "text/plain": [
              "<Figure size 800x600 with 1 Axes>"
            ]
          },
          "metadata": {},
          "output_type": "display_data"
        }
      ],
      "source": [
        "#TODO : Aply the normality assumption of the dataframe for A\n",
        "\n",
        "# plot histogram ?????????????????????????????????????????????????????????????\n",
        "plt.figure(figsize=(8, 6))\n",
        "sns.histplot(controlB[\"A\"], kde=True)\n",
        "plt.title(\"Histogram of Group A\")\n",
        "plt.xlabel(\"Values\")\n",
        "plt.ylabel(\"Frequency\")\n",
        "plt.show()"
      ]
    },
    {
      "cell_type": "code",
      "execution_count": 20,
      "metadata": {
        "colab": {
          "base_uri": "https://localhost:8080/"
        },
        "id": "xGiKQEHrDK0E",
        "outputId": "a3563109-8613-4889-aa73-d4dbb005c82d",
        "trusted": true
      },
      "outputs": [
        {
          "name": "stdout",
          "output_type": "stream",
          "text": [
            "Shapiro-Wilk Test for A (Control Group): 0.108\n",
            "0.10821626663232115 > alpha(0.05) so >>> H0 CAN'T BE REJECTED\n"
          ]
        }
      ],
      "source": [
        "#TODO : compute p_value for normality on group A from the df_AB dataframe and round it to three decimal places.\n",
        "shapiro_test_A = shapiro(controlB[\"A\"])\n",
        "print(f\"Shapiro-Wilk Test for A (Control Group): {shapiro_test_A[1]:.3f}\")\n",
        "\n",
        "#TODO : pass it to a function checkReject to determine if the null hypothesis of normality should be rejected.\n",
        "checkReject(shapiro_test_A[1])"
      ]
    },
    {
      "cell_type": "markdown",
      "metadata": {
        "id": "87fl16JsiHQE"
      },
      "source": [
        "Does the HO hypothesis get rejected ? why ?\n",
        "\n",
        "no, it cant because p twice bigger than the 5% tolerance"
      ]
    },
    {
      "cell_type": "code",
      "execution_count": 21,
      "metadata": {
        "id": "JTIwYUqvDK0E",
        "trusted": true
      },
      "outputs": [],
      "source": [
        "#TODO : Aply the normality assumption of the dataframe for B\n",
        "\n",
        "# I REALLY HAVE NO IDEA WHAT ASKED HERE? DO YOU WANT A Q-Q PLOT??????\n",
        "# DO YOU WANT ME TO LOSE HALF AN HOUR IN THIS CELL???"
      ]
    },
    {
      "cell_type": "code",
      "execution_count": 22,
      "metadata": {
        "colab": {
          "base_uri": "https://localhost:8080/"
        },
        "id": "ZA0hl-TSDK0F",
        "outputId": "6d3b3d4d-55ac-4e08-d1be-2745b4724f8c",
        "trusted": true
      },
      "outputs": [
        {
          "name": "stdout",
          "output_type": "stream",
          "text": [
            "Shapiro-Wilk Test for B (Test Group): 0.108\n",
            "0.10821626663232115 > alpha(0.05) so >>> H0 CAN'T BE REJECTED\n"
          ]
        }
      ],
      "source": [
        "#TODO : compute p_value for normality on group B from the df_AB dataframe and round it to three decimal places.\n",
        "shapiro_test_B = shapiro(controlB[\"B\"])\n",
        "print(f\"Shapiro-Wilk Test for B (Test Group): {shapiro_test_B[1]:.3f}\")\n",
        "\n",
        "#TODO : pass it to a function checkReject to determine if the null hypothesis of normality should be rejected.\n",
        "checkReject(shapiro_test_B[1])"
      ]
    },
    {
      "cell_type": "markdown",
      "metadata": {
        "id": "vsUYfCduDK0F"
      },
      "source": [
        "Does the HO hypothesis get rejected ? why ?\n",
        "\n",
        "$H_{0}$ cant be rejected bc of what said before"
      ]
    },
    {
      "cell_type": "markdown",
      "metadata": {
        "id": "oB1z71tqBO0O"
      },
      "source": [
        "so for both cases, we cant say its not normal"
      ]
    },
    {
      "cell_type": "markdown",
      "metadata": {
        "id": "oCfcl_20DK0F"
      },
      "source": [
        "### 5.1.2. Variance Homogeneity Assumption\n",
        " * **H0** : Variances are homogeneous.\n",
        " * **H1** : Variances are not homogeneous.\n",
        "\n",
        "We want to assess if A and B have equal variances, which is a common assumption for various statistical tests :"
      ]
    },
    {
      "cell_type": "code",
      "execution_count": 23,
      "metadata": {
        "colab": {
          "base_uri": "https://localhost:8080/"
        },
        "id": "s6bpC7E_DK0F",
        "outputId": "3079ad1a-9ad3-464e-d1b2-aa9e11d35028",
        "trusted": true
      },
      "outputs": [
        {
          "name": "stdout",
          "output_type": "stream",
          "text": [
            "Levene Test Statistic: 0.0\n",
            "p-value=1.000\n"
          ]
        }
      ],
      "source": [
        "#TODO : Performs the Levene test for equality of variances on two groups, A and B, from the df_AB dataframe\n",
        "#TODO : Performs the Levene test for equality of variances on two groups, A and B, from the df_AB dataframe\n",
        "leveneTest = levene(controlB[\"A\"], controlB[\"B\"])\n",
        "print(\"Levene Test Statistic:\", leveneTest[0])\n",
        "print(\"p-value=%.3f\" % leveneTest[1])"
      ]
    },
    {
      "cell_type": "code",
      "execution_count": 24,
      "metadata": {
        "colab": {
          "base_uri": "https://localhost:8080/"
        },
        "id": "Ev9jAkruDK0F",
        "outputId": "f08503a4-9ab6-4097-90da-c538b2845229",
        "trusted": true
      },
      "outputs": [
        {
          "name": "stdout",
          "output_type": "stream",
          "text": [
            "1.0 > alpha(0.05) so >>> H0 CAN'T BE REJECTED\n"
          ]
        }
      ],
      "source": [
        "#TODO : compute the p_value of the df_AB dataframe and round it to three decimal places.\n",
        "#TODO : pass it to a function checkReject to determine if the null hypothesis of normality should be rejected.\n",
        "checkReject(leveneTest[1])"
      ]
    },
    {
      "cell_type": "markdown",
      "metadata": {
        "id": "jvKow9iTDK0F"
      },
      "source": [
        "\n",
        "Conclude about the variances, are they homogeneous ?"
      ]
    },
    {
      "cell_type": "markdown",
      "metadata": {
        "id": "RjC9sRAtBmu7"
      },
      "source": [
        "$H_{0}$ is variances are equal across all groups, and cant be rejectd"
      ]
    },
    {
      "cell_type": "markdown",
      "metadata": {
        "id": "fs4VQn0sDK0G"
      },
      "source": [
        "### 5.1.3. Nonparametric Independent Two-Sample T-Test\n",
        "\n",
        "- Since the normality of the distribution of the data set in which Average Bidding (Test Group) was measured was rejected, the NonParametric Independent Two-Sample T Test was applied for the Hypothesis Test.\n",
        "\n",
        "**Hypothesis:**\n",
        "\n",
        " * **H0** : When it comes to Maximum Bidding and Average Bidding, there is no statistically significant difference between the purchasing amounts of the two groups. ($\\mu_1 = \\mu_2$)\n",
        "\n",
        " * **H1** : ... there is a difference ($\\mu_1 \\neq \\mu_2$)"
      ]
    },
    {
      "cell_type": "code",
      "execution_count": 25,
      "metadata": {
        "colab": {
          "base_uri": "https://localhost:8080/"
        },
        "id": "b0SwcIuwDK0G",
        "outputId": "b02b0e4c-69a6-4b76-8281-b6b57023f775",
        "trusted": true
      },
      "outputs": [
        {
          "name": "stdout",
          "output_type": "stream",
          "text": [
            "Statistics=450.000, p=1.000\n"
          ]
        }
      ],
      "source": [
        "from os import stat\n",
        "# Average Biddingin (Test Group)\n",
        "# stats.mannwhitneyu(df_AB[\"A\"], df_AB[\"B\"])\n",
        "\n",
        "stat, pvalue = stats.mannwhitneyu(controlB[\"A\"], controlB[\"B\"])\n",
        "print('Statistics=%.3f, p=%.3f' % (stat, pvalue))"
      ]
    },
    {
      "cell_type": "code",
      "execution_count": 26,
      "metadata": {
        "colab": {
          "base_uri": "https://localhost:8080/"
        },
        "id": "t_QXVREQDK0G",
        "outputId": "a199b880-0d62-499f-aa25-ea8879572493",
        "trusted": true
      },
      "outputs": [
        {
          "name": "stdout",
          "output_type": "stream",
          "text": [
            "1.0 > alpha(0.05) so >>> H0 CAN'T BE REJECTED\n"
          ]
        }
      ],
      "source": [
        "#TODO : compute the p_value of the df_AB dataframe and round it to three decimal places.\n",
        "#TODO : pass it to a function checkReject to determine if the null hypothesis of normality should be rejected.\n",
        "checkReject(pvalue)"
      ]
    },
    {
      "cell_type": "markdown",
      "metadata": {
        "id": "FlZXI66ODK0G"
      },
      "source": [
        "Should the H0 hypothesis be rejected ? Why ? What can you conclude ?"
      ]
    },
    {
      "cell_type": "markdown",
      "metadata": {
        "id": "mFBKygdEC-Gx"
      },
      "source": [
        "cant be rejected"
      ]
    },
    {
      "cell_type": "markdown",
      "metadata": {
        "id": "G5x0g1X1DK0G"
      },
      "source": [
        "## 6. Conclusion and Evaluation\n",
        "\n",
        "\n",
        "##### You should answer the following questions :\n",
        "\n",
        "\n",
        "**1. How would you define the hypothesis of this A/B test ?**\n",
        "\n",
        "$H_{0}$: not signifficant diff between the tested metric\n",
        "$H_{1}$: there is signifficant diff between the tested metric\n",
        "\n",
        "   \n",
        "**2. Can we conclude statistically significant results?**\n",
        "\n",
        "the p-values for all tests are above the typical significance threshold ($α=0.05$):\n",
        "\n",
        "- Shapiro-Wilk test: suggests the data follows a normal distribution\n",
        "- Levene’s test: indicates homogeneity of variance between groups\n",
        "- Mann-Whitney U test: suggests no significant difference between the groups' medians\n",
        "\n",
        "Conclusion: There is no statistical evidence to reject the null hypothesis ($H_{0}$​). Therefore, the differences between the groups are not statistically significant\n",
        "  \n",
        "\n",
        "\n",
        "**3. Which statistical test did you use, and why?**\n",
        "\n",
        "shapiro for normality test, levene for variances, and M-W as t-test non-parametric alternative\n",
        "    \n",
        "**4. Based on your answer to Question 2, what would be your recommendation to client?**\n",
        "\n",
        "no statistical evidence of significant differences between the groups, the A/B test results do not support favoring one variant over the other based on the analyzed metric\n",
        "\n",
        "\n",
        "# This notebook is awfully redacted and needs to be redone. I lost 4 hours doing reverse engineering instead of DA\n",
        "\n",
        "Also the mini project introduction in the web page is for KNN\n",
        "\n",
        "This exercise was asigned in an improvised way (again) without checking how doable it is before posting it (again).\n"
      ]
    },
    {
      "cell_type": "markdown",
      "metadata": {},
      "source": []
    }
  ],
  "metadata": {
    "colab": {
      "provenance": []
    },
    "kaggle": {
      "accelerator": "none",
      "dataSources": [
        {
          "datasetId": 971923,
          "sourceId": 1643659,
          "sourceType": "datasetVersion"
        }
      ],
      "dockerImageVersionId": 30028,
      "isGpuEnabled": false,
      "isInternetEnabled": false,
      "language": "python",
      "sourceType": "notebook"
    },
    "kernelspec": {
      "display_name": "Devs_Institute",
      "language": "python",
      "name": "python3"
    },
    "language_info": {
      "codemirror_mode": {
        "name": "ipython",
        "version": 3
      },
      "file_extension": ".py",
      "mimetype": "text/x-python",
      "name": "python",
      "nbconvert_exporter": "python",
      "pygments_lexer": "ipython3",
      "version": "3.12.5"
    }
  },
  "nbformat": 4,
  "nbformat_minor": 0
}
