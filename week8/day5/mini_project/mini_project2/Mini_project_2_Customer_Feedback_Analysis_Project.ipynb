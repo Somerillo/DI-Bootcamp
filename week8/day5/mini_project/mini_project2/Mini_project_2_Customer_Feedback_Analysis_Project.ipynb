{
  "cells": [
    {
      "cell_type": "markdown",
      "metadata": {
        "id": "7wOF4CXBQuBU"
      },
      "source": [
        "# Mini-project 2 : Customer Feedback Analysis Project\n",
        "\n",
        "---\n",
        "\n",
        "## Your task :\n",
        "\n",
        "The goal of this project is to analyze customer feedback from a dataset of product reviews using natural language processing with ChatGPT. We aim to identify key themes, sentiments, and areas for product improvement based on customer opinions.\n",
        "\n",
        "\n",
        "## Dataset Overview\n",
        "\n",
        "The dataset is in JSON format within a GZ (zipped) file. It includes several fields related to product reviews, such as reviewer ID, product ID, reviewer name, review text, helpfulness rating, overall product rating, review summary, and review timestamp. Here’s a brief description of the columns:\n",
        "\n",
        "- **reviewerID**: Unique ID of the reviewer (e.g., A2SUAM1J3GNN3B)\n",
        "- **asin**: Unique ID of the product (e.g., 0000013714)\n",
        "- **reviewerName**: Name of the reviewer\n",
        "- **helpful**: Helpfulness rating of the review (e.g., 2/3)\n",
        "- **reviewText**: Full text of the review\n",
        "- **overall**: Rating of the product on a scale of 5\n",
        "- **summary**: Summary of the review\n",
        "- **unixReviewTime**: Time of the review in UNIX timestamp\n",
        "- **reviewTime**: Time of the review in raw format\n",
        "\n",
        "\n",
        "## Requirements\n",
        "\n",
        "- Python 3.6+\n",
        "- Libraries: pandas, json, gzip, openai\n",
        "- An API key from Gemini\n",
        "\n",
        "---"
      ]
    },
    {
      "cell_type": "markdown",
      "metadata": {
        "id": "0jsRn38YVAD4"
      },
      "source": [
        "## Setup Instructions"
      ]
    },
    {
      "cell_type": "markdown",
      "metadata": {
        "id": "NYLPzX8ESk8N"
      },
      "source": [
        "1. Environment Setup:\n",
        "Ensure Python 3.6 or later is installed on your system. Install the required Python libraries using pip:"
      ]
    },
    {
      "cell_type": "code",
      "execution_count": 1,
      "metadata": {
        "id": "UiJCIs_oPr_M"
      },
      "outputs": [],
      "source": [
        "# !pip install pandas openai seaborn matplotlib httpx nest-asyncio"
      ]
    },
    {
      "cell_type": "code",
      "execution_count": 2,
      "metadata": {
        "id": "sQUMny7DSs3V"
      },
      "outputs": [],
      "source": [
        "# data manipulation and analysis\n",
        "import pandas as pd \n",
        "\n",
        "# for accessing OpenAI's API\n",
        "import openai\n",
        "\n",
        "# file handling and regular expressions\n",
        "import zipfile\n",
        "import re\n",
        "\n",
        "# informative plots\n",
        "import seaborn as sns\n",
        "import matplotlib.pyplot as plt\n",
        "\n",
        "# for handling concurrent HTTP requests\n",
        "import asyncio\n",
        "import nest_asyncio\n",
        "from httpx import AsyncClient"
      ]
    },
    {
      "cell_type": "markdown",
      "metadata": {
        "id": "CX61aLhuUXrz"
      },
      "source": [
        "2. OpenAI API Access:\n",
        "\n",
        "Sign up for OpenAI and retrieve your API key from the OpenAI platform if you did not already do it."
      ]
    },
    {
      "cell_type": "code",
      "execution_count": 3,
      "metadata": {
        "id": "v8dkqEHyTZz0"
      },
      "outputs": [],
      "source": [
        "from config import api_key"
      ]
    },
    {
      "cell_type": "markdown",
      "metadata": {
        "id": "J7rswodsUxAv"
      },
      "source": [
        "3. Dataset Preparation:\n",
        "\n",
        "Download the Dataset: [Amazon Musical Instruments Review](https://www.kaggle.com/datasets/eswarchandt/amazon-music-reviews/data) and place it in a working directory. Ensure you have software to decompress the GZ file."
      ]
    },
    {
      "cell_type": "markdown",
      "metadata": {
        "id": "ifhcuABgVFit"
      },
      "source": [
        "---\n",
        "\n",
        "## Project Tasks\n",
        "\n",
        "1. Data Loading and Preprocessing:\n",
        "\n",
        "  - Use gzip and json libraries to load the dataset.\n",
        "  - Clean and prepare the data for analysis, focusing on the reviewText, overall, and summary fields.\n",
        "\n",
        "2. Natural Language Analysis with ChatGPT:\n",
        "\n",
        "  - Utilize the OpenAI API to send natural language queries about the dataset to ChatGPT.\n",
        "  - Analyze common themes, sentiments, and improvement suggestions based on the reviewText.\n",
        "\n",
        "3. Data Analysis:\n",
        "\n",
        "  - Categorize the feedback into themes and sentiments.\n",
        "  - Summarize the analysis results, highlighting the most common feedback themes and overall sentiment.\n",
        "\n",
        "4. Visualization:\n",
        "\n",
        "  - Create visualizations such as bar charts for common themes and pie charts for sentiment distribution.\n",
        "\n",
        "\n",
        "## Deliverables\n",
        "\n",
        "A Python script for data loading, preprocessing, and querying Gemini.\n"
      ]
    },
    {
      "cell_type": "markdown",
      "metadata": {
        "id": "oNeAFJGfYdq-"
      },
      "source": [
        "## 1. Data Loading and Preprocessing:\n",
        "\n",
        "- Use gzip and json libraries to load the dataset.\n",
        "- Clean and prepare the data for analysis, focusing on the reviewText, overall, and summary fields.\n",
        "\n"
      ]
    },
    {
      "cell_type": "code",
      "execution_count": 4,
      "metadata": {
        "id": "SarOigzTUr7y"
      },
      "outputs": [],
      "source": [
        "# specify the path to the zip file\n",
        "path = 'Amazon Musical Instruments Reviews.zip'\n",
        "\n",
        "# open the zip file and write its content into a new folder\n",
        "# we employ zipfile because its a ZIP and not a GZIP!!!!!!\n",
        "with zipfile.ZipFile(path, 'r') as zip_ref:\n",
        "    zip_ref.extractall('') # without specifying, it goes straight to the current directory"
      ]
    },
    {
      "cell_type": "code",
      "execution_count": 5,
      "metadata": {
        "id": "jo9mXogib3mi"
      },
      "outputs": [],
      "source": [
        "path_to_json = 'Amazon Musical Instruments Reviews/Amazon Musical Instruments Reviews/Musical_Instruments_5.json'"
      ]
    },
    {
      "cell_type": "code",
      "execution_count": 6,
      "metadata": {
        "colab": {
          "base_uri": "https://localhost:8080/",
          "height": 258
        },
        "id": "a5rmEopx68mx",
        "outputId": "6fcfe5f0-8b1e-4022-a4b9-fab118090ab1"
      },
      "outputs": [
        {
          "data": {
            "text/html": [
              "<div>\n",
              "<style scoped>\n",
              "    .dataframe tbody tr th:only-of-type {\n",
              "        vertical-align: middle;\n",
              "    }\n",
              "\n",
              "    .dataframe tbody tr th {\n",
              "        vertical-align: top;\n",
              "    }\n",
              "\n",
              "    .dataframe thead th {\n",
              "        text-align: right;\n",
              "    }\n",
              "</style>\n",
              "<table border=\"1\" class=\"dataframe\">\n",
              "  <thead>\n",
              "    <tr style=\"text-align: right;\">\n",
              "      <th></th>\n",
              "      <th>reviewerID</th>\n",
              "      <th>asin</th>\n",
              "      <th>reviewerName</th>\n",
              "      <th>helpful</th>\n",
              "      <th>reviewText</th>\n",
              "      <th>overall</th>\n",
              "      <th>summary</th>\n",
              "      <th>unixReviewTime</th>\n",
              "      <th>reviewTime</th>\n",
              "    </tr>\n",
              "  </thead>\n",
              "  <tbody>\n",
              "    <tr>\n",
              "      <th>0</th>\n",
              "      <td>A2IBPI20UZIR0U</td>\n",
              "      <td>1384719342</td>\n",
              "      <td>cassandra tu \"Yeah, well, that's just like, u...</td>\n",
              "      <td>[0, 0]</td>\n",
              "      <td>Not much to write about here, but it does exac...</td>\n",
              "      <td>5</td>\n",
              "      <td>good</td>\n",
              "      <td>1393545600</td>\n",
              "      <td>02 28, 2014</td>\n",
              "    </tr>\n",
              "    <tr>\n",
              "      <th>1</th>\n",
              "      <td>A14VAT5EAX3D9S</td>\n",
              "      <td>1384719342</td>\n",
              "      <td>Jake</td>\n",
              "      <td>[13, 14]</td>\n",
              "      <td>The product does exactly as it should and is q...</td>\n",
              "      <td>5</td>\n",
              "      <td>Jake</td>\n",
              "      <td>1363392000</td>\n",
              "      <td>03 16, 2013</td>\n",
              "    </tr>\n",
              "    <tr>\n",
              "      <th>2</th>\n",
              "      <td>A195EZSQDW3E21</td>\n",
              "      <td>1384719342</td>\n",
              "      <td>Rick Bennette \"Rick Bennette\"</td>\n",
              "      <td>[1, 1]</td>\n",
              "      <td>The primary job of this device is to block the...</td>\n",
              "      <td>5</td>\n",
              "      <td>It Does The Job Well</td>\n",
              "      <td>1377648000</td>\n",
              "      <td>08 28, 2013</td>\n",
              "    </tr>\n",
              "    <tr>\n",
              "      <th>3</th>\n",
              "      <td>A2C00NNG1ZQQG2</td>\n",
              "      <td>1384719342</td>\n",
              "      <td>RustyBill \"Sunday Rocker\"</td>\n",
              "      <td>[0, 0]</td>\n",
              "      <td>Nice windscreen protects my MXL mic and preven...</td>\n",
              "      <td>5</td>\n",
              "      <td>GOOD WINDSCREEN FOR THE MONEY</td>\n",
              "      <td>1392336000</td>\n",
              "      <td>02 14, 2014</td>\n",
              "    </tr>\n",
              "    <tr>\n",
              "      <th>4</th>\n",
              "      <td>A94QU4C90B1AX</td>\n",
              "      <td>1384719342</td>\n",
              "      <td>SEAN MASLANKA</td>\n",
              "      <td>[0, 0]</td>\n",
              "      <td>This pop filter is great. It looks and perform...</td>\n",
              "      <td>5</td>\n",
              "      <td>No more pops when I record my vocals.</td>\n",
              "      <td>1392940800</td>\n",
              "      <td>02 21, 2014</td>\n",
              "    </tr>\n",
              "  </tbody>\n",
              "</table>\n",
              "</div>"
            ],
            "text/plain": [
              "       reviewerID        asin  \\\n",
              "0  A2IBPI20UZIR0U  1384719342   \n",
              "1  A14VAT5EAX3D9S  1384719342   \n",
              "2  A195EZSQDW3E21  1384719342   \n",
              "3  A2C00NNG1ZQQG2  1384719342   \n",
              "4   A94QU4C90B1AX  1384719342   \n",
              "\n",
              "                                       reviewerName   helpful  \\\n",
              "0  cassandra tu \"Yeah, well, that's just like, u...    [0, 0]   \n",
              "1                                              Jake  [13, 14]   \n",
              "2                     Rick Bennette \"Rick Bennette\"    [1, 1]   \n",
              "3                         RustyBill \"Sunday Rocker\"    [0, 0]   \n",
              "4                                     SEAN MASLANKA    [0, 0]   \n",
              "\n",
              "                                          reviewText  overall  \\\n",
              "0  Not much to write about here, but it does exac...        5   \n",
              "1  The product does exactly as it should and is q...        5   \n",
              "2  The primary job of this device is to block the...        5   \n",
              "3  Nice windscreen protects my MXL mic and preven...        5   \n",
              "4  This pop filter is great. It looks and perform...        5   \n",
              "\n",
              "                                 summary  unixReviewTime   reviewTime  \n",
              "0                                   good      1393545600  02 28, 2014  \n",
              "1                                   Jake      1363392000  03 16, 2013  \n",
              "2                   It Does The Job Well      1377648000  08 28, 2013  \n",
              "3          GOOD WINDSCREEN FOR THE MONEY      1392336000  02 14, 2014  \n",
              "4  No more pops when I record my vocals.      1392940800  02 21, 2014  "
            ]
          },
          "metadata": {},
          "output_type": "display_data"
        },
        {
          "name": "stdout",
          "output_type": "stream",
          "text": [
            "## The dataset dimensions are (10261, 9)\n"
          ]
        }
      ],
      "source": [
        "# make it a df\n",
        "df = pd.read_json(path_to_json, lines=True)\n",
        "\n",
        "# stop anoying manipulation messages\n",
        "df = df.copy()\n",
        "\n",
        "# show it\n",
        "display(df.head())\n",
        "print(f\"## The dataset dimensions are {df.shape}\")"
      ]
    },
    {
      "cell_type": "code",
      "execution_count": 7,
      "metadata": {
        "colab": {
          "base_uri": "https://localhost:8080/",
          "height": 680
        },
        "id": "rA8ZOhZZ7ZJP",
        "outputId": "9ecfb1c2-e9c3-4663-f83a-a895811b3583"
      },
      "outputs": [
        {
          "data": {
            "image/png": "[encoded data removed]",
            "text/plain": [
              "<Figure size 1000x600 with 1 Axes>"
            ]
          },
          "metadata": {},
          "output_type": "display_data"
        },
        {
          "name": "stdout",
          "output_type": "stream",
          "text": [
            "## There are a total of 27 null values in the dataset\n"
          ]
        }
      ],
      "source": [
        "# null values heatmap\n",
        "plt.figure(figsize=(10, 6))\n",
        "sns.heatmap(df.isnull(), cbar=False, cmap='viridis')\n",
        "plt.title('Null Values Heatmap')\n",
        "plt.xlabel('Columns')\n",
        "plt.ylabel('Rows')\n",
        "plt.show()\n",
        "\n",
        "print(f\"## There are a total of {df.isnull().sum().sum()} null values in the dataset\")"
      ]
    },
    {
      "cell_type": "markdown",
      "metadata": {
        "id": "mCiY0N4G8K7_"
      },
      "source": [
        "We have only 27 missing values from a total of 10261 rows, we proceede to delete them"
      ]
    },
    {
      "cell_type": "code",
      "execution_count": 8,
      "metadata": {
        "colab": {
          "base_uri": "https://localhost:8080/"
        },
        "id": "-x7ztAgt7_z2",
        "outputId": "88999b29-b82e-4a1c-f0dc-7456d12433da"
      },
      "outputs": [
        {
          "name": "stdout",
          "output_type": "stream",
          "text": [
            "## There are a total of 0 null values in the dataset\n"
          ]
        }
      ],
      "source": [
        "df.dropna(inplace=True)\n",
        "\n",
        "# check it out\n",
        "print(f\"## There are a total of {df.isnull().sum().sum()} null values in the dataset\")"
      ]
    },
    {
      "cell_type": "markdown",
      "metadata": {
        "id": "_-5aYmla8tD5"
      },
      "source": [
        "We also search for duplicates"
      ]
    },
    {
      "cell_type": "code",
      "execution_count": 9,
      "metadata": {
        "id": "_DogfXzQ8q8O"
      },
      "outputs": [],
      "source": [
        "# we cant because there is an unhashable column that contains lists\n",
        "# print(f\"## There are a total of {df.duplicated().sum()} duplicate rows in the dataset\")"
      ]
    },
    {
      "cell_type": "code",
      "execution_count": 10,
      "metadata": {
        "colab": {
          "base_uri": "https://localhost:8080/",
          "height": 206
        },
        "id": "GV5Yjq938zoH",
        "outputId": "a6dd6785-c082-48d5-b66b-60f8ef88ddc8"
      },
      "outputs": [
        {
          "data": {
            "text/html": [
              "<div>\n",
              "<style scoped>\n",
              "    .dataframe tbody tr th:only-of-type {\n",
              "        vertical-align: middle;\n",
              "    }\n",
              "\n",
              "    .dataframe tbody tr th {\n",
              "        vertical-align: top;\n",
              "    }\n",
              "\n",
              "    .dataframe thead th {\n",
              "        text-align: right;\n",
              "    }\n",
              "</style>\n",
              "<table border=\"1\" class=\"dataframe\">\n",
              "  <thead>\n",
              "    <tr style=\"text-align: right;\">\n",
              "      <th></th>\n",
              "      <th>reviewerID</th>\n",
              "      <th>asin</th>\n",
              "      <th>reviewerName</th>\n",
              "      <th>helpful</th>\n",
              "      <th>reviewText</th>\n",
              "      <th>overall</th>\n",
              "      <th>summary</th>\n",
              "      <th>unixReviewTime</th>\n",
              "      <th>reviewTime</th>\n",
              "    </tr>\n",
              "  </thead>\n",
              "  <tbody>\n",
              "    <tr>\n",
              "      <th>0</th>\n",
              "      <td>A2IBPI20UZIR0U</td>\n",
              "      <td>1384719342</td>\n",
              "      <td>cassandra tu \"Yeah, well, that's just like, u...</td>\n",
              "      <td>[0, 0]</td>\n",
              "      <td>not much to write about here but it does exact...</td>\n",
              "      <td>5</td>\n",
              "      <td>good</td>\n",
              "      <td>1393545600</td>\n",
              "      <td>02 28, 2014</td>\n",
              "    </tr>\n",
              "    <tr>\n",
              "      <th>1</th>\n",
              "      <td>A14VAT5EAX3D9S</td>\n",
              "      <td>1384719342</td>\n",
              "      <td>Jake</td>\n",
              "      <td>[13, 14]</td>\n",
              "      <td>the product does exactly as it should and is q...</td>\n",
              "      <td>5</td>\n",
              "      <td>jake</td>\n",
              "      <td>1363392000</td>\n",
              "      <td>03 16, 2013</td>\n",
              "    </tr>\n",
              "    <tr>\n",
              "      <th>2</th>\n",
              "      <td>A195EZSQDW3E21</td>\n",
              "      <td>1384719342</td>\n",
              "      <td>Rick Bennette \"Rick Bennette\"</td>\n",
              "      <td>[1, 1]</td>\n",
              "      <td>the primary job of this device is to block the...</td>\n",
              "      <td>5</td>\n",
              "      <td>it does the job well</td>\n",
              "      <td>1377648000</td>\n",
              "      <td>08 28, 2013</td>\n",
              "    </tr>\n",
              "    <tr>\n",
              "      <th>3</th>\n",
              "      <td>A2C00NNG1ZQQG2</td>\n",
              "      <td>1384719342</td>\n",
              "      <td>RustyBill \"Sunday Rocker\"</td>\n",
              "      <td>[0, 0]</td>\n",
              "      <td>nice windscreen protects my mxl mic and preven...</td>\n",
              "      <td>5</td>\n",
              "      <td>good windscreen for the money</td>\n",
              "      <td>1392336000</td>\n",
              "      <td>02 14, 2014</td>\n",
              "    </tr>\n",
              "    <tr>\n",
              "      <th>4</th>\n",
              "      <td>A94QU4C90B1AX</td>\n",
              "      <td>1384719342</td>\n",
              "      <td>SEAN MASLANKA</td>\n",
              "      <td>[0, 0]</td>\n",
              "      <td>this pop filter is great it looks and performs...</td>\n",
              "      <td>5</td>\n",
              "      <td>no more pops when i record my vocals</td>\n",
              "      <td>1392940800</td>\n",
              "      <td>02 21, 2014</td>\n",
              "    </tr>\n",
              "  </tbody>\n",
              "</table>\n",
              "</div>"
            ],
            "text/plain": [
              "       reviewerID        asin  \\\n",
              "0  A2IBPI20UZIR0U  1384719342   \n",
              "1  A14VAT5EAX3D9S  1384719342   \n",
              "2  A195EZSQDW3E21  1384719342   \n",
              "3  A2C00NNG1ZQQG2  1384719342   \n",
              "4   A94QU4C90B1AX  1384719342   \n",
              "\n",
              "                                       reviewerName   helpful  \\\n",
              "0  cassandra tu \"Yeah, well, that's just like, u...    [0, 0]   \n",
              "1                                              Jake  [13, 14]   \n",
              "2                     Rick Bennette \"Rick Bennette\"    [1, 1]   \n",
              "3                         RustyBill \"Sunday Rocker\"    [0, 0]   \n",
              "4                                     SEAN MASLANKA    [0, 0]   \n",
              "\n",
              "                                          reviewText  overall  \\\n",
              "0  not much to write about here but it does exact...        5   \n",
              "1  the product does exactly as it should and is q...        5   \n",
              "2  the primary job of this device is to block the...        5   \n",
              "3  nice windscreen protects my mxl mic and preven...        5   \n",
              "4  this pop filter is great it looks and performs...        5   \n",
              "\n",
              "                                summary  unixReviewTime   reviewTime  \n",
              "0                                  good      1393545600  02 28, 2014  \n",
              "1                                  jake      1363392000  03 16, 2013  \n",
              "2                  it does the job well      1377648000  08 28, 2013  \n",
              "3         good windscreen for the money      1392336000  02 14, 2014  \n",
              "4  no more pops when i record my vocals      1392940800  02 21, 2014  "
            ]
          },
          "metadata": {},
          "output_type": "display_data"
        }
      ],
      "source": [
        "# remove non alphanumeric characters and convert to lowercase\n",
        "df['reviewText'] = df['reviewText'].astype(str).str.replace(r'[^a-zA-Z0-9\\s]', '', regex=True).str.lower()\n",
        "df['summary'] = df['summary'].astype(str).str.replace(r'[^a-zA-Z0-9\\s]', '', regex=True).str.lower()\n",
        "\n",
        "display(df.head())"
      ]
    },
    {
      "cell_type": "markdown",
      "metadata": {
        "id": "BAB2ApC4OXB4"
      },
      "source": [
        "## 2. Natural Language Analysis with ChatGPT:\n",
        "\n",
        "  - Utilize the OpenAI API to send natural language queries about the dataset to ChatGPT.\n",
        "  - Analyze common themes, sentiments, and improvement suggestions based on the reviewText."
      ]
    },
    {
      "cell_type": "markdown",
      "metadata": {
        "id": "-5gxB23gRITt"
      },
      "source": [
        "We were told previously to focus on the reviewText, overall, and summary fields.\n",
        "\n",
        "We should also try not to exceed 30 requests at the time, so we should batch them\n",
        "\n",
        "Also the prompting should be such as to encourage consistent responses (so we can analyze), e.g.:\n",
        "\n",
        "1. Top 3 Themes: List the three most common themes.\n",
        "2. Sentiment: Provide the overall sentiment (Positive/Negative/Neutral)\n",
        "3. Key Points: Summarize 3 key points from the reviews"
      ]
    },
    {
      "cell_type": "markdown",
      "metadata": {
        "id": "41P3LBHhruvG"
      },
      "source": [
        "We set the OpenAI API key and limit the dataframe. We limit the dataframe for two reasons:\n",
        "\n",
        "1. I don't want to consume all the tokens, so the rest of my partners can work\n",
        "\n",
        "2. The batch sweaping takes a while, and sweappig on 10k rows is going to take way too long. We want enough statistic to prove the code works."
      ]
    },
    {
      "cell_type": "code",
      "execution_count": 11,
      "metadata": {
        "id": "S9S700khqneL"
      },
      "outputs": [],
      "source": [
        "# set openai api key\n",
        "openai.api_key = api_key\n",
        "\n",
        "# limit the dataframe to not consume all the tokens\n",
        "df_subset = df.iloc[:900].copy()\n",
        "\n",
        "# for full dataset simply uncomment below:\n",
        "# df_subset = df.copy()"
      ]
    },
    {
      "cell_type": "markdown",
      "metadata": {
        "id": "NHU0Xlvlsxc8"
      },
      "source": [
        "We employ asynchronous requests to enhace app responsiveness, scalability and overall performance. Also we define the batch-processing function:"
      ]
    },
    {
      "cell_type": "code",
      "execution_count": 12,
      "metadata": {
        "id": "TLm63BZotAVc"
      },
      "outputs": [],
      "source": [
        "# asynchronous function to analyze a review\n",
        "async def analyze_review_async(review_text, overall, summary, client):\n",
        "    \"\"\"\n",
        "    takes a product review's text, overall rating, and summary,\\n\n",
        "    constructs a prompt for the OpenAI model to analyze the review, and \\n\n",
        "    sends an asynchronous request to the OpenAI API.\\n\n",
        "\n",
        "    returns the analysis as a string.\n",
        "    \"\"\"\n",
        "    prompt = (\n",
        "        f\"Please analyze the following product review:\\n\\n\"\n",
        "        f\"Review Text: {review_text}\\n\"\n",
        "        f\"Overall Rating: {overall}\\n\"\n",
        "        f\"Summary: {summary}\\n\\n\"\n",
        "        \"1. List the three most common themes (just a plain comma separated list).\\n\"\n",
        "        \"2. Provide the overall sentiment (Positive/Negative/Neutral).\\n\"\n",
        "        \"3. Summarize 3 key points from the reviews (just a plain comma separated list).\"\n",
        "    )\n",
        "    try:\n",
        "        # define the model\n",
        "        response = await client.post(\n",
        "            \"https://api.openai.com/v1/chat/completions\",\n",
        "            json={\n",
        "                \"model\": \"gpt-3.5-turbo\",\n",
        "                \"messages\": [{\"role\": \"user\", \"content\": prompt}],\n",
        "                \"max_tokens\": 150, # we want even less than 150\n",
        "                \"temperature\": 0.1, # very cold, very short and analytic answers\n",
        "            },\n",
        "            headers={\"Authorization\": f\"Bearer {openai.api_key}\"}\n",
        "        )\n",
        "        return response.json()[\"choices\"][0][\"message\"][\"content\"].strip()\n",
        "    except Exception as e:\n",
        "        return f\"Error: {str(e)}\"\n",
        "\n",
        "# batch processing\n",
        "async def analyze_reviews_in_batches(df, batch_size=30):\n",
        "    \"\"\"\n",
        "    analyzes product reviews in batches using the OpenAI API\\n\n",
        "    args: dataframe, batch size\\n\n",
        "    returns: list of analysis results\n",
        "    \"\"\"\n",
        "    results = []\n",
        "    async with AsyncClient() as client:\n",
        "        for i in range(0, len(df), batch_size):\n",
        "            batch = df.iloc[i:i+batch_size]\n",
        "            tasks = [\n",
        "                analyze_review_async(row[\"reviewText\"], row[\"overall\"], row[\"summary\"], client)\n",
        "                for _, row in batch.iterrows()\n",
        "            ]\n",
        "            batch_results = await asyncio.gather(*tasks)\n",
        "            results.extend(batch_results)\n",
        "    return results"
      ]
    },
    {
      "cell_type": "markdown",
      "metadata": {
        "id": "5v6kzAL5wbWZ"
      },
      "source": [
        "**Jupyter Notebook Compatibility**\n",
        "\n",
        "- In Jupyter Notebooks, if the event loop is already running, it can cause issues when trying to run asynchronous code. To handle this, we check if the loop is running and create a new task if it is. This approach ensures that our asynchronous functions work seamlessly within the Jupyter environment, allowing for efficient execution of tasks without blocking the notebook interface."
      ]
    },
    {
      "cell_type": "code",
      "execution_count": 13,
      "metadata": {
        "id": "csYv7kZ5uRgx"
      },
      "outputs": [],
      "source": [
        "# function to process reviews (works in Jupyter/IPython)\n",
        "def process_reviews(df, batch_size=30):\n",
        "    \"\"\"\n",
        "    for Jupyter/IPython, create a new task instead of running the loop\\n\n",
        "    args: dataframe, batch size\\n\n",
        "    returns: list of analysis results\n",
        "    \"\"\"\n",
        "    loop = asyncio.get_event_loop()\n",
        "    if loop.is_running():\n",
        "        # for Jupyter/IPython, create a new task instead of running the loop\n",
        "        return loop.create_task(analyze_reviews_in_batches(df, batch_size))\n",
        "    else:\n",
        "        return asyncio.run(analyze_reviews_in_batches(df, batch_size))\n",
        "\n",
        "# Usage\n",
        "results_task = process_reviews(df_subset)\n",
        "\n",
        "# collect the results asynchronously when running in Jupyter\n",
        "nest_asyncio.apply()  # allows nested event loops in Jupyter\n",
        "results = asyncio.run(results_task)\n",
        "\n",
        "# store the results back in the dataframe\n",
        "df_subset[\"analysis\"] = results"
      ]
    },
    {
      "cell_type": "code",
      "execution_count": 14,
      "metadata": {
        "colab": {
          "base_uri": "https://localhost:8080/"
        },
        "id": "wuKx-VS-y7R1",
        "outputId": "5fe5abf5-41fb-49d3-a168-78420f911d53"
      },
      "outputs": [
        {
          "name": "stdout",
          "output_type": "stream",
          "text": [
            "                                               Themes Sentiment  \\\n",
            "0                 Functionality, Price, Effectiveness  Positive   \n",
            "1   Product performance, Affordability, Pleasant a...  Positive   \n",
            "2              Functionality, Ease of Use, Durability  Positive   \n",
            "3   Windscreen protection, Pop prevention, Goosene...  Positive   \n",
            "4            Performance, appearance, vocal recording  Positive   \n",
            "5                         Quality, Sound, Ease of Use  Positive   \n",
            "6      Lifetime warranty, durability, value for price  Positive   \n",
            "7   Cable compatibility, Brand comparison, Price c...  Negative   \n",
            "8       Well constructed, 90 degree plug, great cable  Positive   \n",
            "9             Quality, Lifetime Warranty, Reliability  Positive   \n",
            "10  Comparison to more expensive models, Reliabili...  Positive   \n",
            "11              Need, Frequency of use, Functionality   Neutral   \n",
            "12                 Size, awkwardness, getting used to   Neutral   \n",
            "13                       Love, works great, recommend  Positive   \n",
            "14           Functionality, ease of use, satisfaction  Positive   \n",
            "\n",
            "                                           Key Points  \n",
            "0   Filters out pop sounds, recordings are more cr...  \n",
            "1   Product does exactly as it should, Affordable,...  \n",
            "2   Blocks popping sounds effectively, allows voic...  \n",
            "3   Good value for money, Effective at protecting ...  \n",
            "4   Eliminates pops, looks like a studio filter, g...  \n",
            "5   Heavy cord and gold connectors, great bass sou...  \n",
            "6   Used Monster cables for years, lifetime warran...  \n",
            "7   Monster cable didn't fit Fender strat jack, di...  \n",
            "8   Perfect for Epiphone Sheraton II, no problems ...  \n",
            "9   Works great with bass guitar rig, not top of t...  \n",
            "10  Comparison to more expensive models, No differ...  \n",
            "11    Works great, Rarely used, Keyboard not an organ  \n",
            "12  Large sustaining pedal, awkward at first, need...  \n",
            "13  Works well with Yamaha YPT230, great for anyon...  \n",
            "14  Works as intended, good for controlling MIDI k...  \n"
          ]
        }
      ],
      "source": [
        "# function to split the analysis output into separate columns\n",
        "def split_analysis_to_columns(analysis):\n",
        "    \"\"\"\n",
        "    it splits the analysis output into separate columns\\n\n",
        "    args: analysis output\\n\n",
        "    returns a list: themes, sentiment, key points\n",
        "    \"\"\"\n",
        "    try:\n",
        "        # split the text by numbered bullets (how we got it from the response)\n",
        "        parts = analysis.split(\"\\n\")\n",
        "\n",
        "        # use regex to remove the number and dot at the beginning of each part\n",
        "        themes = re.sub(r'^\\d+\\.\\s*', '', next((part.split(\": \", 1)[-1] for part in parts if part.startswith(\"1.\")), \"\")).strip()\n",
        "        sentiment = re.sub(r'^\\d+\\.\\s*', '', next((part.split(\": \", 1)[-1] for part in parts if part.startswith(\"2.\")), \"\")).strip()\n",
        "        key_points = re.sub(r'^\\d+\\.\\s*', '', next((part.split(\": \", 1)[-1] for part in parts if part.startswith(\"3.\")), \"\")).strip()\n",
        "\n",
        "        return themes, sentiment, key_points\n",
        "    except Exception as e:\n",
        "        return \"\", \"\", f\"Error: {str(e)}\"\n",
        "\n",
        "# apply the splitting function to the results\n",
        "df_subset[[\"Themes\", \"Sentiment\", \"Key Points\"]] = pd.DataFrame(\n",
        "    df_subset[\"analysis\"].apply(split_analysis_to_columns).tolist(),\n",
        "    index=df_subset.index\n",
        ")\n",
        "\n",
        "# # drop the old 'analysis' column cause we dont need it anymore\n",
        "# df_subset = df_subset.drop(columns=[\"analysis\"])\n",
        "\n",
        "# check dataframe so far\n",
        "print(df_subset[[\"Themes\", \"Sentiment\", \"Key Points\"]].head(15))"
      ]
    },
    {
      "cell_type": "markdown",
      "metadata": {
        "id": "i8gDiOqF3-MT"
      },
      "source": [
        "## 3. Data Analysis:\n",
        "- Categorize the feedback into themes and sentiments.\n",
        "- Summarize the analysis results, highlighting the most common feedback themes and overall sentiment."
      ]
    },
    {
      "cell_type": "markdown",
      "metadata": {
        "id": "WEdhQl094SFY"
      },
      "source": [
        "Some text processing is still needed. First we need to convert all to lower case, then we need to divide the columns 'Themes' and 'Key Points' in three, then count the values individually."
      ]
    },
    {
      "cell_type": "code",
      "execution_count": 15,
      "metadata": {
        "colab": {
          "base_uri": "https://localhost:8080/",
          "height": 206
        },
        "id": "_aNRwC3b49CH",
        "outputId": "89e40977-ae45-4b40-a2ae-52797d8abcd2"
      },
      "outputs": [
        {
          "data": {
            "text/html": [
              "<div>\n",
              "<style scoped>\n",
              "    .dataframe tbody tr th:only-of-type {\n",
              "        vertical-align: middle;\n",
              "    }\n",
              "\n",
              "    .dataframe tbody tr th {\n",
              "        vertical-align: top;\n",
              "    }\n",
              "\n",
              "    .dataframe thead th {\n",
              "        text-align: right;\n",
              "    }\n",
              "</style>\n",
              "<table border=\"1\" class=\"dataframe\">\n",
              "  <thead>\n",
              "    <tr style=\"text-align: right;\">\n",
              "      <th></th>\n",
              "      <th>Sentiment</th>\n",
              "      <th>themes_1</th>\n",
              "      <th>themes_2</th>\n",
              "      <th>themes_3</th>\n",
              "      <th>key_points_1</th>\n",
              "      <th>key_points_2</th>\n",
              "      <th>key_points_3</th>\n",
              "    </tr>\n",
              "  </thead>\n",
              "  <tbody>\n",
              "    <tr>\n",
              "      <th>0</th>\n",
              "      <td>positive</td>\n",
              "      <td>functionality</td>\n",
              "      <td>price</td>\n",
              "      <td>effectiveness</td>\n",
              "      <td>filters out pop sounds</td>\n",
              "      <td>recordings are more crisp</td>\n",
              "      <td>good value for the price.</td>\n",
              "    </tr>\n",
              "    <tr>\n",
              "      <th>1</th>\n",
              "      <td>positive</td>\n",
              "      <td>product performance</td>\n",
              "      <td>affordability</td>\n",
              "      <td>pleasant aroma</td>\n",
              "      <td>product does exactly as it should</td>\n",
              "      <td>affordable</td>\n",
              "      <td>pleasant aroma reminiscent of old grape candy</td>\n",
              "    </tr>\n",
              "    <tr>\n",
              "      <th>2</th>\n",
              "      <td>positive</td>\n",
              "      <td>functionality</td>\n",
              "      <td>ease of use</td>\n",
              "      <td>durability</td>\n",
              "      <td>blocks popping sounds effectively</td>\n",
              "      <td>allows voice through without reduction in volu...</td>\n",
              "      <td>secure metal clamp mount.</td>\n",
              "    </tr>\n",
              "    <tr>\n",
              "      <th>3</th>\n",
              "      <td>positive</td>\n",
              "      <td>windscreen protection</td>\n",
              "      <td>pop prevention</td>\n",
              "      <td>gooseneck stability</td>\n",
              "      <td>good value for money</td>\n",
              "      <td>effective at protecting mic</td>\n",
              "      <td>requires careful positioning for stability</td>\n",
              "    </tr>\n",
              "    <tr>\n",
              "      <th>4</th>\n",
              "      <td>positive</td>\n",
              "      <td>performance</td>\n",
              "      <td>appearance</td>\n",
              "      <td>vocal recording</td>\n",
              "      <td>eliminates pops</td>\n",
              "      <td>looks like a studio filter</td>\n",
              "      <td>great for recording vocals</td>\n",
              "    </tr>\n",
              "  </tbody>\n",
              "</table>\n",
              "</div>"
            ],
            "text/plain": [
              "  Sentiment               themes_1        themes_2             themes_3  \\\n",
              "0  positive          functionality           price        effectiveness   \n",
              "1  positive    product performance   affordability       pleasant aroma   \n",
              "2  positive          functionality     ease of use           durability   \n",
              "3  positive  windscreen protection  pop prevention  gooseneck stability   \n",
              "4  positive            performance      appearance      vocal recording   \n",
              "\n",
              "                        key_points_1  \\\n",
              "0             filters out pop sounds   \n",
              "1  product does exactly as it should   \n",
              "2  blocks popping sounds effectively   \n",
              "3               good value for money   \n",
              "4                    eliminates pops   \n",
              "\n",
              "                                        key_points_2  \\\n",
              "0                          recordings are more crisp   \n",
              "1                                         affordable   \n",
              "2  allows voice through without reduction in volu...   \n",
              "3                        effective at protecting mic   \n",
              "4                         looks like a studio filter   \n",
              "\n",
              "                                    key_points_3  \n",
              "0                      good value for the price.  \n",
              "1  pleasant aroma reminiscent of old grape candy  \n",
              "2                      secure metal clamp mount.  \n",
              "3     requires careful positioning for stability  \n",
              "4                     great for recording vocals  "
            ]
          },
          "metadata": {},
          "output_type": "display_data"
        }
      ],
      "source": [
        "# always make a backup for the backup\n",
        "df_analysis = df_subset.copy()\n",
        "\n",
        "# convert columns to lower case\n",
        "df_analysis[\"Themes\"] = df_analysis[\"Themes\"].str.lower()\n",
        "df_analysis[\"Sentiment\"] = df_analysis[\"Sentiment\"].str.lower()\n",
        "df_analysis[\"Key Points\"] = df_analysis[\"Key Points\"].str.lower()\n",
        "\n",
        "# split Themes into themes_1, themes_2 and themes_3 splitting by comma\n",
        "temp_df = df_analysis[\"Themes\"].str.split(\", \", expand=True)\n",
        "df_analysis[\"themes_1\"] = temp_df[0]\n",
        "df_analysis[\"themes_2\"] = temp_df[1]\n",
        "df_analysis[\"themes_3\"] = temp_df[2]\n",
        "df_analysis = df_analysis.drop(columns=[\"Themes\"])\n",
        "\n",
        "# repeat for Key Points\n",
        "temp_df = df_analysis[\"Key Points\"].str.split(\", \", expand=True)\n",
        "df_analysis[\"key_points_1\"] = temp_df[0]\n",
        "df_analysis[\"key_points_2\"] = temp_df[1]\n",
        "df_analysis[\"key_points_3\"] = temp_df[2]\n",
        "df_analysis = df_analysis.drop(columns=[\"Key Points\"])\n",
        "\n",
        "# check result\n",
        "display(df_analysis[[\"Sentiment\", \"themes_1\", \"themes_2\", \"themes_3\", \"key_points_1\", \"key_points_2\", \"key_points_3\"]].head())"
      ]
    },
    {
      "cell_type": "code",
      "execution_count": 16,
      "metadata": {
        "colab": {
          "base_uri": "https://localhost:8080/",
          "height": 506
        },
        "id": "cP98LAk99ecq",
        "outputId": "bb7fc0c9-b8b8-488a-94d8-767ce7b3c08f"
      },
      "outputs": [
        {
          "data": {
            "text/html": [
              "<div>\n",
              "<style scoped>\n",
              "    .dataframe tbody tr th:only-of-type {\n",
              "        vertical-align: middle;\n",
              "    }\n",
              "\n",
              "    .dataframe tbody tr th {\n",
              "        vertical-align: top;\n",
              "    }\n",
              "\n",
              "    .dataframe thead th {\n",
              "        text-align: right;\n",
              "    }\n",
              "</style>\n",
              "<table border=\"1\" class=\"dataframe\">\n",
              "  <thead>\n",
              "    <tr style=\"text-align: right;\">\n",
              "      <th></th>\n",
              "      <th>Sentiment</th>\n",
              "      <th>Count</th>\n",
              "    </tr>\n",
              "  </thead>\n",
              "  <tbody>\n",
              "    <tr>\n",
              "      <th>0</th>\n",
              "      <td>positive</td>\n",
              "      <td>746</td>\n",
              "    </tr>\n",
              "    <tr>\n",
              "      <th>1</th>\n",
              "      <td>negative</td>\n",
              "      <td>76</td>\n",
              "    </tr>\n",
              "    <tr>\n",
              "      <th>2</th>\n",
              "      <td>neutral</td>\n",
              "      <td>71</td>\n",
              "    </tr>\n",
              "    <tr>\n",
              "      <th>3</th>\n",
              "      <td></td>\n",
              "      <td>2</td>\n",
              "    </tr>\n",
              "    <tr>\n",
              "      <th>4</th>\n",
              "      <td>ion system compatibility</td>\n",
              "      <td>1</td>\n",
              "    </tr>\n",
              "    <tr>\n",
              "      <th>5</th>\n",
              "      <td>good value for home recording</td>\n",
              "      <td>1</td>\n",
              "    </tr>\n",
              "    <tr>\n",
              "      <th>6</th>\n",
              "      <td>not suitable for bigger instruments</td>\n",
              "      <td>1</td>\n",
              "    </tr>\n",
              "    <tr>\n",
              "      <th>7</th>\n",
              "      <td>3</td>\n",
              "      <td>1</td>\n",
              "    </tr>\n",
              "    <tr>\n",
              "      <th>8</th>\n",
              "      <td>best picks, good deal</td>\n",
              "      <td>1</td>\n",
              "    </tr>\n",
              "  </tbody>\n",
              "</table>\n",
              "</div>"
            ],
            "text/plain": [
              "                             Sentiment  Count\n",
              "0                             positive    746\n",
              "1                             negative     76\n",
              "2                              neutral     71\n",
              "3                                           2\n",
              "4             ion system compatibility      1\n",
              "5        good value for home recording      1\n",
              "6  not suitable for bigger instruments      1\n",
              "7                                    3      1\n",
              "8                best picks, good deal      1"
            ]
          },
          "metadata": {},
          "output_type": "display_data"
        },
        {
          "name": "stdout",
          "output_type": "stream",
          "text": [
            "\n"
          ]
        },
        {
          "data": {
            "text/html": [
              "<div>\n",
              "<style scoped>\n",
              "    .dataframe tbody tr th:only-of-type {\n",
              "        vertical-align: middle;\n",
              "    }\n",
              "\n",
              "    .dataframe tbody tr th {\n",
              "        vertical-align: top;\n",
              "    }\n",
              "\n",
              "    .dataframe thead th {\n",
              "        text-align: right;\n",
              "    }\n",
              "</style>\n",
              "<table border=\"1\" class=\"dataframe\">\n",
              "  <thead>\n",
              "    <tr style=\"text-align: right;\">\n",
              "      <th></th>\n",
              "      <th>Theme</th>\n",
              "      <th>Count</th>\n",
              "    </tr>\n",
              "  </thead>\n",
              "  <tbody>\n",
              "    <tr>\n",
              "      <th>0</th>\n",
              "      <td>durability</td>\n",
              "      <td>181</td>\n",
              "    </tr>\n",
              "    <tr>\n",
              "      <th>1</th>\n",
              "      <td>quality</td>\n",
              "      <td>122</td>\n",
              "    </tr>\n",
              "    <tr>\n",
              "      <th>2</th>\n",
              "      <td>sound quality</td>\n",
              "      <td>80</td>\n",
              "    </tr>\n",
              "    <tr>\n",
              "      <th>3</th>\n",
              "      <td>price</td>\n",
              "      <td>78</td>\n",
              "    </tr>\n",
              "    <tr>\n",
              "      <th>4</th>\n",
              "      <td>ease of use</td>\n",
              "      <td>64</td>\n",
              "    </tr>\n",
              "    <tr>\n",
              "      <th>5</th>\n",
              "      <td>functionality</td>\n",
              "      <td>57</td>\n",
              "    </tr>\n",
              "    <tr>\n",
              "      <th>6</th>\n",
              "      <td>value for money</td>\n",
              "      <td>48</td>\n",
              "    </tr>\n",
              "    <tr>\n",
              "      <th>7</th>\n",
              "      <td>performance</td>\n",
              "      <td>37</td>\n",
              "    </tr>\n",
              "    <tr>\n",
              "      <th>8</th>\n",
              "      <td>versatility</td>\n",
              "      <td>36</td>\n",
              "    </tr>\n",
              "    <tr>\n",
              "      <th>9</th>\n",
              "      <td>value</td>\n",
              "      <td>33</td>\n",
              "    </tr>\n",
              "  </tbody>\n",
              "</table>\n",
              "</div>"
            ],
            "text/plain": [
              "             Theme  Count\n",
              "0       durability    181\n",
              "1          quality    122\n",
              "2    sound quality     80\n",
              "3            price     78\n",
              "4      ease of use     64\n",
              "5    functionality     57\n",
              "6  value for money     48\n",
              "7      performance     37\n",
              "8      versatility     36\n",
              "9            value     33"
            ]
          },
          "metadata": {},
          "output_type": "display_data"
        }
      ],
      "source": [
        "# for more common sentiments we just count values\n",
        "df_sentiments = pd.DataFrame(df_analysis[\"Sentiment\"].value_counts().reset_index())\n",
        "df_sentiments.columns = [\"Sentiment\", \"Count\"]\n",
        "display(df_sentiments)\n",
        "print()\n",
        "\n",
        "# for more common themes we need to concatenate them in a single column df\n",
        "# after that we count values\n",
        "df_themes = df_analysis[[\"themes_1\", \"themes_2\", \"themes_3\"]].copy()\n",
        "df_themes = df_themes.stack().reset_index(drop=True)\n",
        "df_themes.name = \"Theme\"\n",
        "df_themes = pd.DataFrame(df_themes.value_counts().reset_index())\n",
        "df_themes.columns = [\"Theme\", \"Count\"]\n",
        "display(df_themes.head(10))"
      ]
    },
    {
      "cell_type": "markdown",
      "metadata": {},
      "source": [
        "There are some minor errors in the sentiment retrieving, but 6 wrong from ~900 is something we can pass :-)"
      ]
    },
    {
      "cell_type": "markdown",
      "metadata": {
        "id": "ixBx03ES_gk6"
      },
      "source": [
        "## 4. Visualization:\n",
        "- Create visualizations such as bar charts for common themes and pie charts for sentiment distribution."
      ]
    },
    {
      "cell_type": "code",
      "execution_count": 17,
      "metadata": {
        "colab": {
          "base_uri": "https://localhost:8080/",
          "height": 564
        },
        "id": "rQUI0lWLAW6k",
        "outputId": "58822c33-4929-47e2-a3d2-88771ee16786"
      },
      "outputs": [
        {
          "data": {
            "image/png": "[encoded data removed]",
            "text/plain": [
              "<Figure size 1000x600 with 1 Axes>"
            ]
          },
          "metadata": {},
          "output_type": "display_data"
        }
      ],
      "source": [
        "# bar chart for themes\n",
        "plt.figure(figsize=(10, 6))\n",
        "sns.barplot(x=\"Count\", y=\"Theme\", data=df_themes.head(10))\n",
        "plt.title(\"Top 10 Most Common Themes\")\n",
        "plt.xlabel(\"Count\")\n",
        "plt.ylabel(\"Theme\")\n",
        "plt.show()"
      ]
    },
    {
      "cell_type": "markdown",
      "metadata": {
        "id": "SEtKtAVsAWLX"
      },
      "source": [
        "The most touched theme is 'durability', followed by 'quality' and 'sound quality'. By focusing on durability, quality, and sound quality, while addressing specific concerns like price and ease of use, businesses can enhance customer satisfaction and drive sales growth in a competitive marketplace. Regularly monitoring these themes through customer feedback will allow for continuous improvement and adaptation to market demands."
      ]
    },
    {
      "cell_type": "code",
      "execution_count": 19,
      "metadata": {
        "colab": {
          "base_uri": "https://localhost:8080/",
          "height": 521
        },
        "id": "mdL2daDq_8Px",
        "outputId": "46f9f782-56d7-4f2f-dd51-f41ec7c057d6"
      },
      "outputs": [
        {
          "data": {
            "image/png": "[encoded data removed]",
            "text/plain": [
              "<Figure size 600x600 with 1 Axes>"
            ]
          },
          "metadata": {},
          "output_type": "display_data"
        }
      ],
      "source": [
        "# from steniments we only take those with more than some threshold to avoid errors\n",
        "df_sentiments = df_sentiments.head(3)\n",
        "\n",
        "# pie chart for sentiment distribution\n",
        "plt.figure(figsize=(6, 6))\n",
        "plt.pie(df_sentiments[\"Count\"], labels=df_sentiments[\"Sentiment\"], autopct='%1.1f%%', startangle=90)\n",
        "plt.title(\"Sentiment Distribution\")\n",
        "plt.show()"
      ]
    },
    {
      "cell_type": "markdown",
      "metadata": {
        "id": "1EFl94sAAu1W"
      },
      "source": [
        "Overall, the sentiment analysis reflects a predominantly favorable view of the business, but attention should be paid to the negative and neutral sentiments to ensure continued success and improvement in customer satisfaction."
      ]
    },
    {
      "cell_type": "markdown",
      "metadata": {},
      "source": [
        "---\n",
        "\n",
        "## Conclusions\n",
        "\n",
        "We performed a customer feedback analysis using the \"Amazon Musical Instruments Reviews\" dataset. The customer feedback was cleaned and processed using OpenAI's API. The requests were batched to retrieve the most prevalent themes, sentiments, and key points. In other words, by means of a large language model (LLM), we were able to extract the key features we were searching for through natural language processing.\n",
        "\n",
        "The most touched theme is 'durability', followed by 'quality' and 'sound quality'. By focusing on durability, quality, and sound quality, while addressing specific concerns like price and ease of use, businesses can enhance customer satisfaction and drive sales growth in a competitive marketplace. Regularly monitoring these themes through customer feedback will allow for continuous improvement and adaptation to market demands.\n",
        "\n",
        "Overall, the sentiment analysis reflects a predominantly favorable view of the business, but attention should be paid to the negative and neutral sentiments to ensure continued success and improvement in customer satisfaction.\n",
        "\n",
        "---\n",
        "\n",
        "## Future Steps\n",
        "\n",
        "- Fix the prompt error retrieval on 'setiment'\n",
        "- Use also the retrieved keypoints (could be done now with a cloud of words, but I really hate that nonsensic graph.)\n",
        "- Work with the full dataset to get a better statistic"
      ]
    },
    {
      "cell_type": "code",
      "execution_count": null,
      "metadata": {
        "id": "FuH0HV5GAqd1"
      },
      "outputs": [],
      "source": []
    }
  ],
  "metadata": {
    "colab": {
      "provenance": []
    },
    "kernelspec": {
      "display_name": "Devs_Institute",
      "language": "python",
      "name": "python3"
    },
    "language_info": {
      "codemirror_mode": {
        "name": "ipython",
        "version": 3
      },
      "file_extension": ".py",
      "mimetype": "text/x-python",
      "name": "python",
      "nbconvert_exporter": "python",
      "pygments_lexer": "ipython3",
      "version": "3.12.5"
    }
  },
  "nbformat": 4,
  "nbformat_minor": 0
}
