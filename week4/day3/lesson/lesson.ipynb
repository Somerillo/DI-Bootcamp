{
 "cells": [
  {
   "cell_type": "code",
   "execution_count": 1,
   "id": "2a52da50-6fb4-4427-8436-e5d1050bbcee",
   "metadata": {},
   "outputs": [
    {
     "ename": "SyntaxError",
     "evalue": "invalid syntax. Perhaps you forgot a comma? (1471756160.py, line 3)",
     "output_type": "error",
     "traceback": [
      "\u001b[1;36m  Cell \u001b[1;32mIn[1], line 3\u001b[1;36m\u001b[0m\n\u001b[1;33m    \"name\" : { \"first\": \"john\", \"last\":\"doe\"}\u001b[0m\n\u001b[1;37m             ^\u001b[0m\n\u001b[1;31mSyntaxError\u001b[0m\u001b[1;31m:\u001b[0m invalid syntax. Perhaps you forgot a comma?\n"
     ]
    }
   ],
   "source": [
    "data = {\n",
    " \"user_id\":12345,\n",
    " \"name\" : { \"first\": \"john\", \"last\":\"doe\"}\n",
    " \"orders\" : [{\"order_id\" : \"Abc123\"\n",
    "\t\t\"date\" : \"2023-01-15\"\n",
    "\t\t\"items\" : [{\"product\":\"Laptop\", \"price\": 100, \"quantity\":1},\n",
    "                        {\"product\":\"Iphone\", \"price\": 200, \"quantity\":1}]},\n",
    "\t\t{\"order_id\" : \"def123\"\n",
    "\t\t\"date\" : \"2023-01-15\"\n",
    "\t\t\"items\" : [{\"product\":\"Laptop\", \"price\": 100, \"quantity\":1},\n",
    "                        {\"product\":\"Iphone\", \"price\": 100, \"quantity\":1}]}\n",
    "\t\t\n",
    "\t\t]\n",
    "}\n",
    "\n",
    "# extract the price of the second product within the order with the id of abc123.\n",
    "# what is the order id would be sometimes capital and sometimess not"
   ]
  },
  {
   "cell_type": "code",
   "execution_count": null,
   "id": "3ef5de24-5a87-4c37-a0c6-5bb1232e7ae0",
   "metadata": {},
   "outputs": [],
   "source": [
    "dict = {\"name\": \"gabi\", \"date\": 2021}\n",
    "dict[\"name\"]\n",
    "\n",
    "data[\"orders\"][1][\"items\"][\"price\"]"
   ]
  },
  {
   "cell_type": "code",
   "execution_count": null,
   "id": "3c422f50-aad0-4fe5-90ce-764a1955c76b",
   "metadata": {},
   "outputs": [],
   "source": [
    "{\n",
    "   \"user_id\":12345,\n",
    "   \"name\":{\n",
    "      \"first\":\"john\",\n",
    "      \"last\":\"doe\"\n",
    "   },\n",
    "   \"orders\":[\n",
    "      {\n",
    "         \"order_id\":\"Abc123\",\n",
    "         \"date\":\"2023-01-15\",\n",
    "         \"items\":[\n",
    "            {\n",
    "               \"product\":\"Laptop\",\n",
    "               \"price\":100,\n",
    "               \"quantity\":1\n",
    "            },\n",
    "            {\n",
    "               \"product\":\"Iphone\",\n",
    "               \"price\":200,\n",
    "               \"quantity\":1\n",
    "            }\n",
    "         ]\n",
    "      },\n",
    "      {\n",
    "         \"order_id\":\"def123\",\n",
    "         \"date\":\"2023-01-15\",\n",
    "         \"items\":[\n",
    "            {\n",
    "               \"product\":\"Laptop\",\n",
    "               \"price\":100,\n",
    "               \"quantity\":1\n",
    "            },\n",
    "            {\n",
    "               \"product\":\"Iphone\",\n",
    "               \"price\":100,\n",
    "               \"quantity\":1\n",
    "            }\n",
    "         ]\n",
    "      }\n",
    "   ]\n",
    "} (edited) "
   ]
  }
 ],
 "metadata": {
  "kernelspec": {
   "display_name": "Python 3 (ipykernel)",
   "language": "python",
   "name": "python3"
  },
  "language_info": {
   "codemirror_mode": {
    "name": "ipython",
    "version": 3
   },
   "file_extension": ".py",
   "mimetype": "text/x-python",
   "name": "python",
   "nbconvert_exporter": "python",
   "pygments_lexer": "ipython3",
   "version": "3.12.5"
  }
 },
 "nbformat": 4,
 "nbformat_minor": 5
}
