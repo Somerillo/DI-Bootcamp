{
 "cells": [
  {
   "cell_type": "markdown",
   "id": "65062aa4-d50a-4987-9795-9d44016e06db",
   "metadata": {},
   "source": [
    "# Mini-project 1 : Machine Learning for Mental Health\n",
    "\n",
    "Using the Mental Health dataset and what you have learn this week, answer the following questions :\n",
    "\n",
    "*    What is the distribution of mental health conditions among different age groups in the tech industry?\n",
    "*    How does the frequency of mental health issues vary by gender?\n",
    "*    Identify the countries with the highest and lowest reported rates of mental health issues in the tech industry.\n"
   ]
  },
  {
   "cell_type": "markdown",
   "id": "ea1d7772-3627-4ead-85ee-52dc9365d3f7",
   "metadata": {},
   "source": [
    "## Before starting to solve anything we need to know our data\n",
    "\n",
    "After looking for the original dataset description we have:\n",
    "\n",
    "* **Timestamp**: timestamp of the data\n",
    "\n",
    "* **Age**: self explained column title\n",
    "\n",
    "* **Gender**: self explained column title\n",
    "\n",
    "* **Country**: self explained column title\n",
    "\n",
    "* **state**: If you live in the United States, which state or territory do you live in?\n",
    "\n",
    "* **self_employed**: Are you self-employed?\n",
    "\n",
    "* **family_history**: Do you have a family history of mental illness?\n",
    "\n",
    "* <span style=\"color:green; font-size:18px;\">**treatment**: Have you sought treatment for a mental health condition?</span>\n",
    "\n",
    "* **work_interfere**: If you have a mental health condition, do you feel that it interferes with your work?\n",
    "\n",
    "* **no_employees**: How many employees does your company or organization have?\n",
    "\n",
    "* **remote_work**: Do you work remotely (outside of an office) at least 50% of the time?\n",
    "\n",
    "* **tech_company**: Is your employer primarily a tech company/organization?\n",
    "\n",
    "* **benefits**: Does your employer provide mental health benefits?\n",
    "\n",
    "* **care_options**: Do you know the options for mental health care your employer provides?\n",
    "\n",
    "* **wellness_program**: Has your employer ever discussed mental health as part of an employee wellness program?\n",
    "\n",
    "* **seek_help**: Does your employer provide resources to learn more about mental health issues and how to seek help?\n",
    "\n",
    "* **anonymity**: Is your anonymity protected if you choose to take advantage of mental health or substance abuse treatment resources?\n",
    "\n",
    "* **leave**: How easy is it for you to take medical leave for a mental health condition?\n",
    "\n",
    "* **mentalhealthconsequence**: Do you think that discussing a mental health issue with your employer would have negative consequences?\n",
    "\n",
    "* **physhealthconsequence**: Do you think that discussing a physical health issue with your employer would have negative consequences?\n",
    "\n",
    "* **coworkers**: Would you be willing to discuss a mental health issue with your coworkers?\n",
    "\n",
    "* **physhealthinterview**: Would you bring up a physical health issue with a potential employer in an interview?\n",
    "\n",
    "* **mentalvsphysical**: Do you feel that your employer takes mental health as seriously as physical health?\n",
    "\n",
    "* **obs_consequence**: Have you heard of or observed negative consequences for coworkers with mental health conditions in your workplace?\n",
    "\n",
    "* **comments**: Any additional notes or comments\n",
    "\n",
    "<span style=\"color:white; font-size:20px;\">**Important!:** </span>We dont have a `mental health conditions` field neither a `mental health issues` field. The closer to that we have is the `treatment` column, which only means a case was reported and then if treatment was sought or not."
   ]
  },
  {
   "cell_type": "markdown",
   "id": "2f703c8a-dc65-4df9-a702-e06105aca831",
   "metadata": {},
   "source": [
    "# Identify and handle missing values / Detect and correct any inconsistencies in the data"
   ]
  },
  {
   "cell_type": "code",
   "execution_count": 1,
   "id": "83edb540-48fd-41d3-98ac-469159f036ec",
   "metadata": {},
   "outputs": [],
   "source": [
    "import pandas as pd\n",
    "import matplotlib.pyplot as plt\n",
    "import seaborn as sns"
   ]
  },
  {
   "cell_type": "code",
   "execution_count": 2,
   "id": "912c6c1e-9138-4205-bd60-e3a881f649f5",
   "metadata": {},
   "outputs": [
    {
     "data": {
      "text/html": [
       "<div>\n",
       "<style scoped>\n",
       "    .dataframe tbody tr th:only-of-type {\n",
       "        vertical-align: middle;\n",
       "    }\n",
       "\n",
       "    .dataframe tbody tr th {\n",
       "        vertical-align: top;\n",
       "    }\n",
       "\n",
       "    .dataframe thead th {\n",
       "        text-align: right;\n",
       "    }\n",
       "</style>\n",
       "<table border=\"1\" class=\"dataframe\">\n",
       "  <thead>\n",
       "    <tr style=\"text-align: right;\">\n",
       "      <th></th>\n",
       "      <th>Timestamp</th>\n",
       "      <th>Age</th>\n",
       "      <th>Gender</th>\n",
       "      <th>Country</th>\n",
       "      <th>state</th>\n",
       "      <th>self_employed</th>\n",
       "      <th>family_history</th>\n",
       "      <th>treatment</th>\n",
       "      <th>work_interfere</th>\n",
       "      <th>no_employees</th>\n",
       "      <th>...</th>\n",
       "      <th>leave</th>\n",
       "      <th>mental_health_consequence</th>\n",
       "      <th>phys_health_consequence</th>\n",
       "      <th>coworkers</th>\n",
       "      <th>supervisor</th>\n",
       "      <th>mental_health_interview</th>\n",
       "      <th>phys_health_interview</th>\n",
       "      <th>mental_vs_physical</th>\n",
       "      <th>obs_consequence</th>\n",
       "      <th>comments</th>\n",
       "    </tr>\n",
       "  </thead>\n",
       "  <tbody>\n",
       "    <tr>\n",
       "      <th>0</th>\n",
       "      <td>2014-08-27 11:29:31</td>\n",
       "      <td>37</td>\n",
       "      <td>Female</td>\n",
       "      <td>United States</td>\n",
       "      <td>IL</td>\n",
       "      <td>NaN</td>\n",
       "      <td>No</td>\n",
       "      <td>Yes</td>\n",
       "      <td>Often</td>\n",
       "      <td>6-25</td>\n",
       "      <td>...</td>\n",
       "      <td>Somewhat easy</td>\n",
       "      <td>No</td>\n",
       "      <td>No</td>\n",
       "      <td>Some of them</td>\n",
       "      <td>Yes</td>\n",
       "      <td>No</td>\n",
       "      <td>Maybe</td>\n",
       "      <td>Yes</td>\n",
       "      <td>No</td>\n",
       "      <td>NaN</td>\n",
       "    </tr>\n",
       "    <tr>\n",
       "      <th>1</th>\n",
       "      <td>2014-08-27 11:29:37</td>\n",
       "      <td>44</td>\n",
       "      <td>M</td>\n",
       "      <td>United States</td>\n",
       "      <td>IN</td>\n",
       "      <td>NaN</td>\n",
       "      <td>No</td>\n",
       "      <td>No</td>\n",
       "      <td>Rarely</td>\n",
       "      <td>More than 1000</td>\n",
       "      <td>...</td>\n",
       "      <td>Don't know</td>\n",
       "      <td>Maybe</td>\n",
       "      <td>No</td>\n",
       "      <td>No</td>\n",
       "      <td>No</td>\n",
       "      <td>No</td>\n",
       "      <td>No</td>\n",
       "      <td>Don't know</td>\n",
       "      <td>No</td>\n",
       "      <td>NaN</td>\n",
       "    </tr>\n",
       "    <tr>\n",
       "      <th>2</th>\n",
       "      <td>2014-08-27 11:29:44</td>\n",
       "      <td>32</td>\n",
       "      <td>Male</td>\n",
       "      <td>Canada</td>\n",
       "      <td>NaN</td>\n",
       "      <td>NaN</td>\n",
       "      <td>No</td>\n",
       "      <td>No</td>\n",
       "      <td>Rarely</td>\n",
       "      <td>6-25</td>\n",
       "      <td>...</td>\n",
       "      <td>Somewhat difficult</td>\n",
       "      <td>No</td>\n",
       "      <td>No</td>\n",
       "      <td>Yes</td>\n",
       "      <td>Yes</td>\n",
       "      <td>Yes</td>\n",
       "      <td>Yes</td>\n",
       "      <td>No</td>\n",
       "      <td>No</td>\n",
       "      <td>NaN</td>\n",
       "    </tr>\n",
       "    <tr>\n",
       "      <th>3</th>\n",
       "      <td>2014-08-27 11:29:46</td>\n",
       "      <td>31</td>\n",
       "      <td>Male</td>\n",
       "      <td>United Kingdom</td>\n",
       "      <td>NaN</td>\n",
       "      <td>NaN</td>\n",
       "      <td>Yes</td>\n",
       "      <td>Yes</td>\n",
       "      <td>Often</td>\n",
       "      <td>26-100</td>\n",
       "      <td>...</td>\n",
       "      <td>Somewhat difficult</td>\n",
       "      <td>Yes</td>\n",
       "      <td>Yes</td>\n",
       "      <td>Some of them</td>\n",
       "      <td>No</td>\n",
       "      <td>Maybe</td>\n",
       "      <td>Maybe</td>\n",
       "      <td>No</td>\n",
       "      <td>Yes</td>\n",
       "      <td>NaN</td>\n",
       "    </tr>\n",
       "    <tr>\n",
       "      <th>4</th>\n",
       "      <td>2014-08-27 11:30:22</td>\n",
       "      <td>31</td>\n",
       "      <td>Male</td>\n",
       "      <td>United States</td>\n",
       "      <td>TX</td>\n",
       "      <td>NaN</td>\n",
       "      <td>No</td>\n",
       "      <td>No</td>\n",
       "      <td>Never</td>\n",
       "      <td>100-500</td>\n",
       "      <td>...</td>\n",
       "      <td>Don't know</td>\n",
       "      <td>No</td>\n",
       "      <td>No</td>\n",
       "      <td>Some of them</td>\n",
       "      <td>Yes</td>\n",
       "      <td>Yes</td>\n",
       "      <td>Yes</td>\n",
       "      <td>Don't know</td>\n",
       "      <td>No</td>\n",
       "      <td>NaN</td>\n",
       "    </tr>\n",
       "  </tbody>\n",
       "</table>\n",
       "<p>5 rows × 27 columns</p>\n",
       "</div>"
      ],
      "text/plain": [
       "             Timestamp  Age  Gender         Country state self_employed  \\\n",
       "0  2014-08-27 11:29:31   37  Female   United States    IL           NaN   \n",
       "1  2014-08-27 11:29:37   44       M   United States    IN           NaN   \n",
       "2  2014-08-27 11:29:44   32    Male          Canada   NaN           NaN   \n",
       "3  2014-08-27 11:29:46   31    Male  United Kingdom   NaN           NaN   \n",
       "4  2014-08-27 11:30:22   31    Male   United States    TX           NaN   \n",
       "\n",
       "  family_history treatment work_interfere    no_employees  ...  \\\n",
       "0             No       Yes          Often            6-25  ...   \n",
       "1             No        No         Rarely  More than 1000  ...   \n",
       "2             No        No         Rarely            6-25  ...   \n",
       "3            Yes       Yes          Often          26-100  ...   \n",
       "4             No        No          Never         100-500  ...   \n",
       "\n",
       "                leave mental_health_consequence phys_health_consequence  \\\n",
       "0       Somewhat easy                        No                      No   \n",
       "1          Don't know                     Maybe                      No   \n",
       "2  Somewhat difficult                        No                      No   \n",
       "3  Somewhat difficult                       Yes                     Yes   \n",
       "4          Don't know                        No                      No   \n",
       "\n",
       "      coworkers supervisor mental_health_interview phys_health_interview  \\\n",
       "0  Some of them        Yes                      No                 Maybe   \n",
       "1            No         No                      No                    No   \n",
       "2           Yes        Yes                     Yes                   Yes   \n",
       "3  Some of them         No                   Maybe                 Maybe   \n",
       "4  Some of them        Yes                     Yes                   Yes   \n",
       "\n",
       "  mental_vs_physical obs_consequence comments  \n",
       "0                Yes              No      NaN  \n",
       "1         Don't know              No      NaN  \n",
       "2                 No              No      NaN  \n",
       "3                 No             Yes      NaN  \n",
       "4         Don't know              No      NaN  \n",
       "\n",
       "[5 rows x 27 columns]"
      ]
     },
     "execution_count": 2,
     "metadata": {},
     "output_type": "execute_result"
    }
   ],
   "source": [
    "path = 'Mental Health in Tech Survey/survey.csv'\n",
    "\n",
    "df = pd.read_csv(path)\n",
    "\n",
    "df.head()"
   ]
  },
  {
   "cell_type": "code",
   "execution_count": 3,
   "id": "3adcdbc8-a8a2-45a1-baec-d44bb44c7393",
   "metadata": {},
   "outputs": [
    {
     "name": "stdout",
     "output_type": "stream",
     "text": [
      "<class 'pandas.core.frame.DataFrame'>\n",
      "RangeIndex: 1259 entries, 0 to 1258\n",
      "Data columns (total 27 columns):\n",
      " #   Column                     Non-Null Count  Dtype \n",
      "---  ------                     --------------  ----- \n",
      " 0   Timestamp                  1259 non-null   object\n",
      " 1   Age                        1259 non-null   int64 \n",
      " 2   Gender                     1259 non-null   object\n",
      " 3   Country                    1259 non-null   object\n",
      " 4   state                      744 non-null    object\n",
      " 5   self_employed              1241 non-null   object\n",
      " 6   family_history             1259 non-null   object\n",
      " 7   treatment                  1259 non-null   object\n",
      " 8   work_interfere             995 non-null    object\n",
      " 9   no_employees               1259 non-null   object\n",
      " 10  remote_work                1259 non-null   object\n",
      " 11  tech_company               1259 non-null   object\n",
      " 12  benefits                   1259 non-null   object\n",
      " 13  care_options               1259 non-null   object\n",
      " 14  wellness_program           1259 non-null   object\n",
      " 15  seek_help                  1259 non-null   object\n",
      " 16  anonymity                  1259 non-null   object\n",
      " 17  leave                      1259 non-null   object\n",
      " 18  mental_health_consequence  1259 non-null   object\n",
      " 19  phys_health_consequence    1259 non-null   object\n",
      " 20  coworkers                  1259 non-null   object\n",
      " 21  supervisor                 1259 non-null   object\n",
      " 22  mental_health_interview    1259 non-null   object\n",
      " 23  phys_health_interview      1259 non-null   object\n",
      " 24  mental_vs_physical         1259 non-null   object\n",
      " 25  obs_consequence            1259 non-null   object\n",
      " 26  comments                   164 non-null    object\n",
      "dtypes: int64(1), object(26)\n",
      "memory usage: 265.7+ KB\n"
     ]
    }
   ],
   "source": [
    "df.info()"
   ]
  },
  {
   "cell_type": "markdown",
   "id": "d111e4d7-75c7-42c0-8e0d-cc7ce4cddad1",
   "metadata": {},
   "source": [
    "From the info above we see the columns `[state, self_employeed, work_interfere, comments]` are incomplete.\n",
    "\n",
    "The `state` col has many NaN, and the state values\n",
    "The `self_employed` col is divided in yes/no + NaN\n",
    "The `work_interfere` col has 4 categories + NaN\n",
    "The `comments` col is just strings + NaN\n",
    "\n",
    "You can uncomment below to see each:"
   ]
  },
  {
   "cell_type": "code",
   "execution_count": 4,
   "id": "9e31fc67-6497-4f1a-9823-afdd71a0fc11",
   "metadata": {},
   "outputs": [],
   "source": [
    "# print(df['state'].value_counts())\n",
    "# print(df['self_employed'].value_counts()) # yes/no\n",
    "# print(df['work_interfere'].value_counts()) # Sometimes, Never, Often\n",
    "# print(df['comments'].value_counts())\n",
    "# print(df['treatment'].value_counts()) # yes/no"
   ]
  },
  {
   "cell_type": "markdown",
   "id": "e767eeef-cb6c-4620-939a-ed8f4da0cf51",
   "metadata": {},
   "source": [
    "The `Age` column is the only numeric one, and has some wierd values (min=-1726, max=1e11):"
   ]
  },
  {
   "cell_type": "code",
   "execution_count": 5,
   "id": "fc0a7e0f-d0c9-4928-8d64-eb1032d7212b",
   "metadata": {},
   "outputs": [
    {
     "name": "stdout",
     "output_type": "stream",
     "text": [
      "                Age\n",
      "count  1.259000e+03\n",
      "mean   7.942815e+07\n",
      "std    2.818299e+09\n",
      "min   -1.726000e+03\n",
      "25%    2.700000e+01\n",
      "50%    3.100000e+01\n",
      "75%    3.600000e+01\n",
      "max    1.000000e+11\n"
     ]
    },
    {
     "data": {
      "image/png": "[encoded data removed]",
      "text/plain": [
       "<Figure size 640x480 with 1 Axes>"
      ]
     },
     "metadata": {},
     "output_type": "display_data"
    }
   ],
   "source": [
    "sns.kdeplot(df['Age'])\n",
    "\n",
    "print(df.describe())"
   ]
  },
  {
   "cell_type": "code",
   "execution_count": 6,
   "id": "ad72a7ba-69b5-42de-a558-4692bf4421e6",
   "metadata": {},
   "outputs": [
    {
     "data": {
      "text/plain": [
       "Age\n",
       "-29             1\n",
       " 329            1\n",
       " 99999999999    1\n",
       "-1726           1\n",
       " 5              1\n",
       " 8              1\n",
       " 11             1\n",
       "-1              1\n",
       "Name: count, dtype: int64"
      ]
     },
     "execution_count": 6,
     "metadata": {},
     "output_type": "execute_result"
    }
   ],
   "source": [
    "# we check what's outside a logical High-Tech working range\n",
    "df[(df['Age'] < 18) | (df['Age'] > 90)]['Age'].value_counts()"
   ]
  },
  {
   "cell_type": "markdown",
   "id": "a4e72ec7-b12f-495e-a0a2-87df48898976",
   "metadata": {},
   "source": [
    "Only 8 rows for a total of 1259, so we'll simply remove those:"
   ]
  },
  {
   "cell_type": "code",
   "execution_count": 7,
   "id": "ae4c8b0b-3195-49fb-a36d-7b65cb4eb00b",
   "metadata": {},
   "outputs": [
    {
     "data": {
      "text/html": [
       "<div>\n",
       "<style scoped>\n",
       "    .dataframe tbody tr th:only-of-type {\n",
       "        vertical-align: middle;\n",
       "    }\n",
       "\n",
       "    .dataframe tbody tr th {\n",
       "        vertical-align: top;\n",
       "    }\n",
       "\n",
       "    .dataframe thead th {\n",
       "        text-align: right;\n",
       "    }\n",
       "</style>\n",
       "<table border=\"1\" class=\"dataframe\">\n",
       "  <thead>\n",
       "    <tr style=\"text-align: right;\">\n",
       "      <th></th>\n",
       "      <th>Age</th>\n",
       "    </tr>\n",
       "  </thead>\n",
       "  <tbody>\n",
       "    <tr>\n",
       "      <th>count</th>\n",
       "      <td>1251.000000</td>\n",
       "    </tr>\n",
       "    <tr>\n",
       "      <th>mean</th>\n",
       "      <td>32.076739</td>\n",
       "    </tr>\n",
       "    <tr>\n",
       "      <th>std</th>\n",
       "      <td>7.288272</td>\n",
       "    </tr>\n",
       "    <tr>\n",
       "      <th>min</th>\n",
       "      <td>18.000000</td>\n",
       "    </tr>\n",
       "    <tr>\n",
       "      <th>25%</th>\n",
       "      <td>27.000000</td>\n",
       "    </tr>\n",
       "    <tr>\n",
       "      <th>50%</th>\n",
       "      <td>31.000000</td>\n",
       "    </tr>\n",
       "    <tr>\n",
       "      <th>75%</th>\n",
       "      <td>36.000000</td>\n",
       "    </tr>\n",
       "    <tr>\n",
       "      <th>max</th>\n",
       "      <td>72.000000</td>\n",
       "    </tr>\n",
       "  </tbody>\n",
       "</table>\n",
       "</div>"
      ],
      "text/plain": [
       "               Age\n",
       "count  1251.000000\n",
       "mean     32.076739\n",
       "std       7.288272\n",
       "min      18.000000\n",
       "25%      27.000000\n",
       "50%      31.000000\n",
       "75%      36.000000\n",
       "max      72.000000"
      ]
     },
     "execution_count": 7,
     "metadata": {},
     "output_type": "execute_result"
    }
   ],
   "source": [
    "df_clean = df[~((df['Age'] < 18) | (df['Age'] > 90))]\n",
    "df_clean.describe()"
   ]
  },
  {
   "cell_type": "markdown",
   "id": "84a37e6b-26ad-46c5-8dbd-417b0311d700",
   "metadata": {},
   "source": [
    "That's better, the mean age is 32 plus minus 7, and the range goes from 18 to 72\n",
    "\n",
    "Now we check for duplicated rows:"
   ]
  },
  {
   "cell_type": "code",
   "execution_count": 8,
   "id": "0131452c-346d-4fe2-8ec0-d2210ed6f5bf",
   "metadata": {},
   "outputs": [
    {
     "name": "stdout",
     "output_type": "stream",
     "text": [
      "there are 0 duplicates\n"
     ]
    }
   ],
   "source": [
    "print(f'there are {df_clean.duplicated().sum()} duplicates')"
   ]
  },
  {
   "cell_type": "markdown",
   "id": "c767aa69-f083-4aca-a0e1-417eee1b9604",
   "metadata": {},
   "source": [
    "After that we can fill the values in `[state, self_employeed, work_interfere, comments]`"
   ]
  },
  {
   "cell_type": "code",
   "execution_count": 9,
   "id": "6ea58b17-0401-4ac8-bf2f-83a4d572d6d2",
   "metadata": {},
   "outputs": [
    {
     "name": "stdout",
     "output_type": "stream",
     "text": [
      "<class 'pandas.core.frame.DataFrame'>\n",
      "Index: 1251 entries, 0 to 1258\n",
      "Data columns (total 27 columns):\n",
      " #   Column                     Non-Null Count  Dtype \n",
      "---  ------                     --------------  ----- \n",
      " 0   Timestamp                  1251 non-null   object\n",
      " 1   Age                        1251 non-null   int64 \n",
      " 2   Gender                     1251 non-null   object\n",
      " 3   Country                    1251 non-null   object\n",
      " 4   state                      1251 non-null   object\n",
      " 5   self_employed              1251 non-null   object\n",
      " 6   family_history             1251 non-null   object\n",
      " 7   treatment                  1251 non-null   object\n",
      " 8   work_interfere             1251 non-null   object\n",
      " 9   no_employees               1251 non-null   object\n",
      " 10  remote_work                1251 non-null   object\n",
      " 11  tech_company               1251 non-null   object\n",
      " 12  benefits                   1251 non-null   object\n",
      " 13  care_options               1251 non-null   object\n",
      " 14  wellness_program           1251 non-null   object\n",
      " 15  seek_help                  1251 non-null   object\n",
      " 16  anonymity                  1251 non-null   object\n",
      " 17  leave                      1251 non-null   object\n",
      " 18  mental_health_consequence  1251 non-null   object\n",
      " 19  phys_health_consequence    1251 non-null   object\n",
      " 20  coworkers                  1251 non-null   object\n",
      " 21  supervisor                 1251 non-null   object\n",
      " 22  mental_health_interview    1251 non-null   object\n",
      " 23  phys_health_interview      1251 non-null   object\n",
      " 24  mental_vs_physical         1251 non-null   object\n",
      " 25  obs_consequence            1251 non-null   object\n",
      " 26  comments                   1251 non-null   object\n",
      "dtypes: int64(1), object(26)\n",
      "memory usage: 273.7+ KB\n"
     ]
    }
   ],
   "source": [
    "# always backup your data\n",
    "df_clean = df_clean.copy()\n",
    "\n",
    "df_clean[['state', 'self_employed', 'work_interfere']] = df_clean[['state', 'self_employed', 'work_interfere']].fillna('unknown')\n",
    "df_clean['comments'] = df_clean['comments'].fillna('no_comments')\n",
    "\n",
    "df_clean.info()"
   ]
  },
  {
   "cell_type": "code",
   "execution_count": 10,
   "id": "5f7d86e2-baf6-4538-8709-ea34b85a9470",
   "metadata": {},
   "outputs": [
    {
     "data": {
      "text/html": [
       "<div>\n",
       "<style scoped>\n",
       "    .dataframe tbody tr th:only-of-type {\n",
       "        vertical-align: middle;\n",
       "    }\n",
       "\n",
       "    .dataframe tbody tr th {\n",
       "        vertical-align: top;\n",
       "    }\n",
       "\n",
       "    .dataframe thead th {\n",
       "        text-align: right;\n",
       "    }\n",
       "</style>\n",
       "<table border=\"1\" class=\"dataframe\">\n",
       "  <thead>\n",
       "    <tr style=\"text-align: right;\">\n",
       "      <th></th>\n",
       "      <th>Timestamp</th>\n",
       "      <th>Age</th>\n",
       "      <th>Gender</th>\n",
       "      <th>Country</th>\n",
       "      <th>state</th>\n",
       "      <th>self_employed</th>\n",
       "      <th>family_history</th>\n",
       "      <th>treatment</th>\n",
       "      <th>work_interfere</th>\n",
       "      <th>no_employees</th>\n",
       "      <th>...</th>\n",
       "      <th>leave</th>\n",
       "      <th>mental_health_consequence</th>\n",
       "      <th>phys_health_consequence</th>\n",
       "      <th>coworkers</th>\n",
       "      <th>supervisor</th>\n",
       "      <th>mental_health_interview</th>\n",
       "      <th>phys_health_interview</th>\n",
       "      <th>mental_vs_physical</th>\n",
       "      <th>obs_consequence</th>\n",
       "      <th>comments</th>\n",
       "    </tr>\n",
       "  </thead>\n",
       "  <tbody>\n",
       "    <tr>\n",
       "      <th>0</th>\n",
       "      <td>2014-08-27 11:29:31</td>\n",
       "      <td>37</td>\n",
       "      <td>Female</td>\n",
       "      <td>United States</td>\n",
       "      <td>IL</td>\n",
       "      <td>unknown</td>\n",
       "      <td>No</td>\n",
       "      <td>Yes</td>\n",
       "      <td>Often</td>\n",
       "      <td>6-25</td>\n",
       "      <td>...</td>\n",
       "      <td>Somewhat easy</td>\n",
       "      <td>No</td>\n",
       "      <td>No</td>\n",
       "      <td>Some of them</td>\n",
       "      <td>Yes</td>\n",
       "      <td>No</td>\n",
       "      <td>Maybe</td>\n",
       "      <td>Yes</td>\n",
       "      <td>No</td>\n",
       "      <td>no_comments</td>\n",
       "    </tr>\n",
       "    <tr>\n",
       "      <th>1</th>\n",
       "      <td>2014-08-27 11:29:37</td>\n",
       "      <td>44</td>\n",
       "      <td>M</td>\n",
       "      <td>United States</td>\n",
       "      <td>IN</td>\n",
       "      <td>unknown</td>\n",
       "      <td>No</td>\n",
       "      <td>No</td>\n",
       "      <td>Rarely</td>\n",
       "      <td>More than 1000</td>\n",
       "      <td>...</td>\n",
       "      <td>Don't know</td>\n",
       "      <td>Maybe</td>\n",
       "      <td>No</td>\n",
       "      <td>No</td>\n",
       "      <td>No</td>\n",
       "      <td>No</td>\n",
       "      <td>No</td>\n",
       "      <td>Don't know</td>\n",
       "      <td>No</td>\n",
       "      <td>no_comments</td>\n",
       "    </tr>\n",
       "    <tr>\n",
       "      <th>2</th>\n",
       "      <td>2014-08-27 11:29:44</td>\n",
       "      <td>32</td>\n",
       "      <td>Male</td>\n",
       "      <td>Canada</td>\n",
       "      <td>unknown</td>\n",
       "      <td>unknown</td>\n",
       "      <td>No</td>\n",
       "      <td>No</td>\n",
       "      <td>Rarely</td>\n",
       "      <td>6-25</td>\n",
       "      <td>...</td>\n",
       "      <td>Somewhat difficult</td>\n",
       "      <td>No</td>\n",
       "      <td>No</td>\n",
       "      <td>Yes</td>\n",
       "      <td>Yes</td>\n",
       "      <td>Yes</td>\n",
       "      <td>Yes</td>\n",
       "      <td>No</td>\n",
       "      <td>No</td>\n",
       "      <td>no_comments</td>\n",
       "    </tr>\n",
       "    <tr>\n",
       "      <th>3</th>\n",
       "      <td>2014-08-27 11:29:46</td>\n",
       "      <td>31</td>\n",
       "      <td>Male</td>\n",
       "      <td>United Kingdom</td>\n",
       "      <td>unknown</td>\n",
       "      <td>unknown</td>\n",
       "      <td>Yes</td>\n",
       "      <td>Yes</td>\n",
       "      <td>Often</td>\n",
       "      <td>26-100</td>\n",
       "      <td>...</td>\n",
       "      <td>Somewhat difficult</td>\n",
       "      <td>Yes</td>\n",
       "      <td>Yes</td>\n",
       "      <td>Some of them</td>\n",
       "      <td>No</td>\n",
       "      <td>Maybe</td>\n",
       "      <td>Maybe</td>\n",
       "      <td>No</td>\n",
       "      <td>Yes</td>\n",
       "      <td>no_comments</td>\n",
       "    </tr>\n",
       "    <tr>\n",
       "      <th>4</th>\n",
       "      <td>2014-08-27 11:30:22</td>\n",
       "      <td>31</td>\n",
       "      <td>Male</td>\n",
       "      <td>United States</td>\n",
       "      <td>TX</td>\n",
       "      <td>unknown</td>\n",
       "      <td>No</td>\n",
       "      <td>No</td>\n",
       "      <td>Never</td>\n",
       "      <td>100-500</td>\n",
       "      <td>...</td>\n",
       "      <td>Don't know</td>\n",
       "      <td>No</td>\n",
       "      <td>No</td>\n",
       "      <td>Some of them</td>\n",
       "      <td>Yes</td>\n",
       "      <td>Yes</td>\n",
       "      <td>Yes</td>\n",
       "      <td>Don't know</td>\n",
       "      <td>No</td>\n",
       "      <td>no_comments</td>\n",
       "    </tr>\n",
       "  </tbody>\n",
       "</table>\n",
       "<p>5 rows × 27 columns</p>\n",
       "</div>"
      ],
      "text/plain": [
       "             Timestamp  Age  Gender         Country    state self_employed  \\\n",
       "0  2014-08-27 11:29:31   37  Female   United States       IL       unknown   \n",
       "1  2014-08-27 11:29:37   44       M   United States       IN       unknown   \n",
       "2  2014-08-27 11:29:44   32    Male          Canada  unknown       unknown   \n",
       "3  2014-08-27 11:29:46   31    Male  United Kingdom  unknown       unknown   \n",
       "4  2014-08-27 11:30:22   31    Male   United States       TX       unknown   \n",
       "\n",
       "  family_history treatment work_interfere    no_employees  ...  \\\n",
       "0             No       Yes          Often            6-25  ...   \n",
       "1             No        No         Rarely  More than 1000  ...   \n",
       "2             No        No         Rarely            6-25  ...   \n",
       "3            Yes       Yes          Often          26-100  ...   \n",
       "4             No        No          Never         100-500  ...   \n",
       "\n",
       "                leave mental_health_consequence phys_health_consequence  \\\n",
       "0       Somewhat easy                        No                      No   \n",
       "1          Don't know                     Maybe                      No   \n",
       "2  Somewhat difficult                        No                      No   \n",
       "3  Somewhat difficult                       Yes                     Yes   \n",
       "4          Don't know                        No                      No   \n",
       "\n",
       "      coworkers supervisor mental_health_interview phys_health_interview  \\\n",
       "0  Some of them        Yes                      No                 Maybe   \n",
       "1            No         No                      No                    No   \n",
       "2           Yes        Yes                     Yes                   Yes   \n",
       "3  Some of them         No                   Maybe                 Maybe   \n",
       "4  Some of them        Yes                     Yes                   Yes   \n",
       "\n",
       "  mental_vs_physical obs_consequence     comments  \n",
       "0                Yes              No  no_comments  \n",
       "1         Don't know              No  no_comments  \n",
       "2                 No              No  no_comments  \n",
       "3                 No             Yes  no_comments  \n",
       "4         Don't know              No  no_comments  \n",
       "\n",
       "[5 rows x 27 columns]"
      ]
     },
     "execution_count": 10,
     "metadata": {},
     "output_type": "execute_result"
    }
   ],
   "source": [
    "df_clean.head()"
   ]
  },
  {
   "cell_type": "code",
   "execution_count": 11,
   "id": "35d5836e-caa0-4a73-a850-dd0dcf2137a0",
   "metadata": {},
   "outputs": [
    {
     "data": {
      "text/plain": [
       "Index(['Timestamp', 'Age', 'Gender', 'Country', 'state', 'self_employed',\n",
       "       'family_history', 'treatment', 'work_interfere', 'no_employees',\n",
       "       'remote_work', 'tech_company', 'benefits', 'care_options',\n",
       "       'wellness_program', 'seek_help', 'anonymity', 'leave',\n",
       "       'mental_health_consequence', 'phys_health_consequence', 'coworkers',\n",
       "       'supervisor', 'mental_health_interview', 'phys_health_interview',\n",
       "       'mental_vs_physical', 'obs_consequence', 'comments'],\n",
       "      dtype='object')"
      ]
     },
     "execution_count": 11,
     "metadata": {},
     "output_type": "execute_result"
    }
   ],
   "source": [
    "df_clean.columns"
   ]
  },
  {
   "cell_type": "markdown",
   "id": "227e3fc3-863d-47f6-a522-857f0ce05cad",
   "metadata": {},
   "source": [
    "I personally dont see a column that could be totally discarded, it really depends on the analysis to make. For **this** particular mini-project we will need only the columns `Age`, `Gender`, `Country` and the most important `treatment`. Anyway, we proceed to simplify the dimensions:"
   ]
  },
  {
   "cell_type": "code",
   "execution_count": 12,
   "id": "ca7eac90-cf0e-4307-bc9e-e059fdbcb797",
   "metadata": {},
   "outputs": [
    {
     "data": {
      "text/html": [
       "<div>\n",
       "<style scoped>\n",
       "    .dataframe tbody tr th:only-of-type {\n",
       "        vertical-align: middle;\n",
       "    }\n",
       "\n",
       "    .dataframe tbody tr th {\n",
       "        vertical-align: top;\n",
       "    }\n",
       "\n",
       "    .dataframe thead th {\n",
       "        text-align: right;\n",
       "    }\n",
       "</style>\n",
       "<table border=\"1\" class=\"dataframe\">\n",
       "  <thead>\n",
       "    <tr style=\"text-align: right;\">\n",
       "      <th></th>\n",
       "      <th>Age</th>\n",
       "      <th>Gender</th>\n",
       "      <th>Country</th>\n",
       "      <th>treatment</th>\n",
       "    </tr>\n",
       "  </thead>\n",
       "  <tbody>\n",
       "    <tr>\n",
       "      <th>0</th>\n",
       "      <td>37</td>\n",
       "      <td>Female</td>\n",
       "      <td>United States</td>\n",
       "      <td>Yes</td>\n",
       "    </tr>\n",
       "    <tr>\n",
       "      <th>1</th>\n",
       "      <td>44</td>\n",
       "      <td>M</td>\n",
       "      <td>United States</td>\n",
       "      <td>No</td>\n",
       "    </tr>\n",
       "    <tr>\n",
       "      <th>2</th>\n",
       "      <td>32</td>\n",
       "      <td>Male</td>\n",
       "      <td>Canada</td>\n",
       "      <td>No</td>\n",
       "    </tr>\n",
       "    <tr>\n",
       "      <th>3</th>\n",
       "      <td>31</td>\n",
       "      <td>Male</td>\n",
       "      <td>United Kingdom</td>\n",
       "      <td>Yes</td>\n",
       "    </tr>\n",
       "    <tr>\n",
       "      <th>4</th>\n",
       "      <td>31</td>\n",
       "      <td>Male</td>\n",
       "      <td>United States</td>\n",
       "      <td>No</td>\n",
       "    </tr>\n",
       "  </tbody>\n",
       "</table>\n",
       "</div>"
      ],
      "text/plain": [
       "   Age  Gender         Country treatment\n",
       "0   37  Female   United States       Yes\n",
       "1   44       M   United States        No\n",
       "2   32    Male          Canada        No\n",
       "3   31    Male  United Kingdom       Yes\n",
       "4   31    Male   United States        No"
      ]
     },
     "execution_count": 12,
     "metadata": {},
     "output_type": "execute_result"
    }
   ],
   "source": [
    "df_clean = df_clean[['Age', 'Gender', 'Country', 'treatment']]\n",
    "df_clean.head()"
   ]
  },
  {
   "cell_type": "markdown",
   "id": "f347c2e8-890a-41b2-9b4f-5ef75af1c697",
   "metadata": {},
   "source": [
    "Now lets search for inconsistencies:"
   ]
  },
  {
   "cell_type": "code",
   "execution_count": 13,
   "id": "caaff9ef-3061-46b6-a4ff-30f601cb7334",
   "metadata": {},
   "outputs": [
    {
     "data": {
      "text/plain": [
       "Gender\n",
       "Male                                              612\n",
       "male                                              204\n",
       "Female                                            121\n",
       "M                                                 116\n",
       "female                                             62\n",
       "F                                                  38\n",
       "m                                                  34\n",
       "f                                                  15\n",
       "Make                                                4\n",
       "Woman                                               3\n",
       "Male                                                3\n",
       "Female                                              2\n",
       "Cis Male                                            2\n",
       "Man                                                 2\n",
       "Female (trans)                                      2\n",
       "something kinda male?                               1\n",
       "Trans-female                                        1\n",
       "Cis Female                                          1\n",
       "Male-ish                                            1\n",
       "maile                                               1\n",
       "queer/she/they                                      1\n",
       "Male (CIS)                                          1\n",
       "woman                                               1\n",
       "Nah                                                 1\n",
       "fluid                                               1\n",
       "Enby                                                1\n",
       "Genderqueer                                         1\n",
       "non-binary                                          1\n",
       "Femake                                              1\n",
       "Mal                                                 1\n",
       "cis-female/femme                                    1\n",
       "Agender                                             1\n",
       "Androgyne                                           1\n",
       "male leaning androgynous                            1\n",
       "Guy (-ish) ^_^                                      1\n",
       "Trans woman                                         1\n",
       "msle                                                1\n",
       "Neuter                                              1\n",
       "queer                                               1\n",
       "Female (cis)                                        1\n",
       "Mail                                                1\n",
       "cis male                                            1\n",
       "Malr                                                1\n",
       "femail                                              1\n",
       "Cis Man                                             1\n",
       "ostensibly male, unsure what that really means      1\n",
       "Name: count, dtype: int64"
      ]
     },
     "execution_count": 13,
     "metadata": {},
     "output_type": "execute_result"
    }
   ],
   "source": [
    "df_clean['Gender'].value_counts()"
   ]
  },
  {
   "cell_type": "markdown",
   "id": "6617fe26-9505-476c-8135-e6b9ee81d550",
   "metadata": {},
   "source": [
    "The `Gender` column has waaaaaaaaaay many values, we should map it and reduce it a little:"
   ]
  },
  {
   "cell_type": "code",
   "execution_count": 14,
   "id": "e483675b-905f-4dd2-a001-28330f149006",
   "metadata": {},
   "outputs": [
    {
     "data": {
      "text/plain": [
       "Gender\n",
       "Male                      987\n",
       "Female                    249\n",
       "Non-Binary/Genderqueer      8\n",
       "Other                       5\n",
       "Trans Female                2\n",
       "Name: count, dtype: int64"
      ]
     },
     "execution_count": 14,
     "metadata": {},
     "output_type": "execute_result"
    }
   ],
   "source": [
    "def gender_maping(gender):\n",
    "    gender = str(gender).lower().strip()\n",
    "    if gender in ['male', 'm', 'cis male', 'cis man', 'man', 'male-ish', 'maile', 'mal', 'male (cis)', 'make', 'male leaning androgynous', 'male/genderqueer', 'msle', 'malr', 'mail']:\n",
    "        return 'Male'\n",
    "    elif gender in ['female', 'f', 'cis female', 'woman', 'female (cis)', 'cis-female/femme', 'femake', 'female (trans)', 'femail']:\n",
    "        return 'Female'\n",
    "    elif gender in ['trans-female', 'trans woman']:\n",
    "        return 'Trans Female'\n",
    "    elif gender in ['trans-male', 'trans man']:\n",
    "        return 'Trans Male'\n",
    "    elif gender in ['queer', 'queer/she/they', 'non-binary', 'fluid', 'genderqueer', 'androgyne', 'agender', 'enby']:\n",
    "        return 'Non-Binary/Genderqueer'\n",
    "    else:\n",
    "        return 'Other'\n",
    "\n",
    "df_clean = df_clean.copy()\n",
    "df_clean['Gender'] = df_clean['Gender'].apply(gender_maping)\n",
    "df_clean['Gender'].value_counts()"
   ]
  },
  {
   "cell_type": "markdown",
   "id": "534c560b-ef25-4704-9abe-329736db83cc",
   "metadata": {},
   "source": [
    "# Analysis\n",
    "\n",
    "## What is the distribution of mental health conditions among different age groups in the tech industry?\n",
    "\n",
    "As we dont have a `condition` column, we'll take only the ones with a treatment (which seems logic since they are the ones reported). So we'll reformulate the consign as reported cases (treated or no)"
   ]
  },
  {
   "cell_type": "code",
   "execution_count": 15,
   "id": "b3f5339b-79f3-424c-b846-31951998c1ab",
   "metadata": {},
   "outputs": [
    {
     "name": "stdout",
     "output_type": "stream",
     "text": [
      "treatment   No  Yes\n",
      "Age_Group          \n",
      "18-25      112  105\n",
      "26-35      360  341\n",
      "36-45      124  153\n",
      "46-55       18   24\n",
      "55+          5    9\n"
     ]
    },
    {
     "data": {
      "image/png": "[encoded data removed]",
      "text/plain": [
       "<Figure size 640x480 with 1 Axes>"
      ]
     },
     "metadata": {},
     "output_type": "display_data"
    }
   ],
   "source": [
    "# Group numeric data into bins.\n",
    "df_clean['Age_Group'] = pd.cut(df_clean['Age'], bins=[0, 25, 35, 45, 55, 100], labels=['18-25', '26-35', '36-45', '46-55', '55+'])\n",
    "\n",
    "sns.histplot(x='Age_Group', hue='treatment', data=df_clean)\n",
    "\n",
    "# size counts the elements in each group, unstack returns the table\n",
    "total_cases_age = df_clean.groupby(['Age_Group', 'treatment'], observed=False).size().unstack(fill_value=0)\n",
    "print(total_cases_age)"
   ]
  },
  {
   "cell_type": "markdown",
   "id": "477a1563-4056-4b06-8a35-62a6c47866ab",
   "metadata": {},
   "source": [
    "The distributions by age are fairly similar and almost indistinguishable. There are a little fewer conditions for the 26-36 group and a little more cases for the 36-45 group. For the other groups, the difference is negligible."
   ]
  },
  {
   "cell_type": "code",
   "execution_count": 16,
   "id": "b50aab87-108c-4f9e-9ddc-d1506daa5e62",
   "metadata": {},
   "outputs": [
    {
     "name": "stdout",
     "output_type": "stream",
     "text": [
      "treatment   No  Yes  total\n",
      "Age_Group                 \n",
      "18-25      112  105    217\n",
      "26-35      360  341    701\n",
      "36-45      124  153    277\n",
      "46-55       18   24     42\n",
      "55+          5    9     14\n",
      "\n",
      "the sum of total cases is 1251\n"
     ]
    }
   ],
   "source": [
    "total_cases_age['total'] = total_cases_age.sum(axis=1)\n",
    "print(total_cases_age)\n",
    "print()\n",
    "print(f'the sum of total cases is {total_cases_age['total'].sum()}')"
   ]
  },
  {
   "cell_type": "markdown",
   "id": "64a931e1-a361-4c75-9804-0381fbd899d4",
   "metadata": {},
   "source": [
    "We verify the total reported cases is the same non-null we saw with:\n",
    "\n",
    "\n",
    "```python\n",
    "df_clean.info()\n",
    "```\n",
    "\n",
    "Since it is the same value for each case we can also define directly the variable `total_cases`. We also plot the normalized ditribution of **all** the cases:"
   ]
  },
  {
   "cell_type": "code",
   "execution_count": 17,
   "id": "d6a41fa1-4d79-4a72-aa8b-fd7943351080",
   "metadata": {},
   "outputs": [
    {
     "data": {
      "image/png": "[encoded data removed]",
      "text/plain": [
       "<Figure size 1000x600 with 1 Axes>"
      ]
     },
     "metadata": {},
     "output_type": "display_data"
    }
   ],
   "source": [
    "total_cases = len(df_clean)\n",
    "\n",
    "total_cases_age['norm'] = total_cases_age['total']/total_cases\n",
    "\n",
    "plt.figure(figsize=(10, 6))\n",
    "sns.barplot(x='Age_Group', y='norm', data=total_cases_age)\n",
    "\n",
    "plt.title('Normalized Distribution of Reported Cases by Age Group')\n",
    "plt.ylabel('Normalized Distribution')\n",
    "plt.show()"
   ]
  },
  {
   "cell_type": "markdown",
   "id": "469afa3c-f9b0-453c-8f34-a45714be8cc5",
   "metadata": {},
   "source": [
    "The distribution of reported mental health conditions by age groups in the tech industry is right-skewed. The mode located in the 26-35 bin"
   ]
  },
  {
   "cell_type": "markdown",
   "id": "837c0583-7e82-4246-92dd-8880e1df7d84",
   "metadata": {},
   "source": [
    "# How does the frequency of mental health issues vary by gender?"
   ]
  },
  {
   "cell_type": "code",
   "execution_count": 18,
   "id": "1fcc7cda-e567-4bca-8b58-9ee8290da0f9",
   "metadata": {},
   "outputs": [
    {
     "name": "stdout",
     "output_type": "stream",
     "text": [
      "treatment                No  Yes\n",
      "Gender                          \n",
      "Female                   77  172\n",
      "Male                    539  448\n",
      "Non-Binary/Genderqueer    1    7\n",
      "Other                     1    4\n",
      "Trans Female              1    1\n"
     ]
    },
    {
     "data": {
      "image/png": "[encoded data removed]",
      "text/plain": [
       "<Figure size 640x480 with 1 Axes>"
      ]
     },
     "metadata": {},
     "output_type": "display_data"
    }
   ],
   "source": [
    "sns.histplot(x='Gender', hue='treatment', data=df_clean)\n",
    "\n",
    "total_cases_gender = df_clean.groupby(['Gender', 'treatment'], observed=False).size().unstack(fill_value=0)\n",
    "print(total_cases_gender)"
   ]
  },
  {
   "cell_type": "markdown",
   "id": "c2aa075e-b0c8-4adc-b834-a68c6fd76a19",
   "metadata": {},
   "source": [
    "By gender the difference is a bit more notorious. The female and male in treatment are 69% and 45% respectivelly."
   ]
  },
  {
   "cell_type": "code",
   "execution_count": 19,
   "id": "195aafa0-194d-4b27-b146-e4c146ee0975",
   "metadata": {},
   "outputs": [
    {
     "name": "stdout",
     "output_type": "stream",
     "text": [
      "treatment                No  Yes  total\n",
      "Gender                                 \n",
      "Female                   77  172    249\n",
      "Male                    539  448    987\n",
      "Non-Binary/Genderqueer    1    7      8\n",
      "Other                     1    4      5\n",
      "Trans Female              1    1      2\n",
      "\n",
      "the sum of total cases is 1251\n"
     ]
    }
   ],
   "source": [
    "total_cases_gender['total'] = total_cases_gender.sum(axis=1)\n",
    "print(total_cases_gender)\n",
    "print()\n",
    "print(f'the sum of total cases is {total_cases_age['total'].sum()}')"
   ]
  },
  {
   "cell_type": "code",
   "execution_count": 20,
   "id": "8bd32631-f35b-4616-9222-e912778ce189",
   "metadata": {},
   "outputs": [
    {
     "data": {
      "image/png": "[encoded data removed]",
      "text/plain": [
       "<Figure size 1000x600 with 1 Axes>"
      ]
     },
     "metadata": {},
     "output_type": "display_data"
    }
   ],
   "source": [
    "total_cases_gender['norm'] = total_cases_gender['total']/total_cases\n",
    "\n",
    "plt.figure(figsize=(10, 6))\n",
    "sns.barplot(x='Gender', y='norm', data=total_cases_gender)\n",
    "\n",
    "plt.title('Normalized Distribution of Reported Cases by Gender')\n",
    "plt.ylabel('Normalized Distribution')\n",
    "plt.show()"
   ]
  },
  {
   "cell_type": "markdown",
   "id": "33b6b71b-88d1-4a3a-996f-63116f8da972",
   "metadata": {},
   "source": [
    "This plot only tells us that about 5/6 of reported cases are male. For a more complete analysis we need to know the employees gender proportion, so we can superpose it with the reported cases."
   ]
  },
  {
   "cell_type": "markdown",
   "id": "978b6447-112a-4655-81fc-3c9eb96698a1",
   "metadata": {},
   "source": [
    "# Identify the countries with the highest and lowest reported rates of mental health issues in the tech industry."
   ]
  },
  {
   "cell_type": "code",
   "execution_count": 21,
   "id": "c296d8b6-23c0-4fc8-a638-d0a95eada98e",
   "metadata": {},
   "outputs": [],
   "source": [
    "# # there are no inconsistencies\n",
    "# df_clean['Country'].value_counts()"
   ]
  },
  {
   "cell_type": "code",
   "execution_count": 22,
   "id": "f251a2f5-428b-46b4-8fdc-5df9539ef1cc",
   "metadata": {},
   "outputs": [
    {
     "name": "stdout",
     "output_type": "stream",
     "text": [
      "treatment                No  Yes\n",
      "Country                         \n",
      "Australia                 8   13\n",
      "Austria                   3    0\n",
      "Belgium                   5    1\n",
      "Bosnia and Herzegovina    1    0\n",
      "Brazil                    4    2\n",
      "Bulgaria                  2    2\n",
      "Canada                   35   37\n",
      "China                     1    0\n",
      "Colombia                  2    0\n",
      "Costa Rica                1    0\n",
      "Croatia                   0    2\n",
      "Czech Republic            1    0\n",
      "Denmark                   0    2\n",
      "Finland                   2    1\n",
      "France                   11    2\n",
      "Georgia                   1    0\n",
      "Germany                  24   21\n",
      "Greece                    2    0\n",
      "Hungary                   1    0\n",
      "India                     7    3\n",
      "Ireland                  14   13\n",
      "Israel                    5    0\n",
      "Italy                     6    1\n",
      "Japan                     0    1\n",
      "Latvia                    1    0\n",
      "Mexico                    2    1\n",
      "Moldova                   0    1\n",
      "Netherlands              18    9\n",
      "New Zealand               3    5\n",
      "Nigeria                   1    0\n",
      "Norway                    1    0\n",
      "Philippines               1    0\n",
      "Poland                    3    4\n",
      "Portugal                  2    0\n",
      "Romania                   1    0\n",
      "Russia                    3    0\n",
      "Singapore                 3    1\n",
      "Slovenia                  0    1\n",
      "South Africa              2    4\n",
      "Spain                     1    0\n",
      "Sweden                    5    2\n",
      "Switzerland               4    3\n",
      "Thailand                  1    0\n",
      "United Kingdom           92   92\n",
      "United States           338  408\n",
      "Uruguay                   1    0\n"
     ]
    },
    {
     "data": {
      "image/png": "[encoded data removed]",
      "text/plain": [
       "<Figure size 640x480 with 1 Axes>"
      ]
     },
     "metadata": {},
     "output_type": "display_data"
    }
   ],
   "source": [
    "sns.histplot(x='Country', hue='treatment', data=df_clean)\n",
    "\n",
    "total_cases = df_clean.groupby(['Country', 'treatment'], observed=False).size().unstack(fill_value=0)\n",
    "print(total_cases)"
   ]
  },
  {
   "cell_type": "markdown",
   "id": "1ffdc441-c1a9-4eb7-99a7-7a4337859e92",
   "metadata": {},
   "source": [
    "Ok, the plot upper is not gonna help, we need to pick a criteria to reduce the `Country` field. We need to pick a minimum population sample to pick the data."
   ]
  },
  {
   "cell_type": "code",
   "execution_count": 23,
   "id": "743f945a-479e-4f88-afef-613a01bdfa79",
   "metadata": {},
   "outputs": [
    {
     "data": {
      "text/html": [
       "<div>\n",
       "<style scoped>\n",
       "    .dataframe tbody tr th:only-of-type {\n",
       "        vertical-align: middle;\n",
       "    }\n",
       "\n",
       "    .dataframe tbody tr th {\n",
       "        vertical-align: top;\n",
       "    }\n",
       "\n",
       "    .dataframe thead th {\n",
       "        text-align: right;\n",
       "    }\n",
       "</style>\n",
       "<table border=\"1\" class=\"dataframe\">\n",
       "  <thead>\n",
       "    <tr style=\"text-align: right;\">\n",
       "      <th>treatment</th>\n",
       "      <th>No</th>\n",
       "      <th>Yes</th>\n",
       "      <th>total</th>\n",
       "    </tr>\n",
       "    <tr>\n",
       "      <th>Country</th>\n",
       "      <th></th>\n",
       "      <th></th>\n",
       "      <th></th>\n",
       "    </tr>\n",
       "  </thead>\n",
       "  <tbody>\n",
       "    <tr>\n",
       "      <th>Australia</th>\n",
       "      <td>8</td>\n",
       "      <td>13</td>\n",
       "      <td>21</td>\n",
       "    </tr>\n",
       "    <tr>\n",
       "      <th>Austria</th>\n",
       "      <td>3</td>\n",
       "      <td>0</td>\n",
       "      <td>3</td>\n",
       "    </tr>\n",
       "    <tr>\n",
       "      <th>Belgium</th>\n",
       "      <td>5</td>\n",
       "      <td>1</td>\n",
       "      <td>6</td>\n",
       "    </tr>\n",
       "    <tr>\n",
       "      <th>Bosnia and Herzegovina</th>\n",
       "      <td>1</td>\n",
       "      <td>0</td>\n",
       "      <td>1</td>\n",
       "    </tr>\n",
       "    <tr>\n",
       "      <th>Brazil</th>\n",
       "      <td>4</td>\n",
       "      <td>2</td>\n",
       "      <td>6</td>\n",
       "    </tr>\n",
       "  </tbody>\n",
       "</table>\n",
       "</div>"
      ],
      "text/plain": [
       "treatment               No  Yes  total\n",
       "Country                               \n",
       "Australia                8   13     21\n",
       "Austria                  3    0      3\n",
       "Belgium                  5    1      6\n",
       "Bosnia and Herzegovina   1    0      1\n",
       "Brazil                   4    2      6"
      ]
     },
     "execution_count": 23,
     "metadata": {},
     "output_type": "execute_result"
    }
   ],
   "source": [
    "# grouped df\n",
    "grouped_countries = df_clean.groupby(['Country', 'treatment']).size().unstack(fill_value=0)\n",
    "\n",
    "grouped_countries['total'] = grouped_countries.sum(axis=1)\n",
    "grouped_countries.head()"
   ]
  },
  {
   "cell_type": "code",
   "execution_count": 24,
   "id": "a452955e-7a82-4b5e-8f92-446632e5dff9",
   "metadata": {},
   "outputs": [
    {
     "data": {
      "image/png": "[encoded data removed]",
      "text/plain": [
       "<Figure size 1200x600 with 1 Axes>"
      ]
     },
     "metadata": {},
     "output_type": "display_data"
    },
    {
     "name": "stdout",
     "output_type": "stream",
     "text": [
      "treatment        No  Yes  total\n",
      "Country                        \n",
      "United States   338  408    746\n",
      "United Kingdom   92   92    184\n",
      "Canada           35   37     72\n",
      "Germany          24   21     45\n",
      "Netherlands      18    9     27\n",
      "Ireland          14   13     27\n",
      "Australia         8   13     21\n",
      "France           11    2     13\n",
      "India             7    3     10\n"
     ]
    }
   ],
   "source": [
    "# we only pick countries with at least min_pop sample population (for the plot)\n",
    "min_pop = 10\n",
    "\n",
    "plt.figure(figsize=(12, 6))\n",
    "sns.barplot(data=grouped_countries[grouped_countries['total'] >= min_pop], x='Country', y='Yes', alpha=0.4, label='treated')\n",
    "sns.barplot(data=grouped_countries[grouped_countries['total'] >= min_pop], x='Country', y='No', alpha=0.4, label='non treated')\n",
    "\n",
    "plt.title(f'Reported Cases for Countries with at least {min_pop} Reports')\n",
    "plt.ylabel('Reported cases count')\n",
    "plt.xlabel('Country')\n",
    "plt.xticks(rotation=45)\n",
    "plt.show()\n",
    "\n",
    "print(grouped_countries[grouped_countries['total'] >= min_pop].sort_values(by='total', ascending=False))"
   ]
  },
  {
   "cell_type": "markdown",
   "id": "07b93db0-9bf9-4d87-a531-21d31b594e2e",
   "metadata": {},
   "source": [
    "For country samples with 20 or more we could start talking about relative percentages (for less than that, the sample population is just too small). Then we can say that in the USA ~ 4/7 of reported cases are treated; for [UK, Canada, Germany, Ireland] its 5/10, in France and Netherlands people preffer not to get treatment."
   ]
  },
  {
   "cell_type": "code",
   "execution_count": 25,
   "id": "7e7e6f55-fe6d-4f77-bbfa-d5f67a42f29f",
   "metadata": {},
   "outputs": [
    {
     "data": {
      "text/html": [
       "<div>\n",
       "<style scoped>\n",
       "    .dataframe tbody tr th:only-of-type {\n",
       "        vertical-align: middle;\n",
       "    }\n",
       "\n",
       "    .dataframe tbody tr th {\n",
       "        vertical-align: top;\n",
       "    }\n",
       "\n",
       "    .dataframe thead th {\n",
       "        text-align: right;\n",
       "    }\n",
       "</style>\n",
       "<table border=\"1\" class=\"dataframe\">\n",
       "  <thead>\n",
       "    <tr style=\"text-align: right;\">\n",
       "      <th>treatment</th>\n",
       "      <th>No</th>\n",
       "      <th>Yes</th>\n",
       "      <th>total</th>\n",
       "      <th>norm</th>\n",
       "    </tr>\n",
       "    <tr>\n",
       "      <th>Country</th>\n",
       "      <th></th>\n",
       "      <th></th>\n",
       "      <th></th>\n",
       "      <th></th>\n",
       "    </tr>\n",
       "  </thead>\n",
       "  <tbody>\n",
       "    <tr>\n",
       "      <th>Australia</th>\n",
       "      <td>8</td>\n",
       "      <td>13</td>\n",
       "      <td>21</td>\n",
       "      <td>0.016787</td>\n",
       "    </tr>\n",
       "    <tr>\n",
       "      <th>Austria</th>\n",
       "      <td>3</td>\n",
       "      <td>0</td>\n",
       "      <td>3</td>\n",
       "      <td>0.002398</td>\n",
       "    </tr>\n",
       "    <tr>\n",
       "      <th>Belgium</th>\n",
       "      <td>5</td>\n",
       "      <td>1</td>\n",
       "      <td>6</td>\n",
       "      <td>0.004796</td>\n",
       "    </tr>\n",
       "    <tr>\n",
       "      <th>Bosnia and Herzegovina</th>\n",
       "      <td>1</td>\n",
       "      <td>0</td>\n",
       "      <td>1</td>\n",
       "      <td>0.000799</td>\n",
       "    </tr>\n",
       "    <tr>\n",
       "      <th>Brazil</th>\n",
       "      <td>4</td>\n",
       "      <td>2</td>\n",
       "      <td>6</td>\n",
       "      <td>0.004796</td>\n",
       "    </tr>\n",
       "  </tbody>\n",
       "</table>\n",
       "</div>"
      ],
      "text/plain": [
       "treatment               No  Yes  total      norm\n",
       "Country                                         \n",
       "Australia                8   13     21  0.016787\n",
       "Austria                  3    0      3  0.002398\n",
       "Belgium                  5    1      6  0.004796\n",
       "Bosnia and Herzegovina   1    0      1  0.000799\n",
       "Brazil                   4    2      6  0.004796"
      ]
     },
     "execution_count": 25,
     "metadata": {},
     "output_type": "execute_result"
    }
   ],
   "source": [
    "grouped_countries['norm'] = grouped_countries['total'] / len(df_clean)\n",
    "grouped_countries.head()"
   ]
  },
  {
   "cell_type": "code",
   "execution_count": 26,
   "id": "3784bcc7-27fd-4974-b2af-e76092c7ec80",
   "metadata": {},
   "outputs": [
    {
     "data": {
      "image/png": "[encoded data removed]",
      "text/plain": [
       "<Figure size 1200x600 with 1 Axes>"
      ]
     },
     "metadata": {},
     "output_type": "display_data"
    },
    {
     "name": "stdout",
     "output_type": "stream",
     "text": [
      "treatment        No  Yes  total      norm\n",
      "Country                                  \n",
      "United States   338  408    746  0.596323\n",
      "United Kingdom   92   92    184  0.147082\n",
      "Canada           35   37     72  0.057554\n",
      "Germany          24   21     45  0.035971\n",
      "Netherlands      18    9     27  0.021583\n",
      "Ireland          14   13     27  0.021583\n",
      "Australia         8   13     21  0.016787\n",
      "France           11    2     13  0.010392\n",
      "India             7    3     10  0.007994\n"
     ]
    }
   ],
   "source": [
    "# we only pick countries with at least min_pop sample population (for the plot)\n",
    "min_pop = 10\n",
    "\n",
    "plt.figure(figsize=(12, 6))\n",
    "sns.barplot(data=grouped_countries[grouped_countries['total'] >= min_pop].sort_values(by='norm', ascending=False),\n",
    "            x='Country', y='norm', alpha=0.4, label='treated')\n",
    "\n",
    "plt.title(f'Reported Cases for Countries with at least {min_pop} Reports')\n",
    "plt.ylabel('Reported cases count')\n",
    "plt.xlabel('Country')\n",
    "plt.xticks(rotation=45)\n",
    "plt.show()\n",
    "\n",
    "print(grouped_countries[grouped_countries['total'] >= min_pop].sort_values(by='total', ascending=False))"
   ]
  },
  {
   "cell_type": "markdown",
   "id": "4762bf68-e8a8-468a-a55b-5c5ed79355bc",
   "metadata": {},
   "source": [
    "If we only consider valid the stats of countries with **at least** 10 reported cases, then *the countries with the highest and lowest reported rates of mental health issues in the tech industry* are shown above."
   ]
  },
  {
   "cell_type": "markdown",
   "id": "32404a90-ad1d-4aa3-90fb-f40561395947",
   "metadata": {},
   "source": [
    "print(grouped_countries[grouped_countries['total'] == 1].sort_values(by='norm', ascending=True))\n",
    "\n",
    "The countries with only one reported case (which is the minimal amount to report) are:"
   ]
  },
  {
   "cell_type": "code",
   "execution_count": 27,
   "id": "2cc1b45f-9df2-468a-a77e-f03fa777199a",
   "metadata": {},
   "outputs": [
    {
     "name": "stdout",
     "output_type": "stream",
     "text": [
      "['Bosnia and Herzegovina', 'China', 'Costa Rica', 'Czech Republic', 'Georgia', 'Hungary', 'Japan', 'Latvia', 'Moldova', 'Nigeria', 'Norway', 'Philippines', 'Romania', 'Slovenia', 'Spain', 'Thailand', 'Uruguay']\n"
     ]
    }
   ],
   "source": [
    "one_reportedcase = grouped_countries[grouped_countries['total'] == 1]\n",
    "print(one_reportedcase.index.tolist())"
   ]
  },
  {
   "cell_type": "markdown",
   "id": "e02f0936-51d6-40c0-8ac1-dc56501cdd06",
   "metadata": {},
   "source": [
    "Anyway, we dont have the total population of tech industry employees in each of those countries. So we can't asseverate if those numbers are high or low."
   ]
  },
  {
   "cell_type": "markdown",
   "id": "3275711a-5de2-42e1-89ee-ffcc475ed5fb",
   "metadata": {},
   "source": [
    "# Conclusions\n",
    "\n",
    "The distribution of reported mental health conditions by age groups in the tech industry is right-skewed. The mode located in the 26-35 group. The difference between treated/untreated cases is almost negigible, althoug the 26-35 years group has a little more untreated than untreated cases. For the 35-46 years group that tendency is reverted.\n",
    "\n",
    "The ratio of male reported case to female reported case is 4, the proportion of the other genders is negligible. This proportion is only preliminar given that we don't have an employee proportion by gender. Also women ~ 2/3 of women reported cases are treated, while 55% of male reported cases are untreated.\n",
    "\n",
    "Finally, for country samples with 20 or more we could start talking about relative percentages (for less than that, the sample population is just too small). Then we can say that in the USA ~ 4/7 of reported cases are treated; for [UK, Canada, Germany, Ireland] its 5/10, in France and Netherlands people preffer not to get treatment. The three countries with more reported cases (in descending order) are USA, UK and Canada. Still, this proportion is only preliminar given that we don't have an employee proportion by country. There are several other countries with only 1 report."
   ]
  },
  {
   "cell_type": "code",
   "execution_count": null,
   "id": "4c8d5992-3a6d-4ae9-8e56-3df767603722",
   "metadata": {},
   "outputs": [],
   "source": []
  }
 ],
 "metadata": {
  "kernelspec": {
   "display_name": "Python 3 (ipykernel)",
   "language": "python",
   "name": "python3"
  },
  "language_info": {
   "codemirror_mode": {
    "name": "ipython",
    "version": 3
   },
   "file_extension": ".py",
   "mimetype": "text/x-python",
   "name": "python",
   "nbconvert_exporter": "python",
   "pygments_lexer": "ipython3",
   "version": "3.12.5"
  }
 },
 "nbformat": 4,
 "nbformat_minor": 5
}
