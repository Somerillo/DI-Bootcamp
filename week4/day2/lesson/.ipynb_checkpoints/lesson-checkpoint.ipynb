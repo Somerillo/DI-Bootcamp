{
 "cells": [
  {
   "cell_type": "code",
   "execution_count": 1,
   "id": "d4d92381-7e4e-4358-8e8c-1c1cb733db43",
   "metadata": {},
   "outputs": [],
   "source": [
    "\n",
    "import pandas as pd\n",
    "\n",
    "data = {\n",
    "    'Book Title': ['The Great Gatsby', 'To Kill a Mockingbird', '1984', 'Pride and Prejudice', 'The Catcher in the Rye'],\n",
    "    'Author': ['F. Scott Fitzgerald', 'Harper Lee', 'George Orwell', 'Jane Austen', 'J.D. Salinger'],\n",
    "    'Genre': ['Classic', 'Classic', 'Dystopian', 'Classic', 'Classic'],\n",
    "    'Price': [10.99, 8.99, 7.99, 11.99, 9.99],\n",
    "    'Copies Sold': [500, 600, 800, 300, 450]\n",
    "}\n",
    "\n",
    "df = pd.DataFrame(data)"
   ]
  },
  {
   "cell_type": "markdown",
   "id": "15b22c27-b6c4-4be9-ab31-627cb86454a6",
   "metadata": {},
   "source": [
    "Explore the Dataset:\n",
    "\n",
    "    Use head() to view the first few rows of the DataFrame.\n",
    "    Use describe() to get a statistical summary of the numerical columns.\n",
    "    Use info() to get a concise summary of the DataFrame, including the number of non-null entries in each column.\n",
    "    Sort the DataFrame based on the Price or Copies Sold.\n",
    "    Filter the books by a specific Genre or books with Price above a certain threshold.\n",
    "    Group the books by Author and sum up the Copies Sold.\n"
   ]
  },
  {
   "cell_type": "code",
   "execution_count": 2,
   "id": "2c07dcb6-3cb4-4944-87b8-2363bcd1f012",
   "metadata": {},
   "outputs": [
    {
     "name": "stdout",
     "output_type": "stream",
     "text": [
      "---------- Head ----------\n",
      "\n",
      "               Book Title               Author      Genre  Price  Copies Sold\n",
      "0        The Great Gatsby  F. Scott Fitzgerald    Classic  10.99          500\n",
      "1   To Kill a Mockingbird           Harper Lee    Classic   8.99          600\n",
      "2                    1984        George Orwell  Dystopian   7.99          800\n",
      "3     Pride and Prejudice          Jane Austen    Classic  11.99          300\n",
      "4  The Catcher in the Rye        J.D. Salinger    Classic   9.99          450\n",
      "\n",
      "---------- Describe ----------\n",
      "\n",
      "           Price  Copies Sold\n",
      "count   5.000000     5.000000\n",
      "mean    9.990000   530.000000\n",
      "std     1.581139   185.741756\n",
      "min     7.990000   300.000000\n",
      "25%     8.990000   450.000000\n",
      "50%     9.990000   500.000000\n",
      "75%    10.990000   600.000000\n",
      "max    11.990000   800.000000\n",
      "\n",
      "---------- Info ----------\n",
      "\n",
      "<class 'pandas.core.frame.DataFrame'>\n",
      "RangeIndex: 5 entries, 0 to 4\n",
      "Data columns (total 5 columns):\n",
      " #   Column       Non-Null Count  Dtype  \n",
      "---  ------       --------------  -----  \n",
      " 0   Book Title   5 non-null      object \n",
      " 1   Author       5 non-null      object \n",
      " 2   Genre        5 non-null      object \n",
      " 3   Price        5 non-null      float64\n",
      " 4   Copies Sold  5 non-null      int64  \n",
      "dtypes: float64(1), int64(1), object(3)\n",
      "memory usage: 332.0+ bytes\n",
      "None\n"
     ]
    }
   ],
   "source": [
    "print(f\"{\"-\"*10} Head {\"-\"*10}\\n\")\n",
    "print(df.head())\n",
    "\n",
    "print(f\"\\n{\"-\"*10} Describe {\"-\"*10}\\n\")\n",
    "print(df.describe())\n",
    "\n",
    "print(f\"\\n{\"-\"*10} Info {\"-\"*10}\\n\")\n",
    "print(df.info())"
   ]
  },
  {
   "cell_type": "code",
   "execution_count": 3,
   "id": "71d52a58-bfbc-4dfb-8615-e7b602492c5c",
   "metadata": {},
   "outputs": [
    {
     "name": "stdout",
     "output_type": "stream",
     "text": [
      "               Book Title               Author      Genre  Price  Copies Sold\n",
      "2                    1984        George Orwell  Dystopian   7.99          800\n",
      "1   To Kill a Mockingbird           Harper Lee    Classic   8.99          600\n",
      "4  The Catcher in the Rye        J.D. Salinger    Classic   9.99          450\n",
      "0        The Great Gatsby  F. Scott Fitzgerald    Classic  10.99          500\n",
      "3     Pride and Prejudice          Jane Austen    Classic  11.99          300\n",
      "\n",
      "               Book Title               Author      Genre  Price  Copies Sold\n",
      "3     Pride and Prejudice          Jane Austen    Classic  11.99          300\n",
      "4  The Catcher in the Rye        J.D. Salinger    Classic   9.99          450\n",
      "0        The Great Gatsby  F. Scott Fitzgerald    Classic  10.99          500\n",
      "1   To Kill a Mockingbird           Harper Lee    Classic   8.99          600\n",
      "2                    1984        George Orwell  Dystopian   7.99          800\n"
     ]
    }
   ],
   "source": [
    "# Sort the DataFrame based on the Price or Copies Sold.\n",
    "\n",
    "print(df.sort_values(by=\"Price\"))\n",
    "print()\n",
    "print(df.sort_values(by=\"Copies Sold\"))"
   ]
  },
  {
   "cell_type": "code",
   "execution_count": 4,
   "id": "612ac62d-3bff-43e1-84f2-5262e74e2b23",
   "metadata": {},
   "outputs": [
    {
     "name": "stdout",
     "output_type": "stream",
     "text": [
      "  Book Title         Author      Genre  Price  Copies Sold\n",
      "2       1984  George Orwell  Dystopian   7.99          800\n"
     ]
    }
   ],
   "source": [
    "# Filter the books by a specific Genre or books with Price above a certain threshold.\n",
    "\n",
    "print(df[(df[\"Genre\"]==\"Dystopian\") & (df[\"Price\"]>=7)])"
   ]
  },
  {
   "cell_type": "code",
   "execution_count": 5,
   "id": "a02e85ed-e3d7-42db-b8db-632c698d5811",
   "metadata": {},
   "outputs": [
    {
     "name": "stdout",
     "output_type": "stream",
     "text": [
      "                                 Book Title      Genre  Price  Copies Sold\n",
      "Author                                                                    \n",
      "F. Scott Fitzgerald        The Great Gatsby    Classic  10.99          500\n",
      "George Orwell                          1984  Dystopian   7.99          800\n",
      "Harper Lee            To Kill a Mockingbird    Classic   8.99          600\n",
      "J.D. Salinger        The Catcher in the Rye    Classic   9.99          450\n",
      "Jane Austen             Pride and Prejudice    Classic  11.99          300\n"
     ]
    }
   ],
   "source": [
    "# Group the books by Author and sum up the Copies Sold\n",
    "print(df.groupby(\"Author\").sum())"
   ]
  },
  {
   "cell_type": "code",
   "execution_count": null,
   "id": "859cd147-5820-4a33-b871-a04d501a16d8",
   "metadata": {},
   "outputs": [],
   "source": []
  }
 ],
 "metadata": {
  "kernelspec": {
   "display_name": "Python 3 (ipykernel)",
   "language": "python",
   "name": "python3"
  },
  "language_info": {
   "codemirror_mode": {
    "name": "ipython",
    "version": 3
   },
   "file_extension": ".py",
   "mimetype": "text/x-python",
   "name": "python",
   "nbconvert_exporter": "python",
   "pygments_lexer": "ipython3",
   "version": "3.12.5"
  }
 },
 "nbformat": 4,
 "nbformat_minor": 5
}
