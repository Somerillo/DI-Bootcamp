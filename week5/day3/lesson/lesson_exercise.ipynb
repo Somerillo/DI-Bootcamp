{
 "cells": [
  {
   "cell_type": "markdown",
   "id": "d61f6d42-3806-4b8c-9520-3610d919d8ab",
   "metadata": {},
   "source": [
    "# Visualizing Academic Performance Data with Plotnine\n",
    "\n",
    "Objective: Use the Plotnine library to analyze and visualize a dataset containing student demographic and academic performance information.\n",
    "\n",
    "    Load the Data: Import a dataset (student_performance.csv) into a pandas DataFrame.\n",
    "    Create a line plot to display how average scores vary across different levels of parental_level_of_education. Include appropriate labels for clarity.\n",
    "    Generate a bar plot to compare the average scores of male and female students. Use color to differentiate genders in the plot.\n",
    "    Use a scatter plot to visualize the relationship between math_score and reading_score. Add a regression line for better insight into the correlation.\n",
    "    Create a histogram to display the distribution of average_score. Overlay a KDE plot on the histogram for a smoother representation.\n",
    "\n"
   ]
  },
  {
   "cell_type": "code",
   "execution_count": 6,
   "id": "df2108b2-28b1-4ce6-854f-c5c638189ddd",
   "metadata": {},
   "outputs": [
    {
     "ename": "ModuleNotFoundError",
     "evalue": "No module named 'plotnine'",
     "output_type": "error",
     "traceback": [
      "\u001b[1;31m---------------------------------------------------------------------------\u001b[0m",
      "\u001b[1;31mModuleNotFoundError\u001b[0m                       Traceback (most recent call last)",
      "Cell \u001b[1;32mIn[6], line 2\u001b[0m\n\u001b[0;32m      1\u001b[0m \u001b[38;5;28;01mimport\u001b[39;00m \u001b[38;5;21;01mpandas\u001b[39;00m \u001b[38;5;28;01mas\u001b[39;00m \u001b[38;5;21;01mpd\u001b[39;00m\n\u001b[1;32m----> 2\u001b[0m \u001b[38;5;28;01mfrom\u001b[39;00m \u001b[38;5;21;01mplotnine\u001b[39;00m \u001b[38;5;28;01mimport\u001b[39;00m \u001b[38;5;241m*\u001b[39m\n\u001b[0;32m      3\u001b[0m \u001b[38;5;28;01mimport\u001b[39;00m \u001b[38;5;21;01mnumpy\u001b[39;00m \u001b[38;5;28;01mas\u001b[39;00m \u001b[38;5;21;01mnp\u001b[39;00m\n\u001b[0;32m      5\u001b[0m \u001b[38;5;66;03m# Load the dataset\u001b[39;00m\n",
      "\u001b[1;31mModuleNotFoundError\u001b[0m: No module named 'plotnine'"
     ]
    }
   ],
   "source": [
    "import pandas as pd\n",
    "from plotnine import *\n",
    "import numpy as np\n",
    "\n",
    "# Load the dataset\n",
    "df = pd.read_csv('Cleaned_Students_Performance.csv')\n",
    "df.head()\n",
    "\n",
    "# Calculate average score\n",
    "# df['average_score'] = (df['math_score'] + df['reading_score'] + df['writing_score']) / 3"
   ]
  },
  {
   "cell_type": "markdown",
   "id": "179f2cbf-ca5b-4351-9efe-b3ba3a9d37db",
   "metadata": {},
   "source": [
    "Let's create a line plot to show how average scores vary across different levels of parental education:"
   ]
  },
  {
   "cell_type": "code",
   "execution_count": 5,
   "id": "6c94b27a-a261-4ffe-864c-ffd697eb3e50",
   "metadata": {},
   "outputs": [
    {
     "ename": "NameError",
     "evalue": "name 'ggplot' is not defined",
     "output_type": "error",
     "traceback": [
      "\u001b[1;31m---------------------------------------------------------------------------\u001b[0m",
      "\u001b[1;31mNameError\u001b[0m                                 Traceback (most recent call last)",
      "Cell \u001b[1;32mIn[5], line 1\u001b[0m\n\u001b[1;32m----> 1\u001b[0m (ggplot(df, aes(x\u001b[38;5;241m=\u001b[39m\u001b[38;5;124m'\u001b[39m\u001b[38;5;124mparental_level_of_education\u001b[39m\u001b[38;5;124m'\u001b[39m, y\u001b[38;5;241m=\u001b[39m\u001b[38;5;124m'\u001b[39m\u001b[38;5;124maverage_score\u001b[39m\u001b[38;5;124m'\u001b[39m, group\u001b[38;5;241m=\u001b[39m\u001b[38;5;241m1\u001b[39m))\n\u001b[0;32m      2\u001b[0m  \u001b[38;5;241m+\u001b[39m geom_line()\n\u001b[0;32m      3\u001b[0m  \u001b[38;5;241m+\u001b[39m geom_point()\n\u001b[0;32m      4\u001b[0m  \u001b[38;5;241m+\u001b[39m labs(x\u001b[38;5;241m=\u001b[39m\u001b[38;5;124m'\u001b[39m\u001b[38;5;124mParental Level of Education\u001b[39m\u001b[38;5;124m'\u001b[39m, y\u001b[38;5;241m=\u001b[39m\u001b[38;5;124m'\u001b[39m\u001b[38;5;124mAverage Score\u001b[39m\u001b[38;5;124m'\u001b[39m, title\u001b[38;5;241m=\u001b[39m\u001b[38;5;124m'\u001b[39m\u001b[38;5;124mAverage Scores by Parental Education\u001b[39m\u001b[38;5;124m'\u001b[39m)\n\u001b[0;32m      5\u001b[0m  \u001b[38;5;241m+\u001b[39m theme(axis_text_x\u001b[38;5;241m=\u001b[39melement_text(rotation\u001b[38;5;241m=\u001b[39m\u001b[38;5;241m45\u001b[39m, hjust\u001b[38;5;241m=\u001b[39m\u001b[38;5;241m1\u001b[39m))\n\u001b[0;32m      6\u001b[0m )\n",
      "\u001b[1;31mNameError\u001b[0m: name 'ggplot' is not defined"
     ]
    }
   ],
   "source": [
    "(ggplot(df, aes(x='parental_level_of_education', y='average_score', group=1))\n",
    " + geom_line()\n",
    " + geom_point()\n",
    " + labs(x='Parental Level of Education', y='Average Score', title='Average Scores by Parental Education')\n",
    " + theme(axis_text_x=element_text(rotation=45, hjust=1))\n",
    ")\n"
   ]
  },
  {
   "cell_type": "code",
   "execution_count": 8,
   "id": "ee19dab3-c016-422b-aa22-b1fea837d2b5",
   "metadata": {},
   "outputs": [
    {
     "name": "stderr",
     "output_type": "stream",
     "text": [
      "ERROR: Could not find a version that satisfies the requirement plotline (from versions: none)\n",
      "ERROR: No matching distribution found for plotline\n"
     ]
    }
   ],
   "source": [
    "!pip install plotline"
   ]
  },
  {
   "cell_type": "code",
   "execution_count": null,
   "id": "ba9c0c7a-985c-4402-a9a4-cd714ec19d51",
   "metadata": {},
   "outputs": [],
   "source": []
  }
 ],
 "metadata": {
  "kernelspec": {
   "display_name": "Python 3 (ipykernel)",
   "language": "python",
   "name": "python3"
  },
  "language_info": {
   "codemirror_mode": {
    "name": "ipython",
    "version": 3
   },
   "file_extension": ".py",
   "mimetype": "text/x-python",
   "name": "python",
   "nbconvert_exporter": "python",
   "pygments_lexer": "ipython3",
   "version": "3.12.5"
  }
 },
 "nbformat": 4,
 "nbformat_minor": 5
}
