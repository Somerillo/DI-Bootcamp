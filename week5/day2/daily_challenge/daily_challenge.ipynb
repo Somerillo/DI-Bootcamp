{
 "cells": [
  {
   "cell_type": "markdown",
   "id": "d3e18c8d-9e32-499c-8d12-aab9a71e593a",
   "metadata": {},
   "source": [
    "# Analyzing the IMDB Movie Dataset with Matplotlib and Seaborn\n",
    "\n"
   ]
  }
 ],
 "metadata": {
  "kernelspec": {
   "display_name": "Python 3 (ipykernel)",
   "language": "python",
   "name": "python3"
  },
  "language_info": {
   "codemirror_mode": {
    "name": "ipython",
    "version": 3
   },
   "file_extension": ".py",
   "mimetype": "text/x-python",
   "name": "python",
   "nbconvert_exporter": "python",
   "pygments_lexer": "ipython3",
   "version": "3.12.5"
  }
 },
 "nbformat": 4,
 "nbformat_minor": 5
}
