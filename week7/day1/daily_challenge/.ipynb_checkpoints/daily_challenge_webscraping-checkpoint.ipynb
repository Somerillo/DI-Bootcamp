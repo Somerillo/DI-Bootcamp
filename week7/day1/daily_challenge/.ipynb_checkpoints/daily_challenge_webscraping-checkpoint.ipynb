{
 "cells": [
  {
   "cell_type": "markdown",
   "metadata": {
    "id": "DaO8FJ5yrRGU"
   },
   "source": [
    "Web Scraping:\n",
    "\n",
    "-    use this website : [Github/topics](https://github.com/topics)\n",
    "-    Write a Python script using the requests library to fetch the HTML content of the chosen website.\n",
    "-    Print the status code of the response to ensure the request was successful using `.status_code`, it should be 200.\n",
    "-    Print the first 100 characters of the HTML content to verify the response.\n",
    "-    Save the HTML content to a file named webpage.html. Ensure you handle the text encoding correctly.\n",
    "-    Use BeautifulSoup to parse the saved HTML content.\n",
    "-    Identify two distinct pieces of information on the webpage to extract (e.g., titles of the topics and their descriptions).\n",
    "-    Write code to extract these pieces of information. Ensure you identify the correct HTML tags and classes used for these elements on the webpage.\n",
    "-    Print the length and content of each extracted list to verify the extraction process.\n",
    "-    Create a Python dictionary to structure the extracted data, with keys representing the type of information (e.g., ‘title’ and ‘description’).\n",
    "-    Convert this dictionary into a pandas DataFrame.\n",
    "-    Print the DataFrame to confirm its structure and contents.\n"
   ]
  },
  {
   "cell_type": "code",
   "execution_count": 1,
   "metadata": {
    "id": "XLbMLdnWsbwf"
   },
   "outputs": [],
   "source": [
    "import requests\n",
    "from bs4 import BeautifulSoup\n",
    "import pandas as pd"
   ]
  },
  {
   "cell_type": "code",
   "execution_count": 2,
   "metadata": {
    "colab": {
     "base_uri": "https://localhost:8080/"
    },
    "id": "89Ir_RY5rHZf",
    "outputId": "3339eae1-692a-4576-96bd-8a792839d850"
   },
   "outputs": [
    {
     "name": "stdout",
     "output_type": "stream",
     "text": [
      "status code: 200\n",
      "first 100 char of the html cont: \n",
      "\n",
      "<!DOCTYPE html>\n",
      "<html\n",
      "  lang=\"en\"\n",
      "  \n",
      "  data-color-mode=\"auto\" data-light-theme=\"light\" data-dark-t\n",
      "\n",
      "Number of titles extracted: 33\n",
      "Titles: ['Minecraft', 'Unity', 'Clojure', '3D', 'Ajax', 'Algorithm', 'Amp', 'Android', 'Angular', 'Ansible', 'API', 'Arduino', 'ASP.NET', 'Awesome Lists', 'Amazon Web Services', 'Azure', 'Babel', 'Bash', 'Bitcoin', 'Bootstrap', 'Bot', 'C', 'Chrome', 'Chrome extension', 'Command-line interface', 'Clojure', 'Code quality', 'Code review', 'Compiler', 'Continuous integration', 'C++', 'Cryptocurrency', 'Crystal']\n",
      "\n",
      "Number of descriptions extracted: 33\n",
      "Descriptions: ['Minecraft is a sandbox video game.', 'Unity is a game engine used to create 2D/3D video games, and simulations for computers, consoles, and mobile devices.', 'Clojure is a dynamic, general-purpose programming language.', '3D refers to the use of three-dimensional graphics, modeling, and animation in various industries.', 'Ajax is a technique for creating interactive web applications.', 'Algorithms are self-contained sequences that carry out a variety of tasks.', 'Amp is a non-blocking concurrency library for PHP.', 'Android is an operating system built by Google designed for mobile devices.', 'Angular is an open source web application platform.', 'Ansible is a simple and powerful automation engine.', 'An API (Application Programming Interface) is a collection of protocols and subroutines for building software.', 'Arduino is an open source platform for building electronic devices.', 'ASP.NET is a web framework for building modern web apps and services.', 'An awesome list is a list of awesome things curated by the community.', 'Amazon Web Services provides on-demand cloud computing platforms on a subscription basis.', 'Azure is a cloud computing service created by Microsoft.', 'Babel is a compiler for writing next generation JavaScript, today.', 'Bash is a shell and command language interpreter for the GNU operating system.', 'Bitcoin is a cryptocurrency developed by Satoshi Nakamoto.', 'Bootstrap is an HTML, CSS, and JavaScript framework.', 'A bot is an application that runs automated tasks over the Internet.', 'C is a general purpose programming language that first appeared in 1972.', 'Chrome is a web browser from the tech company Google.', 'Chrome extensions enable users to customize the Chrome browsing experience.', 'A CLI, or command-line interface, is a console that helps users issue commands to a program.', 'Clojure is a dynamic, general-purpose programming language.', 'Automate your code review with style, quality, security, and test‑coverage checks when you need them.', 'Ensure your code meets quality standards and ship with confidence.', 'Compilers are software that translate higher-level programming languages to lower-level languages (e.g. machine code).', 'Automatically build and test your code as you push it upstream, preventing bugs from being deployed to production.', 'C++ is a general purpose and object-oriented programming language.', 'A cryptocurrency is a digital currency that uses cryptography.', 'Crystal is a self-hosted, general purpose programming language.']\n",
      "\n",
      "DataFrame:\n",
      "                     title                                        description\n",
      "0                Minecraft                 Minecraft is a sandbox video game.\n",
      "1                    Unity  Unity is a game engine used to create 2D/3D vi...\n",
      "2                  Clojure  Clojure is a dynamic, general-purpose programm...\n",
      "3                       3D  3D refers to the use of three-dimensional grap...\n",
      "4                     Ajax  Ajax is a technique for creating interactive w...\n",
      "5                Algorithm  Algorithms are self-contained sequences that c...\n",
      "6                      Amp  Amp is a non-blocking concurrency library for ...\n",
      "7                  Android  Android is an operating system built by Google...\n",
      "8                  Angular  Angular is an open source web application plat...\n",
      "9                  Ansible  Ansible is a simple and powerful automation en...\n",
      "10                     API  An API (Application Programming Interface) is ...\n",
      "11                 Arduino  Arduino is an open source platform for buildin...\n",
      "12                 ASP.NET  ASP.NET is a web framework for building modern...\n",
      "13           Awesome Lists  An awesome list is a list of awesome things cu...\n",
      "14     Amazon Web Services  Amazon Web Services provides on-demand cloud c...\n",
      "15                   Azure  Azure is a cloud computing service created by ...\n",
      "16                   Babel  Babel is a compiler for writing next generatio...\n",
      "17                    Bash  Bash is a shell and command language interpret...\n",
      "18                 Bitcoin  Bitcoin is a cryptocurrency developed by Satos...\n",
      "19               Bootstrap  Bootstrap is an HTML, CSS, and JavaScript fram...\n",
      "20                     Bot  A bot is an application that runs automated ta...\n",
      "21                       C  C is a general purpose programming language th...\n",
      "22                  Chrome  Chrome is a web browser from the tech company ...\n",
      "23        Chrome extension  Chrome extensions enable users to customize th...\n",
      "24  Command-line interface  A CLI, or command-line interface, is a console...\n",
      "25                 Clojure  Clojure is a dynamic, general-purpose programm...\n",
      "26            Code quality  Automate your code review with style, quality,...\n",
      "27             Code review  Ensure your code meets quality standards and s...\n",
      "28                Compiler  Compilers are software that translate higher-l...\n",
      "29  Continuous integration  Automatically build and test your code as you ...\n",
      "30                     C++  C++ is a general purpose and object-oriented p...\n",
      "31          Cryptocurrency  A cryptocurrency is a digital currency that us...\n",
      "32                 Crystal  Crystal is a self-hosted, general purpose prog...\n"
     ]
    }
   ],
   "source": [
    "# fetch the content\n",
    "url = \"https://github.com/topics\"\n",
    "response = requests.get(url)\n",
    "\n",
    "# print response\n",
    "print(f\"status code: {response.status_code}\")\n",
    "\n",
    "# print the 1st 100 char of the html cont to verfy rspnse\n",
    "print(f\"first 100 char of the html cont: {response.text[:100]}\")\n",
    "\n",
    "# save the html content to a file\n",
    "with open(\"webpage.html\", \"w\", encoding=\"utf-8\") as f:\n",
    "    f.write(response.text)\n",
    "\n",
    "# parse the html content\n",
    "with open(\"webpage.html\", \"r\", encoding=\"utf-8\") as f:\n",
    "    soup = BeautifulSoup(f, \"html.parser\")\n",
    "\n",
    "# extract topic titles & descriptions\n",
    "titles = [title.get_text(strip=True) for title in soup.select('p.f3')]\n",
    "descriptions = [desc.get_text(strip=True) for desc in soup.select('p.f5')]\n",
    "\n",
    "# print length and content of extracted lists\n",
    "print(f\"\\nNumber of titles extracted: {len(titles)}\")\n",
    "print(\"Titles:\", titles)\n",
    "print(f\"\\nNumber of descriptions extracted: {len(descriptions)}\")\n",
    "print(\"Descriptions:\", descriptions)\n",
    "\n",
    "# create dict and convert it to DF\n",
    "data = {\"title\": titles, \"description\": descriptions}\n",
    "df = pd.DataFrame(data)\n",
    "\n",
    "# print df\n",
    "print(\"\\nDataFrame:\")\n",
    "print(df)"
   ]
  },
  {
   "cell_type": "code",
   "execution_count": null,
   "metadata": {
    "id": "NSxBTVk6x9N1"
   },
   "outputs": [],
   "source": []
  }
 ],
 "metadata": {
  "colab": {
   "provenance": []
  },
  "kernelspec": {
   "display_name": "Python 3 (ipykernel)",
   "language": "python",
   "name": "python3"
  },
  "language_info": {
   "codemirror_mode": {
    "name": "ipython",
    "version": 3
   },
   "file_extension": ".py",
   "mimetype": "text/x-python",
   "name": "python",
   "nbconvert_exporter": "python",
   "pygments_lexer": "ipython3",
   "version": "3.12.5"
  }
 },
 "nbformat": 4,
 "nbformat_minor": 4
}
