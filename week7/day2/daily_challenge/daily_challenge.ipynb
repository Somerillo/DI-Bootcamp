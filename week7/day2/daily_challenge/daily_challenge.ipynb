{
 "cells": [
  {
   "cell_type": "markdown",
   "metadata": {},
   "source": [
    "# Daily Challenge: Web Scraping and Data Visualization\n",
    "Your Task\n",
    "\n",
    "Instructions\n",
    "\n",
    "- Use this webpage : Tel Aviv - [BBC Weather](https://www.bbc.com/weather/293397)\n",
    "\n",
    "- Scrape the Webpage: Use Python libraries like Selenium to interact with the webpage and BeautifulSoup to parse the HTML, Extract relevant data such as dates, numerical values, categories, etc., Organize the scraped data into a structured format.\n",
    "\n",
    "- Data Analysis with Pandas:\n",
    "\n",
    "    - Load your scraped data into a Pandas DataFrame.\n",
    "    - Clean and preprocess the data if necessary (handling missing values, type conversion, etc.).\n",
    "    - Perform basic analysis, such as calculating averages, totals, or trends over time.\n",
    "\n",
    "- Data Visualization with Seaborn and Matplotlib:\n",
    "\n",
    "    - Use Seaborn and Matplotlib to create visualizations that provide insights into the data.\n",
    "    - Examples of visualizations can include line plots for trends over time, bar charts for comparing categories, or heatmaps for showing data density.\n",
    "    - Ensure your visualizations are well-labeled with clear titles, axis labels, and legends where appropriate.\n",
    "\n",
    "- Document Your Findings:\n",
    "\n",
    "    - Create a report summarizing your methodology, analysis, and insights from the visualizations.\n",
    "    - Explain any interesting patterns or insights derived from your data.\n"
   ]
  },
  {
   "cell_type": "code",
   "execution_count": 3,
   "metadata": {},
   "outputs": [],
   "source": [
    "# stats and math\n",
    "import pandas as pd\n",
    "import numpy as np\n",
    "\n",
    "# scrapping & stuff\n",
    "from selenium import webdriver\n",
    "from selenium.webdriver.common.by import By\n",
    "from selenium.webdriver.support.ui import WebDriverWait\n",
    "from selenium.webdriver.support import expected_conditions as EC\n",
    "from selenium.common.exceptions import TimeoutException\n",
    "from bs4 import BeautifulSoup\n",
    "import pandas as pd\n",
    "from datetime import datetime, timedelta\n",
    "\n",
    "# plotting\n",
    "import matplotlib.pyplot as plt\n",
    "import seaborn as sns"
   ]
  },
  {
   "cell_type": "code",
   "execution_count": 4,
   "metadata": {},
   "outputs": [
    {
     "name": "stdout",
     "output_type": "stream",
     "text": [
      "Successfully accessed the current weather card body.\n",
      "Retrieved outer html of the current weather card body.\n",
      "Parsed html content with BeautifulSoup for current weather.\n",
      "Successfully accessed the hourly weather list.\n",
      "Retrieved outer html of the hourly weather list.\n",
      "Parsed html content with BeautifulSoup for hourly weather.\n"
     ]
    }
   ],
   "source": [
    "# setup Selenium WebDriver\n",
    "options = webdriver.ChromeOptions()\n",
    "options.add_argument(\"--start-maximized\")  # Open browser in maximized mode\n",
    "driver = webdriver.Chrome(options=options)\n",
    "\n",
    "# BBC Weather page\n",
    "url = \"https://www.bbc.com/weather/293397\"\n",
    "driver.get(url)\n",
    "\n",
    "# wait for the specific weather card element to load\n",
    "wait = WebDriverWait(driver, 30)\n",
    "\n",
    "try:\n",
    "    # get current weather\n",
    "    # wait for the current weather card element to be present\n",
    "    wait.until(EC.presence_of_element_located((By.CSS_SELECTOR, \"div#wr-forecast.wr-forecast div.wr-day-container--clear-sky-night div.wr-day-carousel__viewport div.wr-day-carousel__scrollable ol.wr-day-carousel__list li.wr-day--0 a#daylink-0.wr-day__content\")))\n",
    "    print(\"Successfully accessed the current weather card body.\")\n",
    "\n",
    "    # get the html content of the current weather card\n",
    "    weather_card_body_html = driver.find_element(By.CSS_SELECTOR, \"div#wr-forecast.wr-forecast div.wr-day-container--clear-sky-night div.wr-day-carousel__viewport div.wr-day-carousel__scrollable ol.wr-day-carousel__list li.wr-day--0 a#daylink-0.wr-day__content\").get_attribute('outerHTML')\n",
    "    print(\"Retrieved outer html of the current weather card body.\")\n",
    "\n",
    "    # parse html content with BeautifulSoup for current weather\n",
    "    soup_current = BeautifulSoup(weather_card_body_html, 'html.parser')\n",
    "    print(\"Parsed html content with BeautifulSoup for current weather.\")\n",
    "\n",
    "\n",
    "    # get hourly weather\n",
    "    # wait for the hourly weather list element to be present\n",
    "    wait.until(EC.presence_of_element_located((By.CSS_SELECTOR, \"div.wr-time-slot-container__slots div.wr-time-slot-list.wr-time-slot-list--day-0\")))\n",
    "    print(\"Successfully accessed the hourly weather list.\")\n",
    "\n",
    "    # get the html content of the hourly weather list\n",
    "    hourly_list_html = driver.find_element(By.CSS_SELECTOR, \"div.wr-time-slot-container__slots div.wr-time-slot-list.wr-time-slot-list--day-0\").get_attribute('outerHTML')\n",
    "    print(\"Retrieved outer html of the hourly weather list.\")\n",
    "\n",
    "    # parse html content with BeautifulSoup for hourly weather\n",
    "    soup_hourly = BeautifulSoup(hourly_list_html, 'html.parser')\n",
    "    print(\"Parsed html content with BeautifulSoup for hourly weather.\")\n",
    "\n",
    "except Exception as e:\n",
    "    print(f\"An error occurred: {e}\")\n",
    "\n",
    "# Shut the driver\n",
    "driver.quit()"
   ]
  },
  {
   "cell_type": "code",
   "execution_count": 93,
   "metadata": {},
   "outputs": [],
   "source": [
    "# just in case\n",
    "\n",
    "# save soup_current as an html file\n",
    "with open(\"soup_current.html\", \"w\", encoding=\"utf-8\") as file:\n",
    "    file.write(soup_current.prettify())\n",
    "\n",
    "# save soup_hourly as an htnl file\n",
    "with open(\"soup_hourly.html\", \"w\", encoding=\"utf-8\") as file:\n",
    "    file.write(soup_hourly.prettify())"
   ]
  },
  {
   "cell_type": "markdown",
   "metadata": {},
   "source": [
    "Get current weather conditions"
   ]
  },
  {
   "cell_type": "code",
   "execution_count": 37,
   "metadata": {},
   "outputs": [
    {
     "name": "stdout",
     "output_type": "stream",
     "text": [
      "Weather Description: A clear sky and light winds\n",
      "Current Short: 13°\n"
     ]
    }
   ],
   "source": [
    "# retrieve the weather type description\n",
    "weather_description_element = soup_current.find(class_=\"wr-day__weather-type-description\")\n",
    "weather_description = weather_description_element.get_text(strip=True) if weather_description_element else None\n",
    "print(f\"Weather Description: {weather_description}\")\n",
    "\n",
    "# retrieve temperature from current_short\n",
    "current_short_element = soup_current.find(class_=\"wr-value--temperature--c\")\n",
    "current_short = current_short_element.get_text(strip=True) if current_short_element else None\n",
    "\n",
    "print(f\"Current Short: {current_short}\")\n"
   ]
  },
  {
   "cell_type": "markdown",
   "metadata": {},
   "source": [
    "Get hourly conditions"
   ]
  },
  {
   "cell_type": "code",
   "execution_count": 60,
   "metadata": {},
   "outputs": [],
   "source": [
    "# Find all time slots in soup_hourly\n",
    "time_slots = soup_hourly.find_all(class_=\"wr-time-slot wr-js-time-slot\")\n",
    "\n",
    "# Create a list to hold the dictionaries for each time slot\n",
    "time_slot_dicts = []\n",
    "\n",
    "# Iterate through each time slot and create an empty dictionary\n",
    "for slot in time_slots:\n",
    "    time_slot_dict = {}  # Create an empty dictionary for each time slot\n",
    "    time_slot_dicts.append(time_slot_dict)"
   ]
  },
  {
   "cell_type": "code",
   "execution_count": 69,
   "metadata": {},
   "outputs": [
    {
     "data": {
      "text/html": [
       "<div>\n",
       "<style scoped>\n",
       "    .dataframe tbody tr th:only-of-type {\n",
       "        vertical-align: middle;\n",
       "    }\n",
       "\n",
       "    .dataframe tbody tr th {\n",
       "        vertical-align: top;\n",
       "    }\n",
       "\n",
       "    .dataframe thead th {\n",
       "        text-align: right;\n",
       "    }\n",
       "</style>\n",
       "<table border=\"1\" class=\"dataframe\">\n",
       "  <thead>\n",
       "    <tr style=\"text-align: right;\">\n",
       "      <th></th>\n",
       "      <th>hour</th>\n",
       "      <th>temperature</th>\n",
       "      <th>precipitation</th>\n",
       "    </tr>\n",
       "  </thead>\n",
       "  <tbody>\n",
       "    <tr>\n",
       "      <th>0</th>\n",
       "      <td>01:00</td>\n",
       "      <td>13°</td>\n",
       "      <td>0%</td>\n",
       "    </tr>\n",
       "    <tr>\n",
       "      <th>1</th>\n",
       "      <td>02:00</td>\n",
       "      <td>13°</td>\n",
       "      <td>0%</td>\n",
       "    </tr>\n",
       "    <tr>\n",
       "      <th>2</th>\n",
       "      <td>03:00</td>\n",
       "      <td>13°</td>\n",
       "      <td>0%</td>\n",
       "    </tr>\n",
       "    <tr>\n",
       "      <th>3</th>\n",
       "      <td>04:00</td>\n",
       "      <td>13°</td>\n",
       "      <td>0%</td>\n",
       "    </tr>\n",
       "    <tr>\n",
       "      <th>4</th>\n",
       "      <td>05:00</td>\n",
       "      <td>13°</td>\n",
       "      <td>0%</td>\n",
       "    </tr>\n",
       "  </tbody>\n",
       "</table>\n",
       "</div>"
      ],
      "text/plain": [
       "    hour temperature precipitation\n",
       "0  01:00         13°            0%\n",
       "1  02:00         13°            0%\n",
       "2  03:00         13°            0%\n",
       "3  04:00         13°            0%\n",
       "4  05:00         13°            0%"
      ]
     },
     "metadata": {},
     "output_type": "display_data"
    }
   ],
   "source": [
    "# Find all time slots in soup_hourly\n",
    "# we will select all 'li' elements with class 'wr-time-slot'\n",
    "time_slots = soup_hourly.find_all('li', class_=\"wr-time-slot\")\n",
    "\n",
    "# empty dictionary list\n",
    "time_slot_dicts = []\n",
    "\n",
    "# sweep through each time slot and create a dictionary\n",
    "for slot in time_slots:\n",
    "    # create an empty dictionary for each time slot\n",
    "    time_slot_dict = {}\n",
    "    \n",
    "\n",
    "    # find the hour element within the current time slot\n",
    "    hour_element = slot.find(class_=\"wr-time-slot-primary__time\")\n",
    "    # extract hour & store it in the dictionary\n",
    "    hour_text = hour_element.get_text(strip=True)\n",
    "    time_slot_dict['hour'] = hour_text\n",
    "\n",
    "\n",
    "    # find the temperature element within the current time slot\n",
    "    temperature_element = slot.find(class_=\"wr-value--temperature--c\")\n",
    "    # extract temperature & store it in the dictionary\n",
    "    temperature_text = temperature_element.get_text(strip=True)\n",
    "    time_slot_dict['temperature'] = temperature_text\n",
    "\n",
    "\n",
    "    # find the precipitation element within the current time slot\n",
    "    precipitation_element = slot.find(class_=\"wr-time-slot-primary__precipitation\")\n",
    "    if precipitation_element:  # Check if it exists\n",
    "        precipitation_text = precipitation_element.get_text(strip=True)\n",
    "        # Extract only the percentage value (first part of the text)\n",
    "        precipitation_percentage = precipitation_text.split('%')[0] + '%'\n",
    "        time_slot_dict['precipitation'] = precipitation_percentage\n",
    "    \n",
    "\n",
    "    # append the dictionary to the list\n",
    "    time_slot_dicts.append(time_slot_dict)\n",
    "\n",
    "# # check out\n",
    "# print(time_slot_dicts)\n",
    "\n",
    "# make dataframe from dictionaries\n",
    "df_time_slots = pd.DataFrame(time_slot_dicts)\n",
    "display(df_time_slots)"
   ]
  },
  {
   "cell_type": "markdown",
   "metadata": {},
   "source": [
    "Cleaning:"
   ]
  },
  {
   "cell_type": "code",
   "execution_count": 85,
   "metadata": {},
   "outputs": [
    {
     "data": {
      "text/html": [
       "<div>\n",
       "<style scoped>\n",
       "    .dataframe tbody tr th:only-of-type {\n",
       "        vertical-align: middle;\n",
       "    }\n",
       "\n",
       "    .dataframe tbody tr th {\n",
       "        vertical-align: top;\n",
       "    }\n",
       "\n",
       "    .dataframe thead th {\n",
       "        text-align: right;\n",
       "    }\n",
       "</style>\n",
       "<table border=\"1\" class=\"dataframe\">\n",
       "  <thead>\n",
       "    <tr style=\"text-align: right;\">\n",
       "      <th></th>\n",
       "      <th>hour</th>\n",
       "      <th>temperature (C)</th>\n",
       "      <th>precipitation chance (%)</th>\n",
       "    </tr>\n",
       "  </thead>\n",
       "  <tbody>\n",
       "    <tr>\n",
       "      <th>0</th>\n",
       "      <td>1</td>\n",
       "      <td>13.0</td>\n",
       "      <td>0.0</td>\n",
       "    </tr>\n",
       "    <tr>\n",
       "      <th>1</th>\n",
       "      <td>2</td>\n",
       "      <td>13.0</td>\n",
       "      <td>0.0</td>\n",
       "    </tr>\n",
       "    <tr>\n",
       "      <th>2</th>\n",
       "      <td>3</td>\n",
       "      <td>13.0</td>\n",
       "      <td>0.0</td>\n",
       "    </tr>\n",
       "    <tr>\n",
       "      <th>3</th>\n",
       "      <td>4</td>\n",
       "      <td>13.0</td>\n",
       "      <td>0.0</td>\n",
       "    </tr>\n",
       "    <tr>\n",
       "      <th>4</th>\n",
       "      <td>5</td>\n",
       "      <td>13.0</td>\n",
       "      <td>0.0</td>\n",
       "    </tr>\n",
       "  </tbody>\n",
       "</table>\n",
       "</div>"
      ],
      "text/plain": [
       "   hour  temperature (C)  precipitation chance (%)\n",
       "0     1             13.0                       0.0\n",
       "1     2             13.0                       0.0\n",
       "2     3             13.0                       0.0\n",
       "3     4             13.0                       0.0\n",
       "4     5             13.0                       0.0"
      ]
     },
     "metadata": {},
     "output_type": "display_data"
    }
   ],
   "source": [
    "df_cleaned = df_time_slots.copy()\n",
    "\n",
    "# transform the hour column to extract hour from 'HH:MM'\n",
    "df_cleaned['hour'] = df_cleaned['hour'].str.split(':').str[0].astype(int)  # Extract hour and convert to integer\n",
    "\n",
    "# transform the temperature column\n",
    "df_cleaned['temperature (C)'] = df_cleaned['temperature'].str.replace('°', '').astype(float)  # Remove '°' and convert to float\n",
    "\n",
    "# transform the precipitation column\n",
    "df_cleaned['precipitation chance (%)'] = df_cleaned['precipitation'].str.replace('%', '').astype(float)  # Remove '%' and convert to float\n",
    "\n",
    "# drop the original columns that are no longer needed\n",
    "df_cleaned.drop(columns=['temperature', 'precipitation'], inplace=True)\n",
    "\n",
    "# cleaned df\n",
    "display(df_cleaned)"
   ]
  },
  {
   "cell_type": "code",
   "execution_count": 86,
   "metadata": {},
   "outputs": [
    {
     "name": "stdout",
     "output_type": "stream",
     "text": [
      "the stats are:\n",
      "           hour  temperature (C)  precipitation chance (%)\n",
      "count  5.000000              5.0                       5.0\n",
      "mean   3.000000             13.0                       0.0\n",
      "std    1.581139              0.0                       0.0\n",
      "min    1.000000             13.0                       0.0\n",
      "25%    2.000000             13.0                       0.0\n",
      "50%    3.000000             13.0                       0.0\n",
      "75%    4.000000             13.0                       0.0\n",
      "max    5.000000             13.0                       0.0\n"
     ]
    }
   ],
   "source": [
    "print('the stats are:')\n",
    "print(df_cleaned.describe())"
   ]
  },
  {
   "cell_type": "markdown",
   "metadata": {},
   "source": [
    "Doesn't really make sense to make a statistic analysis with values that are going to change...\n",
    "\n",
    "Cold weather with an avg temp of 13C, stable with null std. No chance of precip."
   ]
  },
  {
   "cell_type": "markdown",
   "metadata": {},
   "source": [
    "In case of few falues, uncomment the cell below for a better range of values in the plots:"
   ]
  },
  {
   "cell_type": "code",
   "execution_count": 87,
   "metadata": {},
   "outputs": [],
   "source": [
    "# # dummy df in case of bad values:\n",
    "# data = {\n",
    "#     'hour': [0, 1, 2, 3, 4, 5, 6, 7, 8, 9, 10, 11],\n",
    "#     'temperature (C)': [12.0, 11.5, 11.0, 10.5, 10.0, 9.5, 9.0, 10.5, 12.0, 14.0, 16.0, 18.0],\n",
    "#     'precipitation chance (%)': [5, 10, 15, 20, 25, 20, 15, 10, 45, 00, 5, 20]\n",
    "# }\n",
    "\n",
    "# df_cleaned = pd.DataFrame(data)\n",
    "\n",
    "# display(df_cleaned)"
   ]
  },
  {
   "cell_type": "code",
   "execution_count": 96,
   "metadata": {},
   "outputs": [
    {
     "data": {
      "image/png": "[encoded data removed]",
      "text/plain": [
       "<Figure size 1200x600 with 2 Axes>"
      ]
     },
     "metadata": {},
     "output_type": "display_data"
    }
   ],
   "source": [
    "# create fig with axis\n",
    "fig, ax1 = plt.subplots(figsize=(12, 6))\n",
    "\n",
    "# temperature as a line plot\n",
    "sns.lineplot(data=df_cleaned, x='hour', y='temperature (C)', ax=ax1, color='blue', label='Temperature (°C)')\n",
    "ax1.set_ylabel('Temperature (°C)', color='k')\n",
    "ax1.tick_params(axis='y', labelcolor='k')\n",
    "\n",
    "# make a second y axis for precipitation\n",
    "ax2 = ax1.twinx()\n",
    "sns.barplot(data=df_cleaned, x='hour', y='precipitation chance (%)', ax=ax2, color='orange', alpha=0.6, label='Precipitation Chance (%)')\n",
    "ax2.set_ylabel('Precipitation Chance (%)', color='k')\n",
    "ax2.set_ylim(0, 100)\n",
    "ax2.tick_params(axis='y', labelcolor='k')\n",
    "\n",
    "# titles and legends\n",
    "plt.title('Temperature and Precipitation Chance by Hour\\n(uncomment dummy df for better viz)')\n",
    "plt.grid(True, alpha=0.4)\n",
    "ax1.legend(loc='upper left')\n",
    "ax2.legend(loc='upper right')\n",
    "\n",
    "# release the kraken\n",
    "plt.show()"
   ]
  },
  {
   "cell_type": "markdown",
   "metadata": {},
   "source": [
    "# Report\n",
    "\n",
    "- The current_data and next_hours data for temperature (C) and chance of rain (%) were scrapped from [here](https://www.bbc.com/weather/293397) using selenium, and stored in the variables `soup_current` and `soup_hourly` using beautifulsoup. After that, they were exported as html by using `open`.\n",
    "\n",
    "- The next hours data was cleaned and their stats were printed. After that, they were ploted as a combined axis chart of tempereature and precip. chance vs hour.\n",
    "\n",
    "- The retrieved weather data is very poor and doesn't have many variations. There is a dummy dataframe to appreciate better the plot, which cell is commented.\n",
    "\n",
    "- There is room for improvement, in the webpage there is much more data to scrap:\n",
    "\n",
    "    - The 'next days' field in the webpage is much richer to be scrapped\n",
    "    - While scrapping the 'next hours' data, the button wasn't pushed to retrieve also data like humidity, pressure or visibility. Also the button to 'See more weather for Tuesday 17th>' wasn't pushed.\n",
    "\n",
    "- It's 2:26 AM and I am not gonna scrap those extremelly interesting fields"
   ]
  },
  {
   "cell_type": "code",
   "execution_count": null,
   "metadata": {},
   "outputs": [],
   "source": []
  }
 ],
 "metadata": {
  "kernelspec": {
   "display_name": "Devs_Institute",
   "language": "python",
   "name": "python3"
  },
  "language_info": {
   "codemirror_mode": {
    "name": "ipython",
    "version": 3
   },
   "file_extension": ".py",
   "mimetype": "text/x-python",
   "name": "python",
   "nbconvert_exporter": "python",
   "pygments_lexer": "ipython3",
   "version": "3.12.5"
  }
 },
 "nbformat": 4,
 "nbformat_minor": 2
}
