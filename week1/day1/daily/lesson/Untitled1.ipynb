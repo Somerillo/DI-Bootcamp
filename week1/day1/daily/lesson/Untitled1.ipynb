{
 "cells": [
  {
   "cell_type": "code",
   "execution_count": 2,
   "id": "472401f2-b512-4ba5-8076-3be98eb31146",
   "metadata": {},
   "outputs": [
    {
     "name": "stdout",
     "output_type": "stream",
     "text": [
      "True\n"
     ]
    }
   ],
   "source": [
    "print('something' == 'something')"
   ]
  },
  {
   "cell_type": "code",
   "execution_count": 3,
   "id": "14b1b7f2-e5f2-4ef2-98f1-a5a03f2b96fd",
   "metadata": {},
   "outputs": [],
   "source": [
    "#JS - let, const, var = keywords to define if the variable should be changed/overwrited\n",
    "PASSWORD = '123456'"
   ]
  },
  {
   "cell_type": "code",
   "execution_count": 5,
   "id": "a06abcaa-bc47-4486-a3c7-f202245f52ef",
   "metadata": {},
   "outputs": [
    {
     "name": "stdout",
     "output_type": "stream",
     "text": [
      "36\n"
     ]
    }
   ],
   "source": [
    "age = 35\n",
    "age += 1\n",
    "print(age)"
   ]
  },
  {
   "cell_type": "code",
   "execution_count": 6,
   "id": "d87dc30b-ada1-4cc5-92cf-361903a21ef7",
   "metadata": {},
   "outputs": [
    {
     "name": "stdout",
     "output_type": "stream",
     "text": [
      "your age is 36\n"
     ]
    }
   ],
   "source": [
    "print(f'your age is {age}')"
   ]
  },
  {
   "cell_type": "code",
   "execution_count": 7,
   "id": "20f97700-91e4-46fa-8a87-a5fe26dfb500",
   "metadata": {},
   "outputs": [
    {
     "name": "stdin",
     "output_type": "stream",
     "text": [
      "insert age 99\n"
     ]
    },
    {
     "name": "stdout",
     "output_type": "stream",
     "text": [
      "you are 99 years old\n"
     ]
    }
   ],
   "source": [
    "age = input('insert age')\n",
    "print(f'you are {age} years old')"
   ]
  },
  {
   "cell_type": "code",
   "execution_count": null,
   "id": "8869eef7-619a-4e1f-b592-6e04c8e0b4fa",
   "metadata": {},
   "outputs": [],
   "source": []
  }
 ],
 "metadata": {
  "kernelspec": {
   "display_name": "Python 3 (ipykernel)",
   "language": "python",
   "name": "python3"
  },
  "language_info": {
   "codemirror_mode": {
    "name": "ipython",
    "version": 3
   },
   "file_extension": ".py",
   "mimetype": "text/x-python",
   "name": "python",
   "nbconvert_exporter": "python",
   "pygments_lexer": "ipython3",
   "version": "3.12.5"
  }
 },
 "nbformat": 4,
 "nbformat_minor": 5
}
