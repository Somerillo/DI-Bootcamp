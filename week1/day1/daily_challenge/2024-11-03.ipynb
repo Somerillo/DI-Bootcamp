{
 "cells": [
  {
   "cell_type": "code",
   "execution_count": 38,
   "id": "c959abf4-0444-482d-a00f-a02f4fe16bc0",
   "metadata": {},
   "outputs": [
    {
     "name": "stdin",
     "output_type": "stream",
     "text": [
      "input height in cm 145\n"
     ]
    },
    {
     "name": "stdout",
     "output_type": "stream",
     "text": [
      "['tall enough to ride']\n"
     ]
    }
   ],
   "source": [
    "# # excercice 1\n",
    "# # Print the following output in one line of code:\n",
    "# print(\"Hello world\\n\" * 4)\n",
    "\n",
    "# # exercise 2\n",
    "# # Write code that calculates the result of: (99^3)*8 (meaning 99 to the power of 3, times 8).\n",
    "# print((99**3)*8)\n",
    "\n",
    "# # excercice 3\n",
    "# # Predict the output of the following code snippets:\n",
    "# print(5 < 3)\n",
    "# print(3 == 3)\n",
    "# print(3 == \"3\")\n",
    "# try:\n",
    "#     print(\"3\" > 3)\n",
    "# except TypeError:\n",
    "#     print(\"TypeError: '>' not supported between instances of 'str' and 'int'\")\n",
    "# print(\"Hello\" == \"hello\")\n",
    "\n",
    "# # exercise 4\n",
    "# # Create a variable called computer_brand which value is the brand name of your computer.\n",
    "# # Using the computer_brand variable print a sentence that states the following: \"I have a <computer_brand> computer\".\n",
    "# computer_brand = 'Asus'\n",
    "# print(f\"I have a {computer_brand} computer\")\n",
    "\n",
    "# # excersice 5\n",
    "# # Create a variable called name, and set it’s value to your name.\n",
    "# # Create a variable called age, and set it’s value to your age.\n",
    "# # Create a variable called shoe_size, and set it’s value to your shoe size.\n",
    "# # Create a variable called info and set it’s value to an interesting sentence about yourself. The sentence must contain all the variables created in parts 1, 2 and 3.\n",
    "# # Have your code print the info message.\n",
    "# # Run your code\n",
    "# name = \"damian\"\n",
    "# age = 42\n",
    "# shoe_size = 43\n",
    "# info = \"My name is \" + name + \". I'm \" + str(age) + \" years old and my shoe size is \" + str(shoe_size) + \".\"\n",
    "# print(info)\n",
    "\n",
    "# # exercice 6\n",
    "# # Create two variables, a and b.\n",
    "# # Each variable value should be a number.\n",
    "# # If a is bigger then b, have your code print Hello World.\n",
    "# import random as rd\n",
    "# a = rd.randint(1, 10)\n",
    "# b = rd.randint(1, 10)\n",
    "# print(f\"a = {a}\\nb = {b}\")\n",
    "# print(\"hello world\") if a > b else None\n",
    "\n",
    "# # Exercise 7 : Odd or Even\n",
    "# number = int(input(\"input your number, floating numbers will be rounded\"))\n",
    "# print(\"even number\") if (number % 2 == 0) else print(\"odd number\")\n",
    "\n",
    "# # exercise 8\n",
    "# # Write code that asks the user for their name and determines whether or not you have the same name, print out a funny message based on the outcome.\n",
    "# name = input(\"insert your name\")\n",
    "# output = [\"same as me\" if name == 'damian' or name == 'Damian' else \"a funny message based on the outcome\"]\n",
    "# print(output)\n",
    "\n",
    "# # Exercise 9\n",
    "# # Write code that will ask the user for their height in centimeters.\n",
    "# # If they are over 145cm print a message that states they are tall enough to ride.\n",
    "# # If they are not tall enough print a message that says they need to grow some more to ride.\n",
    "# height = int(input(\"input height in cm\"))\n",
    "# output = [\"tall enough to ride\" if height >= 145 else \"not tall enough to ride\"]\n",
    "# print(output)"
   ]
  },
  {
   "cell_type": "code",
   "execution_count": null,
   "id": "516a4aa3-a559-493f-82d4-d2c2a9d65c9b",
   "metadata": {},
   "outputs": [],
   "source": []
  }
 ],
 "metadata": {
  "kernelspec": {
   "display_name": "Python 3 (ipykernel)",
   "language": "python",
   "name": "python3"
  },
  "language_info": {
   "codemirror_mode": {
    "name": "ipython",
    "version": 3
   },
   "file_extension": ".py",
   "mimetype": "text/x-python",
   "name": "python",
   "nbconvert_exporter": "python",
   "pygments_lexer": "ipython3",
   "version": "3.12.5"
  }
 },
 "nbformat": 4,
 "nbformat_minor": 5
}
