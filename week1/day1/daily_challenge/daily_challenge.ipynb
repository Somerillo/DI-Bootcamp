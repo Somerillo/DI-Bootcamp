{
 "cells": [
  {
   "cell_type": "code",
   "execution_count": 26,
   "id": "768b4bab-66d0-4be6-be91-5ae07ae1ba32",
   "metadata": {},
   "outputs": [
    {
     "name": "stdin",
     "output_type": "stream",
     "text": [
      "insert string texto nuevo\n"
     ]
    },
    {
     "name": "stdout",
     "output_type": "stream",
     "text": [
      "string too long\n",
      "t\n",
      "o\n",
      "t\n",
      "te\n",
      "tex\n",
      "text\n",
      "texto\n",
      "texto \n",
      "texto n\n",
      "texto nu\n",
      "texto nue\n",
      "texto nuev\n",
      "texto nuevo\n",
      "voeo etxutn\n"
     ]
    }
   ],
   "source": [
    "# Excercise 1\n",
    "# Using the input function, ask the user for a string. The string must be 10 characters long.\n",
    "# If it’s less than 10 characters, print a message which states “string not long enough”.\n",
    "# If it’s more than 10 characters, print a message which states “string too long”.\n",
    "# If it’s 10 characters, print a message which states “perfect string” and continue the exercise.\n",
    "string = input(\"insert string\")\n",
    "if len(string) < 10:\n",
    "    print(\"string not long enough\")\n",
    "elif len(string) > 10:\n",
    "    print(\"string too long\")\n",
    "else:\n",
    "    print(\"perfect string\")\n",
    "\n",
    "# Then, print the first and last characters of the given text\n",
    "print(string[0])\n",
    "print(string[len(string) - 1])\n",
    "\n",
    "# Using a for loop, construct the string character by character: Print the first character, then the second, then the third, until the full string is printed.\n",
    "m = ''\n",
    "for n in string:\n",
    "    m = m + n\n",
    "    print(m)\n",
    "\n",
    "# Swap some characters around then print the newly jumbled string (hint: look into the shuffle method)\n",
    "import random as rd\n",
    "char_list = list(string) # generate a list from the string\n",
    "rd.shuffle(char_list) # randomize\n",
    "shuffled_text = ''.join(char_list)\n",
    "print(shuffled_text)"
   ]
  },
  {
   "cell_type": "code",
   "execution_count": null,
   "id": "cf273702-5d50-420f-9735-af912b9b48f8",
   "metadata": {},
   "outputs": [],
   "source": []
  }
 ],
 "metadata": {
  "kernelspec": {
   "display_name": "Python 3 (ipykernel)",
   "language": "python",
   "name": "python3"
  },
  "language_info": {
   "codemirror_mode": {
    "name": "ipython",
    "version": 3
   },
   "file_extension": ".py",
   "mimetype": "text/x-python",
   "name": "python",
   "nbconvert_exporter": "python",
   "pygments_lexer": "ipython3",
   "version": "3.12.5"
  }
 },
 "nbformat": 4,
 "nbformat_minor": 5
}
