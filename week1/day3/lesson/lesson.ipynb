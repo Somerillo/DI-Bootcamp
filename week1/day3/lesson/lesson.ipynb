{
 "cells": [
  {
   "cell_type": "code",
   "execution_count": 6,
   "id": "c3223f50-c906-463b-99f9-acc0504aeb33",
   "metadata": {},
   "outputs": [
    {
     "name": "stdout",
     "output_type": "stream",
     "text": [
      "80\n"
     ]
    }
   ],
   "source": [
    "# Access the value of key history\n",
    "sample_dict = { \n",
    "   \"class\":{ \n",
    "      \"student\":{ \n",
    "         \"name\":\"Mike\",\n",
    "         \"marks\":{ \n",
    "            \"physics\":70,\n",
    "            \"history\":80\n",
    "         }\n",
    "      }\n",
    "   }\n",
    "}\n",
    "\n",
    "print(sample_dict[\"class\"][\"student\"][\"marks\"][\"history\"])"
   ]
  },
  {
   "cell_type": "code",
   "execution_count": 9,
   "id": "8022009a-27ba-47fa-9919-c6e90b42f79b",
   "metadata": {},
   "outputs": [
    {
     "name": "stdout",
     "output_type": "stream",
     "text": [
      "physics\n",
      "history\n"
     ]
    }
   ],
   "source": [
    "for key in sample_dict[\"class\"][\"student\"][\"marks\"].keys():\n",
    "    print(key)"
   ]
  },
  {
   "cell_type": "code",
   "execution_count": 12,
   "id": "bed1a691-8ba1-4375-96dc-81dec62a163c",
   "metadata": {},
   "outputs": [
    {
     "name": "stdout",
     "output_type": "stream",
     "text": [
      "{'student': {'name': 'Mike', 'marks': {'physics': 70, 'history': 80}}}\n"
     ]
    }
   ],
   "source": [
    "for value in sample_dict.values():\n",
    "    print(value)"
   ]
  },
  {
   "cell_type": "code",
   "execution_count": 15,
   "id": "b30c7898-2987-4434-8079-582d2b9be920",
   "metadata": {},
   "outputs": [
    {
     "name": "stdout",
     "output_type": "stream",
     "text": [
      "key: physics\n",
      "value: 70\n",
      "key: history\n",
      "value: 80\n"
     ]
    }
   ],
   "source": [
    "for key, value in sample_dict[\"class\"][\"student\"][\"marks\"].items():\n",
    "    print(f\"key: {key}\")\n",
    "    print(f\"value: {value}\")"
   ]
  },
  {
   "cell_type": "code",
   "execution_count": 19,
   "id": "4f1028fc-6e70-4943-ae95-e5ab23742d10",
   "metadata": {},
   "outputs": [
    {
     "name": "stdout",
     "output_type": "stream",
     "text": [
      "class\n",
      "new_vale\n",
      "------------------------\n",
      "class\n"
     ]
    }
   ],
   "source": [
    "sample_dict[\"new_vale\"] = \"new value\"\n",
    "\n",
    "for key in sample_dict.keys():\n",
    "    print(key)\n",
    "\n",
    "print(\"------------------------\")\n",
    "del sample_dict[\"new_vale\"]\n",
    "for key in sample_dict.keys():\n",
    "    print(key)"
   ]
  },
  {
   "cell_type": "code",
   "execution_count": 21,
   "id": "cbe01604-e7db-4ff9-bc27-3d7a5b3a642d",
   "metadata": {},
   "outputs": [
    {
     "name": "stdout",
     "output_type": "stream",
     "text": [
      "True\n",
      "False\n"
     ]
    }
   ],
   "source": [
    "# to check if the key/value is in the dict:\n",
    "print(\"class\" in sample_dict.keys())\n",
    "print(\"student\" in sample_dict.values())"
   ]
  },
  {
   "cell_type": "code",
   "execution_count": 25,
   "id": "4d692bb2-2161-4845-87ac-3252f4d74cb5",
   "metadata": {},
   "outputs": [
    {
     "name": "stdout",
     "output_type": "stream",
     "text": [
      "dict_keys(['age', 'city'])\n"
     ]
    }
   ],
   "source": [
    "# exercise: Delete set of keys from Python Dictionary\n",
    "\n",
    "sample_dict = {\n",
    "  \"name\": \"Kelly\",\n",
    "  \"age\":25,\n",
    "  \"salary\": 8000,\n",
    "  \"city\": \"New york\"\n",
    "\n",
    "}\n",
    "keys_to_remove = [\"name\", \"salary\"]\n",
    "\n",
    "for key in keys_to_remove:\n",
    "    if key in sample_dict:\n",
    "        del sample_dict[key]\n",
    "\n",
    "print(sample_dict.keys())"
   ]
  },
  {
   "cell_type": "code",
   "execution_count": null,
   "id": "aa7de407-4777-4d3b-95f7-dc1bc36ff45b",
   "metadata": {},
   "outputs": [],
   "source": []
  }
 ],
 "metadata": {
  "kernelspec": {
   "display_name": "Python 3 (ipykernel)",
   "language": "python",
   "name": "python3"
  },
  "language_info": {
   "codemirror_mode": {
    "name": "ipython",
    "version": 3
   },
   "file_extension": ".py",
   "mimetype": "text/x-python",
   "name": "python",
   "nbconvert_exporter": "python",
   "pygments_lexer": "ipython3",
   "version": "3.12.5"
  }
 },
 "nbformat": 4,
 "nbformat_minor": 5
}
