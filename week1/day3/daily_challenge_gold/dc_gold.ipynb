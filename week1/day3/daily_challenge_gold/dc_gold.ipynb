{
 "cells": [
  {
   "cell_type": "markdown",
   "metadata": {},
   "source": [
    "In cryptography, a Caesar cipher is one of the simplest and most widely known encryption techniques.\n",
    "\n",
    "It is a type of substitution cipher in which each letter in the plaintext is replaced by a letter some fixed number of positions down the alphabet.\n",
    "\n",
    "For example, with a left shift of 3 –> D would be replaced by A,\n",
    "–> E would become B, and so on.\n",
    "\n",
    "The method is named after Julius Caesar, who used it in his private correspondence.\n",
    "\n",
    "Create a python program that encrypts and decrypts messages with ceasar cypher.\n",
    "\n",
    "The user enters the program, and then the program asks him if he wants to encrypt or decrypt, and then execute encryption/decryption on a given message and a given shift.\n",
    "\n",
    "Check out this tutorial\n",
    "\n",
    "Hint:\n",
    "```python\n",
    "for letter in text:\n",
    "    cypher_text += chr(ord(letter) + 3)\n",
    "```"
   ]
  },
  {
   "cell_type": "code",
   "execution_count": 1,
   "metadata": {},
   "outputs": [],
   "source": [
    "# Caesar Cipher Implementation\n",
    "\n",
    "def caesar_cipher(text, shift, mode):\n",
    "    \"\"\"\n",
    "    Encrypts or decrypts a text using the Caesar cipher.\n",
    "    \n",
    "    Parameters:\n",
    "        text (str): The input text to be encrypted or decrypted.\n",
    "        shift (int): The number of positions to shift each letter.\n",
    "        mode (str): 'encrypt' for encryption, 'decrypt' for decryption.\n",
    "    \n",
    "    Returns:\n",
    "        str: The resulting encrypted or decrypted text.\n",
    "    \"\"\"\n",
    "    result = \"\"\n",
    "    \n",
    "    # Adjust shift for decryption\n",
    "    if mode == \"decrypt\":\n",
    "        shift = -shift\n",
    "    \n",
    "    # Process each character in the text\n",
    "    for char in text:\n",
    "        if char.isalpha():  # Check if character is a letter\n",
    "            start = ord('A') if char.isupper() else ord('a')\n",
    "            new_char = chr((ord(char) - start + shift) % 26 + start)\n",
    "            result += new_char\n",
    "        else:\n",
    "            result += char  # Non-alphabetic characters remain unchanged\n",
    "    \n",
    "    return result"
   ]
  },
  {
   "cell_type": "code",
   "execution_count": 2,
   "metadata": {},
   "outputs": [],
   "source": [
    "# User Interaction\n",
    "def main():\n",
    "    print(\"Welcome to the Caesar Cipher Program!\")\n",
    "    \n",
    "    while True:\n",
    "        # Ask user for operation\n",
    "        mode = input(\"Do you want to 'encrypt' or 'decrypt' a message? (type 'exit' to quit): \").lower()\n",
    "        \n",
    "        if mode == \"exit\":\n",
    "            print(\"Goodbye!\")\n",
    "            break\n",
    "        \n",
    "        if mode not in [\"encrypt\", \"decrypt\"]:\n",
    "            print(\"Invalid option. Please type 'encrypt', 'decrypt', or 'exit'.\")\n",
    "            continue\n",
    "        \n",
    "        # Get message and shift value from user\n",
    "        message = input(\"Enter your message: \")\n",
    "        try:\n",
    "            shift = int(input(\"Enter the shift value (integer): \"))\n",
    "        except ValueError:\n",
    "            print(\"Invalid input. Please enter an integer for the shift value.\")\n",
    "            continue\n",
    "        \n",
    "        # Perform encryption or decryption\n",
    "        result = caesar_cipher(message, shift, mode)\n",
    "        \n",
    "        # Display the result\n",
    "        print(f\"The resulting message is: {result}\\n\")"
   ]
  },
  {
   "cell_type": "code",
   "execution_count": 3,
   "metadata": {},
   "outputs": [
    {
     "name": "stdout",
     "output_type": "stream",
     "text": [
      "Welcome to the Caesar Cipher Program!\n",
      "The resulting message is: pmttw ewztl\n",
      "\n",
      "The resulting message is: hello world\n",
      "\n",
      "Invalid input. Please enter an integer for the shift value.\n",
      "Goodbye!\n"
     ]
    }
   ],
   "source": [
    "# Run the program\n",
    "if __name__ == \"__main__\":\n",
    "    main()"
   ]
  },
  {
   "cell_type": "code",
   "execution_count": null,
   "metadata": {},
   "outputs": [],
   "source": []
  }
 ],
 "metadata": {
  "kernelspec": {
   "display_name": "Devs_Institute",
   "language": "python",
   "name": "python3"
  },
  "language_info": {
   "codemirror_mode": {
    "name": "ipython",
    "version": 3
   },
   "file_extension": ".py",
   "mimetype": "text/x-python",
   "name": "python",
   "nbconvert_exporter": "python",
   "pygments_lexer": "ipython3",
   "version": "3.12.5"
  }
 },
 "nbformat": 4,
 "nbformat_minor": 2
}
