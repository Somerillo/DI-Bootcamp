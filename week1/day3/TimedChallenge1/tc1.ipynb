{
 "cells": [
  {
   "cell_type": "markdown",
   "metadata": {},
   "source": [
    "# Reverse the Sentence\n",
    "\n",
    "Write a program to reverse the sentence wordwise.\n",
    "\n",
    "```python\n",
    "input:\n",
    "'You have entered a wrong domain'\n",
    "output:\n",
    "'domain wrong a entered have You'\n",
    "```"
   ]
  },
  {
   "cell_type": "code",
   "execution_count": 1,
   "metadata": {},
   "outputs": [],
   "source": [
    "def reverse_sentence(sentence):\n",
    "    # Split the sentence into words\n",
    "    words = sentence.split()\n",
    "    # Reverse the list of words\n",
    "    reversed_words = words[::-1]\n",
    "    # Join the reversed words back into a sentence\n",
    "    reversed_sentence = \" \".join(reversed_words)\n",
    "    return reversed_sentence"
   ]
  },
  {
   "cell_type": "code",
   "execution_count": 2,
   "metadata": {},
   "outputs": [
    {
     "name": "stdout",
     "output_type": "stream",
     "text": [
      "domain wrong a entered have You\n"
     ]
    }
   ],
   "source": [
    "input_sentence = \"You have entered a wrong domain\"\n",
    "\n",
    "output_sentence = reverse_sentence(input_sentence)\n",
    "print(output_sentence)"
   ]
  },
  {
   "cell_type": "code",
   "execution_count": null,
   "metadata": {},
   "outputs": [],
   "source": []
  }
 ],
 "metadata": {
  "kernelspec": {
   "display_name": "Devs_Institute",
   "language": "python",
   "name": "python3"
  },
  "language_info": {
   "codemirror_mode": {
    "name": "ipython",
    "version": 3
   },
   "file_extension": ".py",
   "mimetype": "text/x-python",
   "name": "python",
   "nbconvert_exporter": "python",
   "pygments_lexer": "ipython3",
   "version": "3.12.5"
  }
 },
 "nbformat": 4,
 "nbformat_minor": 2
}
