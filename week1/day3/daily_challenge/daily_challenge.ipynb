{
 "cells": [
  {
   "cell_type": "code",
   "execution_count": 25,
   "id": "aa52171c-59e8-4164-9b47-2091072def06",
   "metadata": {},
   "outputs": [
    {
     "name": "stdin",
     "output_type": "stream",
     "text": [
      "word froggy\n"
     ]
    },
    {
     "name": "stdout",
     "output_type": "stream",
     "text": [
      "{'f': [0], 'r': [1], 'o': [2], 'g': [3, 4], 'y': [5]}\n"
     ]
    }
   ],
   "source": [
    "# # -----------------------------------------------------------------------------------------------------------------\n",
    "# # Challenge 1\n",
    "\n",
    "# #     Ask a user for a word\n",
    "\n",
    "# #     Write a program that creates a dictionary. This dictionary stores the indexes of each letter in a list.\n",
    "# #         Make sure the letters are the keys.\n",
    "# #         Make sure the letters are strings.\n",
    "# #         Make sure the indexes are stored in a list and those lists are values.\n",
    "# word = input(\"word\")\n",
    "# list_word = list(word)\n",
    "# dict_char = {}\n",
    "# k=0\n",
    "\n",
    "# for char in list_word:\n",
    "#     if char not in dict_char:\n",
    "#         dict_char[char] = [] # need initiate an empty list before adding!!!!!!!!!!\n",
    "#     dict_char[char].append(k)\n",
    "#     k += 1\n",
    "\n",
    "# print(dict_char)"
   ]
  },
  {
   "cell_type": "code",
   "execution_count": 50,
   "id": "e7c4f91a-7e67-4a3b-ab65-0a1dce611127",
   "metadata": {},
   "outputs": [
    {
     "name": "stdout",
     "output_type": "stream",
     "text": [
      "Before running: uncomment desired `items_purchase` list and `wallet` ammount.\n",
      "\n",
      "Nothing\n"
     ]
    }
   ],
   "source": [
    "# # -----------------------------------------------------------------------------------------------------------------\n",
    "# Challenge 2\n",
    "\n",
    "#     Create a program that prints a list of the items you can afford in the store with the money you have in your wallet.\n",
    "#     Sort the list in alphabetical order.\n",
    "#     Return “Nothing” if you can’t afford anything from the store.\n",
    "\n",
    "print(\"Before running: uncomment desired `items_purchase` list and `wallet` ammount.\\n\")\n",
    "\n",
    "# items_purchase = {\n",
    "#   \"Water\": \"$1\",\n",
    "#   \"Bread\": \"$3\",\n",
    "#   \"TV\": \"$1,000\",\n",
    "#   \"Fertilizer\": \"$20\"\n",
    "# }\n",
    "\n",
    "# wallet = \"$300\"\n",
    "\n",
    "## ➞ [\"Bread\", \"Fertilizer\", \"Water\"]\n",
    "\n",
    "# items_purchase = {\n",
    "#   \"Apple\": \"$4\",\n",
    "#   \"Honey\": \"$3\",\n",
    "#   \"Fan\": \"$14\",\n",
    "#   \"Bananas\": \"$4\",\n",
    "#   \"Pan\": \"$100\",\n",
    "#   \"Spoon\": \"$2\"\n",
    "# }\n",
    "\n",
    "# wallet = \"$100\" \n",
    "\n",
    "## ➞ [\"Apple\", \"Bananas\", \"Fan\", \"Honey\", \"Spoon\"]\n",
    "\n",
    "# # In fact the prices of Apple + Honey + Fan + Bananas + Pan is more that $100, so you cannot by the Pan, \n",
    "# # instead you can by the Spoon that is $2\n",
    "\n",
    "# items_purchase = {\n",
    "#   \"Phone\": \"$999\",\n",
    "#   \"Speakers\": \"$300\",\n",
    "#   \"Laptop\": \"$5,000\",\n",
    "#   \"PC\": \"$1200\"\n",
    "# }\n",
    "\n",
    "# wallet = \"$1\" \n",
    "\n",
    "## ➞ \"Nothing\"\n",
    "\n",
    "\n",
    "# # we convert to int the wallet value\n",
    "# list_wallet = list(wallet)\n",
    "# if \",\" in list_wallet:\n",
    "#     list_wallet.remove(\",\")\n",
    "# if \"$\" in list_wallet:\n",
    "#     list_wallet.remove(\"$\")\n",
    "\n",
    "# wallet = int(\"\".join(list_wallet))\n",
    "\n",
    "# # we compare prices to the wallet swepping items in the loop\n",
    "# list_items = []\n",
    "# total_cost = 0\n",
    "# for key in items_purchase.keys():\n",
    "#     item = key\n",
    "#     item_cost = items_purchase[key]\n",
    "\n",
    "#     # we convert to int the item cost\n",
    "#     list_item_cost = list(item_cost)\n",
    "#     if \",\" in list_item_cost:\n",
    "#         list_item_cost.remove(\",\")\n",
    "#     if \"$\" in list_item_cost:\n",
    "#         list_item_cost.remove(\"$\")\n",
    "\n",
    "#     item_cost = int(\"\".join(list_item_cost))\n",
    "\n",
    "\n",
    "#     if (total_cost + item_cost) < wallet:\n",
    "#         total_cost += item_cost\n",
    "#         list_items.append(key)\n",
    "#         list_items.sort()\n",
    "\n",
    "# if total_cost == 0:\n",
    "#     print(\"Nothing\")\n",
    "# else:\n",
    "#     print(list_items)"
   ]
  },
  {
   "cell_type": "code",
   "execution_count": null,
   "id": "1477454d-f8df-41bb-886b-80b07babdd08",
   "metadata": {},
   "outputs": [],
   "source": []
  }
 ],
 "metadata": {
  "kernelspec": {
   "display_name": "Python 3 (ipykernel)",
   "language": "python",
   "name": "python3"
  },
  "language_info": {
   "codemirror_mode": {
    "name": "ipython",
    "version": 3
   },
   "file_extension": ".py",
   "mimetype": "text/x-python",
   "name": "python",
   "nbconvert_exporter": "python",
   "pygments_lexer": "ipython3",
   "version": "3.12.5"
  }
 },
 "nbformat": 4,
 "nbformat_minor": 5
}
