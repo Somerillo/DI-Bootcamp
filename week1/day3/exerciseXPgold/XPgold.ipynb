{
 "cells": [
  {
   "cell_type": "markdown",
   "metadata": {},
   "source": [
    "# Exercise 1: Birthday Look-up\n",
    "Instructions\n",
    "\n",
    "1. Create a variable called birthdays. Its value should be a dictionary.\n",
    "2. Initialize this variable with birthdays of 5 people of your choice. For each entry in the dictionary, the key should be the person’s name, and the value should be their birthday. Tip : Use the format “YYYY/MM/DD”.\n",
    "3. Print a welcome message for the user. Then tell them: “You can look up the birthdays of the people in the list!”“\n",
    "    - Ask the user to give you a person’s name and store the answer in a variable.\n",
    "    - Get the birthday of the name provided by the user.\n",
    "    - Print out the birthday with a nicely-formatted message.\n",
    "\n",
    "\n"
   ]
  },
  {
   "cell_type": "code",
   "execution_count": 3,
   "metadata": {},
   "outputs": [
    {
     "name": "stdout",
     "output_type": "stream",
     "text": [
      "Welcome to the Birthday Look-up Program!\n",
      "You can look up the birthdays of the people in the list!\n",
      "Albert Einstein's birthday is on 1879/03/14.\n"
     ]
    }
   ],
   "source": [
    "# Step 1: Create a dictionary with birthdays\n",
    "birthdays = {\n",
    "    \"Albert Einstein\": \"1879/03/14\",\n",
    "    \"Marie Curie\": \"1867/11/07\",\n",
    "    \"Isaac Newton\": \"1643/01/04\",\n",
    "    \"Galileo Galilei\": \"1564/02/15\",\n",
    "    \"Ada Lovelace\": \"1815/12/10\"\n",
    "}\n",
    "\n",
    "# Step 2: Print a welcome message\n",
    "print(\"Welcome to the Birthday Look-up Program!\")\n",
    "print(\"You can look up the birthdays of the people in the list!\")\n",
    "\n",
    "# Step 3: Ask the user for a name\n",
    "name = input(\"Please enter the name of the person whose birthday you want to look up: \")\n",
    "\n",
    "# Step 4: Retrieve and display the birthday\n",
    "if name in birthdays:\n",
    "    print(f\"{name}'s birthday is on {birthdays[name]}.\")\n",
    "else:\n",
    "    print(f\"Sorry, we don't have {name}'s birthday in our records.\")"
   ]
  },
  {
   "cell_type": "markdown",
   "metadata": {},
   "source": [
    "# Exercise 2: Birthdays Advanced\n",
    "Instructions\n",
    "\n",
    "1. Before asking the user to input a person’s name print out all of the names in the dictionary.\n",
    "2. If the person that the user types is not found in the dictionary, print an error message (“Sorry, we don’t have the birthday information for <person’s name>”)\n"
   ]
  },
  {
   "cell_type": "code",
   "execution_count": 4,
   "metadata": {},
   "outputs": [
    {
     "name": "stdout",
     "output_type": "stream",
     "text": [
      "Welcome to the Birthday Look-up Program!\n",
      "Here are the people whose birthdays are in our records:\n",
      "- Albert Einstein\n",
      "- Marie Curie\n",
      "- Isaac Newton\n",
      "- Galileo Galilei\n",
      "- Ada Lovelace\n",
      "Sorry, we don’t have the birthday information for Niloa Tesla.\n"
     ]
    }
   ],
   "source": [
    "# Step 1: Create a dictionary with birthdays\n",
    "birthdays = {\n",
    "    \"Albert Einstein\": \"1879/03/14\",\n",
    "    \"Marie Curie\": \"1867/11/07\",\n",
    "    \"Isaac Newton\": \"1643/01/04\",\n",
    "    \"Galileo Galilei\": \"1564/02/15\",\n",
    "    \"Ada Lovelace\": \"1815/12/10\"\n",
    "}\n",
    "\n",
    "# Step 2: Print a welcome message\n",
    "print(\"Welcome to the Birthday Look-up Program!\")\n",
    "print(\"Here are the people whose birthdays are in our records:\")\n",
    "\n",
    "# Step 3: Print all the names in the dictionary\n",
    "for name in birthdays.keys():\n",
    "    print(f\"- {name}\")\n",
    "\n",
    "# Step 4: Ask the user for a name\n",
    "name = input(\"Please enter the name of the person whose birthday you want to look up: \")\n",
    "\n",
    "# Step 5: Retrieve and display the birthday or show an error message\n",
    "if name in birthdays:\n",
    "    print(f\"{name}'s birthday is on {birthdays[name]}.\")\n",
    "else:\n",
    "    print(f\"Sorry, we don’t have the birthday information for {name}.\")"
   ]
  },
  {
   "cell_type": "markdown",
   "metadata": {},
   "source": [
    "# Exercise 3: Add Your Own Birthday\n",
    "Instructions\n",
    "\n",
    "1. Add this new code: before asking the user to input a person’s name to look up, ask the user to add a new birthday:\n",
    "    - Ask the user for a person’s name – store it in a variable.\n",
    "    - Ask the user for this person’s birthday (in the format “YYYY/MM/DD”) - store it in a variable.\n",
    "    - Now add this new data into your dictionary.\n",
    "2. Make sure that if the user types any name that exists in the dictionary – including the name that he entered himself – the corresponding birthday is found and displayed."
   ]
  },
  {
   "cell_type": "code",
   "execution_count": 5,
   "metadata": {},
   "outputs": [
    {
     "name": "stdout",
     "output_type": "stream",
     "text": [
      "Welcome to the Birthday Look-up Program!\n",
      "Nikola Tesla's birthday has been added successfully!\n",
      "\n",
      "Here are the people whose birthdays are in our records:\n",
      "- Albert Einstein\n",
      "- Marie Curie\n",
      "- Isaac Newton\n",
      "- Galileo Galilei\n",
      "- Ada Lovelace\n",
      "- Nikola Tesla\n",
      "Nikola Tesla's birthday is on 1856/07/10.\n"
     ]
    }
   ],
   "source": [
    "# Step 1: Create a dictionary with birthdays\n",
    "birthdays = {\n",
    "    \"Albert Einstein\": \"1879/03/14\",\n",
    "    \"Marie Curie\": \"1867/11/07\",\n",
    "    \"Isaac Newton\": \"1643/01/04\",\n",
    "    \"Galileo Galilei\": \"1564/02/15\",\n",
    "    \"Ada Lovelace\": \"1815/12/10\"\n",
    "}\n",
    "\n",
    "# Step 2: Print a welcome message\n",
    "print(\"Welcome to the Birthday Look-up Program!\")\n",
    "\n",
    "# Step 3: Allow the user to add a new birthday\n",
    "new_name = input(\"Enter the name of a person you'd like to add to the birthday list: \")\n",
    "new_birthday = input(f\"Enter {new_name}'s birthday (in the format YYYY/MM/DD): \")\n",
    "\n",
    "# Add the new entry to the dictionary\n",
    "birthdays[new_name] = new_birthday\n",
    "print(f\"{new_name}'s birthday has been added successfully!\")\n",
    "\n",
    "# Step 4: Print all names in the dictionary\n",
    "print(\"\\nHere are the people whose birthdays are in our records:\")\n",
    "for name in birthdays.keys():\n",
    "    print(f\"- {name}\")\n",
    "\n",
    "# Step 5: Ask the user for a name to look up\n",
    "lookup_name = input(\"\\nPlease enter the name of the person whose birthday you want to look up: \")\n",
    "\n",
    "# Step 6: Retrieve and display the birthday or show an error message\n",
    "if lookup_name in birthdays:\n",
    "    print(f\"{lookup_name}'s birthday is on {birthdays[lookup_name]}.\")\n",
    "else:\n",
    "    print(f\"Sorry, we don’t have the birthday information for {lookup_name}.\")"
   ]
  },
  {
   "cell_type": "markdown",
   "metadata": {},
   "source": [
    "# Exercise 4: Fruit Shop\n",
    "Instructions\n",
    "```python\n",
    "items = {\n",
    "    \"banana\": 4,\n",
    "    \"apple\": 2,\n",
    "    \"orange\": 1.5,\n",
    "    \"pear\": 3\n",
    "}\n",
    "```\n",
    "1. Using the dictionary above, each key-value pair represents an item and its price - print all the items and their prices in a sentence.\n",
    "2. Using the dictionary below, each value are dictionaries containing both the price and the amount of items in stock -\n",
    "write some code to calculate how much it would cost to buy everything in stock.\n",
    "```python\n",
    "items = {\n",
    "    \"banana\": {\"price\": 4 , \"stock\":10},\n",
    "    \"apple\": {\"price\": 2, \"stock\":5},\n",
    "    \"orange\": {\"price\": 1.5 , \"stock\":24},\n",
    "    \"pear\": {\"price\": 3 , \"stock\":1}\n",
    "}\n",
    "```"
   ]
  },
  {
   "cell_type": "code",
   "execution_count": 6,
   "metadata": {},
   "outputs": [
    {
     "name": "stdout",
     "output_type": "stream",
     "text": [
      "Items and their prices:\n",
      "The price of a banana is 4 units.\n",
      "The price of a apple is 2 units.\n",
      "The price of a orange is 1.5 units.\n",
      "The price of a pear is 3 units.\n"
     ]
    }
   ],
   "source": [
    "# For the first dictionary, we will print each item and its price in a sentence.\n",
    "\n",
    "# Dictionary with items and prices\n",
    "items = {\n",
    "    \"banana\": 4,\n",
    "    \"apple\": 2,\n",
    "    \"orange\": 1.5,\n",
    "    \"pear\": 3\n",
    "}\n",
    "\n",
    "# Print each item and its price\n",
    "print(\"Items and their prices:\")\n",
    "for item, price in items.items():\n",
    "    print(f\"The price of a {item} is {price} units.\")"
   ]
  },
  {
   "cell_type": "code",
   "execution_count": 7,
   "metadata": {},
   "outputs": [
    {
     "name": "stdout",
     "output_type": "stream",
     "text": [
      "\n",
      "Calculating total cost to buy everything in stock:\n",
      "Banana: 10 in stock at 4 each. Total: 40 units.\n",
      "Apple: 5 in stock at 2 each. Total: 10 units.\n",
      "Orange: 24 in stock at 1.5 each. Total: 36.0 units.\n",
      "Pear: 1 in stock at 3 each. Total: 3 units.\n",
      "\n",
      "The total cost to buy everything in stock is: 89.0 units.\n"
     ]
    }
   ],
   "source": [
    "# For the second dictionary, we will calculate the total cost by multiplying the \n",
    "# price of each item by the number of items in stock and summing it up.\n",
    "\n",
    "# Dictionary with items, prices, and stock\n",
    "items = {\n",
    "    \"banana\": {\"price\": 4 , \"stock\": 10},\n",
    "    \"apple\": {\"price\": 2, \"stock\": 5},\n",
    "    \"orange\": {\"price\": 1.5 , \"stock\": 24},\n",
    "    \"pear\": {\"price\": 3 , \"stock\": 1}\n",
    "}\n",
    "\n",
    "# Calculate the total cost of all items in stock\n",
    "total_cost = 0\n",
    "\n",
    "print(\"\\nCalculating total cost to buy everything in stock:\")\n",
    "for item, details in items.items():\n",
    "    item_cost = details[\"price\"] * details[\"stock\"]\n",
    "    total_cost += item_cost\n",
    "    print(f\"{item.capitalize()}: {details['stock']} in stock at {details['price']} each. Total: {item_cost} units.\")\n",
    "\n",
    "print(f\"\\nThe total cost to buy everything in stock is: {total_cost} units.\")"
   ]
  },
  {
   "cell_type": "code",
   "execution_count": null,
   "metadata": {},
   "outputs": [],
   "source": []
  }
 ],
 "metadata": {
  "kernelspec": {
   "display_name": "Devs_Institute",
   "language": "python",
   "name": "python3"
  },
  "language_info": {
   "codemirror_mode": {
    "name": "ipython",
    "version": 3
   },
   "file_extension": ".py",
   "mimetype": "text/x-python",
   "name": "python",
   "nbconvert_exporter": "python",
   "pygments_lexer": "ipython3",
   "version": "3.12.5"
  }
 },
 "nbformat": 4,
 "nbformat_minor": 2
}
