{
 "cells": [
  {
   "cell_type": "markdown",
   "metadata": {},
   "source": [
    "\n",
    "1. Copy the following string into your code: \"Volkswagen, Toyota, Ford Motor, Honda, Chevrolet\".\n",
    "2. Convert it into a list using Python (don’t do it by hand!).\n",
    "3. Print out a message saying how many manufacturers/companies are in the list.\n",
    "4. Print the list of manufacturers in reverse/descending order (Z-A).\n",
    "5. Using loops or list comprehension:\n",
    "    - Find out how many manufacturers’ names have the letter ‘o’ in them.\n",
    "    - Find out how many manufacturers’ names do not have the letter ‘i’ in them.\n",
    "\n",
    "6. Bonus: There are a few duplicates in this list:[\"Honda\",\"Volkswagen\", \"Toyota\", \"Ford Motor\", \"Honda\", \"Chevrolet\", \"Toyota\"]\n",
    "    - Remove these programmatically. (Hint: you can use set to help you).\n",
    "    - Print out the companies without duplicates, in a comma-separated string with no line-breaks (eg. “Acura, Alfa Romeo, Aston Martin, …”), also print out a message saying how many companies are now in the list.\n",
    "\n",
    "7. Bonus: Print out the list of manufacturers in ascending order (A-Z), but reverse the letters of each manufacturer’s name."
   ]
  },
  {
   "cell_type": "code",
   "execution_count": null,
   "metadata": {},
   "outputs": [],
   "source": [
    "# 1 copy the string into the code\n",
    "manufacturers_string = \"Volkswagen, Toyota, Ford Motor, Honda, Chevrolet\""
   ]
  },
  {
   "cell_type": "code",
   "execution_count": 2,
   "metadata": {},
   "outputs": [],
   "source": [
    "# 2 convert it into a list\n",
    "manufacturers_list = manufacturers_string.split(\", \")"
   ]
  },
  {
   "cell_type": "code",
   "execution_count": 3,
   "metadata": {},
   "outputs": [
    {
     "name": "stdout",
     "output_type": "stream",
     "text": [
      "Number of manufacturers: 5\n"
     ]
    }
   ],
   "source": [
    "# 3 print a message with the number of manufacturers\n",
    "print(f\"Number of manufacturers: {len(manufacturers_list)}\")"
   ]
  },
  {
   "cell_type": "code",
   "execution_count": 4,
   "metadata": {},
   "outputs": [
    {
     "name": "stdout",
     "output_type": "stream",
     "text": [
      "['Volkswagen', 'Toyota', 'Honda', 'Ford Motor', 'Chevrolet']\n"
     ]
    }
   ],
   "source": [
    "# 4 print the list of manufacturers in reverse order\n",
    "manufacturers_list_reversed = sorted(manufacturers_list, reverse=True)\n",
    "print(manufacturers_list_reversed)"
   ]
  },
  {
   "cell_type": "code",
   "execution_count": 5,
   "metadata": {},
   "outputs": [
    {
     "name": "stdout",
     "output_type": "stream",
     "text": [
      "Number of manufacturers with the letter 'o': 5\n"
     ]
    }
   ],
   "source": [
    "# 5a count manufacturers with the letter \"o\"\n",
    "count_with_o = sum(1 for manufacturer in manufacturers_list if \"o\" in manufacturer)\n",
    "print(f\"Number of manufacturers with the letter 'o': {count_with_o}\")"
   ]
  },
  {
   "cell_type": "code",
   "execution_count": 6,
   "metadata": {},
   "outputs": [
    {
     "name": "stdout",
     "output_type": "stream",
     "text": [
      "Number of manufacturers without the letter 'i': 5\n"
     ]
    }
   ],
   "source": [
    "# 5b count manufacturers without letter \"i\"\n",
    "count_without_i = sum(1 for manufacturer in manufacturers_list if 'i' not in manufacturer)\n",
    "print(f\"Number of manufacturers without the letter 'i': {count_without_i}\")"
   ]
  },
  {
   "cell_type": "code",
   "execution_count": 7,
   "metadata": {},
   "outputs": [
    {
     "name": "stdout",
     "output_type": "stream",
     "text": [
      "Chevrolet, Ford Motor, Honda, Toyota, Volkswagen\n"
     ]
    }
   ],
   "source": [
    "# 6 remove duplicates and print unique companies as a comma separated string\n",
    "manufacturers_with_duplicates = [\"Honda\", \"Volkswagen\", \"Toyota\", \"Ford Motor\", \"Honda\", \"Chevrolet\", \"Toyota\"]\n",
    "unique_manufacturers = sorted(set(manufacturers_with_duplicates))\n",
    "unique_manufacturers_string = \", \".join(unique_manufacturers)\n",
    "print(unique_manufacturers_string)"
   ]
  },
  {
   "cell_type": "code",
   "execution_count": 8,
   "metadata": {},
   "outputs": [
    {
     "name": "stdout",
     "output_type": "stream",
     "text": [
      "['adnoH', 'atoyoT', 'negawskloV', 'rotoM droF', 'telorvehC']\n"
     ]
    }
   ],
   "source": [
    "# 7 reverse letters of each manufacturer and sort alphabetically\n",
    "reversed_names_sorted = sorted([manufacturer[::-1] for manufacturer in unique_manufacturers])\n",
    "print(reversed_names_sorted)"
   ]
  },
  {
   "cell_type": "code",
   "execution_count": null,
   "metadata": {},
   "outputs": [],
   "source": []
  }
 ],
 "metadata": {
  "kernelspec": {
   "display_name": "Devs_Institute",
   "language": "python",
   "name": "python3"
  },
  "language_info": {
   "codemirror_mode": {
    "name": "ipython",
    "version": 3
   },
   "file_extension": ".py",
   "mimetype": "text/x-python",
   "name": "python",
   "nbconvert_exporter": "python",
   "pygments_lexer": "ipython3",
   "version": "3.12.5"
  }
 },
 "nbformat": 4,
 "nbformat_minor": 2
}
