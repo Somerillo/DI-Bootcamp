{
 "cells": [
  {
   "cell_type": "markdown",
   "metadata": {},
   "source": [
    "# Perfect number\n",
    "\n",
    "A perfect number is a positive integer that is equal to the sum of its divisors.\n",
    "However, the number itself is not included in the sum.\n",
    "\n",
    "- Ask the user for a number and print whether or not it is a perfect number. If yes, print True else False.\n",
    "- Hint: Google perfect numbers\n",
    "\n",
    "Example\n",
    "```python\n",
    "Input -- Enter the number:6\n",
    "Output -- True\n",
    "\n",
    "Input -- Enter the number:10\n",
    "Output --  False\n",
    "```\n",
    "\n",
    "Here is the starter python code:\n",
    "\n",
    "```python\n",
    "x = int(input('Enter the Number:')) \n",
    "\n",
    "#write down your logic here \n",
    "```"
   ]
  },
  {
   "cell_type": "code",
   "execution_count": 2,
   "metadata": {},
   "outputs": [
    {
     "name": "stdout",
     "output_type": "stream",
     "text": [
      "10 is not a perfect number\n"
     ]
    }
   ],
   "source": [
    "# starter code\n",
    "x = int(input(\"Enter a number: \"))\n",
    "\n",
    "# logic to check if the number is a perfect number\n",
    "def is_perfect_number(x):\n",
    "    # find the factors of the number\n",
    "    factors = [i for i in range(1, x) if x % i == 0]\n",
    "    # sum the factors\n",
    "    return sum(factors) == x\n",
    "\n",
    "# print the result\n",
    "if is_perfect_number(x):\n",
    "    print(f\"{x} is a perfect number\")\n",
    "else:\n",
    "    print(f\"{x} is not a perfect number\")"
   ]
  },
  {
   "cell_type": "code",
   "execution_count": null,
   "metadata": {},
   "outputs": [],
   "source": []
  }
 ],
 "metadata": {
  "kernelspec": {
   "display_name": "Devs_Institute",
   "language": "python",
   "name": "python3"
  },
  "language_info": {
   "codemirror_mode": {
    "name": "ipython",
    "version": 3
   },
   "file_extension": ".py",
   "mimetype": "text/x-python",
   "name": "python",
   "nbconvert_exporter": "python",
   "pygments_lexer": "ipython3",
   "version": "3.12.5"
  }
 },
 "nbformat": 4,
 "nbformat_minor": 2
}
