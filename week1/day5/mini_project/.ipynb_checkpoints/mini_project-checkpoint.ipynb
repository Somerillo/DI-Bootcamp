{
 "cells": [
  {
   "cell_type": "code",
   "execution_count": 1,
   "id": "033ac513-8f65-4730-ae20-1ef369458f9b",
   "metadata": {},
   "outputs": [
    {
     "name": "stdout",
     "output_type": "stream",
     "text": [
      "Welcome to tic tac toe (R)\n",
      "\n",
      "\n",
      "   1   2   3\n",
      "1    |   |  \n",
      "  -----------\n",
      "2    |   |  \n",
      "  -----------\n",
      "3    |   |  \n",
      "\n",
      "\n",
      "Player X`s turn\n"
     ]
    },
    {
     "name": "stdin",
     "output_type": "stream",
     "text": [
      "Input column number (1 to 3): 1\n",
      "Input row number (1 to 3): 1\n"
     ]
    },
    {
     "name": "stdout",
     "output_type": "stream",
     "text": [
      "\n",
      "\n",
      "   1   2   3\n",
      "1  X |   |  \n",
      "  -----------\n",
      "2    |   |  \n",
      "  -----------\n",
      "3    |   |  \n",
      "\n",
      "\n",
      "Player O`s turn\n"
     ]
    },
    {
     "name": "stdin",
     "output_type": "stream",
     "text": [
      "Input column number (1 to 3): a\n",
      "Input row number (1 to 3): 2\n"
     ]
    },
    {
     "name": "stdout",
     "output_type": "stream",
     "text": [
      "Only digits, try again\n",
      "Player O`s turn\n"
     ]
    },
    {
     "name": "stdin",
     "output_type": "stream",
     "text": [
      "Input column number (1 to 3): 2\n",
      "Input row number (1 to 3): 2\n"
     ]
    },
    {
     "name": "stdout",
     "output_type": "stream",
     "text": [
      "\n",
      "\n",
      "   1   2   3\n",
      "1  X |   |  \n",
      "  -----------\n",
      "2    | O |  \n",
      "  -----------\n",
      "3    |   |  \n",
      "\n",
      "\n",
      "Player X`s turn\n"
     ]
    },
    {
     "name": "stdin",
     "output_type": "stream",
     "text": [
      "Input column number (1 to 3): 2\n",
      "Input row number (1 to 3): 1\n"
     ]
    },
    {
     "name": "stdout",
     "output_type": "stream",
     "text": [
      "\n",
      "\n",
      "   1   2   3\n",
      "1  X | X |  \n",
      "  -----------\n",
      "2    | O |  \n",
      "  -----------\n",
      "3    |   |  \n",
      "\n",
      "\n",
      "Player O`s turn\n"
     ]
    },
    {
     "name": "stdin",
     "output_type": "stream",
     "text": [
      "Input column number (1 to 3): 3\n",
      "Input row number (1 to 3): 3\n"
     ]
    },
    {
     "name": "stdout",
     "output_type": "stream",
     "text": [
      "\n",
      "\n",
      "   1   2   3\n",
      "1  X | X |  \n",
      "  -----------\n",
      "2    | O |  \n",
      "  -----------\n",
      "3    |   | O\n",
      "\n",
      "\n",
      "Player X`s turn\n"
     ]
    },
    {
     "name": "stdin",
     "output_type": "stream",
     "text": [
      "Input column number (1 to 3): 3\n",
      "Input row number (1 to 3): 1\n"
     ]
    },
    {
     "name": "stdout",
     "output_type": "stream",
     "text": [
      "\n",
      "\n",
      "   1   2   3\n",
      "1  X | X | X\n",
      "  -----------\n",
      "2    | O |  \n",
      "  -----------\n",
      "3    |   | O\n",
      "\n",
      "\n",
      "Player `X` is the winner, now get a life\n"
     ]
    }
   ],
   "source": [
    "print(\"Welcome to tic tac toe (R)\")\n",
    "\n",
    "# define blank board\n",
    "board = [\n",
    "    [\" \", \" \", \" \"],\n",
    "    [\" \", \" \", \" \"],\n",
    "    [\" \", \" \", \" \"],\n",
    "]\n",
    "\n",
    "# define winner combinations\n",
    "win_combination = [\n",
    "    [(0,0), (0,1), (0,2)],\n",
    "    [(1,0), (1,1), (1,2)],\n",
    "    [(2,0), (2,1), (2,2)],\n",
    "    [(0,0), (1,0), (2,0)],\n",
    "    [(0,1), (1,1), (2,1)],\n",
    "    [(0,2), (1,2), (2,2)],\n",
    "    [(0,0), (1,1), (2,2)],\n",
    "    [(0,2), (1,1), (2,0)]\n",
    "]\n",
    "\n",
    "def print_board(board_temp):\n",
    "    \"\"\"\n",
    "    It prints on screen the board`s state\n",
    "    \"\"\"\n",
    "    print(\"\\n\")\n",
    "    # print(board[0][0], \" | \", board[0][1], \" | \", board[0][2])\n",
    "    print(\"   1   2   3\")\n",
    "    print(\"1 \", \" | \".join(col for col in board_temp[0])) # prints first row\n",
    "    print(\"  -----------\")\n",
    "    print(\"2 \", \" | \".join(col for col in board_temp[1])) # prints 2nd row\n",
    "    print(\"  -----------\")\n",
    "    print(\"3 \", \" | \".join(col for col in board_temp[2])) # prints 3rd row\n",
    "    print(\"\\n\")\n",
    "\n",
    "def player_input(board_temp, player):\n",
    "    \"\"\"\n",
    "    It writes on the board cells\n",
    "    \"\"\"\n",
    "    while True:\n",
    "        print(f\"Player {player}`s turn\")\n",
    "        col = input(\"Input column number (1 to 3):\")\n",
    "        row = input(\"Input row number (1 to 3):\")\n",
    "\n",
    "        if not col.isdigit() or not row.isdigit():\n",
    "            print(\"Only digits, try again\")\n",
    "            continue # return to the bucle`s sart point\n",
    "\n",
    "        col = int(col) - 1\n",
    "        row = int(row) - 1\n",
    "\n",
    "        if not (0 <= row <= 2) or not (0 <= col <= 2):\n",
    "            print(\"Cell out of range, try again\")\n",
    "            continue # return to the bucle`s sart point\n",
    "\n",
    "        elif board_temp[row][col] != \" \":\n",
    "            print(\"Cell already used, try again\")\n",
    "            continue # return to the bucle`s sart point\n",
    "            \n",
    "        else:\n",
    "            board_temp[row][col] = player\n",
    "            break\n",
    "\n",
    "    return board_temp\n",
    "\n",
    "def check_board(board_temp):\n",
    "    \"\"\"\n",
    "    It checks the board visual interface and returns two lists for X`s and O`s positions\n",
    "    \"\"\"\n",
    "    list_X = []\n",
    "    list_O = []\n",
    "    \n",
    "    for row in range(3):\n",
    "        for col in range(3):\n",
    "            if board_temp[row][col] == \"X\":\n",
    "                list_X.append((row, col))\n",
    "            elif board_temp[row][col] == \"O\":\n",
    "                list_O.append((row, col))\n",
    "    return list_X, list_O\n",
    "\n",
    "def game_on(board_temp):\n",
    "    \"\"\"\n",
    "    It runs the whole game\n",
    "    \"\"\"\n",
    "    turn = 0\n",
    "    \n",
    "    while True:\n",
    "\n",
    "        # print board actual state\n",
    "        print_board(board_temp)\n",
    "\n",
    "        # check every cell if we have a tie\n",
    "        if all(\" \" not in row for row in board_temp):\n",
    "            print(\"Match tied, get a life\")\n",
    "            break\n",
    "\n",
    "        # check for a winner\n",
    "        positions_X, positions_O = check_board(board_temp)\n",
    "        if positions_X in win_combination:\n",
    "            print(\"Player `X` is the winner, now get a life\")\n",
    "            break\n",
    "        if positions_O in win_combination:\n",
    "            print(\"Player `O` is the winner, now get a life\")\n",
    "            break\n",
    "\n",
    "        # sets which player`s turn is\n",
    "        if turn % 2 == 0:\n",
    "            player = \"X\"\n",
    "        else:\n",
    "            player = \"O\"\n",
    "\n",
    "        # input player`s cell of choice\n",
    "        board_temp = player_input(board_temp, player)\n",
    "        \n",
    "        # update counter\n",
    "        turn += 1\n",
    "\n",
    "game_on(board)"
   ]
  },
  {
   "cell_type": "code",
   "execution_count": null,
   "id": "8be805c0-13c9-41ff-9329-a1047b59d5ea",
   "metadata": {},
   "outputs": [],
   "source": []
  }
 ],
 "metadata": {
  "kernelspec": {
   "display_name": "Python 3 (ipykernel)",
   "language": "python",
   "name": "python3"
  },
  "language_info": {
   "codemirror_mode": {
    "name": "ipython",
    "version": 3
   },
   "file_extension": ".py",
   "mimetype": "text/x-python",
   "name": "python",
   "nbconvert_exporter": "python",
   "pygments_lexer": "ipython3",
   "version": "3.12.5"
  }
 },
 "nbformat": 4,
 "nbformat_minor": 5
}
