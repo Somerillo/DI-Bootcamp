{
 "cells": [
  {
   "cell_type": "code",
   "execution_count": 18,
   "id": "a9264420-da94-4755-a48d-02c2b65831a4",
   "metadata": {},
   "outputs": [
    {
     "name": "stdin",
     "output_type": "stream",
     "text": [
      "input string cccccaaarrrbbonnnnnnnnnnnnnnnnn\n"
     ]
    },
    {
     "name": "stdout",
     "output_type": "stream",
     "text": [
      "carbon\n"
     ]
    }
   ],
   "source": [
    "# # Challenge 1\n",
    "# #     Ask the user for a number and a length.\n",
    "# #     Create a program that prints a list of multiples of the number until the list length reaches length.\n",
    "\n",
    "# number = int(input(\"input integer number\"))\n",
    "# length = int(input(\"input lenght\"))\n",
    "\n",
    "# limit = number * length\n",
    "# list1 = []\n",
    "\n",
    "# for num in range(1, length + 1):\n",
    "#     list1.append(num * number)\n",
    "\n",
    "# print(list1)\n",
    "\n",
    "\n",
    "\n",
    "#------------------------------------------------------------------------------------------------------------------------------\n",
    "# # Challenge 2\n",
    "# #     Write a program that asks a string to the user, and display a new string with any duplicate consecutive letters removed.\n",
    "\n",
    "# string = input(\"input string\")\n",
    "# list1 = list(string)\n",
    "\n",
    "# k = ''\n",
    "# list2=[]\n",
    "# for char in list1:\n",
    "#     if char != k:\n",
    "#         list2.append(char)\n",
    "#         k = char\n",
    "\n",
    "# new_string = \"\".join(list2)\n",
    "# print(new_string)"
   ]
  },
  {
   "cell_type": "code",
   "execution_count": null,
   "id": "b7f6240d-350c-4442-8fdb-88aa6bc67cb5",
   "metadata": {},
   "outputs": [],
   "source": []
  }
 ],
 "metadata": {
  "kernelspec": {
   "display_name": "Python 3 (ipykernel)",
   "language": "python",
   "name": "python3"
  },
  "language_info": {
   "codemirror_mode": {
    "name": "ipython",
    "version": 3
   },
   "file_extension": ".py",
   "mimetype": "text/x-python",
   "name": "python",
   "nbconvert_exporter": "python",
   "pygments_lexer": "ipython3",
   "version": "3.12.5"
  }
 },
 "nbformat": 4,
 "nbformat_minor": 5
}
