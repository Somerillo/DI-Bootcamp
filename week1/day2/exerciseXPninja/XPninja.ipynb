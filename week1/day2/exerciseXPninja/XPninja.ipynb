{
 "cells": [
  {
   "cell_type": "markdown",
   "metadata": {},
   "source": [
    "# Exercise 1: Formula\n",
    "Instructions\n",
    "\n",
    "1. Write a program that calculates and prints a value according to this given formula:\n",
    "\n",
    "`Q = Square root of [(2 * C * D)/H]`\n",
    "\n",
    "2. Following are the fixed values of C and H:\n",
    "    - C is 50.\n",
    "    - H is 30.\n",
    "3. Ask the user for a comma-separated string of numbers, use each number from the user as D in the formula and return all the results\n",
    "\n",
    "For example, if the user inputs: `100,150,180`\n",
    "The output should be:\n",
    "\n",
    "```python\n",
    "18,22,24\n",
    "```"
   ]
  },
  {
   "cell_type": "code",
   "execution_count": 1,
   "metadata": {},
   "outputs": [],
   "source": [
    "import math\n",
    "\n",
    "def calculate_q(d_values):\n",
    "    C = 50\n",
    "    H = 30\n",
    "    results = []\n",
    "    \n",
    "    for D in d_values:\n",
    "        Q = math.sqrt((2 * C * D) / H)\n",
    "        results.append(int(Q))\n",
    "    \n",
    "    return results"
   ]
  },
  {
   "cell_type": "code",
   "execution_count": 2,
   "metadata": {},
   "outputs": [
    {
     "name": "stdout",
     "output_type": "stream",
     "text": [
      "18,22,24\n"
     ]
    }
   ],
   "source": [
    "# get user input\n",
    "d_values = input(\"Enter comma-separated numbers: \").split(\",\")\n",
    "d_values = [int(d) for d in d_values]  # convert input to integers\n",
    "\n",
    "# calculate and print results\n",
    "output = calculate_q(d_values)\n",
    "print(\",\".join(map(str, output)))"
   ]
  },
  {
   "cell_type": "markdown",
   "metadata": {},
   "source": [
    "# Exercise 2 : List of integers\n",
    "Instructions\n",
    "\n",
    "Given a list of 10 integers to analyze. For example:\n",
    "```python\n",
    "    [3, 47, 99, -80, 22, 97, 54, -23, 5, 7] \n",
    "    [44, 91, 8, 24, -6, 0, 56, 8, 100, 2] \n",
    "    [3, 21, 76, 53, 9, -82, -3, 49, 1, 76] \n",
    "    [18, 19, 2, 56, 33, 17, 41, -63, -82, 1]\n",
    "```\n",
    "1. Store the list of numbers in a variable.\n",
    "2. Print the following information:\n",
    "    - The list of numbers – printed in a single line\n",
    "    - The list of numbers – sorted in descending order (largest to smallest)\n",
    "    - The sum of all the numbers\n",
    "    - A list containing the first and the last numbers.\n",
    "    - A list of all the numbers greater than 50.\n",
    "    - A list of all the numbers smaller than 10.\n",
    "    - A list of all the numbers squared – eg. for [1, 2, 3] you would print “1 4 9”.\n",
    "    - The numbers without any duplicates – also print how many numbers are in the new list.\n",
    "    - The average of all the numbers.\n",
    "    - The largest number.\n",
    "    - The smallest number.\n",
    "3. Bonus: Find the sum, average, largest and smallest number without using built in functions.\n",
    "4. Bonus: Instead of using pre-defined lists of numbers, ask the user for 10 numbers between -100 and 100. Ask the user for an integer between -100 and 100 – repeat this question 10 times. Each number should be added into a variable that you created earlier.\n",
    "5. Bonus: Instead of asking the user for 10 integers, generate 10 random integers yourself. Make sure that these random integers are between -100 and 100.\n",
    "6. Bonus: Instead of always generating 10 integers, let the amount of integers also be random! Generate a random positive integer no smaller than 50.\n",
    "7. Bonus: Will the code work when the number of random numbers is not equal to 10?\n"
   ]
  },
  {
   "cell_type": "code",
   "execution_count": 3,
   "metadata": {},
   "outputs": [],
   "source": [
    "# list of integers\n",
    "numbers = [3, 47, 99, -80, 22, 97, 54, -23, 5, 7]"
   ]
  },
  {
   "cell_type": "code",
   "execution_count": 4,
   "metadata": {},
   "outputs": [
    {
     "name": "stdout",
     "output_type": "stream",
     "text": [
      "Original list: [3, 47, 99, -80, 22, 97, 54, -23, 5, 7]\n",
      "Sorted (descending): [99, 97, 54, 47, 22, 7, 5, 3, -23, -80]\n",
      "Sum of all numbers: 231\n",
      "First and last numbers: [3, 7]\n",
      "Numbers greater than 50: [99, 97, 54]\n",
      "Numbers smaller than 10: [3, -80, -23, 5, 7]\n",
      "Squared numbers: [9, 2209, 9801, 6400, 484, 9409, 2916, 529, 25, 49]\n",
      "Unique numbers: [97, 99, 3, 5, 7, -23, 47, -80, 22, 54]\n",
      "Count of unique numbers: 10\n",
      "Average of all numbers: 23.1\n",
      "Largest number: 99\n",
      "Smallest number: -80\n"
     ]
    }
   ],
   "source": [
    "# print the list of numbers in a single line\n",
    "print(\"Original list:\", numbers)\n",
    "\n",
    "# sort the list in descending order\n",
    "sorted_desc = sorted(numbers, reverse=True)\n",
    "print(\"Sorted (descending):\", sorted_desc)\n",
    "\n",
    "# sum of all numbers\n",
    "total_sum = sum(numbers)\n",
    "print(\"Sum of all numbers:\", total_sum)\n",
    "\n",
    "# first and last numbers\n",
    "first_last = [numbers[0], numbers[-1]]\n",
    "print(\"First and last numbers:\", first_last)\n",
    "\n",
    "# numbers greater than 50\n",
    "greater_than_50 = [num for num in numbers if num > 50]\n",
    "print(\"Numbers greater than 50:\", greater_than_50)\n",
    "\n",
    "# numbers smaller than 10\n",
    "smaller_than_10 = [num for num in numbers if num < 10]\n",
    "print(\"Numbers smaller than 10:\", smaller_than_10)\n",
    "\n",
    "# squared numbers\n",
    "squared_numbers = [num ** 2 for num in numbers]\n",
    "print(\"Squared numbers:\", squared_numbers)\n",
    "\n",
    "# unique numbers and their count\n",
    "unique_numbers = list(set(numbers))\n",
    "print(\"Unique numbers:\", unique_numbers)\n",
    "print(\"Count of unique numbers:\", len(unique_numbers))\n",
    "\n",
    "# average of all numbers\n",
    "average = total_sum / len(numbers)\n",
    "print(\"Average of all numbers:\", average)\n",
    "\n",
    "# largest and smallest number\n",
    "largest_number = max(numbers)\n",
    "smallest_number = min(numbers)\n",
    "print(\"Largest number:\", largest_number)\n",
    "print(\"Smallest number:\", smallest_number)"
   ]
  },
  {
   "cell_type": "code",
   "execution_count": 6,
   "metadata": {},
   "outputs": [
    {
     "name": "stdout",
     "output_type": "stream",
     "text": [
      "\n",
      "Manual calculations:\n",
      "Sum (manual): 231\n",
      "Average (manual): 23.1\n",
      "Largest number (manual): 99\n",
      "Smallest number (manual): -80\n"
     ]
    }
   ],
   "source": [
    "# 3. Bonus: Find the sum, average, largest and smallest number without using built in functions.\n",
    "\n",
    "# calculate sum manually\n",
    "manual_sum = 0\n",
    "for num in numbers:\n",
    "    manual_sum += num\n",
    "\n",
    "# calculate average manually\n",
    "manual_average = manual_sum / len(numbers)\n",
    "\n",
    "# find largest number manually\n",
    "manual_largest = numbers[0]\n",
    "for num in numbers:\n",
    "    if num > manual_largest:\n",
    "        manual_largest = num\n",
    "\n",
    "# find smallest number manually\n",
    "manual_smallest = numbers[0]\n",
    "for num in numbers:\n",
    "    if num < manual_smallest:\n",
    "        manual_smallest = num\n",
    "\n",
    "print(\"\\nManual calculations:\")\n",
    "print(\"Sum (manual):\", manual_sum)\n",
    "print(\"Average (manual):\", manual_average)\n",
    "print(\"Largest number (manual):\", manual_largest)\n",
    "print(\"Smallest number (manual):\", manual_smallest)"
   ]
  },
  {
   "cell_type": "code",
   "execution_count": 7,
   "metadata": {},
   "outputs": [
    {
     "name": "stdout",
     "output_type": "stream",
     "text": [
      "\n",
      "User-provided list: [5, 6, 9, 8, 6, 20, 30, 51, 41, 58]\n"
     ]
    }
   ],
   "source": [
    "# 4. Bonus: Instead of using pre-defined lists of numbers, ask the user for 10 numbers between -100 and 100. Ask the user for an integer between -100 and 100 – repeat this question 10 times. Each number should be added into a variable that you created earlier.\n",
    "\n",
    "user_numbers = []\n",
    "for i in range(10):\n",
    "    while True:\n",
    "        try:\n",
    "            user_input = int(input(f\"Enter integer {i+1} between -100 and 100: \"))\n",
    "            if -100 <= user_input <= 100:\n",
    "                user_numbers.append(user_input)\n",
    "                break\n",
    "            else:\n",
    "                print(\"Please enter a number between -100 and 100.\")\n",
    "        except ValueError:\n",
    "            print(\"Invalid input. Please enter an integer.\")\n",
    "\n",
    "print(\"\\nUser-provided list:\", user_numbers)"
   ]
  },
  {
   "cell_type": "code",
   "execution_count": 8,
   "metadata": {},
   "outputs": [
    {
     "name": "stdout",
     "output_type": "stream",
     "text": [
      "\n",
      "Randomly generated list: [26, -62, -46, 56, 4, 68, -5, 2, 59, -53]\n"
     ]
    }
   ],
   "source": [
    "# 5. Bonus: Instead of asking the user for 10 integers, generate 10 random integers yourself. Make sure that these random integers are between -100 and 100.\n",
    "\n",
    "import random\n",
    "\n",
    "random_numbers = [random.randint(-100, 100) for _ in range(10)]\n",
    "print(\"\\nRandomly generated list:\", random_numbers)"
   ]
  },
  {
   "cell_type": "code",
   "execution_count": 9,
   "metadata": {},
   "outputs": [
    {
     "name": "stdout",
     "output_type": "stream",
     "text": [
      "\n",
      "Randomly generated list with 79 integers: [3, 57, 4, -65, -23, -69, 87, -34, 10, -89, -75, 29, 7, -58, 50, -5, 95, 9, 65, 61, -44, -10, -99, -88, 73, -93, -63, -99, -1, -28, 80, -67, -20, -26, -38, -6, 95, -56, 18, 35, -63, -42, -18, -5, 62, -6, -31, -92, -24, 75, 100, 37, 47, 5, 83, -17, -50, -53, 99, 7, 92, 48, 63, -81, -56, -9, -87, 36, 22, -81, -66, -7, -14, -45, 14, -95, -89, 58, 15]\n"
     ]
    }
   ],
   "source": [
    "# 6. Bonus: Instead of always generating 10 integers, let the amount of integers also be random! Generate a random positive integer no smaller than 50.\n",
    "\n",
    "import random\n",
    "\n",
    "random_count = random.randint(50, 100) # random count between 50 and 100\n",
    "random_numbers_variable_length = [random.randint(-100, 100) for _ in range(random_count)]\n",
    "print(f\"\\nRandomly generated list with {random_count} integers:\", random_numbers_variable_length)"
   ]
  },
  {
   "cell_type": "code",
   "execution_count": null,
   "metadata": {},
   "outputs": [
    {
     "name": "stdout",
     "output_type": "stream",
     "text": [
      "\n",
      "Original list: [80, 77, 7, -81, -65, -78, -7, -25, -8, 42, -38, -98, 79, -89, 41, 51, -73, -35, -66, 9, 86, 57, 36, -6, 89, -87, 10, -47, 16, -54, 87, -20, 84, -94, -63, 63, 33, -19, -61, -69, -24, -48, -73, 98, -1, -91, 1, 45, -44, -77, 42, -23, -88, -14, 100, 57, -25, 14, 0, 45, 32, 23, -27, 31, -66, 74, -10, 77, 71, -94, 38, -60, -32]\n",
      "Sorted (descending): [100, 98, 89, 87, 86, 84, 80, 79, 77, 77, 74, 71, 63, 57, 57, 51, 45, 45, 42, 42, 41, 38, 36, 33, 32, 31, 23, 16, 14, 10, 9, 7, 1, 0, -1, -6, -7, -8, -10, -14, -19, -20, -23, -24, -25, -25, -27, -32, -35, -38, -44, -47, -48, -54, -60, -61, -63, -65, -66, -66, -69, -73, -73, -77, -78, -81, -87, -88, -89, -91, -94, -94, -98]\n",
      "Sum of all numbers: -285\n",
      "First and last numbers: [80, -32]\n",
      "Numbers greater than 50: [80, 77, 79, 51, 86, 57, 89, 87, 84, 63, 98, 100, 57, 74, 77, 71]\n",
      "Numbers smaller than 10: [7, -81, -65, -78, -7, -25, -8, -38, -98, -89, -73, -35, -66, 9, -6, -87, -47, -54, -20, -94, -63, -19, -61, -69, -24, -48, -73, -1, -91, 1, -44, -77, -23, -88, -14, -25, 0, -27, -66, -10, -94, -60, -32]\n",
      "Squared numbers: [6400, 5929, 49, 6561, 4225, 6084, 49, 625, 64, 1764, 1444, 9604, 6241, 7921, 1681, 2601, 5329, 1225, 4356, 81, 7396, 3249, 1296, 36, 7921, 7569, 100, 2209, 256, 2916, 7569, 400, 7056, 8836, 3969, 3969, 1089, 361, 3721, 4761, 576, 2304, 5329, 9604, 1, 8281, 1, 2025, 1936, 5929, 1764, 529, 7744, 196, 10000, 3249, 625, 196, 0, 2025, 1024, 529, 729, 961, 4356, 5476, 100, 5929, 5041, 8836, 1444, 3600, 1024]\n",
      "Unique numbers: [0, 1, 7, 9, 10, 14, 16, 23, -98, 31, 32, 33, -94, 36, -91, 38, -89, -88, 41, 42, -87, 45, -81, -78, 51, -77, -73, 57, -69, -66, -65, 63, -63, -61, -60, 71, -54, 74, 77, 79, 80, -47, -48, 84, -44, 86, 87, 89, -38, -35, -32, 98, 100, -27, -25, -24, -23, -20, -19, -14, -10, -8, -7, -6, -1]\n",
      "Count of unique numbers: 65\n",
      "Average of all numbers: -3.904109589041096\n",
      "Largest number: 100\n",
      "Smallest number: -98\n"
     ]
    }
   ],
   "source": [
    "# 7. Bonus: Will the code work when the number of random numbers is not equal to 10?\n",
    "import random\n",
    "\n",
    "def analyze_list(numbers):\n",
    "    print(\"\\nOriginal list:\", numbers)\n",
    "    print(\"Sorted (descending):\", sorted(numbers, reverse=True))\n",
    "    print(\"Sum of all numbers:\", sum(numbers))\n",
    "    print(\"First and last numbers:\", [numbers[0], numbers[-1]])\n",
    "    print(\"Numbers greater than 50:\", [num for num in numbers if num > 50])\n",
    "    print(\"Numbers smaller than 10:\", [num for num in numbers if num < 10])\n",
    "    print(\"Squared numbers:\", [num ** 2 for num in numbers])\n",
    "    unique_numbers = list(set(numbers))\n",
    "    print(\"Unique numbers:\", unique_numbers)\n",
    "    print(\"Count of unique numbers:\", len(unique_numbers))\n",
    "    print(\"Average of all numbers:\", sum(numbers) / len(numbers))\n",
    "    print(\"Largest number:\", max(numbers))\n",
    "    print(\"Smallest number:\", min(numbers))\n",
    "\n",
    "def manual_calculations(numbers):\n",
    "    manual_sum = sum(numbers) \n",
    "    manual_avg = manual_sum / len(numbers)\n",
    "    manual_max = max(numbers) \n",
    "    manual_min = min(numbers) \n",
    "    \n",
    "    print(\"\\nManual calculations:\")\n",
    "    print(f\"Sum: {manual_sum}, Average: {manual_avg}, Max: {manual_max}, Min: {manual_min}\")\n",
    "\n",
    "def generate_random_list():\n",
    "    count = random.randint(50, 100) # random count >=50.\n",
    "    return [random.randint(-100, 100) for _ in range(count)]\n",
    "\n",
    "random_numbers = generate_random_list()\n",
    "analyze_list(random_numbers)"
   ]
  },
  {
   "cell_type": "code",
   "execution_count": null,
   "metadata": {},
   "outputs": [],
   "source": []
  }
 ],
 "metadata": {
  "kernelspec": {
   "display_name": "Devs_Institute",
   "language": "python",
   "name": "python3"
  },
  "language_info": {
   "codemirror_mode": {
    "name": "ipython",
    "version": 3
   },
   "file_extension": ".py",
   "mimetype": "text/x-python",
   "name": "python",
   "nbconvert_exporter": "python",
   "pygments_lexer": "ipython3",
   "version": "3.12.5"
  }
 },
 "nbformat": 4,
 "nbformat_minor": 2
}
