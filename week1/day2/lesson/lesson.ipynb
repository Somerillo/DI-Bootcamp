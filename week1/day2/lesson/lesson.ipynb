{
 "cells": [
  {
   "cell_type": "code",
   "execution_count": 11,
   "id": "4a9973ae-31ee-416e-8c5f-10790987120e",
   "metadata": {},
   "outputs": [
    {
     "name": "stdout",
     "output_type": "stream",
     "text": [
      "[5, 10, 15, 200, 25, 50, 20]\n"
     ]
    }
   ],
   "source": [
    "list1 = [5, 10, 15, 20, 25, 50, 20]\n",
    "\n",
    "if 20 in list1:\n",
    "    element = list1.index(20)\n",
    "    list1[element] = 200\n",
    "print(list1)"
   ]
  },
  {
   "cell_type": "code",
   "execution_count": 17,
   "id": "10b3f409-e5f6-4d06-bf2f-b4ba3115373a",
   "metadata": {},
   "outputs": [
    {
     "name": "stdout",
     "output_type": "stream",
     "text": [
      "x: 10, y: 20, z: 30\n",
      "x: 10, y: 20\n",
      "a: 1, b: 2, medio: [3, 4, 5, 6, 7, 8], j: 9, k: 10\n",
      "a: 1, b: 2, medio: [5, 6, 7, 8], j: 9, k: 10\n"
     ]
    },
    {
     "data": {
      "text/plain": [
       "'\\nResumen:\\nEl guion bajo (_) es una convención para indicar que se están ignorando ciertos valores al desempaquetar.\\nPara tuplas extensas, puedes usar el asterisco (*) para capturar múltiples elementos en una lista y el guion bajo para ignorar elementos específicos.\\nEste enfoque mejora la legibilidad del código, ya que indica explícitamente que ciertos valores no se utilizarán en el futuro.\\n'"
      ]
     },
     "execution_count": 17,
     "metadata": {},
     "output_type": "execute_result"
    }
   ],
   "source": [
    "# tupples unpacking\n",
    "# Definimos una tupla\n",
    "coordenadas = (10, 20, 30)\n",
    "\n",
    "# Desempaquetamos la tupla en tres variables\n",
    "x, y, z = coordenadas\n",
    "\n",
    "print(f\"x: {x}, y: {y}, z: {z}\")\n",
    "\n",
    "\n",
    "# Ignoramos el tercer elemento\n",
    "x, y, _ = coordenadas\n",
    "\n",
    "print(f\"x: {x}, y: {y}\")\n",
    "\n",
    "\n",
    "# tambien pueden estar anidadas, etc pero no lo voy a ver (por ahora)\n",
    "\n",
    "\n",
    "datos = (1, 2, 3, 4, 5, 6, 7, 8, 9, 10)\n",
    "\n",
    "# Queremos obtener el primer, segundo, y los elementos del medio, pero ignorar el resto\n",
    "a, b, *medio, j, k = datos\n",
    "\n",
    "print(f\"a: {a}, b: {b}, medio: {medio}, j: {j}, k: {k}\")\n",
    "\n",
    "\n",
    "# Ignoramos algunos elementos del medio\n",
    "a, b, _, _, *medio, j, k = datos\n",
    "\n",
    "print(f\"a: {a}, b: {b}, medio: {medio}, j: {j}, k: {k}\")\n",
    "\n",
    "\n",
    "'''\n",
    "Resumen:\n",
    "El guion bajo (_) es una convención para indicar que se están ignorando ciertos valores al desempaquetar.\n",
    "Para tuplas extensas, puedes usar el asterisco (*) para capturar múltiples elementos en una lista y el guion bajo para ignorar elementos específicos.\n",
    "Este enfoque mejora la legibilidad del código, ya que indica explícitamente que ciertos valores no se utilizarán en el futuro.\n",
    "'''"
   ]
  },
  {
   "cell_type": "code",
   "execution_count": null,
   "id": "c85e3a2d-d498-4e81-885b-21dd22a8774b",
   "metadata": {},
   "outputs": [],
   "source": []
  }
 ],
 "metadata": {
  "kernelspec": {
   "display_name": "Python 3 (ipykernel)",
   "language": "python",
   "name": "python3"
  },
  "language_info": {
   "codemirror_mode": {
    "name": "ipython",
    "version": 3
   },
   "file_extension": ".py",
   "mimetype": "text/x-python",
   "name": "python",
   "nbconvert_exporter": "python",
   "pygments_lexer": "ipython3",
   "version": "3.12.5"
  }
 },
 "nbformat": 4,
 "nbformat_minor": 5
}
