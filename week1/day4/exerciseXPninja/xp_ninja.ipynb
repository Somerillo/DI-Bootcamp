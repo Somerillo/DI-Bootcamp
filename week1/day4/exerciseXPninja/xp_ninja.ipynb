{
 "cells": [
  {
   "cell_type": "markdown",
   "metadata": {},
   "source": [
    "# Exercise 1 : What’s your name ?\n",
    "Instructions\n",
    "\n",
    "1. Write a function called get_full_name() that takes three arguments: 1: first_name, 2: middle_name 3: last_name.\n",
    "2. middle_name should be optional, if it’s omitted by the user, the name returned should only contain the first and the last name.\n",
    "\n",
    "For example, get_full_name(first_name=\"john\", middle_name=\"hooker\", last_name=\"lee\") will return John Hooker Lee.\n",
    "But get_full_name(first_name=\"bruce\", last_name=\"lee\") will return Bruce Lee."
   ]
  },
  {
   "cell_type": "code",
   "execution_count": 1,
   "metadata": {},
   "outputs": [],
   "source": [
    "def get_full_name(first_name, last_name, middle_name=\"\"):\n",
    "    \"\"\"\n",
    "    returns the full name of a person, including the middle name if provided\n",
    "\n",
    "    :param first_name: the first name of the person\n",
    "    :param last_name: the last name of the person\n",
    "    :param middle_name: the middle name of the person\n",
    "    :return: the full name of the person\n",
    "    \"\"\"\n",
    "    if middle_name: # check if middle name is provided\n",
    "        return f\"{first_name.capitalize()} {middle_name.capitalize()} {last_name.capitalize()}\"\n",
    "    else:\n",
    "        return f\"{first_name.capitalize()} {last_name.capitalize()}\""
   ]
  },
  {
   "cell_type": "code",
   "execution_count": 2,
   "metadata": {},
   "outputs": [
    {
     "name": "stdout",
     "output_type": "stream",
     "text": [
      "Ben Dover\n",
      "Ben James Dover\n"
     ]
    }
   ],
   "source": [
    "# test the function\n",
    "print(get_full_name(\"ben\", \"dover\")) # Ben Dover\n",
    "print(get_full_name(\"ben\", \"dover\", \"james\")) # Ben James Dover"
   ]
  },
  {
   "cell_type": "markdown",
   "metadata": {},
   "source": [
    "# Exercise 2 : From English to Morse\n",
    "Instructions\n",
    "\n",
    "Write a function that converts English text to morse code and another one that does the opposite.\n",
    "Hint: Check the internet for a translation table, every letter is separated with a space and every word is separated with a slash /."
   ]
  },
  {
   "cell_type": "code",
   "execution_count": 4,
   "metadata": {},
   "outputs": [],
   "source": [
    "# morse code dictionary\n",
    "MORSE_CODE_DICT = {\n",
    "    'A': '.-', 'B': '-...', 'C': '-.-.', 'D': '-..', 'E': '.', 'F': '..-.',\n",
    "    'G': '--.', 'H': '....', 'I': '..', 'J': '.---', 'K': '-.-', 'L': '.-..',\n",
    "    'M': '--', 'N': '-.', 'O': '---', 'P': '.--.', 'Q': '--.-', 'R': '.-.',\n",
    "    'S': '...', 'T': '-', 'U': '..-', 'V': '...-', 'W': '.--', 'X': '-..-',\n",
    "    'Y': '-.--', 'Z': '--..', \n",
    "    '1': '.----', '2': '..---', '3': '...--', '4': '....-', \n",
    "    '5': '.....', '6': '-....', '7': '--...', \n",
    "    '8': '---..', '9': '----.', '0': '-----',\n",
    "    ', ': '--..--', '.': '.-.-.-', '?': '..--..', \"'\": '.----.',\n",
    "    '!': '-.-.--', '/': '-..-.', '&': '.-...', ':': '---...', \n",
    "    ';': '-.-.-.', '=': '-...-', '+': '.-.-.', '-': '-....-', \n",
    "    '_': '..--.-', '\"': '.-..-.', '@': '.--.-.', '(':'-.--.', ')':'-.--.-'\n",
    "}\n",
    "\n",
    "# reverse dictionary for decoding morse code\n",
    "MORSE_CODE_DICT_REVERSED = {v: k for k, v in MORSE_CODE_DICT.items()}"
   ]
  },
  {
   "cell_type": "code",
   "execution_count": 5,
   "metadata": {},
   "outputs": [],
   "source": [
    "# function to encode a string to morse code\n",
    "def english_to_morse(text):\n",
    "    \"\"\"\n",
    "    convert english text to morse code\n",
    "    \n",
    "    parameters:\n",
    "        text (str): the english text to be converted\n",
    "    \n",
    "    returns:\n",
    "        str: the corresponding morse code\n",
    "    \"\"\"\n",
    "    morse_code = []\n",
    "    for char in text.upper():\n",
    "        if char == \" \":\n",
    "            morse_code.append(\"/\") # use / to separate words\n",
    "        elif char in MORSE_CODE_DICT:\n",
    "            morse_code.append(MORSE_CODE_DICT[char])\n",
    "        else:\n",
    "            morse_code.append(\"#\") # use # for unknown characters\n",
    "    return \" \".join(morse_code)\n",
    "\n",
    "\n",
    "# function to decode morse code to english\n",
    "def morse_to_english(morse_code):\n",
    "    \"\"\"\n",
    "    convert morse code to english text\n",
    "    \n",
    "    parameters:\n",
    "        morse_code (str): the morse code to be converted\n",
    "    \n",
    "    returns:\n",
    "        str: the corresponding english text\n",
    "    \"\"\"\n",
    "    words = morse_code.split(\"/\") # split words by /\n",
    "    decoded_text = []\n",
    "\n",
    "    for word in words:\n",
    "        letters = word.split() # split letters by space\n",
    "        decoded_word = \"\".join(MORSE_CODE_DICT_REVERSED.get(letter, \"#\") for letter in letters)\n",
    "        decoded_text.append(decoded_word)\n",
    "    return \" \".join(decoded_text)"
   ]
  },
  {
   "cell_type": "code",
   "execution_count": 7,
   "metadata": {},
   "outputs": [
    {
     "name": "stdout",
     "output_type": "stream",
     "text": [
      "Text: Hello, World!\n",
      "Morse Code: .... . .-.. .-.. --- # / .-- --- .-. .-.. -.. -.-.--\n",
      "Decoded Text: HELLO# WORLD!\n"
     ]
    }
   ],
   "source": [
    "# test the functions\n",
    "text = \"Hello, World!\"\n",
    "morse_code = english_to_morse(text)\n",
    "print(f\"Text: {text}\")\n",
    "print(f\"Morse Code: {morse_code}\")\n",
    "print(f\"Decoded Text: {morse_to_english(morse_code)}\")"
   ]
  },
  {
   "cell_type": "markdown",
   "metadata": {},
   "source": [
    "# Exercise 3 : Box of stars\n",
    "Instructions\n",
    "\n",
    "Write a function named box_printer that takes any amount of strings (not in a list) and prints them, one per line, in a rectangular frame.\n",
    "For example calling box_printer(\"Hello\", \"World\", \"in\", \"reallylongword\", \"a\", \"frame\") will result as:\n",
    "\n",
    "```python\n",
    "******************\n",
    "* Hello          *\n",
    "* World          *\n",
    "* in             *\n",
    "* reallylongword *\n",
    "* a              *\n",
    "* frame          *\n",
    "******************\n",
    "```"
   ]
  },
  {
   "cell_type": "code",
   "execution_count": 10,
   "metadata": {},
   "outputs": [],
   "source": [
    "def box_printer(*strings):\n",
    "    \"\"\"\n",
    "    prints the given string in a rectangular box of stars\n",
    "\n",
    "    parameters:\n",
    "        *strings (str): the strings to be printed in boxes\n",
    "    \"\"\"\n",
    "    # find the length of the longest string\n",
    "    max_length = max(len(string) for string in strings)\n",
    "\n",
    "    # print the top border\n",
    "    print(\"*\" * (max_length + 4))\n",
    "\n",
    "    # print the strings in boxes\n",
    "    for string in strings:\n",
    "        print(f\"* {string.ljust(max_length)} *\")\n",
    "\n",
    "    # print the bottom border\n",
    "    print(\"*\" * (max_length + 4))"
   ]
  },
  {
   "cell_type": "code",
   "execution_count": 11,
   "metadata": {},
   "outputs": [
    {
     "name": "stdout",
     "output_type": "stream",
     "text": [
      "***************\n",
      "* Hello       *\n",
      "* World       *\n",
      "* Python      *\n",
      "* Programming *\n",
      "***************\n"
     ]
    }
   ],
   "source": [
    "# example usage\n",
    "box_printer(\"Hello\", \"World\", \"Python\", \"Programming\")"
   ]
  },
  {
   "cell_type": "markdown",
   "metadata": {},
   "source": [
    "# Exercise 4 : What is the purpose of this code?\n",
    "\n",
    "Analyse this code before executing it. What is the purpose of this code?\n",
    "\n",
    "```python\n",
    "def insertion_sort(alist):\n",
    "   for index in range(1,len(alist)):\n",
    "\n",
    "     currentvalue = alist[index]\n",
    "     position = index\n",
    "\n",
    "     while position>0 and alist[position-1]>currentvalue:\n",
    "         alist[position]=alist[position-1]\n",
    "         position = position-1\n",
    "\n",
    "     alist[position]=currentvalue\n",
    "\n",
    "alist = [54,26,93,17,77,31,44,55,20]\n",
    "insertion_sort(alist)\n",
    "print(alist)\n",
    "```"
   ]
  },
  {
   "cell_type": "code",
   "execution_count": 12,
   "metadata": {},
   "outputs": [
    {
     "name": "stdout",
     "output_type": "stream",
     "text": [
      "[17, 20, 26, 31, 44, 54, 55, 77, 93]\n"
     ]
    }
   ],
   "source": [
    "def insertion_sort(alist):\n",
    "   for index in range(1,len(alist)):\n",
    "\n",
    "     currentvalue = alist[index]\n",
    "     position = index\n",
    "\n",
    "     while position>0 and alist[position-1]>currentvalue:\n",
    "         alist[position]=alist[position-1]\n",
    "         position = position-1\n",
    "\n",
    "     alist[position]=currentvalue\n",
    "\n",
    "alist = [54,26,93,17,77,31,44,55,20]\n",
    "insertion_sort(alist)\n",
    "print(alist)"
   ]
  },
  {
   "cell_type": "markdown",
   "metadata": {},
   "source": [
    "The purpose of this code is to implement the Insertion Sort algorithm to sort a list of numbers in ascending order"
   ]
  },
  {
   "cell_type": "markdown",
   "metadata": {},
   "source": []
  }
 ],
 "metadata": {
  "kernelspec": {
   "display_name": "Devs_Institute",
   "language": "python",
   "name": "python3"
  },
  "language_info": {
   "codemirror_mode": {
    "name": "ipython",
    "version": 3
   },
   "file_extension": ".py",
   "mimetype": "text/x-python",
   "name": "python",
   "nbconvert_exporter": "python",
   "pygments_lexer": "ipython3",
   "version": "3.12.5"
  }
 },
 "nbformat": 4,
 "nbformat_minor": 2
}
