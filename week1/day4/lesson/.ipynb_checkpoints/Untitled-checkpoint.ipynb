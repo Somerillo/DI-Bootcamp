{
 "cells": [
  {
   "cell_type": "code",
   "execution_count": 1,
   "id": "e6823d3c-32fc-4392-8c50-f7bbf0f76f48",
   "metadata": {},
   "outputs": [
    {
     "name": "stdout",
     "output_type": "stream",
     "text": [
      "64\n",
      "{1: 1, 2: 8, 3: 27, 5: 125}\n",
      "(5, 125)\n",
      "{1: 1, 2: 8, 3: 27}\n",
      "{}\n"
     ]
    }
   ],
   "source": [
    "cubes = {1: 1, 2: 8, 3: 27, 4: 64, 5: 125}\n",
    "print(cubes.pop(4))\n",
    "print(cubes)\n",
    "print(cubes.popitem())\n",
    "print(cubes)\n",
    "cubes.clear()\n",
    "print(cubes)"
   ]
  },
  {
   "cell_type": "code",
   "execution_count": 2,
   "id": "9c76e009-1cb7-4611-b88e-cd686f57aafa",
   "metadata": {},
   "outputs": [
    {
     "name": "stdout",
     "output_type": "stream",
     "text": [
      "the key values are:\n",
      "[1, 2, 3, 4, 5]\n",
      "The values are of dictionary is\n",
      "['10', '20', '30', '40', '50']\n",
      "the list items are\n",
      "[(1, '10'), (2, '20'), (3, '30'), (4, '40'), (5, '50')]\n"
     ]
    }
   ],
   "source": [
    "d = {1:'10', 2:'20', 3:'30', 4:'40', 5:'50'}\n",
    "l1 =list(d.keys())\n",
    "print(\"the key values are:\")\n",
    "print(l1)\n",
    "l2 = list(d.values())\n",
    "print(\"The values are of dictionary is\")\n",
    "print(l2)\n",
    "l3 = list(d.items())\n",
    "print(\"the list items are\")\n",
    "print(l3)"
   ]
  },
  {
   "cell_type": "code",
   "execution_count": 6,
   "id": "ec9f1a45-0158-44a1-945e-492e1933b246",
   "metadata": {},
   "outputs": [
    {
     "name": "stdout",
     "output_type": "stream",
     "text": [
      "[20, 50, 34, 18, 60, -10]\n"
     ]
    }
   ],
   "source": [
    "myList = [10, 25, 17, 9, 30, -5]\n",
    "# Double the value of each element\n",
    "myList2 = list(map(lambda n : n*2, myList))\n",
    "print (myList2)"
   ]
  },
  {
   "cell_type": "code",
   "execution_count": 7,
   "id": "3a277734-88f5-4549-a5a8-cac9fc70dd04",
   "metadata": {},
   "outputs": [
    {
     "name": "stdout",
     "output_type": "stream",
     "text": [
      "[10, 25, 30, -5]\n"
     ]
    }
   ],
   "source": [
    "myList = [10, 25, 17, 9, 30, -5]\n",
    "# Filters the elements which are not multiples of 5\n",
    "myList2 = list(filter(lambda n : n%5 == 0, myList))\n",
    "print (myList2)"
   ]
  },
  {
   "cell_type": "code",
   "execution_count": null,
   "id": "06106291-e067-4210-a6a9-d6264bae5369",
   "metadata": {},
   "outputs": [],
   "source": []
  }
 ],
 "metadata": {
  "kernelspec": {
   "display_name": "Python 3 (ipykernel)",
   "language": "python",
   "name": "python3"
  },
  "language_info": {
   "codemirror_mode": {
    "name": "ipython",
    "version": 3
   },
   "file_extension": ".py",
   "mimetype": "text/x-python",
   "name": "python",
   "nbconvert_exporter": "python",
   "pygments_lexer": "ipython3",
   "version": "3.12.5"
  }
 },
 "nbformat": 4,
 "nbformat_minor": 5
}
