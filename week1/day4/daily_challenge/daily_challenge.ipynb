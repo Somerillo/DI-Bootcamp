{
 "cells": [
  {
   "cell_type": "code",
   "execution_count": 1,
   "id": "3caf9671-6b74-4222-9c7d-fa455aafa309",
   "metadata": {},
   "outputs": [
    {
     "name": "stdout",
     "output_type": "stream",
     "text": [
      "the matrix is [['7', 'i', 'i'], ['T', 's', 'x'], ['h', '%', '?'], ['i', ' ', '#'], ['s', 'M', ' '], ['$', 'a', ' '], ['#', 't', '%'], ['^', 'r', '!']]\n",
      "It can be waaay easier with a dataframe... anyway :( aaaagrfgfgfeeghiuhna!!!!!\n",
      "rows number: 8\n",
      "cols number: 3\n",
      "\n",
      "This is Matrix   \n"
     ]
    }
   ],
   "source": [
    "# To decrypt the matrix, Neo reads each column from top to bottom, starting from the leftmost column,\n",
    "# selecting only the alpha characters and connecting them. Then he replaces every group of symbols between\n",
    "# two alpha characters by a space.\n",
    "\n",
    "string = \"\"\"7ii\n",
    "Tsx\n",
    "h%?\n",
    "i #\n",
    "sM \n",
    "$a \n",
    "#t%\n",
    "^r!\"\"\"\n",
    "\n",
    "# first we split the string as a list of lists\n",
    "matrix = [list(line) for line in string.split(\"\\n\")]\n",
    "print(f\"the matrix is {matrix}\")\n",
    "\n",
    "# matrix = []\n",
    "# for line in string.split(\"\\n\"):\n",
    "#     matrix.append(list(line))\n",
    "# print(matrix)\n",
    "\n",
    "# now we swep with a fixed index (column) through the lines (rows) \n",
    "print(\"It can be waaay easier with a dataframe... anyway :( aaaagrfgfgfeeghiuhna!!!!!\")\n",
    "\n",
    "# matrix dimensions:\n",
    "rows = len(matrix)\n",
    "print(f\"rows number: {rows}\")\n",
    "cols = len(matrix[0])\n",
    "print(f\"cols number: {cols}\")\n",
    "\n",
    "message = []\n",
    "for col in range(cols):\n",
    "    symbol_counter = 0 # instantiate the symbols counter\n",
    "    \n",
    "    for row in range(rows):\n",
    "        char = matrix[row][col] # fixed row\n",
    "\n",
    "        if symbol_counter == 2: # if the counter reached 2, it is reseted\n",
    "            message.append(\" \")\n",
    "            symbol_counter = 0\n",
    "        \n",
    "        if char.isalpha() or (char == \" \"):\n",
    "            message.append(char)\n",
    "        else:\n",
    "            symbol_counter += 1\n",
    "\n",
    "        \"\"\"I dont know why cant reset the counter at the end and have to do it at the beggining!!!\"\"\"\n",
    "        # if symbolCounter == 2:\n",
    "        #     message.append(\" \")\n",
    "        #     symbolCounter = 0\n",
    "\n",
    "print()\n",
    "print(\"\".join(message))"
   ]
  }
 ],
 "metadata": {
  "kernelspec": {
   "display_name": "Python 3 (ipykernel)",
   "language": "python",
   "name": "python3"
  },
  "language_info": {
   "codemirror_mode": {
    "name": "ipython",
    "version": 3
   },
   "file_extension": ".py",
   "mimetype": "text/x-python",
   "name": "python",
   "nbconvert_exporter": "python",
   "pygments_lexer": "ipython3",
   "version": "3.12.5"
  }
 },
 "nbformat": 4,
 "nbformat_minor": 5
}
