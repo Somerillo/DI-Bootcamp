{
 "cells": [
  {
   "cell_type": "code",
   "execution_count": 41,
   "id": "3caf9671-6b74-4222-9c7d-fa455aafa309",
   "metadata": {},
   "outputs": [
    {
     "name": "stdout",
     "output_type": "stream",
     "text": [
      "the matrix is [['7', 'i', 'i'], ['T', 's', 'x'], ['h', '%', '?'], ['i', ' ', '#'], ['s', 'M', ' '], ['$', 'a', ' '], ['#', 't', '%'], ['^', 'r', '!']]\n",
      "It can be waaay easier with a dataframe... anyway :( aaaagrfgfgfeeghiuhna!!!!!\n",
      "rows number: 8\n",
      "cols number: 3\n",
      "Thisis Matrix  \n"
     ]
    }
   ],
   "source": [
    "# To decrypt the matrix, Neo reads each column from top to bottom, starting from the leftmost column,\n",
    "# selecting only the alpha characters and connecting them. Then he replaces every group of symbols between\n",
    "# two alpha characters by a space.\n",
    "\n",
    "string_0 = \"\"\"7ii\n",
    "Tsx\n",
    "h%?\n",
    "i #\n",
    "sM \n",
    "$a \n",
    "#t%\n",
    "^r!\"\"\"\n",
    "\n",
    "# first we split the string as a list of lists\n",
    "matrix = [list(line) for line in string_0.split(\"\\n\")]\n",
    "print(f\"the matrix is {matrix}\")\n",
    "\n",
    "# matrix = []\n",
    "# for line in string.split(\"\\n\"):\n",
    "#     matrix.append(list(line))\n",
    "# print(matrix)\n",
    "\n",
    "# now we swep with a fixed index (column) through the lines (rows) \n",
    "print(\"It can be waaay easier with a dataframe... anyway :( aaaagrfgfgfeeghiuhna!!!!!\")\n",
    "\n",
    "# matrix dimensions:\n",
    "rows = len(matrix)\n",
    "print(f\"rows number: {rows}\")\n",
    "cols = len(matrix[0])\n",
    "print(f\"cols number: {cols}\")\n",
    "\n",
    "message = []\n",
    "for col in range(cols):\n",
    "    for row in range(rows):\n",
    "        # print(matrix[row][col]) # fixed row\n",
    "        char = matrix[row][col]\n",
    "        symbolCounter = 0\n",
    "        \n",
    "        if (char.isalpha()) or (char == \" \"):\n",
    "            message.append(char)\n",
    "            # message_x = \"\".join(message)\n",
    "        elif not (char.isalpha()) or (char == \" \") or (symbolCounter == 2):\n",
    "            message.append(char)\n",
    "            symbolCounter += 1\n",
    "\n",
    "print(\"\".join(message))\n",
    "\n",
    "# for col in range(len(matrix)):\n",
    "#     print(matrix[col])\n",
    "#     for row in range(len(matrix[col])):\n",
    "#         print(matrix[col][row])\n",
    "    "
   ]
  }
 ],
 "metadata": {
  "kernelspec": {
   "display_name": "Python 3 (ipykernel)",
   "language": "python",
   "name": "python3"
  },
  "language_info": {
   "codemirror_mode": {
    "name": "ipython",
    "version": 3
   },
   "file_extension": ".py",
   "mimetype": "text/x-python",
   "name": "python",
   "nbconvert_exporter": "python",
   "pygments_lexer": "ipython3",
   "version": "3.12.5"
  }
 },
 "nbformat": 4,
 "nbformat_minor": 5
}
