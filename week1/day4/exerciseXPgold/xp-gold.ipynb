{
 "cells": [
  {
   "cell_type": "markdown",
   "metadata": {},
   "source": [
    "# Exercise 1 : When will I retire ?\n",
    "Instructions\n",
    "\n",
    "The point of the exercise is to check if a person can retire depending on their age and their gender.\n",
    "Note : Let’s say retirement age is 67 for men, and 62 for women (born after April, 1947).\n",
    "\n",
    "- Create a function get_age(year, month, day)\n",
    "- Hard-code the current year and month in your code (there are better ways of doing this, but for now it will be enough.)\n",
    "- After calculating the age of a person, the function should return the age (the age is an integer).\n",
    "- Create a function can_retire(gender, date_of_birth).\n",
    "- It should call the get_age function (with what arguments?) in order to receive an age.\n",
    "- Now it has all the information it needs in order to determine if the person with the given gender and date of birth is able to retire or not.\n",
    "- Calculate. You may need to do a little more hard-coding here.\n",
    "- Return True if the person can retire, and False if he/she can’t.\n",
    "\n",
    "Some Hints\n",
    "\n",
    "- Ask for the user’s gender as “m” or “f”.\n",
    "- Ask for the user’s date of birth in the form of “yyyy/mm/dd”, eg. “1993/09/21”.\n",
    "- Call can_retire to get a definite value for whether the person can or can’t retire.\n",
    "- Display a message informing the user whether they can retire or not.\n",
    "- As always, test your code to ensure it works.\n"
   ]
  },
  {
   "cell_type": "code",
   "execution_count": 1,
   "metadata": {},
   "outputs": [],
   "source": [
    "from datetime import datetime"
   ]
  },
  {
   "cell_type": "code",
   "execution_count": 2,
   "metadata": {},
   "outputs": [],
   "source": [
    "# 1- define function to calculate the age of a person\n",
    "def calculate_age(year, month, day):\n",
    "    # hard code the current date\n",
    "    current_year = 2025\n",
    "    current_month = 2\n",
    "    current_day = 6\n",
    "\n",
    "    # calculate the age\n",
    "    age = current_year - year\n",
    "    if (current_month, current_day) < (month, day): # adjust for birthdate notreached out still this year\n",
    "        age -= 1\n",
    "    return age\n",
    "\n",
    "# 2- define function to check retirement eligibility\n",
    "def can_retire(gender, date_of_birth):\n",
    "    # parse the date of birth input (yyyy/mm/dd)\n",
    "    year, month, day = map(int, date_of_birth.split('/'))\n",
    "\n",
    "    # calculate the age\n",
    "    age = calculate_age(year, month, day)\n",
    "\n",
    "    # check the retirement eligibility\n",
    "    if gender == 'm' and age >= 67:\n",
    "        return True\n",
    "    elif gender == 'f' and age >= 62:\n",
    "        return True\n",
    "    else:\n",
    "        raise ValueError('You are not eligible for retirement')\n",
    "    \n",
    "# 3- main function to interact with the user\n",
    "def main():\n",
    "    print('welcome to the retirement eligibility checker')\n",
    "\n",
    "    # get the user input\n",
    "    gender = input('enter your gender (m/f): ').strip().lower()\n",
    "    date_of_birth = input('enter your date of birth (yyyy/mm/dd): ').strip()\n",
    "\n",
    "    try:\n",
    "        # check the retirement eligibility\n",
    "        if can_retire(gender, date_of_birth):\n",
    "            print('Congratulations! You are eligible for retirement')\n",
    "        else:\n",
    "            print('Sorry! You are not eligible for retirement')\n",
    "    except ValueError as e:\n",
    "        print(e)"
   ]
  },
  {
   "cell_type": "code",
   "execution_count": 4,
   "metadata": {},
   "outputs": [
    {
     "name": "stdout",
     "output_type": "stream",
     "text": [
      "welcome to the retirement eligibility checker\n",
      "Congratulations! You are eligible for retirement\n"
     ]
    }
   ],
   "source": [
    "# 4- call the main function\n",
    "main()"
   ]
  },
  {
   "cell_type": "markdown",
   "metadata": {},
   "source": [
    "# Exercise 2 : Sum\n",
    "Instructions\n",
    "\n",
    "Write a function that accepts one parameter (an int: X) and returns the value of X+XX+XXX+XXXX.\n",
    "\n",
    "Example:\n",
    "If X=3, the output when calling our function should be 3702 (3 + 33 + 333 + 3333)\n",
    "\n",
    "Hint: treating our number as a int or a str at different points in our code may be helpful"
   ]
  },
  {
   "cell_type": "code",
   "execution_count": 5,
   "metadata": {},
   "outputs": [],
   "source": [
    "def calculate_sum(X):\n",
    "    \"\"\"\n",
    "    calculate the value of X + XX + XXX + XXXX for a given integer X\n",
    "\n",
    "    parameters:\n",
    "        X (int): the input integer\n",
    "\n",
    "    returns:\n",
    "        int: the calculated sum\n",
    "    \"\"\"\n",
    "    # convert the integer to a string for concatenation\n",
    "    X_str = str(X)\n",
    "\n",
    "    # calculate the sum\n",
    "    sum = int(X_str) + int(X_str * 2) + int(X_str * 3) + int(X_str * 4)\n",
    "    return sum"
   ]
  },
  {
   "cell_type": "code",
   "execution_count": 6,
   "metadata": {},
   "outputs": [
    {
     "name": "stdout",
     "output_type": "stream",
     "text": [
      "3702\n"
     ]
    }
   ],
   "source": [
    "# example usage\n",
    "X = 3\n",
    "print(calculate_sum(X)) # 3702"
   ]
  },
  {
   "cell_type": "markdown",
   "metadata": {},
   "source": [
    "# Exercise 3 : Double Dice\n",
    "Instructions\n",
    "\n",
    "1. Create a function that will simulate the rolling of a dice. Call it throw_dice. It should return an integer between 1 and 6.\n",
    "2. Create a function called throw_until_doubles.\n",
    "    - It should keep throwing 2 dice (using your throw_dice function) until they both land on the same number, ie. until we reach doubles.\n",
    "    - For example: (1, 2), (3, 1), (5,5) → then stop throwing, because doubles were reached.\n",
    "    - This function should return the number of times it threw the dice in total. In the example above, it should return 3.\n",
    "\n",
    "3. Create a main function.\n",
    "It should throw doubles 100 times (ie. call your throw_until_doubles function 100 times), and store the results of those function calls (in other words, how many throws it took until doubles were thrown, each time) in a collection. (What kind of collection? Read below to understand what we will need the data for, and this should help you decide which data structure to use).\n",
    "\n",
    "After the 100 doubles are thrown, print out a message telling the user how many throws it took in total to reach 100 doubles.\n",
    "Also print out a message telling the user the average amount of throws it took to reach doubles. Round this off to 2 decimal places.\n",
    "\n",
    "For example:\n",
    "1. If the results of the throws were as follows (your code would do 100 doubles, not just 3):\n",
    "    - (1, 2), (3, 1), (5, 5)\n",
    "    - (3, 3)\n",
    "    - (2, 4), (1, 2), (3, 4), (2, 2)\n",
    "\n",
    "2. Then my output would show something like this:\n",
    "    - Total throws: 8\n",
    "    - Average throws to reach doubles: 2.67.\n"
   ]
  },
  {
   "cell_type": "code",
   "execution_count": 7,
   "metadata": {},
   "outputs": [],
   "source": [
    "import random"
   ]
  },
  {
   "cell_type": "code",
   "execution_count": 12,
   "metadata": {},
   "outputs": [],
   "source": [
    "# 1- function to simulate a dice roll\n",
    "def throw_dice():\n",
    "    \"\"\"\n",
    "    simulate a dice roll\n",
    "    returns:\n",
    "        int: a random number between 1 and 6 (inclusive)\n",
    "    \"\"\"\n",
    "    return random.randint(1, 6)\n",
    "\n",
    "# 2- function to throw two dice until doubles are reached\n",
    "def throw_until_doubles():\n",
    "    \"\"\"\n",
    "    simulate rolling two dice repeatedly until both dice show the same number (doubles)\n",
    "    returns:\n",
    "        int: the number of throws it took to reach doubles\n",
    "    \"\"\"\n",
    "    # initialize the count of throws\n",
    "    count = 0\n",
    "\n",
    "    # throw the dice until doubles are reached\n",
    "    while True:\n",
    "        # increment the count of throws\n",
    "        count += 1\n",
    "\n",
    "        # throw two dice\n",
    "        dice1 = throw_dice()\n",
    "        dice2 = throw_dice()\n",
    "\n",
    "        # check if doubles are reached\n",
    "        if dice1 == dice2:\n",
    "            break\n",
    "    return count\n",
    "\n",
    "# 3- main function to repeat the process 100 times\n",
    "def main():\n",
    "    \"\"\"\n",
    "    simulate throwing until doubles 100 times and calculate statistics\n",
    "    prints the total number of throws and the average number of throws per double\n",
    "    \"\"\"\n",
    "    num_simulations = 1000000\n",
    "    results = [] # store the number of throws for each simulation\n",
    "\n",
    "    # perform simulations\n",
    "    for _ in range(num_simulations):\n",
    "        results.append(throw_until_doubles())\n",
    "\n",
    "    # calculate statistics\n",
    "    total_throws = sum(results)\n",
    "    average_throws = round(total_throws / num_simulations, 2)\n",
    "\n",
    "    # print the results\n",
    "    print(f'## Total throws: {total_throws}')\n",
    "    print(f'## Average throws per double: {average_throws}')"
   ]
  },
  {
   "cell_type": "code",
   "execution_count": 13,
   "metadata": {},
   "outputs": [
    {
     "name": "stdout",
     "output_type": "stream",
     "text": [
      "## Total throws: 5997499\n",
      "## Average throws per double: 6.0\n"
     ]
    }
   ],
   "source": [
    "# 4- call the main function\n",
    "main()"
   ]
  },
  {
   "cell_type": "markdown",
   "metadata": {},
   "source": [
    "if the number of simulations (num_simulations) is large enough, the average number of throws to reach doubles will converge to a constant value due to the law of large numbers"
   ]
  },
  {
   "cell_type": "code",
   "execution_count": null,
   "metadata": {},
   "outputs": [],
   "source": []
  }
 ],
 "metadata": {
  "kernelspec": {
   "display_name": "Devs_Institute",
   "language": "python",
   "name": "python3"
  },
  "language_info": {
   "codemirror_mode": {
    "name": "ipython",
    "version": 3
   },
   "file_extension": ".py",
   "mimetype": "text/x-python",
   "name": "python",
   "nbconvert_exporter": "python",
   "pygments_lexer": "ipython3",
   "version": "3.12.5"
  }
 },
 "nbformat": 4,
 "nbformat_minor": 2
}
