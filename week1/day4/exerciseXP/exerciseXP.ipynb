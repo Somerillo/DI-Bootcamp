{
 "cells": [
  {
   "cell_type": "code",
   "execution_count": 1,
   "id": "168e8bf9-edb6-4c4d-b5f9-2bdadaa4f55c",
   "metadata": {},
   "outputs": [
    {
     "name": "stdout",
     "output_type": "stream",
     "text": [
      "python coding: lists, dictionaries, sets, tupples, etc\n"
     ]
    }
   ],
   "source": [
    "## ----------------------------------------------------------------------------------------------------------------\n",
    "# Exercise 1 : What are you learning ?\n",
    "#     Write a function called display_message() that prints one sentence telling everyone what you are learning in this course.\n",
    "#     Call the function, and make sure the message displays correctly.\n",
    "\n",
    "def display_message():\n",
    "    \"\"\"\n",
    "    prints one sentence telling everyone what you are learning in this course\n",
    "    \"\"\"\n",
    "    print(\"python coding: lists, dictionaries, sets, tupples, etc\")\n",
    "\n",
    "display_message()"
   ]
  },
  {
   "cell_type": "code",
   "execution_count": 2,
   "id": "cf3bbae7-40c3-4c5b-968f-d2d45781c9fb",
   "metadata": {},
   "outputs": [
    {
     "name": "stdout",
     "output_type": "stream",
     "text": [
      "One of my favorite books is `A Clockwork Orange`.\n"
     ]
    }
   ],
   "source": [
    "## ----------------------------------------------------------------------------------------------------------------\n",
    "# Exercise 2: What’s your favorite book ?\n",
    "#     Write a function called favorite_book() that accepts one parameter called title.\n",
    "#     The function should print a message, such as \"One of my favorite books is <title>\".\n",
    "#     For example: “One of my favorite books is Alice in Wonderland”\n",
    "#     Call the function, make sure to include a book title as an argument when calling the function.\n",
    "def favorite_book(title):\n",
    "    \"\"\"\n",
    "    print a message, such as \"One of my favorite books is <title>\"\n",
    "    \"\"\"\n",
    "    print(f\"One of my favorite books is `{title}`.\")\n",
    "\n",
    "title = \"A Clockwork Orange\"\n",
    "favorite_book(title)"
   ]
  },
  {
   "cell_type": "code",
   "execution_count": 3,
   "id": "ab705735-0010-4991-88ae-1edab9e471f8",
   "metadata": {},
   "outputs": [
    {
     "name": "stdout",
     "output_type": "stream",
     "text": [
      "Kentuky is in USA.\n",
      "Quito is in Ecuador.\n"
     ]
    }
   ],
   "source": [
    "## ----------------------------------------------------------------------------------------------------------------\n",
    "# Exercise 3 : Some Geography\n",
    "#     Write a function called describe_city() that accepts the name of a city and its country as parameters.\n",
    "#     The function should print a simple sentence, such as \"<city> is in <country>\".\n",
    "#     For example “Reykjavik is in Iceland”\n",
    "#     Give the country parameter a default value.\n",
    "#     Call your function.\n",
    "def describe_city(city, country = \"USA\"):\n",
    "    \"\"\"\n",
    "    print a simple sentence, such as \"<city> is in <country>\"\n",
    "    \"\"\"\n",
    "    print(f\"{city} is in {country}.\")\n",
    "\n",
    "describe_city(\"Kentuky\")\n",
    "describe_city(\"Quito\", \"Ecuador\")"
   ]
  },
  {
   "cell_type": "code",
   "execution_count": 4,
   "id": "b2641732-b9fa-40d2-a346-9c7c1e3f6f92",
   "metadata": {},
   "outputs": [
    {
     "name": "stdout",
     "output_type": "stream",
     "text": [
      "a fail message\n",
      "Input number was 26, random number was 35.\n"
     ]
    }
   ],
   "source": [
    "## ----------------------------------------------------------------------------------------------------------------\n",
    "# Exercise 4 : Random\n",
    "#     Create a function that accepts a number between 1 and 100 and generates another number randomly between 1 and 100. Use the random module.\n",
    "#     Compare the two numbers, if it’s the same number, display a success message, otherwise show a fail message and display both numbers.\n",
    "import random as rnd\n",
    "\n",
    "def rand_function(number):\n",
    "    \"\"\"\n",
    "    accepts a number between 1 and 100 and generates another number randomly between 1 and 100\n",
    "    if it’s the same number, display a success message, otherwise show a fail message and display both numbers\n",
    "    \"\"\"\n",
    "    rnd_number = rnd.randint(1, 100) # the range includes both limits!!!\n",
    "    int_number = round(number)\n",
    "    \n",
    "    if rnd_number == int_number:\n",
    "        print(\"a success message\")\n",
    "    else:\n",
    "        print(\"a fail message\")\n",
    "        print(f\"Input number was {int_number}, random number was {rnd_number}.\")\n",
    "\n",
    "num = 26.5\n",
    "rand_function(num)"
   ]
  },
  {
   "cell_type": "code",
   "execution_count": 5,
   "id": "2256faea-a063-45e9-828b-4dac3c2f21ef",
   "metadata": {},
   "outputs": [
    {
     "name": "stdout",
     "output_type": "stream",
     "text": [
      "The size of the shirt is < XLarge > and the text is < 42 >.\n",
      "The size of the shirt is < Large > and the text is < I love Python >.\n",
      "The size of the shirt is < Medium > and the text is < Python is awesome! >.\n",
      "The size of the shirt is < Small > and the text is < Coding is fun >.\n",
      "The size of the shirt is < XXLarge > and the text is < I love Python >.\n",
      "The size of the shirt is < Large > and the text is < Hello, World! >.\n"
     ]
    }
   ],
   "source": [
    "## ----------------------------------------------------------------------------------------------------------------\n",
    "# Exercise 5 : Let’s create some personalized shirts !\n",
    "#     Write a function called make_shirt() that accepts a size and the text of a message that should be printed on the shirt.\n",
    "#     The function should print a sentence summarizing the size of the shirt and the message printed on it, such as \"The size of the shirt is <size> and the text is <text>\"\n",
    "#     Call the function make_shirt().\n",
    "\n",
    "#     Modify the make_shirt() function so that shirts are large by default with a message that reads “I love Python” by default.\n",
    "#     Call the function, in order to make a large shirt with the default message\n",
    "#     Make medium shirt with the default message\n",
    "#     Make a shirt of any size with a different message.\n",
    "\n",
    "#     Bonus: Call the function make_shirt() using keyword arguments.\n",
    "\n",
    "def make_shirt(tshirt_size = \"Large\", message = \"I love Python\"):\n",
    "    \"\"\"\n",
    "    print a sentence summarizing the size of the shirt and the message printed on it\n",
    "    \"\"\"\n",
    "    print(f\"The size of the shirt is < {tshirt_size} > and the text is < {message} >.\")\n",
    "\n",
    "make_shirt(\"XLarge\", \"42\")\n",
    "make_shirt()\n",
    "make_shirt(tshirt_size=\"Medium\", message=\"Python is awesome!\")\n",
    "make_shirt(message=\"Coding is fun\", tshirt_size=\"Small\")\n",
    "make_shirt(tshirt_size=\"XXLarge\")\n",
    "make_shirt(message=\"Hello, World!\")"
   ]
  },
  {
   "cell_type": "code",
   "execution_count": 6,
   "id": "4b2364d8-220b-43e0-a6ca-d08344b76ac9",
   "metadata": {},
   "outputs": [
    {
     "name": "stdout",
     "output_type": "stream",
     "text": [
      "Harry Houdini\n",
      "David Blaine\n",
      "Criss Angel\n",
      "\n",
      "['Harry Houdini the Great', 'David Blaine the Great', 'Criss Angel the Great']\n",
      "\n",
      "Harry Houdini the Great\n",
      "David Blaine the Great\n",
      "Criss Angel the Great\n",
      "\n"
     ]
    }
   ],
   "source": [
    "## ----------------------------------------------------------------------------------------------------------------\n",
    "# Exercise 6 : Magicians …\n",
    "# Using this list of magician’s names\n",
    "\n",
    "# magician_names = ['Harry Houdini', 'David Blaine', 'Criss Angel']\n",
    "\n",
    "#     Create a function called show_magicians(), which prints the name of each magician in the list.\n",
    "#     Write a function called make_great() that modifies the original list of magicians by adding the phrase \"the Great\" to each magician’s name.\n",
    "#     Call the function make_great().\n",
    "#     Call the function show_magicians() to see that the list has actually been modified.\n",
    "\n",
    "magician_names = ['Harry Houdini', 'David Blaine', 'Criss Angel']\n",
    "\n",
    "def show_magicians(list1 = magician_names):\n",
    "    \"\"\"\n",
    "    prints the name of each magician in the list\n",
    "    \"\"\"\n",
    "    [print(x) for x in list1]\n",
    "    print()\n",
    "\n",
    "show_magicians()\n",
    "\n",
    "\n",
    "\n",
    "def make_great(list1 = magician_names):\n",
    "    \"\"\"\n",
    "    adding the phrase \"the Great\" to each magician’s name\n",
    "    \"\"\"\n",
    "    # `[:]` is called \"slice notation\", and modifies the list in-place!!!!!!!!\n",
    "    list1[:] = [x + \" the Great\" for x in list1]\n",
    "    return list1\n",
    "\n",
    "\n",
    "make_great()\n",
    "print(magician_names)\n",
    "print()\n",
    "show_magicians()"
   ]
  },
  {
   "cell_type": "code",
   "execution_count": 7,
   "id": "99c806d5-69ee-4124-abcb-fe825cf99cbc",
   "metadata": {},
   "outputs": [
    {
     "name": "stdin",
     "output_type": "stream",
     "text": [
      "input month as integer number 9\n"
     ]
    },
    {
     "name": "stdout",
     "output_type": "stream",
     "text": [
      "The temperature right now is 7.5 degrees Celsius.\n",
      "Quite chilly! Don’t forget your coat\n"
     ]
    }
   ],
   "source": [
    "## ----------------------------------------------------------------------------------------------------------------\n",
    "# Exercise 7 : Temperature Advice\n",
    "#     Create a function called get_random_temp().\n",
    "#         This function should return an integer between -10 and 40 degrees (Celsius), selected at random.\n",
    "#         Test your function to make sure it generates expected results.\n",
    "\n",
    "#     Create a function called main().\n",
    "#         Inside this function, call get_random_temp() to get a temperature, and store its value in a variable.\n",
    "#         Inform the user of the temperature in a friendly message, eg. “The temperature right now is 32 degrees Celsius.”\n",
    "\n",
    "#     Let’s add more functionality to the main() function. Write some friendly advice relating to the temperature:\n",
    "#         below zero (eg. “Brrr, that’s freezing! Wear some extra layers today”)\n",
    "#         between zero and 16 (eg. “Quite chilly! Don’t forget your coat”)\n",
    "#         between 16 and 23\n",
    "#         between 24 and 32\n",
    "#         between 32 and 40\n",
    "\n",
    "#     Change the get_random_temp() function:\n",
    "#         Add a parameter to the function, named ‘season’.\n",
    "#         Inside the function, instead of simply generating a random number between -10 and 40, set lower and upper\n",
    "#        limits based on the season, eg. if season is ‘winter’, temperatures should only fall between -10 and 16.\n",
    "#         Now that we’ve changed get_random_temp(), let’s change the main() function:\n",
    "#             Before calling get_random_temp(), we will need to decide on a season, so that we can call the function correctly.\n",
    "#             Ask the user to type in a season - ‘summer’, ‘autumn’ (you can use ‘fall’ if you prefer), ‘winter’, or ‘spring’.\n",
    "#             Use the season as an argument when calling get_random_temp().\n",
    "\n",
    "# import random as rnd\n",
    "# def get_random_temp(season = \"winter\"):\n",
    "#     \"\"\"\n",
    "#     return an integer between -10 and 40 degrees\n",
    "#     \"\"\"\n",
    "#     if season == \"winter\":\n",
    "#         lower = -10\n",
    "#         upper = 5\n",
    "\n",
    "#     elif season in [\"spring\", \"autumn\"]:\n",
    "#         lower = 5\n",
    "#         upper = 30\n",
    "\n",
    "#     elif season == \"summer\":\n",
    "#         lower = 25\n",
    "#         upper = 40\n",
    "        \n",
    "#     temp = rnd.randint(lower, upper)\n",
    "#     return temp\n",
    "\n",
    "# get_random_temp(\"summer\")\n",
    "\n",
    "\n",
    "# user_season = input(f\"Input if season is: summer, sring, winter or autumn\")\n",
    "# def main(season):\n",
    "#     \"\"\"\n",
    "#     Inside this function, call get_random_temp() to get a temperature, and store its value in a variable.\n",
    "#     Inform the user of the temperature in a friendly message\n",
    "#     \"\"\"\n",
    "#     temp = get_random_temp(season)\n",
    "    \n",
    "#     if temp < 0:\n",
    "#         string = f\"The temperature right now is {temp} degrees Celsius.\\nBrrr, that’s freezing! Wear some extra layers today\"\n",
    "\n",
    "#     elif 0 <= temp < 16:\n",
    "#         string = f\"The temperature right now is {temp} degrees Celsius.\\nQuite chilly! Don’t forget your coat\"\n",
    "\n",
    "#     elif 16 <= temp < 23:\n",
    "#         string = f\"The temperature right now is {temp} degrees Celsius.\\n< Message 3 >\"\n",
    "\n",
    "#     elif 23 <= temp < 32:\n",
    "#         string = f\"The temperature right now is {temp} degrees Celsius.\\n< Message 4 >\"\n",
    "\n",
    "#     elif 32 <= temp < 40:\n",
    "#         string = f\"The temperature right now is {temp} degrees Celsius.\\n< Message 5 >\"\n",
    "        \n",
    "#     print(string)\n",
    "\n",
    "# main(user_season)\n",
    "\n",
    "\n",
    "\n",
    "#     Bonus: Give the temperature as a floating-point number instead of an integer.\n",
    "#     Bonus: Instead of asking for the season, ask the user for the number of the month (1 = January, 12 = December). Determine the season according to the month.\n",
    "def func_season():\n",
    "    \"\"\"\n",
    "    season based on month, north hemisf\n",
    "    integer month number\n",
    "    \"\"\"\n",
    "    month = int(input(f\"input month as integer number\"))\n",
    "    \n",
    "    if month in [12, 1, 2]:\n",
    "        return \"winter\"\n",
    "    elif month in [3, 4, 5]:\n",
    "        return \"spring\"\n",
    "    elif month in [6, 7, 8]:\n",
    "        return \"summer\"\n",
    "    else:\n",
    "        return \"autumn\"\n",
    "\n",
    "\n",
    "def get_random_temp(season):\n",
    "    \"\"\"\n",
    "    return an integer between -10 and 40 degrees\n",
    "    \"\"\"\n",
    "    if season == \"winter\":\n",
    "        lower = -10\n",
    "        upper = 5\n",
    "\n",
    "    elif season in [\"spring\", \"autumn\"]:\n",
    "        lower = 5\n",
    "        upper = 30\n",
    "\n",
    "    elif season == \"summer\":\n",
    "        lower = 25\n",
    "        upper = 40\n",
    "        \n",
    "    temp = round(rnd.uniform(lower, upper), 1)\n",
    "    return temp\n",
    "\n",
    "\n",
    "\n",
    "def main():\n",
    "    \"\"\"\n",
    "    Inside this function, call get_random_temp() to get a temperature, and store its value in a variable.\n",
    "    Inform the user of the temperature in a friendly message\n",
    "    \"\"\"\n",
    "    season = func_season()\n",
    "    temp = get_random_temp(season)\n",
    "    \n",
    "    if temp < 0:\n",
    "        string = f\"The temperature right now is {temp} degrees Celsius.\\nBrrr, that’s freezing! Wear some extra layers today\"\n",
    "\n",
    "    elif 0 <= temp < 16:\n",
    "        string = f\"The temperature right now is {temp} degrees Celsius.\\nQuite chilly! Don’t forget your coat\"\n",
    "\n",
    "    elif 16 <= temp < 23:\n",
    "        string = f\"The temperature right now is {temp} degrees Celsius.\\n< Message 3 >\"\n",
    "\n",
    "    elif 23 <= temp < 32:\n",
    "        string = f\"The temperature right now is {temp} degrees Celsius.\\n< Message 4 >\"\n",
    "\n",
    "    elif 32 <= temp < 40:\n",
    "        string = f\"The temperature right now is {temp} degrees Celsius.\\n< Message 5 >\"\n",
    "        \n",
    "    print(string)\n",
    "\n",
    "\n",
    "\n",
    "main()"
   ]
  },
  {
   "cell_type": "code",
   "execution_count": 8,
   "id": "b8dae947-90bc-4b9f-8529-f26843003e78",
   "metadata": {},
   "outputs": [
    {
     "name": "stdin",
     "output_type": "stream",
     "text": [
      "Question 1 of 6: What is Baby Yoda's real name? p\n"
     ]
    },
    {
     "name": "stdout",
     "output_type": "stream",
     "text": [
      "\n",
      "WRONG!!!!. You have 0 right answers and 1 wrong answers.\n",
      "The right answer is `Grogu`; but you answered `p`\n",
      "--------------------------------------\n",
      "\n"
     ]
    },
    {
     "name": "stdin",
     "output_type": "stream",
     "text": [
      "Question 2 of 6: Anakin Skywalker grew up to be who? ppp\n"
     ]
    },
    {
     "name": "stdout",
     "output_type": "stream",
     "text": [
      "\n",
      "WRONG!!!!. You have 0 right answers and 2 wrong answers.\n",
      "The right answer is `Darth Vader`; but you answered `ppp`\n",
      "--------------------------------------\n",
      "\n"
     ]
    },
    {
     "name": "stdin",
     "output_type": "stream",
     "text": [
      "Question 3 of 6: Where did Obi-Wan take Luke after his birth? ooo\n"
     ]
    },
    {
     "name": "stdout",
     "output_type": "stream",
     "text": [
      "\n",
      "WRONG!!!!. You have 0 right answers and 3 wrong answers.\n",
      "The right answer is `Tatooine`; but you answered `ooo`\n",
      "--------------------------------------\n",
      "\n"
     ]
    },
    {
     "name": "stdin",
     "output_type": "stream",
     "text": [
      "Question 4 of 6: Who built C-3PO? iii\n"
     ]
    },
    {
     "name": "stdout",
     "output_type": "stream",
     "text": [
      "\n",
      "WRONG!!!!. You have 0 right answers and 4 wrong answers.\n",
      "The right answer is `Anakin Skywalker`; but you answered `iii`\n",
      "--------------------------------------\n",
      "\n"
     ]
    },
    {
     "name": "stdin",
     "output_type": "stream",
     "text": [
      "Question 5 of 6: What year did the first Star Wars movie come out? k\n"
     ]
    },
    {
     "name": "stdout",
     "output_type": "stream",
     "text": [
      "\n",
      "WRONG!!!!. You have 0 right answers and 5 wrong answers.\n",
      "The right answer is `1977`; but you answered `k`\n",
      "--------------------------------------\n",
      "\n"
     ]
    },
    {
     "name": "stdin",
     "output_type": "stream",
     "text": [
      "Question 6 of 6: What species is Chewbacca? l\n"
     ]
    },
    {
     "name": "stdout",
     "output_type": "stream",
     "text": [
      "\n",
      "WRONG!!!!. You have 0 right answers and 6 wrong answers.\n",
      "The right answer is `Wookiee`; but you answered `l`\n",
      "--------------------------------------\n",
      "\n",
      "play again\n",
      "Your wrong answers were: ['p', 'ppp', 'ooo', 'iii', 'k', 'l']\n"
     ]
    }
   ],
   "source": [
    "## ----------------------------------------------------------------------------------------------------------------\n",
    "# Exercise 8 : Star Wars Quiz\n",
    "# This project allows users to take a quiz to test their Star Wars knowledge.\n",
    "# The number of correct/incorrect answers are tracked and the user receives different messages depending on how well they did on the quiz.\n",
    "\n",
    "# 1.    Create a function that asks the questions to the user, and check his answers.\n",
    "#     Track the number of correct, incorrect answers. Create a list of wrong_answers\n",
    "# 2.    Create a function that informs the user of his number of correct/incorrect answers.\n",
    "# 3.    Bonus : display to the user the questions he answered wrong, his answer, and the correct answer.\n",
    "# 4.    If he had more then 3 wrong answers, ask him to play again.\n",
    "import random\n",
    "from random import shuffle\n",
    "\n",
    "data = [\n",
    "    {\n",
    "        \"question\": \"What is Baby Yoda's real name?\",\n",
    "        \"answer\": \"Grogu\"\n",
    "    },\n",
    "    {\n",
    "        \"question\": \"Where did Obi-Wan take Luke after his birth?\",\n",
    "        \"answer\": \"Tatooine\"\n",
    "    },\n",
    "    {\n",
    "        \"question\": \"What year did the first Star Wars movie come out?\",\n",
    "        \"answer\": \"1977\"\n",
    "    },\n",
    "    {\n",
    "        \"question\": \"Who built C-3PO?\",\n",
    "        \"answer\": \"Anakin Skywalker\"\n",
    "    },\n",
    "    {\n",
    "        \"question\": \"Anakin Skywalker grew up to be who?\",\n",
    "        \"answer\": \"Darth Vader\"\n",
    "    },\n",
    "    {\n",
    "        \"question\": \"What species is Chewbacca?\",\n",
    "        \"answer\": \"Wookiee\"\n",
    "    }\n",
    "]\n",
    "\n",
    "\n",
    "def fun_trivia():\n",
    "    # nth = random.randint(0, len(data) - 1) # the upper limit is included and is len - 1\n",
    "    random.shuffle(data) # we shuffle the list to alter questions order\n",
    "    list_wrong = []\n",
    "    k_right = 0\n",
    "    k_wrong = 0\n",
    "    k_question = 0\n",
    "\n",
    "    for index in data:\n",
    "        k_question += 1\n",
    "        user_answer = input(f\"Question {k_question} of 6: {index[\"question\"]}\") # take user answer\n",
    "        print()\n",
    "        right_answer = index[\"answer\"]\n",
    "        \n",
    "        if user_answer.lower() == right_answer.lower():\n",
    "            k_right += 1\n",
    "            print(f\"Correct. You have {k_right} right answers and {k_wrong} wrong answers.\\n--------------------------------------\\n\")\n",
    "    \n",
    "        if user_answer.lower() != right_answer.lower():\n",
    "            k_wrong += 1\n",
    "            list_wrong.append(user_answer)\n",
    "            print(f\"WRONG!!!!. You have {k_right} right answers and {k_wrong} wrong answers.\")\n",
    "            print(f\"The right answer is `{right_answer}`; but you answered `{user_answer}`\")\n",
    "            print(\"--------------------------------------\\n\")\n",
    "\n",
    "    if k_wrong >= 3:\n",
    "        print(\"play again\")\n",
    "    \n",
    "    return list_wrong\n",
    "\n",
    "# fun_trivia()\n",
    "print(f\"Your wrong answers were: {fun_trivia()}\")"
   ]
  },
  {
   "cell_type": "code",
   "execution_count": null,
   "id": "4e1e7b17-137d-4485-8297-f8aa898622c1",
   "metadata": {},
   "outputs": [],
   "source": []
  }
 ],
 "metadata": {
  "kernelspec": {
   "display_name": "Python 3 (ipykernel)",
   "language": "python",
   "name": "python3"
  },
  "language_info": {
   "codemirror_mode": {
    "name": "ipython",
    "version": 3
   },
   "file_extension": ".py",
   "mimetype": "text/x-python",
   "name": "python",
   "nbconvert_exporter": "python",
   "pygments_lexer": "ipython3",
   "version": "3.12.5"
  }
 },
 "nbformat": 4,
 "nbformat_minor": 5
}
