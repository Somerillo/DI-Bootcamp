{
 "cells": [
  {
   "cell_type": "markdown",
   "metadata": {},
   "source": [
    "# Count occurence\n",
    "\n",
    "Write a program which takes a string and a character as an input, and finds out the number of occurrences the character has in the string."
   ]
  },
  {
   "cell_type": "code",
   "execution_count": 1,
   "metadata": {},
   "outputs": [],
   "source": [
    "def count_character_occurrences(input_string, character):\n",
    "    # ensure the input character is a single character\n",
    "    if len(character) != 1:\n",
    "        return \"Please provide a single character.\"\n",
    "    \n",
    "    # count occurrences of the character in the string\n",
    "    count = input_string.count(character)\n",
    "    return count"
   ]
  },
  {
   "cell_type": "code",
   "execution_count": 2,
   "metadata": {},
   "outputs": [
    {
     "name": "stdout",
     "output_type": "stream",
     "text": [
      "String: Programming is cool!\n",
      "Character: o\n",
      "3\n",
      "\n",
      "String: This is a great example\n",
      "Character: y\n",
      "0\n"
     ]
    }
   ],
   "source": [
    "# example usage\n",
    "string1 = \"Programming is cool!\"\n",
    "char1 = \"o\"\n",
    "result1 = count_character_occurrences(string1, char1)\n",
    "print(f\"String: {string1}\\nCharacter: {char1}\\n{result1}\")\n",
    "\n",
    "string2 = \"This is a great example\"\n",
    "char2 = \"y\"\n",
    "result2 = count_character_occurrences(string2, char2)\n",
    "print(f\"\\nString: {string2}\\nCharacter: {char2}\\n{result2}\")"
   ]
  },
  {
   "cell_type": "code",
   "execution_count": null,
   "metadata": {},
   "outputs": [],
   "source": []
  }
 ],
 "metadata": {
  "kernelspec": {
   "display_name": "Devs_Institute",
   "language": "python",
   "name": "python3"
  },
  "language_info": {
   "codemirror_mode": {
    "name": "ipython",
    "version": 3
   },
   "file_extension": ".py",
   "mimetype": "text/x-python",
   "name": "python",
   "nbconvert_exporter": "python",
   "pygments_lexer": "ipython3",
   "version": "3.12.5"
  }
 },
 "nbformat": 4,
 "nbformat_minor": 2
}
